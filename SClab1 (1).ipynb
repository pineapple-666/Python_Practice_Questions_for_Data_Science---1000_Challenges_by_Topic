{
  "nbformat": 4,
  "nbformat_minor": 0,
  "metadata": {
    "colab": {
      "provenance": []
    },
    "kernelspec": {
      "name": "python3",
      "display_name": "Python 3"
    },
    "language_info": {
      "name": "python"
    }
  },
  "cells": [
    {
      "cell_type": "code",
      "execution_count": null,
      "metadata": {
        "id": "Q0AoUf4POjPS"
      },
      "outputs": [],
      "source": [
        "import numpy as np\n",
        "import matplotlib.pyplot as plt"
      ]
    },
    {
      "cell_type": "code",
      "source": [
        "set_a = np.array([0.1,0.3,0.5,0.7,0.9])\n",
        "set_b = np.array([0.2,0.3,0.4,0.5,0.6])"
      ],
      "metadata": {
        "id": "RWk0zHPQOrVh"
      },
      "execution_count": null,
      "outputs": []
    },
    {
      "cell_type": "code",
      "source": [
        "#de MORGAN'S law L.H.S\n",
        "print(1-(np.fmin(set_a,set_b)))"
      ],
      "metadata": {
        "colab": {
          "base_uri": "https://localhost:8080/"
        },
        "id": "8k1yim2XP1A_",
        "outputId": "56b13df9-6a7e-4b2d-a9d8-33131d65a211"
      },
      "execution_count": null,
      "outputs": [
        {
          "output_type": "stream",
          "name": "stdout",
          "text": [
            "[0.9 0.7 0.6 0.5 0.4]\n"
          ]
        }
      ]
    },
    {
      "cell_type": "code",
      "source": [
        "#de MORGAN'S law R.H.S\n",
        "print(np.fmax((1-set_a),(1-set_b)))"
      ],
      "metadata": {
        "colab": {
          "base_uri": "https://localhost:8080/"
        },
        "id": "SnDAoOnXQXUw",
        "outputId": "64868f29-516e-419d-aa6d-7179883130be"
      },
      "execution_count": null,
      "outputs": [
        {
          "output_type": "stream",
          "name": "stdout",
          "text": [
            "[0.9 0.7 0.6 0.5 0.4]\n"
          ]
        }
      ]
    },
    {
      "cell_type": "code",
      "source": [
        "np.linspace(0,10,5)"
      ],
      "metadata": {
        "colab": {
          "base_uri": "https://localhost:8080/"
        },
        "id": "886Xwpg_Q58Q",
        "outputId": "763b413a-4f2d-4965-fec4-b9bdbb56559a"
      },
      "execution_count": null,
      "outputs": [
        {
          "output_type": "execute_result",
          "data": {
            "text/plain": [
              "array([ 0. ,  2.5,  5. ,  7.5, 10. ])"
            ]
          },
          "metadata": {},
          "execution_count": 5
        }
      ]
    },
    {
      "cell_type": "code",
      "source": [
        "np.arange(0,10,2)"
      ],
      "metadata": {
        "colab": {
          "base_uri": "https://localhost:8080/"
        },
        "id": "OzIa28VQWgDw",
        "outputId": "2fbc91df-8486-4cff-c042-9649a189599c"
      },
      "execution_count": null,
      "outputs": [
        {
          "output_type": "execute_result",
          "data": {
            "text/plain": [
              "array([0, 2, 4, 6, 8])"
            ]
          },
          "metadata": {},
          "execution_count": 6
        }
      ]
    },
    {
      "cell_type": "code",
      "source": [
        "def triangular_mf(x,a,b,c):\n",
        "    if x<a or x>c:\n",
        "        return 0\n",
        "    elif a<=x and x<b:\n",
        "        return (x-a)/(b-a)\n",
        "    elif b<=x and x<=c:\n",
        "        return (c-x)/(c-b)\n",
        "    elif x>=c:\n",
        "      return 0\n",
        "x_values = np.linspace(0, 10, 100)\n",
        "a,b,c = 0,0,5\n",
        "memebership_value = []\n",
        "for x in x_values:\n",
        "  print(x)\n",
        "  memebership_value_1 = triangular_mf(x,a,b,c)\n",
        "  print(memebership_value_1)\n",
        "  memebership_value.append(memebership_value_1)\n",
        "plt.plot(x_values,memebership_value)\n",
        "plt.xlabel(\"x_values\")\n",
        "plt.ylabel(\"memebership_value\")\n",
        "plt.title('Triangular Membership Function')\n",
        "plt.grid(True)\n",
        "plt.show()"
      ],
      "metadata": {
        "id": "UoBPGNYAXvNv",
        "colab": {
          "base_uri": "https://localhost:8080/",
          "height": 1000
        },
        "collapsed": true,
        "outputId": "2e385d44-117b-4002-fa78-c9a70a11bdc4"
      },
      "execution_count": null,
      "outputs": [
        {
          "output_type": "stream",
          "name": "stdout",
          "text": [
            "0.0\n",
            "1.0\n",
            "0.10101010101010101\n",
            "0.9797979797979798\n",
            "0.20202020202020202\n",
            "0.9595959595959596\n",
            "0.30303030303030304\n",
            "0.9393939393939394\n",
            "0.40404040404040403\n",
            "0.9191919191919192\n",
            "0.5050505050505051\n",
            "0.898989898989899\n",
            "0.6060606060606061\n",
            "0.8787878787878787\n",
            "0.7070707070707071\n",
            "0.8585858585858587\n",
            "0.8080808080808081\n",
            "0.8383838383838385\n",
            "0.9090909090909091\n",
            "0.8181818181818181\n",
            "1.0101010101010102\n",
            "0.7979797979797979\n",
            "1.1111111111111112\n",
            "0.7777777777777778\n",
            "1.2121212121212122\n",
            "0.7575757575757576\n",
            "1.3131313131313131\n",
            "0.7373737373737373\n",
            "1.4141414141414141\n",
            "0.7171717171717171\n",
            "1.5151515151515151\n",
            "0.696969696969697\n",
            "1.6161616161616161\n",
            "0.6767676767676768\n",
            "1.7171717171717171\n",
            "0.6565656565656566\n",
            "1.8181818181818181\n",
            "0.6363636363636364\n",
            "1.9191919191919191\n",
            "0.6161616161616161\n",
            "2.0202020202020203\n",
            "0.5959595959595959\n",
            "2.121212121212121\n",
            "0.5757575757575758\n",
            "2.2222222222222223\n",
            "0.5555555555555556\n",
            "2.323232323232323\n",
            "0.5353535353535354\n",
            "2.4242424242424243\n",
            "0.5151515151515151\n",
            "2.525252525252525\n",
            "0.494949494949495\n",
            "2.6262626262626263\n",
            "0.47474747474747475\n",
            "2.727272727272727\n",
            "0.4545454545454546\n",
            "2.8282828282828283\n",
            "0.43434343434343436\n",
            "2.929292929292929\n",
            "0.4141414141414142\n",
            "3.0303030303030303\n",
            "0.3939393939393939\n",
            "3.131313131313131\n",
            "0.3737373737373738\n",
            "3.2323232323232323\n",
            "0.35353535353535354\n",
            "3.3333333333333335\n",
            "0.3333333333333333\n",
            "3.4343434343434343\n",
            "0.31313131313131315\n",
            "3.5353535353535355\n",
            "0.29292929292929293\n",
            "3.6363636363636362\n",
            "0.27272727272727276\n",
            "3.7373737373737375\n",
            "0.2525252525252525\n",
            "3.8383838383838382\n",
            "0.23232323232323235\n",
            "3.9393939393939394\n",
            "0.2121212121212121\n",
            "4.040404040404041\n",
            "0.19191919191919188\n",
            "4.141414141414141\n",
            "0.1717171717171718\n",
            "4.242424242424242\n",
            "0.15151515151515155\n",
            "4.343434343434343\n",
            "0.13131313131313133\n",
            "4.444444444444445\n",
            "0.11111111111111108\n",
            "4.545454545454545\n",
            "0.09090909090909101\n",
            "4.646464646464646\n",
            "0.07070707070707076\n",
            "4.747474747474747\n",
            "0.05050505050505052\n",
            "4.848484848484849\n",
            "0.030303030303030276\n",
            "4.94949494949495\n",
            "0.010101010101010032\n",
            "5.05050505050505\n",
            "0\n",
            "5.151515151515151\n",
            "0\n",
            "5.252525252525253\n",
            "0\n",
            "5.353535353535354\n",
            "0\n",
            "5.454545454545454\n",
            "0\n",
            "5.555555555555555\n",
            "0\n",
            "5.656565656565657\n",
            "0\n",
            "5.757575757575758\n",
            "0\n",
            "5.858585858585858\n",
            "0\n",
            "5.959595959595959\n",
            "0\n",
            "6.0606060606060606\n",
            "0\n",
            "6.161616161616162\n",
            "0\n",
            "6.262626262626262\n",
            "0\n",
            "6.363636363636363\n",
            "0\n",
            "6.4646464646464645\n",
            "0\n",
            "6.565656565656566\n",
            "0\n",
            "6.666666666666667\n",
            "0\n",
            "6.767676767676767\n",
            "0\n",
            "6.8686868686868685\n",
            "0\n",
            "6.96969696969697\n",
            "0\n",
            "7.070707070707071\n",
            "0\n",
            "7.171717171717171\n",
            "0\n",
            "7.2727272727272725\n",
            "0\n",
            "7.373737373737374\n",
            "0\n",
            "7.474747474747475\n",
            "0\n",
            "7.575757575757575\n",
            "0\n",
            "7.6767676767676765\n",
            "0\n",
            "7.777777777777778\n",
            "0\n",
            "7.878787878787879\n",
            "0\n",
            "7.979797979797979\n",
            "0\n",
            "8.080808080808081\n",
            "0\n",
            "8.181818181818182\n",
            "0\n",
            "8.282828282828282\n",
            "0\n",
            "8.383838383838384\n",
            "0\n",
            "8.484848484848484\n",
            "0\n",
            "8.585858585858587\n",
            "0\n",
            "8.686868686868687\n",
            "0\n",
            "8.787878787878787\n",
            "0\n",
            "8.88888888888889\n",
            "0\n",
            "8.98989898989899\n",
            "0\n",
            "9.09090909090909\n",
            "0\n",
            "9.191919191919192\n",
            "0\n",
            "9.292929292929292\n",
            "0\n",
            "9.393939393939394\n",
            "0\n",
            "9.494949494949495\n",
            "0\n",
            "9.595959595959595\n",
            "0\n",
            "9.696969696969697\n",
            "0\n",
            "9.797979797979798\n",
            "0\n",
            "9.8989898989899\n",
            "0\n",
            "10.0\n",
            "0\n"
          ]
        },
        {
          "output_type": "display_data",
          "data": {
            "text/plain": [
              "<Figure size 640x480 with 1 Axes>"
            ],
            "image/png": "[encoded data removed]"
          },
          "metadata": {}
        }
      ]
    },
    {
      "cell_type": "code",
      "source": [
        "def tropezoidal_mf(x,a,b,c,d):\n",
        "    if x<=a:\n",
        "        return 0\n",
        "    elif a<x and x<=b:\n",
        "        return (x-a)/(b-a)\n",
        "    elif b<x and x<=c:\n",
        "        return 1\n",
        "    elif c<x and x<=d:\n",
        "        return (d-x)/(d-c)\n",
        "    else :\n",
        "      return 0\n",
        "a,b,c,d = 2,4,6,8\n",
        "memebership_value = []\n",
        "x_values = np.linspace(0, 10, 100)\n",
        "for  x in x_values:\n",
        "  print(x)\n",
        "  memebership_value_1 = tropezoidal_mf(x,a,b,c,d)\n",
        "  print(memebership_value_1)\n",
        "  memebership_value.append(memebership_value_1)\n",
        "plt.plot(x_values,memebership_value)\n",
        "plt.xlabel(\"x_values\")\n",
        "plt.ylabel(\"memebership_value\")\n",
        "plt.title('Tropezoidal_mf')\n",
        "plt.grid(True)\n",
        "plt.show()\n"
      ],
      "metadata": {
        "id": "j8j7Rv-JjvDt",
        "colab": {
          "base_uri": "https://localhost:8080/",
          "height": 1000
        },
        "collapsed": true,
        "outputId": "c7a05dd1-d8d0-484a-a668-67088c8641d1"
      },
      "execution_count": null,
      "outputs": [
        {
          "output_type": "stream",
          "name": "stdout",
          "text": [
            "0.0\n",
            "0\n",
            "0.10101010101010101\n",
            "0\n",
            "0.20202020202020202\n",
            "0\n",
            "0.30303030303030304\n",
            "0\n",
            "0.40404040404040403\n",
            "0\n",
            "0.5050505050505051\n",
            "0\n",
            "0.6060606060606061\n",
            "0\n",
            "0.7070707070707071\n",
            "0\n",
            "0.8080808080808081\n",
            "0\n",
            "0.9090909090909091\n",
            "0\n",
            "1.0101010101010102\n",
            "0\n",
            "1.1111111111111112\n",
            "0\n",
            "1.2121212121212122\n",
            "0\n",
            "1.3131313131313131\n",
            "0\n",
            "1.4141414141414141\n",
            "0\n",
            "1.5151515151515151\n",
            "0\n",
            "1.6161616161616161\n",
            "0\n",
            "1.7171717171717171\n",
            "0\n",
            "1.8181818181818181\n",
            "0\n",
            "1.9191919191919191\n",
            "0\n",
            "2.0202020202020203\n",
            "0.010101010101010166\n",
            "2.121212121212121\n",
            "0.06060606060606055\n",
            "2.2222222222222223\n",
            "0.11111111111111116\n",
            "2.323232323232323\n",
            "0.16161616161616155\n",
            "2.4242424242424243\n",
            "0.21212121212121215\n",
            "2.525252525252525\n",
            "0.26262626262626254\n",
            "2.6262626262626263\n",
            "0.31313131313131315\n",
            "2.727272727272727\n",
            "0.36363636363636354\n",
            "2.8282828282828283\n",
            "0.41414141414141414\n",
            "2.929292929292929\n",
            "0.46464646464646453\n",
            "3.0303030303030303\n",
            "0.5151515151515151\n",
            "3.131313131313131\n",
            "0.5656565656565655\n",
            "3.2323232323232323\n",
            "0.6161616161616161\n",
            "3.3333333333333335\n",
            "0.6666666666666667\n",
            "3.4343434343434343\n",
            "0.7171717171717171\n",
            "3.5353535353535355\n",
            "0.7676767676767677\n",
            "3.6363636363636362\n",
            "0.8181818181818181\n",
            "3.7373737373737375\n",
            "0.8686868686868687\n",
            "3.8383838383838382\n",
            "0.9191919191919191\n",
            "3.9393939393939394\n",
            "0.9696969696969697\n",
            "4.040404040404041\n",
            "1\n",
            "4.141414141414141\n",
            "1\n",
            "4.242424242424242\n",
            "1\n",
            "4.343434343434343\n",
            "1\n",
            "4.444444444444445\n",
            "1\n",
            "4.545454545454545\n",
            "1\n",
            "4.646464646464646\n",
            "1\n",
            "4.747474747474747\n",
            "1\n",
            "4.848484848484849\n",
            "1\n",
            "4.94949494949495\n",
            "1\n",
            "5.05050505050505\n",
            "1\n",
            "5.151515151515151\n",
            "1\n",
            "5.252525252525253\n",
            "1\n",
            "5.353535353535354\n",
            "1\n",
            "5.454545454545454\n",
            "1\n",
            "5.555555555555555\n",
            "1\n",
            "5.656565656565657\n",
            "1\n",
            "5.757575757575758\n",
            "1\n",
            "5.858585858585858\n",
            "1\n",
            "5.959595959595959\n",
            "1\n",
            "6.0606060606060606\n",
            "0.9696969696969697\n",
            "6.161616161616162\n",
            "0.9191919191919191\n",
            "6.262626262626262\n",
            "0.868686868686869\n",
            "6.363636363636363\n",
            "0.8181818181818183\n",
            "6.4646464646464645\n",
            "0.7676767676767677\n",
            "6.565656565656566\n",
            "0.7171717171717171\n",
            "6.666666666666667\n",
            "0.6666666666666665\n",
            "6.767676767676767\n",
            "0.6161616161616164\n",
            "6.8686868686868685\n",
            "0.5656565656565657\n",
            "6.96969696969697\n",
            "0.5151515151515151\n",
            "7.070707070707071\n",
            "0.46464646464646453\n",
            "7.171717171717171\n",
            "0.41414141414141437\n",
            "7.2727272727272725\n",
            "0.36363636363636376\n",
            "7.373737373737374\n",
            "0.31313131313131315\n",
            "7.474747474747475\n",
            "0.26262626262626254\n",
            "7.575757575757575\n",
            "0.21212121212121238\n",
            "7.6767676767676765\n",
            "0.16161616161616177\n",
            "7.777777777777778\n",
            "0.11111111111111116\n",
            "7.878787878787879\n",
            "0.06060606060606055\n",
            "7.979797979797979\n",
            "0.010101010101010388\n",
            "8.080808080808081\n",
            "0\n",
            "8.181818181818182\n",
            "0\n",
            "8.282828282828282\n",
            "0\n",
            "8.383838383838384\n",
            "0\n",
            "8.484848484848484\n",
            "0\n",
            "8.585858585858587\n",
            "0\n",
            "8.686868686868687\n",
            "0\n",
            "8.787878787878787\n",
            "0\n",
            "8.88888888888889\n",
            "0\n",
            "8.98989898989899\n",
            "0\n",
            "9.09090909090909\n",
            "0\n",
            "9.191919191919192\n",
            "0\n",
            "9.292929292929292\n",
            "0\n",
            "9.393939393939394\n",
            "0\n",
            "9.494949494949495\n",
            "0\n",
            "9.595959595959595\n",
            "0\n",
            "9.696969696969697\n",
            "0\n",
            "9.797979797979798\n",
            "0\n",
            "9.8989898989899\n",
            "0\n",
            "10.0\n",
            "0\n"
          ]
        },
        {
          "output_type": "display_data",
          "data": {
            "text/plain": [
              "<Figure size 640x480 with 1 Axes>"
            ],
            "image/png": "[encoded data removed]"
          },
          "metadata": {}
        }
      ]
    },
    {
      "cell_type": "code",
      "source": [
        "def sigmoid_mf(x, a, b):\n",
        "  return 1 / (1 + np.exp(-b * (x - a)))\n",
        "a,b = 0,5\n",
        "memebership_value = []\n",
        "x_values = np.linspace(-5, 5, 100)\n",
        "for  x in x_values:\n",
        "  print(x)\n",
        "  memebership_value_1 = sigmoid_mf(x,a,b)\n",
        "  print(memebership_value_1)\n",
        "  memebership_value.append(memebership_value_1)\n",
        "plt.plot(x_values,memebership_value)\n",
        "plt.xlabel(\"x_values\")\n",
        "plt.ylabel(\"memebership_value\")\n",
        "plt.title('Sigmoid_mf')\n",
        "plt.grid(True)\n",
        "plt.show()\n"
      ],
      "metadata": {
        "id": "qw9_lFh_kbaO",
        "colab": {
          "base_uri": "https://localhost:8080/",
          "height": 1000
        },
        "collapsed": true,
        "outputId": "183ac711-613f-494d-d6f2-160b51cdf3bf"
      },
      "execution_count": null,
      "outputs": [
        {
          "output_type": "stream",
          "name": "stdout",
          "text": [
            "-5.0\n",
            "1.3887943864771144e-11\n",
            "-4.898989898989899\n",
            "2.301328415041702e-11\n",
            "-4.797979797979798\n",
            "3.81346045564094e-11\n",
            "-4.696969696969697\n",
            "6.319167899523456e-11\n",
            "-4.595959595959596\n",
            "1.0471298550544103e-10\n",
            "-4.494949494949495\n",
            "1.7351666402138867e-10\n",
            "-4.393939393939394\n",
            "2.8752912111541195e-10\n",
            "-4.292929292929293\n",
            "4.76455653118232e-10\n",
            "-4.191919191919192\n",
            "7.895199918516151e-10\n",
            "-4.090909090909091\n",
            "1.308289267480821e-09\n",
            "-3.9898989898989896\n",
            "2.167925859366655e-09\n",
            "-3.888888888888889\n",
            "3.592403183208756e-09\n",
            "-3.787878787878788\n",
            "5.952860686121162e-09\n",
            "-3.686868686868687\n",
            "9.864302108137401e-09\n",
            "-3.5858585858585856\n",
            "1.6345831182877135e-08\n",
            "-3.484848484848485\n",
            "2.7086173253028247e-08\n",
            "-3.383838383838384\n",
            "4.488366288060345e-08\n",
            "-3.282828282828283\n",
            "7.437533354018541e-08\n",
            "-3.1818181818181817\n",
            "1.2324506907413966e-07\n",
            "-3.080808080808081\n",
            "2.0422559254998825e-07\n",
            "-2.9797979797979797\n",
            "3.3841589563331417e-07\n",
            "-2.878787878787879\n",
            "5.607784356963248e-07\n",
            "-2.7777777777777777\n",
            "9.292483363014605e-07\n",
            "-2.676767676767677\n",
            "1.5398278651427842e-06\n",
            "-2.5757575757575757\n",
            "2.5515987604042295e-06\n",
            "-2.474747474747475\n",
            "4.2281686500022396e-06\n",
            "-2.3737373737373737\n",
            "7.0063486141245576e-06\n",
            "-2.272727272727273\n",
            "1.1609951105744394e-05\n",
            "-2.1717171717171717\n",
            "1.92383457314593e-05\n",
            "-2.070707070707071\n",
            "3.187886735978997e-05\n",
            "-1.9696969696969697\n",
            "5.282438301811693e-05\n",
            "-1.868686868686869\n",
            "8.753062044408367e-05\n",
            "-1.7676767676767677\n",
            "0.000145035954406491\n",
            "-1.6666666666666665\n",
            "0.0002403117128189267\n",
            "-1.5656565656565657\n",
            "0.0003981502713089857\n",
            "-1.4646464646464645\n",
            "0.0006595899981805372\n",
            "-1.3636363636363638\n",
            "0.0010925127853840398\n",
            "-1.2626262626262625\n",
            "0.0018090706436424836\n",
            "-1.1616161616161618\n",
            "0.002994196105115577\n",
            "-1.0606060606060606\n",
            "0.004951847934391681\n",
            "-0.9595959595959593\n",
            "0.008178942856282168\n",
            "-0.858585858585859\n",
            "0.013480627700845807\n",
            "-0.7575757575757578\n",
            "0.022142203958132108\n",
            "-0.6565656565656566\n",
            "0.03616500122018774\n",
            "-0.5555555555555554\n",
            "0.05853690287436795\n",
            "-0.45454545454545503\n",
            "0.09340700471683196\n",
            "-0.3535353535353538\n",
            "0.1458314835349149\n",
            "-0.2525252525252526\n",
            "0.2205221270455693\n",
            "-0.15151515151515138\n",
            "0.3191728267214705\n",
            "-0.050505050505050164\n",
            "0.43720204630561793\n",
            "0.050505050505050164\n",
            "0.5627979536943821\n",
            "0.15151515151515138\n",
            "0.6808271732785295\n",
            "0.2525252525252526\n",
            "0.7794778729544307\n",
            "0.3535353535353538\n",
            "0.8541685164650851\n",
            "0.45454545454545414\n",
            "0.9065929952831676\n",
            "0.5555555555555554\n",
            "0.941463097125632\n",
            "0.6565656565656566\n",
            "0.9638349987798124\n",
            "0.7575757575757578\n",
            "0.977857796041868\n",
            "0.8585858585858581\n",
            "0.9865193722991542\n",
            "0.9595959595959593\n",
            "0.9918210571437178\n",
            "1.0606060606060606\n",
            "0.9950481520656084\n",
            "1.1616161616161618\n",
            "0.9970058038948844\n",
            "1.262626262626262\n",
            "0.9981909293563576\n",
            "1.3636363636363633\n",
            "0.998907487214616\n",
            "1.4646464646464645\n",
            "0.9993404100018195\n",
            "1.5656565656565657\n",
            "0.9996018497286909\n",
            "1.666666666666667\n",
            "0.9997596882871811\n",
            "1.7676767676767673\n",
            "0.9998549640455936\n",
            "1.8686868686868685\n",
            "0.9999124693795559\n",
            "1.9696969696969697\n",
            "0.999947175616982\n",
            "2.070707070707071\n",
            "0.9999681211326403\n",
            "2.1717171717171713\n",
            "0.9999807616542684\n",
            "2.2727272727272725\n",
            "0.9999883900488943\n",
            "2.3737373737373737\n",
            "0.9999929936513859\n",
            "2.474747474747475\n",
            "0.9999957718313499\n",
            "2.5757575757575752\n",
            "0.9999974484012396\n",
            "2.6767676767676765\n",
            "0.9999984601721349\n",
            "2.7777777777777777\n",
            "0.9999990707516637\n",
            "2.878787878787879\n",
            "0.9999994392215644\n",
            "2.9797979797979792\n",
            "0.9999996615841045\n",
            "3.0808080808080813\n",
            "0.9999997957744076\n",
            "3.1818181818181817\n",
            "0.9999998767549308\n",
            "3.282828282828282\n",
            "0.9999999256246666\n",
            "3.383838383838384\n",
            "0.9999999551163372\n",
            "3.4848484848484844\n",
            "0.9999999729138268\n",
            "3.5858585858585865\n",
            "0.9999999836541689\n",
            "3.686868686868687\n",
            "0.9999999901356978\n",
            "3.787878787878787\n",
            "0.9999999940471394\n",
            "3.8888888888888893\n",
            "0.9999999964075967\n",
            "3.9898989898989896\n",
            "0.9999999978320742\n",
            "4.09090909090909\n",
            "0.9999999986917107\n",
            "4.191919191919192\n",
            "0.99999999921048\n",
            "4.292929292929292\n",
            "0.9999999995235442\n",
            "4.3939393939393945\n",
            "0.9999999997124709\n",
            "4.494949494949495\n",
            "0.9999999998264832\n",
            "4.595959595959595\n",
            "0.9999999998952871\n",
            "4.696969696969697\n",
            "0.9999999999368083\n",
            "4.797979797979798\n",
            "0.9999999999618654\n",
            "4.8989898989899\n",
            "0.9999999999769866\n",
            "5.0\n",
            "0.999999999986112\n"
          ]
        },
        {
          "output_type": "display_data",
          "data": {
            "text/plain": [
              "<Figure size 640x480 with 1 Axes>"
            ],
            "image/png": "[encoded data removed]"
          },
          "metadata": {}
        }
      ]
    },
    {
      "cell_type": "code",
      "source": [
        "def gaussian_memebership_function(x,a,b):\n",
        "   func_1 = -0.5*(((x-a)/(b))**2)\n",
        "   return np.exp(func_1)\n",
        "a,b = 0,1\n",
        "memebership_value = []\n",
        "x_values = np.linspace(-5, 5, 100)\n",
        "for  x in x_values:\n",
        "  print(x)\n",
        "  memebership_value_1 = gaussian_memebership_function(x,a,b)\n",
        "  print(memebership_value_1)\n",
        "  memebership_value.append(memebership_value_1)\n",
        "plt.plot(x_values,memebership_value)\n",
        "plt.xlabel(\"x_values\")\n",
        "plt.ylabel(\"memebership_value\")\n",
        "plt.title('gaussian_memebership_function(x,a,b)')\n",
        "plt.grid(True)\n",
        "plt.show()"
      ],
      "metadata": {
        "colab": {
          "base_uri": "https://localhost:8080/",
          "height": 1000
        },
        "collapsed": true,
        "id": "F5zbjS34Qrud",
        "outputId": "6673bdf1-0974-4e02-9b15-d4ff93dbb5ae"
      },
      "execution_count": null,
      "outputs": [
        {
          "output_type": "stream",
          "name": "stdout",
          "text": [
            "-5.0\n",
            "3.726653172078671e-06\n",
            "-4.898989898989899\n",
            "6.143898913085795e-06\n",
            "-4.797979797979798\n",
            "1.0026238302923837e-05\n",
            "-4.696969696969697\n",
            "1.6195742366909055e-05\n",
            "-4.595959595959596\n",
            "2.5895993202139932e-05\n",
            "-4.494949494949495\n",
            "4.098577588560501e-05\n",
            "-4.393939393939394\n",
            "6.420999340897708e-05\n",
            "-4.292929292929293\n",
            "9.957285635767415e-05\n",
            "-4.191919191919192\n",
            "0.00015284392491974816\n",
            "-4.090909090909091\n",
            "0.00023223318227836914\n",
            "-3.9898989898989896\n",
            "0.00034927639906895316\n",
            "-3.888888888888889\n",
            "0.000519975743255855\n",
            "-3.787878787878788\n",
            "0.0007662417359485212\n",
            "-3.686868686868687\n",
            "0.0011176797915701635\n",
            "-3.5858585858585856\n",
            "0.0016137559981836234\n",
            "-3.484848484848485\n",
            "0.002306360631159769\n",
            "-3.383838383838384\n",
            "0.003262762323259228\n",
            "-3.282828282828283\n",
            "0.004568909302285953\n",
            "-3.1818181818181817\n",
            "0.006332985753131171\n",
            "-3.080808080808081\n",
            "0.00868907129995769\n",
            "-2.9797979797979797\n",
            "0.011800681437891616\n",
            "-2.878787878787879\n",
            "0.01586388993970375\n",
            "-2.7777777777777777\n",
            "0.02110965645367106\n",
            "-2.676767676767677\n",
            "0.027804911598271972\n",
            "-2.5757575757575757\n",
            "0.036251897851191636\n",
            "-2.474747474747475\n",
            "0.04678523899568961\n",
            "-2.3737373737373737\n",
            "0.059766226026609054\n",
            "-2.272727272727273\n",
            "0.07557387471306078\n",
            "-2.1717171717171717\n",
            "0.09459243854190494\n",
            "-2.070707070707071\n",
            "0.11719525531277221\n",
            "-1.9696969696969697\n",
            "0.1437250648567933\n",
            "-1.868686868686869\n",
            "0.17447125013244347\n",
            "-1.7676767676767677\n",
            "0.20964480658795784\n",
            "-1.6666666666666665\n",
            "0.24935220877729627\n",
            "-1.5656565656565657\n",
            "0.29356968485490187\n",
            "-1.4646464646464645\n",
            "0.34211968972085993\n",
            "-1.3636363636363638\n",
            "0.394651545733427\n",
            "-1.2626262626262625\n",
            "0.45062825866417494\n",
            "-1.1616161616161618\n",
            "0.5093213867849897\n",
            "-1.0606060606060606\n",
            "0.5698155267038088\n",
            "-0.9595959595959593\n",
            "0.6310234822213525\n",
            "-0.858585858585859\n",
            "0.6917125234067427\n",
            "-0.7575757575757578\n",
            "0.750541363953221\n",
            "-0.6565656565656566\n",
            "0.8061066455172727\n",
            "-0.5555555555555554\n",
            "0.856996891435279\n",
            "-0.45454545454545503\n",
            "0.9018511586452824\n",
            "-0.3535353535353538\n",
            "0.9394190533760337\n",
            "-0.2525252525252526\n",
            "0.9686184495178941\n",
            "-0.15151515151515138\n",
            "0.9885872051667915\n",
            "-0.050505050505050164\n",
            "0.9987254328882499\n",
            "0.050505050505050164\n",
            "0.9987254328882499\n",
            "0.15151515151515138\n",
            "0.9885872051667915\n",
            "0.2525252525252526\n",
            "0.9686184495178941\n",
            "0.3535353535353538\n",
            "0.9394190533760337\n",
            "0.45454545454545414\n",
            "0.9018511586452828\n",
            "0.5555555555555554\n",
            "0.856996891435279\n",
            "0.6565656565656566\n",
            "0.8061066455172727\n",
            "0.7575757575757578\n",
            "0.750541363953221\n",
            "0.8585858585858581\n",
            "0.6917125234067432\n",
            "0.9595959595959593\n",
            "0.6310234822213525\n",
            "1.0606060606060606\n",
            "0.5698155267038088\n",
            "1.1616161616161618\n",
            "0.5093213867849897\n",
            "1.262626262626262\n",
            "0.4506282586641752\n",
            "1.3636363636363633\n",
            "0.3946515457334272\n",
            "1.4646464646464645\n",
            "0.34211968972085993\n",
            "1.5656565656565657\n",
            "0.29356968485490187\n",
            "1.666666666666667\n",
            "0.2493522087772961\n",
            "1.7676767676767673\n",
            "0.20964480658795798\n",
            "1.8686868686868685\n",
            "0.17447125013244358\n",
            "1.9696969696969697\n",
            "0.1437250648567933\n",
            "2.070707070707071\n",
            "0.11719525531277221\n",
            "2.1717171717171713\n",
            "0.09459243854190502\n",
            "2.2727272727272725\n",
            "0.07557387471306087\n",
            "2.3737373737373737\n",
            "0.059766226026609054\n",
            "2.474747474747475\n",
            "0.04678523899568961\n",
            "2.5757575757575752\n",
            "0.036251897851191685\n",
            "2.6767676767676765\n",
            "0.027804911598272006\n",
            "2.7777777777777777\n",
            "0.02110965645367106\n",
            "2.878787878787879\n",
            "0.01586388993970375\n",
            "2.9797979797979792\n",
            "0.011800681437891626\n",
            "3.0808080808080813\n",
            "0.008689071299957675\n",
            "3.1818181818181817\n",
            "0.006332985753131171\n",
            "3.282828282828282\n",
            "0.004568909302285965\n",
            "3.383838383838384\n",
            "0.003262762323259228\n",
            "3.4848484848484844\n",
            "0.002306360631159773\n",
            "3.5858585858585865\n",
            "0.0016137559981836175\n",
            "3.686868686868687\n",
            "0.0011176797915701635\n",
            "3.787878787878787\n",
            "0.0007662417359485239\n",
            "3.8888888888888893\n",
            "0.000519975743255854\n",
            "3.9898989898989896\n",
            "0.00034927639906895316\n",
            "4.09090909090909\n",
            "0.00023223318227836995\n",
            "4.191919191919192\n",
            "0.00015284392491974816\n",
            "4.292929292929292\n",
            "9.95728563576745e-05\n",
            "4.3939393939393945\n",
            "6.420999340897674e-05\n",
            "4.494949494949495\n",
            "4.098577588560501e-05\n",
            "4.595959595959595\n",
            "2.5895993202140027e-05\n",
            "4.696969696969697\n",
            "1.6195742366909055e-05\n",
            "4.797979797979798\n",
            "1.0026238302923837e-05\n",
            "4.8989898989899\n",
            "6.143898913085773e-06\n",
            "5.0\n",
            "3.726653172078671e-06\n"
          ]
        },
        {
          "output_type": "display_data",
          "data": {
            "text/plain": [
              "<Figure size 640x480 with 1 Axes>"
            ],
            "image/png": "[encoded data removed]"
          },
          "metadata": {}
        }
      ]
    },
    {
      "cell_type": "code",
      "source": [
        "pip install scikit-fuzzy\n"
      ],
      "metadata": {
        "colab": {
          "base_uri": "https://localhost:8080/"
        },
        "id": "E81FBcI-i0IK",
        "outputId": "1bc863d7-7418-42c5-a8e2-56024dfe65b7"
      },
      "execution_count": null,
      "outputs": [
        {
          "output_type": "stream",
          "name": "stdout",
          "text": [
            "Collecting scikit-fuzzy\n",
            "  Downloading scikit_fuzzy-0.5.0-py2.py3-none-any.whl.metadata (2.6 kB)\n",
            "Downloading scikit_fuzzy-0.5.0-py2.py3-none-any.whl (920 kB)\n",
            "\u001b[?25l   \u001b[90m━━━━━━━━━━━━━━━━━━━━━━━━━━━━━━━━━━━━━━━━\u001b[0m \u001b[32m0.0/920.8 kB\u001b[0m \u001b[31m?\u001b[0m eta \u001b[36m-:--:--\u001b[0m\r\u001b[2K   \u001b[91m━━━━━━━━━━━━━━\u001b[0m\u001b[91m╸\u001b[0m\u001b[90m━━━━━━━━━━━━━━━━━━━━━━━━━\u001b[0m \u001b[32m337.9/920.8 kB\u001b[0m \u001b[31m9.6 MB/s\u001b[0m eta \u001b[36m0:00:01\u001b[0m\r\u001b[2K   \u001b[90m━━━━━━━━━━━━━━━━━━━━━━━━━━━━━━━━━━━━━━━━\u001b[0m \u001b[32m920.8/920.8 kB\u001b[0m \u001b[31m14.1 MB/s\u001b[0m eta \u001b[36m0:00:00\u001b[0m\n",
            "\u001b[?25hInstalling collected packages: scikit-fuzzy\n",
            "Successfully installed scikit-fuzzy-0.5.0\n"
          ]
        }
      ]
    },
    {
      "cell_type": "markdown",
      "source": [],
      "metadata": {
        "id": "Gs_RsSdblyix"
      }
    },
    {
      "cell_type": "code",
      "source": [],
      "metadata": {
        "id": "hTizEUMwmpWJ"
      },
      "execution_count": null,
      "outputs": []
    },
    {
      "cell_type": "code",
      "source": [
        "#by using fis editor tool box model tip value that is given after dinner quailty answer service"
      ],
      "metadata": {
        "id": "_GfSVLwgkrE5"
      },
      "execution_count": null,
      "outputs": []
    },
    {
      "cell_type": "code",
      "source": [
        "import skfuzzy as fuzz\n",
        "x=np.arange(0,11,1)\n",
        "membership_value = fuzz.trimf(x,[2,5,8])\n",
        "\n",
        "plt.plot(x,membership_value)\n",
        "plt.xlabel(\"x_values\")\n",
        "plt.ylabel(\"memebership_value\")\n",
        "plt.title('Triangular Membership Function')\n",
        "plt.grid(True)\n",
        "plt.show()"
      ],
      "metadata": {
        "colab": {
          "base_uri": "https://localhost:8080/",
          "height": 472
        },
        "collapsed": true,
        "id": "KfDScTIAmqTZ",
        "outputId": "13c0bc9a-f35e-4c2f-b14f-ba57e2065b82"
      },
      "execution_count": null,
      "outputs": [
        {
          "output_type": "display_data",
          "data": {
            "text/plain": [
              "<Figure size 640x480 with 1 Axes>"
            ],
            "image/png": "[encoded data removed]"
          },
          "metadata": {}
        }
      ]
    },
    {
      "cell_type": "code",
      "source": [
        "\"\"\"import skfuzzy as fuzz\n",
        "from skfuzzy import control as ctrl\n",
        "service = ctrl.antecedent(np.arange(0,11,1),'service')\n",
        "food = ctrl.antecedent(np.arange(0,11,1),'food')\n",
        "tip = ctrl.consequent(np.arange(0,26,1),'tip')\n",
        "service[\"poor\"]=fuzz.trimf(service.universe,[0,0,5])\n",
        "service[\"average\"]=fuzz.trimf(service.universe,[0,5,10])\n",
        "service[\"good\"]=fuzz.trimf(service.universe,[5,10,10])                                                                                                                                                                                                                                                                                                                                                                                                                                                                                                                                                                                                                                                                                                                                                                                                                                                                                                                                                                                                                                                                                                                                                                                                                                                                                                                                                                                                                                                                                                                                                                                                                                                                                                                                                                                                                                                                                                                                                                                                                                                                                                                                                                                                                                                                                                                                                                                                                                                                                                                                                                                                                                                                                                                                                                                                                                                                                                                                                            iverse,[5,10,10])\n",
        "food[\"poor\"]=fuzz.trimf(food.universe,[0,0,5])\n",
        "food[\"average\"]=fuzz.trimf(food.universe,[0,5,10])\n",
        "food[\"good\"]=fuzz.trimf(food.universe,[5,10,10])\"\"\""
      ],
      "metadata": {
        "colab": {
          "base_uri": "https://localhost:8080/",
          "height": 88
        },
        "id": "KRihQcu5mPKh",
        "outputId": "39a0e775-24b5-4152-9bee-6cbb3fa71c39"
      },
      "execution_count": null,
      "outputs": [
        {
          "output_type": "execute_result",
          "data": {
            "text/plain": [
              "'import skfuzzy as fuzz\\nfrom skfuzzy import control as ctrl\\nservice = ctrl.antecedent(np.arange(0,11,1),\\'service\\')\\nfood = ctrl.antecedent(np.arange(0,11,1),\\'food\\')\\ntip = ctrl.consequent(np.arange(0,26,1),\\'tip\\')\\nservice[\"poor\"]=fuzz.trimf(service.universe,[0,0,5])\\nservice[\"average\"]=fuzz.trimf(service.universe,[0,5,10])\\nservice[\"good\"]=fuzz.trimf(service.universe,[5,10,10])                                                                                                                                                                                                                                                                                                                                                                                                                                                                                                                                                                                                                                                                                                                                                                                                                                                                                                                                                                                                                                                                                                                                                                                                                                                                                                                                                                                                                                                                                                                                                                                                                                                                                                                                                                                                                                                                                                                                                                                                                                                                                                                                                                                                                                                                                                                                                                                                                                                                                                                                                                                                                                                                                                                                                                                                                                                                                                                                                            iverse,[5,10,10])\\nfood[\"poor\"]=fuzz.trimf(food.universe,[0,0,5])\\nfood[\"average\"]=fuzz.trimf(food.universe,[0,5,10])\\nfood[\"good\"]=fuzz.trimf(food.universe,[5,10,10])'"
            ],
            "application/vnd.google.colaboratory.intrinsic+json": {
              "type": "string"
            }
          },
          "metadata": {},
          "execution_count": 14
        }
      ]
    },
    {
      "cell_type": "code",
      "source": [
        "import numpy as np\n",
        "import skfuzzy as fuzz\n",
        "import matplotlib.pyplot as plt\n",
        "x = np.arange(0,11,1)\n",
        "membership_value = fuzz.trimf(x,[2,5,8])\n",
        "plt.plot(x,membership_value)\n",
        "plt"
      ],
      "metadata": {
        "id": "JLshwJ7cn0O4",
        "colab": {
          "base_uri": "https://localhost:8080/",
          "height": 447
        },
        "outputId": "82d0b193-348c-420d-826b-6b62996de1c8"
      },
      "execution_count": null,
      "outputs": [
        {
          "output_type": "execute_result",
          "data": {
            "text/plain": [
              "<module 'matplotlib.pyplot' from '/usr/local/lib/python3.10/dist-packages/matplotlib/pyplot.py'>"
            ]
          },
          "metadata": {},
          "execution_count": 15
        },
        {
          "output_type": "display_data",
          "data": {
            "text/plain": [
              "<Figure size 640x480 with 1 Axes>"
            ],
            "image/png": "[encoded data removed]"
          },
          "metadata": {}
        }
      ]
    },
    {
      "cell_type": "code",
      "source": [
        "import skfuzzy as fuzz\n",
        "from skfuzzy import control as ctrl\n",
        "service = ctrl.Antecedent(np.arange(0,11,1),'service')\n",
        "food = ctrl.Antecedent(np.arange(0,11,1),'food')\n",
        "tip = ctrl.Consequent(np.arange(0,26,1),'tip')\n",
        "service[\"poor\"]=fuzz.trimf(service.universe,[0,0,5])\n",
        "service[\"average\"]=fuzz.trimf(service.universe,[0,5,10])\n",
        "service[\"good\"]=fuzz.trimf(service.universe, [5,10,10])\n",
        "food[\"poor\"]=fuzz.trimf(food.universe,[0,0,5])\n",
        "food[\"average\"]=fuzz.trimf(food.universe,[0,5,10])\n",
        "food[\"good\"]=fuzz.trimf(food.universe,[5,10,10])\n",
        "tip['poor'] = fuzz.trimf(tip.universe, [0, 0, 13])\n",
        "tip['average'] = fuzz.trimf(tip.universe, [0, 13, 25])\n",
        "tip['good'] = fuzz.trimf(tip.universe, [13, 25, 25])\n",
        "rule_1 = ctrl.Rule(service[\"poor\"] | food[\"poor\"],tip[\"poor\"])\n",
        "rule_2 = ctrl.Rule(service[\"average\"] | food[\"average\"],tip[\"average\"])\n",
        "rule_3 = ctrl.Rule(service[\"good\"] | food[\"good\"],tip[\"good\"])\n",
        "tipping_ctrl = ctrl.ControlSystem([rule_1,rule_2,rule_3])\n",
        "tipping = ctrl.ControlSystemSimulation(tipping_ctrl)\n",
        "service_input = float(input(\"Enter the service value: \"))\n",
        "food_input = float(input(\"Enter the food value: \"))\n",
        "tipping.input['service'] = service_input\n",
        "tipping.input['food'] = food_input\n",
        "tipping.compute()\n",
        "print(f\"Tip value is {tipping.output['tip']}\")\n",
        "service.view()\n",
        "food.view()\n",
        "tip.view()\n",
        "plt.show()\n",
        "\n",
        "\n"
      ],
      "metadata": {
        "id": "QnXWqwv1x87U",
        "colab": {
          "base_uri": "https://localhost:8080/",
          "height": 401
        },
        "outputId": "e7a137e0-14f0-455b-a8d1-e8760272117c"
      },
      "execution_count": null,
      "outputs": [
        {
          "output_type": "error",
          "ename": "ModuleNotFoundError",
          "evalue": "No module named 'skfuzzy'",
          "traceback": [
            "\u001b[0;31m---------------------------------------------------------------------------\u001b[0m",
            "\u001b[0;31mModuleNotFoundError\u001b[0m                       Traceback (most recent call last)",
            "\u001b[0;32m<ipython-input-1-9f1b6c136929>\u001b[0m in \u001b[0;36m<cell line: 1>\u001b[0;34m()\u001b[0m\n\u001b[0;32m----> 1\u001b[0;31m \u001b[0;32mimport\u001b[0m \u001b[0mskfuzzy\u001b[0m \u001b[0;32mas\u001b[0m \u001b[0mfuzz\u001b[0m\u001b[0;34m\u001b[0m\u001b[0;34m\u001b[0m\u001b[0m\n\u001b[0m\u001b[1;32m      2\u001b[0m \u001b[0;32mfrom\u001b[0m \u001b[0mskfuzzy\u001b[0m \u001b[0;32mimport\u001b[0m \u001b[0mcontrol\u001b[0m \u001b[0;32mas\u001b[0m \u001b[0mctrl\u001b[0m\u001b[0;34m\u001b[0m\u001b[0;34m\u001b[0m\u001b[0m\n\u001b[1;32m      3\u001b[0m \u001b[0mservice\u001b[0m \u001b[0;34m=\u001b[0m \u001b[0mctrl\u001b[0m\u001b[0;34m.\u001b[0m\u001b[0mAntecedent\u001b[0m\u001b[0;34m(\u001b[0m\u001b[0mnp\u001b[0m\u001b[0;34m.\u001b[0m\u001b[0marange\u001b[0m\u001b[0;34m(\u001b[0m\u001b[0;36m0\u001b[0m\u001b[0;34m,\u001b[0m\u001b[0;36m11\u001b[0m\u001b[0;34m,\u001b[0m\u001b[0;36m1\u001b[0m\u001b[0;34m)\u001b[0m\u001b[0;34m,\u001b[0m\u001b[0;34m'service'\u001b[0m\u001b[0;34m)\u001b[0m\u001b[0;34m\u001b[0m\u001b[0;34m\u001b[0m\u001b[0m\n\u001b[1;32m      4\u001b[0m \u001b[0mfood\u001b[0m \u001b[0;34m=\u001b[0m \u001b[0mctrl\u001b[0m\u001b[0;34m.\u001b[0m\u001b[0mAntecedent\u001b[0m\u001b[0;34m(\u001b[0m\u001b[0mnp\u001b[0m\u001b[0;34m.\u001b[0m\u001b[0marange\u001b[0m\u001b[0;34m(\u001b[0m\u001b[0;36m0\u001b[0m\u001b[0;34m,\u001b[0m\u001b[0;36m11\u001b[0m\u001b[0;34m,\u001b[0m\u001b[0;36m1\u001b[0m\u001b[0;34m)\u001b[0m\u001b[0;34m,\u001b[0m\u001b[0;34m'food'\u001b[0m\u001b[0;34m)\u001b[0m\u001b[0;34m\u001b[0m\u001b[0;34m\u001b[0m\u001b[0m\n\u001b[1;32m      5\u001b[0m \u001b[0mtip\u001b[0m \u001b[0;34m=\u001b[0m \u001b[0mctrl\u001b[0m\u001b[0;34m.\u001b[0m\u001b[0mConsequent\u001b[0m\u001b[0;34m(\u001b[0m\u001b[0mnp\u001b[0m\u001b[0;34m.\u001b[0m\u001b[0marange\u001b[0m\u001b[0;34m(\u001b[0m\u001b[0;36m0\u001b[0m\u001b[0;34m,\u001b[0m\u001b[0;36m26\u001b[0m\u001b[0;34m,\u001b[0m\u001b[0;36m1\u001b[0m\u001b[0;34m)\u001b[0m\u001b[0;34m,\u001b[0m\u001b[0;34m'tip'\u001b[0m\u001b[0;34m)\u001b[0m\u001b[0;34m\u001b[0m\u001b[0;34m\u001b[0m\u001b[0m\n",
            "\u001b[0;31mModuleNotFoundError\u001b[0m: No module named 'skfuzzy'",
            "",
            "\u001b[0;31m---------------------------------------------------------------------------\u001b[0;32m\nNOTE: If your import is failing due to a missing package, you can\nmanually install dependencies using either !pip or !apt.\n\nTo view examples of installing some common dependencies, click the\n\"Open Examples\" button below.\n\u001b[0;31m---------------------------------------------------------------------------\u001b[0m\n"
          ],
          "errorDetails": {
            "actions": [
              {
                "action": "open_url",
                "actionText": "Open Examples",
                "url": "/notebooks/snippets/importing_libraries.ipynb"
              }
            ]
          }
        }
      ]
    },
    {
      "cell_type": "code",
      "source": [
        "import numpy as np\n",
        "def me_culloch_pitts(x1,x2):\n",
        " w1 = 1\n",
        " w2 = -1\n",
        " threshold = 1\n",
        " net_input = w1*x1 + w2*x2\n",
        " if net_input >= threshold:\n",
        "  return 1\n",
        " else:\n",
        "  return 0\n",
        "input = [(0,0),(0,1),(1,0),(1,1)]\n",
        "result = []\n",
        "for x1,x2 in input:\n",
        "  i = me_culloch_pitts(x1,x2)\n",
        "  result.append(i)\n",
        "print(result)"
      ],
      "metadata": {
        "id": "HL6xqxKMY7q6",
        "colab": {
          "base_uri": "https://localhost:8080/"
        },
        "outputId": "3571a556-2cec-438e-a086-3304faa26783"
      },
      "execution_count": null,
      "outputs": [
        {
          "output_type": "stream",
          "name": "stdout",
          "text": [
            "[0, 0, 1, 0]\n"
          ]
        }
      ]
    },
    {
      "cell_type": "code",
      "source": [
        "def me_culloch_pittsandnot(x1,x2):\n",
        " w1,w2  = 1,-1\n",
        " threshold = 1\n",
        " net_input = w1*x1 + w2*x2\n",
        " if net_input >= threshold:\n",
        "  return 1\n",
        " else:\n",
        "   return 0\n",
        "\n",
        "def me_culloch_pittsor(x1,x2):\n",
        " w1,w2  = 1,1\n",
        " threshold = 1\n",
        " net_input = w1*x1 + w2*x2\n",
        " if net_input >= threshold:\n",
        "  return 1\n",
        " else:\n",
        "   return 0\n",
        "\n",
        "\n",
        "def me_culloch_pittsxor(x1,x2):\n",
        "  term1 = me_culloch_pittsandnot(x1,x2)\n",
        "  term2 = me_culloch_pittsandnot(x2,x1)\n",
        "  return me_culloch_pittsor(term1,term2)\n",
        "\n",
        "input = [(0,0),(0,1),(1,0),(1,1)]\n",
        "result = []\n",
        "for x1,x2 in input:\n",
        "  i = me_culloch_pittsxor(x1,x2)\n",
        "  result.append(i)\n",
        "print(result)"
      ],
      "metadata": {
        "id": "y2Xp_zPTZiFK",
        "colab": {
          "base_uri": "https://localhost:8080/"
        },
        "outputId": "129b7204-a7b5-4df0-b209-504bdc18038b"
      },
      "execution_count": null,
      "outputs": [
        {
          "output_type": "stream",
          "name": "stdout",
          "text": [
            "[0, 1, 1, 0]\n"
          ]
        }
      ]
    },
    {
      "cell_type": "code",
      "source": [
        "import numpy as np\n",
        "inputs = np.array([[-1,-1],[-1,1],[1,-1],[1,1]])\n",
        "targets = np.array([-1,-1,-1,1])\n",
        "weights = np.array([0.0,0.0])\n",
        "bias = 0.0\n",
        "for i in range(len(inputs)):\n",
        "   input_vector = inputs[i]\n",
        "   target = targets[i]\n",
        "   weights = weights + input_vector*target\n",
        "   bias = bias + target\n",
        "print(f\"Weights after iteration {i+1}: {weights}\")\n",
        "print(f\"Bias after iteration {i+1}: {bias}\")\n",
        "def hebb_and_fun(x1,x2):\n",
        "  net_input = x1*weights[0] + x2*weights[1] + bias\n",
        "  if net_input >= 0:\n",
        "    return 1\n",
        "  else:\n",
        "    return -1\n",
        "for input_pattern,target in zip(inputs,targets):\n",
        "  result = hebb_and_fun(input_pattern[0],input_pattern[1])\n",
        "  print(f\"Input: {input_pattern}, Target: {target}, Output: {result}\")\n"
      ],
      "metadata": {
        "id": "_xpoQNtVj6jL",
        "colab": {
          "base_uri": "https://localhost:8080/"
        },
        "outputId": "5cffb655-7b5c-43c1-f0a0-741e43015fbe"
      },
      "execution_count": null,
      "outputs": [
        {
          "output_type": "stream",
          "name": "stdout",
          "text": [
            "Weights after iteration 4: [2. 2.]\n",
            "Bias after iteration 4: -2.0\n",
            "Input: [-1 -1], Target: -1, Output: -1\n",
            "Input: [-1  1], Target: -1, Output: -1\n",
            "Input: [ 1 -1], Target: -1, Output: -1\n",
            "Input: [1 1], Target: 1, Output: 1\n"
          ]
        }
      ]
    },
    {
      "cell_type": "code",
      "source": [
        "import numpy as np\n",
        "inputs = np.array([[-1,-1],[-1,1],[1,-1],[1,1]])\n",
        "targets = np.array([-1,-1,-1,1])\n",
        "weights = np.array([0.0,0.0])\n",
        "bias = 0.0\n",
        "learning_rate = 0.1\n",
        "epochs = 10\n",
        "for epoch in range(epochs):\n",
        "  for i in range(len(inputs)):\n",
        "    input_vector = inputs[i]\n",
        "    target = targets[i]\n",
        "    net_input = np.dot(input_vector,weights) + bias\n",
        "    if net_input >= 0:\n",
        "      output = 0\n",
        "    else:\n",
        "      output = -1\n",
        "    error = target - output\n",
        "    weights += learning_rate * error * input_vector\n",
        "    bias += learning_rate * error\n",
        "def perceptron_fun(x1,x2):\n",
        "  net_input = x1*weights[0] + x2*weights[1] + bias\n",
        "  if net_input >= 0:\n",
        "    return 1\n",
        "  else:\n",
        "    return -1\n",
        "result = {}\n",
        "for x1,x2 in inputs:\n",
        "  result[f\"AND({x1},{x2})\"] = perceptron_fun(x1,x2)\n",
        "print(result)"
      ],
      "metadata": {
        "id": "51YeWIGNjfVb",
        "colab": {
          "base_uri": "https://localhost:8080/"
        },
        "outputId": "61272941-28a9-4f9c-a27c-3786c08dd90d"
      },
      "execution_count": null,
      "outputs": [
        {
          "output_type": "stream",
          "name": "stdout",
          "text": [
            "{'AND(-1,-1)': -1, 'AND(-1,1)': -1, 'AND(1,-1)': -1, 'AND(1,1)': 1}\n"
          ]
        }
      ]
    },
    {
      "cell_type": "code",
      "source": [
        "import numpy as np\n",
        "inputs = np.array([[1,0,1,0],\n",
        "                   [1,0,0,1],\n",
        "                   [1,1,0,0],\n",
        "                   [0,1,1,0]])\n",
        "targets = np.array([[1,0],\n",
        "                    [1,0],\n",
        "                    [0,1],\n",
        "                    [0,1]])\n",
        "input_dim = inputs.shape[1]\n",
        "\n",
        "output_dim = targets.shape[1]\n",
        "weights = np.zeros((input_dim,output_dim))\n",
        "\n",
        "for i in range(len(inputs)):\n",
        "  input_vector = inputs[i]\n",
        "  target_vector = targets[i]\n",
        "  weights += np.outer(input_vector,target_vector)\n",
        "print(weights)\n"
      ],
      "metadata": {
        "id": "9PNRkQTcuiYc",
        "colab": {
          "base_uri": "https://localhost:8080/"
        },
        "outputId": "757c98e0-8b62-4035-ad3f-82400f294227"
      },
      "execution_count": null,
      "outputs": [
        {
          "output_type": "stream",
          "name": "stdout",
          "text": [
            "[[2. 1.]\n",
            " [0. 2.]\n",
            " [1. 1.]\n",
            " [1. 0.]]\n"
          ]
        }
      ]
    },
    {
      "cell_type": "code",
      "source": [],
      "metadata": {
        "id": "xeypF82kkhYQ"
      },
      "execution_count": null,
      "outputs": []
    }
  ]
}