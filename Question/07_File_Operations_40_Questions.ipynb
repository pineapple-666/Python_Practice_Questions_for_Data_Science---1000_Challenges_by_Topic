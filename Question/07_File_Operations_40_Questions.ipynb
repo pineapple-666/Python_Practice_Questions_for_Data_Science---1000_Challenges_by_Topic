{
 "cells": [
  {
   "cell_type": "markdown",
   "id": "4d01b1e2",
   "metadata": {},
   "source": [
    "## 1. 📄 Create and Write\n",
    "Write a program to create a file and write your name in it."
   ]
  },
  {
   "cell_type": "markdown",
   "id": "75909645",
   "metadata": {},
   "source": [
    "## 2. 📄 Read File Content\n",
    "Create a file with some text and write a program to read and display its contents."
   ]
  },
  {
   "cell_type": "markdown",
   "id": "3500a952",
   "metadata": {},
   "source": [
    "## 3. 📁 File Existence\n",
    "Write a program that checks whether a file exists or not."
   ]
  },
  {
   "cell_type": "markdown",
   "id": "05f9b355",
   "metadata": {},
   "source": [
    "## 4. ✍️ Append Content\n",
    "Write a program that appends a new line to an existing file."
   ]
  },
  {
   "cell_type": "markdown",
   "id": "efa1c7d3",
   "metadata": {},
   "source": [
    "## 5. 🔁 Line Count\n",
    "Write a function to count the number of lines in a file."
   ]
  },
  {
   "cell_type": "markdown",
   "id": "ae7e91b9",
   "metadata": {},
   "source": [
    "## 6. 🔍 Word Count\n",
    "Write a program to count the number of words in a file."
   ]
  },
  {
   "cell_type": "markdown",
   "id": "99c22628",
   "metadata": {},
   "source": [
    "## 7. 🔢 Character Count\n",
    "Write a program to count the number of characters in a file."
   ]
  },
  {
   "cell_type": "markdown",
   "id": "b3896641",
   "metadata": {},
   "source": [
    "## 8. 🔍 Specific Word Count\n",
    "Write a program that counts how many times a specific word appears in a file."
   ]
  },
  {
   "cell_type": "markdown",
   "id": "fcdb2950",
   "metadata": {},
   "source": [
    "## 9. 📄 Copy File\n",
    "Write a program that copies content from one file to another."
   ]
  },
  {
   "cell_type": "markdown",
   "id": "fa57e83d",
   "metadata": {},
   "source": [
    "## 10. 🔄 File Read Using Loop\n",
    "Write a program to read a file line by line using a loop."
   ]
  },
  {
   "cell_type": "markdown",
   "id": "f6a88f8a",
   "metadata": {},
   "source": [
    "## 11. 🔄 Reverse Content\n",
    "Write a program to read a file and print its content in reverse line order."
   ]
  },
  {
   "cell_type": "markdown",
   "id": "b4f4ed71",
   "metadata": {},
   "source": [
    "## 12. 🧪 Vowel Counter\n",
    "Write a program that counts the number of vowels in a text file."
   ]
  },
  {
   "cell_type": "markdown",
   "id": "8c400fd0",
   "metadata": {},
   "source": [
    "## 13. 🚫 Remove Blank Lines\n",
    "Write a program to remove all blank lines from a text file."
   ]
  },
  {
   "cell_type": "markdown",
   "id": "92600f3b",
   "metadata": {},
   "source": [
    "## 14. 📦 Extract Numbers\n",
    "Write a program to extract all numbers from a text file and print them."
   ]
  },
  {
   "cell_type": "markdown",
   "id": "48e9aff5",
   "metadata": {},
   "source": [
    "## 15. 📁 Create Multiple Files\n",
    "Write a program to create 3 files and write some content into each."
   ]
  },
  {
   "cell_type": "markdown",
   "id": "91184721",
   "metadata": {},
   "source": [
    "## 16. ⌛ File Created Time\n",
    "Write a program to find the creation and modification time of a file."
   ]
  },
  {
   "cell_type": "markdown",
   "id": "229d458d",
   "metadata": {},
   "source": [
    "## 17. 🔄 Merge Files\n",
    "Write a program to merge the contents of two files into a third file."
   ]
  },
  {
   "cell_type": "markdown",
   "id": "6bf3ce27",
   "metadata": {},
   "source": [
    "## 18. 📜 Word Frequency Dictionary\n",
    "Write a program to build a word frequency dictionary from a text file."
   ]
  },
  {
   "cell_type": "markdown",
   "id": "7b861e2c",
   "metadata": {},
   "source": [
    "## 19. 🔁 Replace Words\n",
    "Write a program to replace all occurrences of a word with another word in a file."
   ]
  },
  {
   "cell_type": "markdown",
   "id": "340e3afb",
   "metadata": {},
   "source": [
    "## 20. 🧹 Remove Punctuation\n",
    "Write a program to read a file and remove all punctuation characters."
   ]
  },
  {
   "cell_type": "markdown",
   "id": "e4635a75",
   "metadata": {},
   "source": [
    "## 21. 📤 Write List to File\n",
    "Write a program to write a list of strings to a file, one per line."
   ]
  },
  {
   "cell_type": "markdown",
   "id": "d3baf939",
   "metadata": {},
   "source": [
    "## 22. 📥 Read File to List\n",
    "Write a program to read file lines into a list."
   ]
  },
  {
   "cell_type": "markdown",
   "id": "7e8b75bc",
   "metadata": {},
   "source": [
    "## 23. 🔄 Read Last N Lines\n",
    "Write a program to read the last `n` lines of a file."
   ]
  },
  {
   "cell_type": "markdown",
   "id": "45c7c064",
   "metadata": {},
   "source": [
    "## 24. 🔁 Count Lines Starting with a Letter\n",
    "Count how many lines start with the letter 'A'."
   ]
  },
  {
   "cell_type": "markdown",
   "id": "22982463",
   "metadata": {},
   "source": [
    "## 25. 📁 File Extension Checker\n",
    "Write a function to find all `.txt` files in a directory."
   ]
  },
  {
   "cell_type": "markdown",
   "id": "0611e2cc",
   "metadata": {},
   "source": [
    "## 26. 📈 Write Numbers to File\n",
    "Write numbers 1 to 100 into a file, one number per line."
   ]
  },
  {
   "cell_type": "markdown",
   "id": "d093474f",
   "metadata": {},
   "source": [
    "## 27. 🗃️ Separate Even and Odd\n",
    "Read numbers from a file and separate them into two files: even.txt and odd.txt."
   ]
  },
  {
   "cell_type": "markdown",
   "id": "e8b0b54d",
   "metadata": {},
   "source": [
    "## 28. 🔐 File Encryption\n",
    "Write a basic program that encrypts file content using Caesar cipher."
   ]
  },
  {
   "cell_type": "markdown",
   "id": "16888d49",
   "metadata": {},
   "source": [
    "## 29. 🔐 File Decryption\n",
    "Write a program to decrypt a Caesar ciphered file."
   ]
  },
  {
   "cell_type": "markdown",
   "id": "3dba9e92",
   "metadata": {},
   "source": [
    "## 30. 📚 Line Length Filter\n",
    "Write a program to print only lines longer than 20 characters from a file."
   ]
  },
  {
   "cell_type": "markdown",
   "id": "1af47105",
   "metadata": {},
   "source": [
    "## 31. 📊 Create CSV File\n",
    "Write a program to create a CSV file containing student name and marks."
   ]
  },
  {
   "cell_type": "markdown",
   "id": "fe2dd6a6",
   "metadata": {},
   "source": [
    "## 32. 📊 Read CSV File\n",
    "Write a program to read and display data from a CSV file."
   ]
  },
  {
   "cell_type": "markdown",
   "id": "ed4ac7b6",
   "metadata": {},
   "source": [
    "## 33. 🧠 Student Grade Processor\n",
    "Read marks from a file and assign grades, then write grades to a new file."
   ]
  },
  {
   "cell_type": "markdown",
   "id": "a5b01a5c",
   "metadata": {},
   "source": [
    "## 34. 🧮 Average from File\n",
    "Write a program to compute the average of numbers present in a file."
   ]
  },
  {
   "cell_type": "markdown",
   "id": "d6e42656",
   "metadata": {},
   "source": [
    "## 35. 🔄 Convert Case\n",
    "Write a program to convert all file content to uppercase and write to a new file."
   ]
  },
  {
   "cell_type": "markdown",
   "id": "bc4eb508",
   "metadata": {},
   "source": [
    "## 36. 🔢 Count Digits and Letters\n",
    "Count number of digits and letters in a file."
   ]
  },
  {
   "cell_type": "markdown",
   "id": "2abff0b2",
   "metadata": {},
   "source": [
    "## 37. 🧠 Custom File Splitter\n",
    "Split a large file into multiple smaller files each containing 10 lines."
   ]
  },
  {
   "cell_type": "markdown",
   "id": "8a0a9b7f",
   "metadata": {},
   "source": [
    "## 38. 📦 JSON File Creator\n",
    "Create a Python dictionary and write it to a file in JSON format."
   ]
  },
  {
   "cell_type": "markdown",
   "id": "da535f71",
   "metadata": {},
   "source": [
    "## 39. 📥 JSON File Reader\n",
    "Read a JSON file and convert it to a Python dictionary."
   ]
  },
  {
   "cell_type": "markdown",
   "id": "01f55f0b",
   "metadata": {},
   "source": [
    "## 40. 🧠 Mini Project - Log Analyzer\n",
    "Write a program that analyzes a log file and extracts errors, warnings, and info messages into separate files."
   ]
  }
 ],
 "metadata": {},
 "nbformat": 4,
 "nbformat_minor": 5
}
