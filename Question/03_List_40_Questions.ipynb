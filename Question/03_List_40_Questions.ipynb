{
 "cells": [
  {
   "cell_type": "markdown",
   "id": "f029a585",
   "metadata": {},
   "source": [
    "## 1. 🛒 Create a Shopping List\n",
    "Ask the user to input 5 grocery items and store them in a list using `append()`. Print the list."
   ]
  },
  {
   "cell_type": "markdown",
   "id": "17fddd78",
   "metadata": {},
   "source": [
    "## 2. 📏 List Length Calculator\n",
    "Write a program that takes a list of cities and prints the number of cities using `len()`."
   ]
  },
  {
   "cell_type": "markdown",
   "id": "59e2fb54",
   "metadata": {},
   "source": [
    "## 3. 🌡️ Find Maximum Temperature\n",
    "Given a list of temperatures for a week, find the highest temperature using `max()`."
   ]
  },
  {
   "cell_type": "markdown",
   "id": "1828dbc1",
   "metadata": {},
   "source": [
    "## 4. 🔁 Convert Tuple to List\n",
    "Convert a tuple of vowels `('a', 'e', 'i', 'o', 'u')` into a list using `list()`."
   ]
  },
  {
   "cell_type": "markdown",
   "id": "d2b7fde0",
   "metadata": {},
   "source": [
    "## 5. 🧑‍🎓 Student Marks Sorter\n",
    "Sort a list of student marks in ascending order using `sort()` and print it."
   ]
  },
  {
   "cell_type": "markdown",
   "id": "34bccc66",
   "metadata": {},
   "source": [
    "## 6. 🧪 List Type Checker\n",
    "Create any list and use `type()` to check and print the data type of the list."
   ]
  },
  {
   "cell_type": "markdown",
   "id": "0d7fbe96",
   "metadata": {},
   "source": [
    "## 7. 🔍 Index Finder\n",
    "From a list of names, find the index of a specific name entered by the user using `index()`."
   ]
  },
  {
   "cell_type": "markdown",
   "id": "fb030f75",
   "metadata": {},
   "source": [
    "## 8. ➕ Append Elements Dynamically\n",
    "Ask the user how many numbers they want to enter, and then append those to a list."
   ]
  },
  {
   "cell_type": "markdown",
   "id": "be1b8078",
   "metadata": {},
   "source": [
    "## 9. 🔢 Count Occurrences\n",
    "Count how many times a specific number appears in a given list using `count()`."
   ]
  },
  {
   "cell_type": "markdown",
   "id": "9fd408b5",
   "metadata": {},
   "source": [
    "## 10. 📚 Copy a List\n",
    "Create a list of books and copy it using `copy()`. Show both lists."
   ]
  },
  {
   "cell_type": "markdown",
   "id": "575965fe",
   "metadata": {},
   "source": [
    "## 11. 🧮 Filter Even Numbers\n",
    "Use `filter()` and a lambda function to extract all even numbers from a list."
   ]
  },
  {
   "cell_type": "markdown",
   "id": "ca449ef6",
   "metadata": {},
   "source": [
    "## 12. 📘 Extend List with Subjects\n",
    "Add multiple subjects to a student’s subject list using `extend()`."
   ]
  },
  {
   "cell_type": "markdown",
   "id": "47e29d2a",
   "metadata": {},
   "source": [
    "## 13. ↪️ Insert Element at Specific Position\n",
    "Insert an item into a list at the 3rd position using `insert()`."
   ]
  },
  {
   "cell_type": "markdown",
   "id": "16dcf232",
   "metadata": {},
   "source": [
    "## 14. 🧹 Remove All Items\n",
    "Clear a to-do list using `clear()` and show the result."
   ]
  },
  {
   "cell_type": "markdown",
   "id": "5ad067b5",
   "metadata": {},
   "source": [
    "## 15. 📤 Pop Last Element\n",
    "Create a stack and simulate popping the top element using `pop()`."
   ]
  },
  {
   "cell_type": "markdown",
   "id": "194e2a66",
   "metadata": {},
   "source": [
    "## 16. ❌ Delete First Occurrence\n",
    "Remove the first occurrence of the number 7 from a list using `remove()`."
   ]
  },
  {
   "cell_type": "markdown",
   "id": "df03310b",
   "metadata": {},
   "source": [
    "## 17. 🔄 Reverse a Playlist\n",
    "Reverse a list of songs using `reverse()` and print the original and reversed list."
   ]
  },
  {
   "cell_type": "markdown",
   "id": "45b4402f",
   "metadata": {},
   "source": [
    "## 18. 🥇 Minimum Score in Class\n",
    "Input a list of scores and print the minimum using `min()`."
   ]
  },
  {
   "cell_type": "markdown",
   "id": "8d59b711",
   "metadata": {},
   "source": [
    "## 19. 🔠 Sort a List of Words\n",
    "Sort a list of random words in alphabetical order using `sort()`."
   ]
  },
  {
   "cell_type": "markdown",
   "id": "0ea7ae3d",
   "metadata": {},
   "source": [
    "## 20. ⚖️ Compare Two Lists\n",
    "Write a function to compare two lists and return whether they are the same or not."
   ]
  },
  {
   "cell_type": "markdown",
   "id": "92464297",
   "metadata": {},
   "source": [
    "## 21. 📏 Custom Sort by Length\n",
    "Given a list of words, sort them by their length."
   ]
  },
  {
   "cell_type": "markdown",
   "id": "13c49920",
   "metadata": {},
   "source": [
    "## 22. 👩‍🏫 Insert Attendance Status\n",
    "Insert 'Present' or 'Absent' into an attendance list for 5 students using `insert()`."
   ]
  },
  {
   "cell_type": "markdown",
   "id": "a3da3af1",
   "metadata": {},
   "source": [
    "## 23. 🧭 Search for Element\n",
    "Check whether an input number exists in a list and print its index if found."
   ]
  },
  {
   "cell_type": "markdown",
   "id": "31011724",
   "metadata": {},
   "source": [
    "## 24. 🔗 Merge Two Lists\n",
    "Merge two lists using both `+` operator and `extend()` method. Compare results."
   ]
  },
  {
   "cell_type": "markdown",
   "id": "6a9e1a92",
   "metadata": {},
   "source": [
    "## 25. 🔁 Generate Multiples of 3\n",
    "Generate a list of the first 10 multiples of 3 and reverse the list."
   ]
  },
  {
   "cell_type": "markdown",
   "id": "6bffdf94",
   "metadata": {},
   "source": [
    "## 26. 📧 Unique Email Collector\n",
    "Ask users to enter 10 emails. Filter and store only the unique ones using list operations."
   ]
  },
  {
   "cell_type": "markdown",
   "id": "7bf08b80",
   "metadata": {},
   "source": [
    "## 27. 🏆 Top 3 Marks Filter\n",
    "Given a list of marks, sort and print the top 3 highest using slicing and `sort()`."
   ]
  },
  {
   "cell_type": "markdown",
   "id": "2328801e",
   "metadata": {},
   "source": [
    "## 28. 🗑️ Remove Duplicates\n",
    "Remove duplicates from a list manually (without using `set()`)."
   ]
  },
  {
   "cell_type": "markdown",
   "id": "5ec1f162",
   "metadata": {},
   "source": [
    "## 29. 🗳️ Voting Age Validator\n",
    "From a list of ages, filter out people eligible to vote (age ≥ 18) using `filter()`."
   ]
  },
  {
   "cell_type": "markdown",
   "id": "11da1bf7",
   "metadata": {},
   "source": [
    "## 30. 📦 Flatten Nested List\n",
    "Given a nested list `[[1,2], [3,4], [5]]`, flatten it into `[1,2,3,4,5]`."
   ]
  },
  {
   "cell_type": "markdown",
   "id": "3349511e",
   "metadata": {},
   "source": [
    "## 31. 👥 Find Common Elements\n",
    "Find common students in two different classes using list operations."
   ]
  },
  {
   "cell_type": "markdown",
   "id": "e250ece0",
   "metadata": {},
   "source": [
    "## 32. 🧮 Calculate Average from List\n",
    "Ask user to input numbers into a list. Calculate and print average."
   ]
  },
  {
   "cell_type": "markdown",
   "id": "4a49c8fd",
   "metadata": {},
   "source": [
    "## 33. 👫 Split Names by Gender\n",
    "From a list of names and gender tags, split them into male and female lists."
   ]
  },
  {
   "cell_type": "markdown",
   "id": "3df6af91",
   "metadata": {},
   "source": [
    "## 34. 🎓 Remove Failing Students\n",
    "From a list of marks, remove all entries below 33."
   ]
  },
  {
   "cell_type": "markdown",
   "id": "78fc58b6",
   "metadata": {},
   "source": [
    "## 35. 🧠 Filter Based on Condition\n",
    "Filter students whose names start with a vowel from a list of names."
   ]
  },
  {
   "cell_type": "markdown",
   "id": "473e3c5f",
   "metadata": {},
   "source": [
    "## 36. 📊 Student Gradebook App\n",
    "Store student names and marks in a list. Print name, mark, and grade (A/B/C) for each."
   ]
  },
  {
   "cell_type": "markdown",
   "id": "db907fef",
   "metadata": {},
   "source": [
    "## 37. 📅 Daily Planner\n",
    "Create a weekly planner. Let the user add, remove, and view tasks using list operations."
   ]
  },
  {
   "cell_type": "markdown",
   "id": "3f4cde02",
   "metadata": {},
   "source": [
    "## 38. 🎬 Movie Watchlist\n",
    "Create a watchlist with `append()`, mark movies as watched using `remove()`, and display the list."
   ]
  },
  {
   "cell_type": "markdown",
   "id": "620ee0fe",
   "metadata": {},
   "source": [
    "## 39. 🧹 Email Cleaner\n",
    "Input a list of emails, remove duplicates, remove any containing 'spam', and print the cleaned list."
   ]
  },
  {
   "cell_type": "markdown",
   "id": "be76b02d",
   "metadata": {},
   "source": [
    "## 40. 🏥 Patient Record System\n",
    "Each patient has `[name, place, email, age]`. Store multiple patients and retrieve a patient's name & age by index."
   ]
  }
 ],
 "metadata": {},
 "nbformat": 4,
 "nbformat_minor": 5
}
