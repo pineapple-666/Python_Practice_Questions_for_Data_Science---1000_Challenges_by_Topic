{
 "cells": [
  {
   "cell_type": "markdown",
   "id": "f4760ee0",
   "metadata": {},
   "source": [
    "## 1. 🧱 Create a Simple Class\n",
    "Create a class `Car` with attributes `brand`, `model`, and a method to display them."
   ]
  },
  {
   "cell_type": "markdown",
   "id": "8225163e",
   "metadata": {},
   "source": [
    "## 2. 🔁 Class Initialization\n",
    "Add an `__init__()` method to the `Car` class and initialize attributes using it."
   ]
  },
  {
   "cell_type": "markdown",
   "id": "3ce5cda0",
   "metadata": {},
   "source": [
    "## 3. ⚙️ Object Creation\n",
    "Create two objects from the `Car` class and display their data using a method."
   ]
  },
  {
   "cell_type": "markdown",
   "id": "3bfb839a",
   "metadata": {},
   "source": [
    "## 4. 🧠 Class with Default Parameters\n",
    "Create a class with default values and show how to override them."
   ]
  },
  {
   "cell_type": "markdown",
   "id": "36a73fd0",
   "metadata": {},
   "source": [
    "## 5. 🎯 Add Method to Modify Attribute\n",
    "Add a method in class to update the model name of a car."
   ]
  },
  {
   "cell_type": "markdown",
   "id": "bde5c12a",
   "metadata": {},
   "source": [
    "## 6. ✅ Class Method with Return Value\n",
    "Write a class method that returns a formatted string of the object’s data."
   ]
  },
  {
   "cell_type": "markdown",
   "id": "cced2dd7",
   "metadata": {},
   "source": [
    "## 7. 🔄 Class with Loop\n",
    "Create a class `Student` that takes name and marks for 3 subjects and returns average."
   ]
  },
  {
   "cell_type": "markdown",
   "id": "23129ef9",
   "metadata": {},
   "source": [
    "## 8. 📦 Private Attributes\n",
    "Make attributes private and use getters and setters to access them."
   ]
  },
  {
   "cell_type": "markdown",
   "id": "5dadea15",
   "metadata": {},
   "source": [
    "## 9. 🏗 Constructor Overloading (Simulated)\n",
    "Use default arguments in `__init__` to simulate constructor overloading."
   ]
  },
  {
   "cell_type": "markdown",
   "id": "86720abb",
   "metadata": {},
   "source": [
    "## 10. 🧱 Add Static Method\n",
    "Add a static method in a class that returns the class name as a string."
   ]
  },
  {
   "cell_type": "markdown",
   "id": "34976084",
   "metadata": {},
   "source": [
    "## 11. 🔗 Inheritance Example\n",
    "Create a base class `Person` and subclass `Employee` that inherits from it."
   ]
  },
  {
   "cell_type": "markdown",
   "id": "49c14082",
   "metadata": {},
   "source": [
    "## 12. 🧠 Method Overriding\n",
    "Override a method in child class to modify its behavior."
   ]
  },
  {
   "cell_type": "markdown",
   "id": "7b5b1931",
   "metadata": {},
   "source": [
    "## 13. 📚 Multiple Inheritance\n",
    "Create a class using multiple inheritance and show access to both parent attributes."
   ]
  },
  {
   "cell_type": "markdown",
   "id": "b2a2e87f",
   "metadata": {},
   "source": [
    "## 14. 🔧 Use of `super()`\n",
    "Use `super()` in a child class to call the parent class's constructor."
   ]
  },
  {
   "cell_type": "markdown",
   "id": "1125df8e",
   "metadata": {},
   "source": [
    "## 15. 💼 Real-World Class Design\n",
    "Design a class `BankAccount` with deposit, withdraw, and balance check methods."
   ]
  },
  {
   "cell_type": "markdown",
   "id": "7261b534",
   "metadata": {},
   "source": [
    "## 16. 🔢 Class with Auto-ID\n",
    "Create a class where every object gets a unique ID automatically."
   ]
  },
  {
   "cell_type": "markdown",
   "id": "3dbb502b",
   "metadata": {},
   "source": [
    "## 17. 🛒 Shopping Cart Mini Project\n",
    "Create a `Cart` class that allows adding/removing items and checking total cost."
   ]
  },
  {
   "cell_type": "markdown",
   "id": "f356d326",
   "metadata": {},
   "source": [
    "## 18. 📈 Employee Class Analysis\n",
    "Create an employee class and calculate average salary using class variables."
   ]
  },
  {
   "cell_type": "markdown",
   "id": "beab32cc",
   "metadata": {},
   "source": [
    "## 19. 🧪 Class Comparison Method\n",
    "Implement `__eq__` and `__gt__` in a class to compare objects based on values."
   ]
  },
  {
   "cell_type": "markdown",
   "id": "ceb68dd9",
   "metadata": {},
   "source": [
    "## 20. 🔁 Class List Operations\n",
    "Create a list of class objects and loop through to display filtered data."
   ]
  },
  {
   "cell_type": "markdown",
   "id": "3204fa49",
   "metadata": {},
   "source": [
    "## 21. 📦 Create a Module\n",
    "Create a simple module `math_utils.py` with add, subtract, multiply, and divide functions."
   ]
  },
  {
   "cell_type": "markdown",
   "id": "147f9e4e",
   "metadata": {},
   "source": [
    "## 22. 🧠 Import Custom Module\n",
    "Create another file to import and use the functions from your custom module."
   ]
  },
  {
   "cell_type": "markdown",
   "id": "49a558d7",
   "metadata": {},
   "source": [
    "## 23. 📦 Module with Class\n",
    "Add a class in your module and import that class in another script."
   ]
  },
  {
   "cell_type": "markdown",
   "id": "ed5d4e11",
   "metadata": {},
   "source": [
    "## 24. 🔄 Use `dir()` with Module\n",
    "Use `dir()` function to list available functions in a module."
   ]
  },
  {
   "cell_type": "markdown",
   "id": "b0985adb",
   "metadata": {},
   "source": [
    "## 25. 📂 Create a Package\n",
    "Create a package `tools` with modules `math_utils` and `string_utils`."
   ]
  },
  {
   "cell_type": "markdown",
   "id": "a00ff304",
   "metadata": {},
   "source": [
    "## 26. 🧪 Init File in Package\n",
    "Explain the use of `__init__.py` in a package. Create a demo file."
   ]
  },
  {
   "cell_type": "markdown",
   "id": "ce9a2c9a",
   "metadata": {},
   "source": [
    "## 27. 📥 Import from Package\n",
    "Import and use functions from `tools.math_utils` module."
   ]
  },
  {
   "cell_type": "markdown",
   "id": "4406d6ed",
   "metadata": {},
   "source": [
    "## 28. 🧰 Package for File Utilities\n",
    "Create a package with a module to handle file reading, writing, and validation."
   ]
  },
  {
   "cell_type": "markdown",
   "id": "e35f6a66",
   "metadata": {},
   "source": [
    "## 29. 📦 Reusable Utility Package\n",
    "Design a reusable Python package with utility functions for a data science project."
   ]
  },
  {
   "cell_type": "markdown",
   "id": "f342f0bb",
   "metadata": {},
   "source": [
    "## 30. 🧱 Nested Package Structure\n",
    "Create a nested package with subfolders and test importing from the nested module."
   ]
  },
  {
   "cell_type": "markdown",
   "id": "9612a76f",
   "metadata": {},
   "source": [
    "## 31. 🔍 Explore Built-in Modules\n",
    "Use Python's `random` and `math` module in a practical program."
   ]
  },
  {
   "cell_type": "markdown",
   "id": "6737f53f",
   "metadata": {},
   "source": [
    "## 32. 📦 Create Your Own Logging Module\n",
    "Write a module `logger.py` that logs error/info messages into a file."
   ]
  },
  {
   "cell_type": "markdown",
   "id": "6b925d1c",
   "metadata": {},
   "source": [
    "## 33. 🔄 Reload a Module\n",
    "Use `importlib.reload()` to reload a module after making changes."
   ]
  },
  {
   "cell_type": "markdown",
   "id": "d2404f5f",
   "metadata": {},
   "source": [
    "## 34. 🧠 Conditional Module Execution\n",
    "Explain and implement the use of `if __name__ == '__main__':` in a module."
   ]
  },
  {
   "cell_type": "markdown",
   "id": "5a01c347",
   "metadata": {},
   "source": [
    "## 35. 🧪 Create Test Module\n",
    "Create a module and write a test file that imports and tests its functions."
   ]
  },
  {
   "cell_type": "markdown",
   "id": "660977b6",
   "metadata": {},
   "source": [
    "## 36. 📜 Use of `__all__` in Module\n",
    "Create a module with multiple functions and control what to export using `__all__`."
   ]
  },
  {
   "cell_type": "markdown",
   "id": "9c334e1b",
   "metadata": {},
   "source": [
    "## 37. 📂 Package Installation Guide\n",
    "Write a README-style explanation of how to install and use your package locally."
   ]
  },
  {
   "cell_type": "markdown",
   "id": "e314de7c",
   "metadata": {},
   "source": [
    "## 38. 📁 Distribute Your Package\n",
    "Create a setup script (`setup.py`) to prepare your package for distribution."
   ]
  },
  {
   "cell_type": "markdown",
   "id": "4950d09b",
   "metadata": {},
   "source": [
    "## 39. 🧠 Mini Project - Calculator Module\n",
    "Build a calculator module with multiple operations and import it for use."
   ]
  },
  {
   "cell_type": "markdown",
   "id": "f70151a8",
   "metadata": {},
   "source": [
    "## 40. 🧠 Mini Project - Student Record System\n",
    "Build a package with modules for managing student data, marks, and reports."
   ]
  }
 ],
 "metadata": {},
 "nbformat": 4,
 "nbformat_minor": 5
}
