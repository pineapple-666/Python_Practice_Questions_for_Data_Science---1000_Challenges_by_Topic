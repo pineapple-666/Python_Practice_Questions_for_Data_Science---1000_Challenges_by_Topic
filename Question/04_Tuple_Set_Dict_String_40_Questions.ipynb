{
 "cells": [
  {
   "cell_type": "markdown",
   "id": "db4663bb",
   "metadata": {},
   "source": [
    "## 1. 📦 Create a Tuple\n",
    "Store 5 fruit names in a tuple and print it."
   ]
  },
  {
   "cell_type": "code",
   "execution_count": null,
   "id": "8cdf37db",
   "metadata": {},
   "outputs": [],
   "source": [
    "# Write your code here"
   ]
  },
  {
   "cell_type": "markdown",
   "id": "1f9c84a9",
   "metadata": {},
   "source": [
    "## 2. 🔁 Tuple Repetition\n",
    "Repeat a tuple `(1, 2, 3)` three times and print the result."
   ]
  },
  {
   "cell_type": "code",
   "execution_count": null,
   "id": "a31eba9d",
   "metadata": {},
   "outputs": [],
   "source": [
    "# Write your code here"
   ]
  },
  {
   "cell_type": "markdown",
   "id": "f3d03ef0",
   "metadata": {},
   "source": [
    "## 3. 📐 Tuple Slicing\n",
    "Given a tuple of 10 elements, slice and print the middle 4 elements."
   ]
  },
  {
   "cell_type": "code",
   "execution_count": null,
   "id": "570273dc",
   "metadata": {},
   "outputs": [],
   "source": [
    "# Write your code here"
   ]
  },
  {
   "cell_type": "markdown",
   "id": "67f21789",
   "metadata": {},
   "source": [
    "## 4. ➕ Tuple Concatenation\n",
    "Concatenate two tuples and print the result."
   ]
  },
  {
   "cell_type": "code",
   "execution_count": null,
   "id": "24258e1f",
   "metadata": {},
   "outputs": [],
   "source": [
    "# Write your code here"
   ]
  },
  {
   "cell_type": "markdown",
   "id": "16c0248d",
   "metadata": {},
   "source": [
    "## 5. 🔍 Check Value in Tuple\n",
    "Check if 'apple' exists in the tuple of fruits."
   ]
  },
  {
   "cell_type": "code",
   "execution_count": null,
   "id": "aa8d5420",
   "metadata": {},
   "outputs": [],
   "source": [
    "# Write your code here"
   ]
  },
  {
   "cell_type": "markdown",
   "id": "86360664",
   "metadata": {},
   "source": [
    "## 6. 🧠 Tuple to List Conversion\n",
    "Convert a tuple to a list, modify the list, and convert back to a tuple."
   ]
  },
  {
   "cell_type": "code",
   "execution_count": null,
   "id": "0b0804ba",
   "metadata": {},
   "outputs": [],
   "source": [
    "# Write your code here"
   ]
  },
  {
   "cell_type": "markdown",
   "id": "271a4b7f",
   "metadata": {},
   "source": [
    "## 7. 📚 Tuple Unpacking\n",
    "Unpack a tuple with 3 items into 3 variables and print them."
   ]
  },
  {
   "cell_type": "code",
   "execution_count": null,
   "id": "b6c52b24",
   "metadata": {},
   "outputs": [],
   "source": [
    "# Write your code here"
   ]
  },
  {
   "cell_type": "markdown",
   "id": "e81eab65",
   "metadata": {},
   "source": [
    "## 8. 📏 Count in Tuple\n",
    "Count how many times 5 appears in the tuple `(5, 2, 3, 5, 1, 5)`."
   ]
  },
  {
   "cell_type": "code",
   "execution_count": null,
   "id": "45f859f1",
   "metadata": {},
   "outputs": [],
   "source": [
    "# Write your code here"
   ]
  },
  {
   "cell_type": "markdown",
   "id": "cf2dc7b2",
   "metadata": {},
   "source": [
    "## 9. 🆚 Compare Two Tuples\n",
    "Write a program to compare two tuples and print whether they are equal."
   ]
  },
  {
   "cell_type": "code",
   "execution_count": null,
   "id": "dc0b2815",
   "metadata": {},
   "outputs": [],
   "source": [
    "# Write your code here"
   ]
  },
  {
   "cell_type": "markdown",
   "id": "3da4580c",
   "metadata": {},
   "source": [
    "## 10. 🔁 Reverse a Tuple\n",
    "Reverse the elements in a tuple using slicing."
   ]
  },
  {
   "cell_type": "code",
   "execution_count": null,
   "id": "7bb2e3db",
   "metadata": {},
   "outputs": [],
   "source": [
    "# Write your code here"
   ]
  },
  {
   "cell_type": "markdown",
   "id": "fef995eb",
   "metadata": {},
   "source": [
    "## 11. 📋 Create and Print Set\n",
    "Create a set of unique city names and print it."
   ]
  },
  {
   "cell_type": "code",
   "execution_count": null,
   "id": "31c69b43",
   "metadata": {},
   "outputs": [],
   "source": [
    "# Write your code here"
   ]
  },
  {
   "cell_type": "markdown",
   "id": "f1ba17e9",
   "metadata": {},
   "source": [
    "## 12. ➕ Add to Set\n",
    "Add an element to the set using `add()` and print the updated set."
   ]
  },
  {
   "cell_type": "code",
   "execution_count": null,
   "id": "c7fee01e",
   "metadata": {},
   "outputs": [],
   "source": [
    "# Write your code here"
   ]
  },
  {
   "cell_type": "markdown",
   "id": "fa683cd1",
   "metadata": {},
   "source": [
    "## 13. ➕➕ Update Set\n",
    "Add multiple elements to the set using `update()`."
   ]
  },
  {
   "cell_type": "code",
   "execution_count": null,
   "id": "ac824eeb",
   "metadata": {},
   "outputs": [],
   "source": [
    "# Write your code here"
   ]
  },
  {
   "cell_type": "markdown",
   "id": "c36bd803",
   "metadata": {},
   "source": [
    "## 14. ❌ Remove from Set\n",
    "Remove an element from the set using `remove()` or `discard()`."
   ]
  },
  {
   "cell_type": "code",
   "execution_count": null,
   "id": "bb4b20f3",
   "metadata": {},
   "outputs": [],
   "source": [
    "# Write your code here"
   ]
  },
  {
   "cell_type": "markdown",
   "id": "056c59be",
   "metadata": {},
   "source": [
    "## 15. 🔁 Set Operations\n",
    "Given two sets of numbers, perform union, intersection, and difference."
   ]
  },
  {
   "cell_type": "code",
   "execution_count": null,
   "id": "2b246c49",
   "metadata": {},
   "outputs": [],
   "source": [
    "# Write your code here"
   ]
  },
  {
   "cell_type": "markdown",
   "id": "e1bb479a",
   "metadata": {},
   "source": [
    "## 16. 📤 Pop from Set\n",
    "Use `pop()` to remove a random element from a set and print it."
   ]
  },
  {
   "cell_type": "code",
   "execution_count": null,
   "id": "9c7b7440",
   "metadata": {},
   "outputs": [],
   "source": [
    "# Write your code here"
   ]
  },
  {
   "cell_type": "markdown",
   "id": "9048ca48",
   "metadata": {},
   "source": [
    "## 17. 🔍 Membership Test\n",
    "Check if 'Delhi' is in the set of cities."
   ]
  },
  {
   "cell_type": "code",
   "execution_count": null,
   "id": "2188fcf1",
   "metadata": {},
   "outputs": [],
   "source": [
    "# Write your code here"
   ]
  },
  {
   "cell_type": "markdown",
   "id": "24f0ec63",
   "metadata": {},
   "source": [
    "## 18. 🧹 Clear a Set\n",
    "Clear all elements from a set and show the empty set."
   ]
  },
  {
   "cell_type": "code",
   "execution_count": null,
   "id": "353d14c8",
   "metadata": {},
   "outputs": [],
   "source": [
    "# Write your code here"
   ]
  },
  {
   "cell_type": "markdown",
   "id": "1f907a97",
   "metadata": {},
   "source": [
    "## 19. ♻️ Convert List to Set\n",
    "Convert a list with duplicate numbers into a set and print it."
   ]
  },
  {
   "cell_type": "code",
   "execution_count": null,
   "id": "34e48b99",
   "metadata": {},
   "outputs": [],
   "source": [
    "# Write your code here"
   ]
  },
  {
   "cell_type": "markdown",
   "id": "2b32b3ca",
   "metadata": {},
   "source": [
    "## 20. 🚫 Set of Immutable Elements\n",
    "Create a set of tuples and try to add a list. Handle the error."
   ]
  },
  {
   "cell_type": "code",
   "execution_count": null,
   "id": "417c8272",
   "metadata": {},
   "outputs": [],
   "source": [
    "# Write your code here"
   ]
  },
  {
   "cell_type": "markdown",
   "id": "82dade29",
   "metadata": {},
   "source": [
    "## 21. 📖 Create a Dictionary\n",
    "Create a dictionary to store student names and their grades."
   ]
  },
  {
   "cell_type": "code",
   "execution_count": null,
   "id": "b8f1653f",
   "metadata": {},
   "outputs": [],
   "source": [
    "# Write your code here"
   ]
  },
  {
   "cell_type": "markdown",
   "id": "101b9405",
   "metadata": {},
   "source": [
    "## 22. 🔍 Access Dictionary Value\n",
    "Access the grade of a student using their name (key)."
   ]
  },
  {
   "cell_type": "code",
   "execution_count": null,
   "id": "9c3128ee",
   "metadata": {},
   "outputs": [],
   "source": [
    "# Write your code here"
   ]
  },
  {
   "cell_type": "markdown",
   "id": "73fe3ab5",
   "metadata": {},
   "source": [
    "## 23. 🆕 Add Dictionary Item\n",
    "Add a new student and grade to the dictionary."
   ]
  },
  {
   "cell_type": "code",
   "execution_count": null,
   "id": "e78e7782",
   "metadata": {},
   "outputs": [],
   "source": [
    "# Write your code here"
   ]
  },
  {
   "cell_type": "markdown",
   "id": "06ddbf7d",
   "metadata": {},
   "source": [
    "## 24. 🔁 Loop through Dictionary\n",
    "Loop through the dictionary and print all student names and their grades."
   ]
  },
  {
   "cell_type": "code",
   "execution_count": null,
   "id": "0f0f6674",
   "metadata": {},
   "outputs": [],
   "source": [
    "# Write your code here"
   ]
  },
  {
   "cell_type": "markdown",
   "id": "6940201e",
   "metadata": {},
   "source": [
    "## 25. 🧹 Remove Dictionary Entry\n",
    "Remove a student from the dictionary using `pop()`."
   ]
  },
  {
   "cell_type": "code",
   "execution_count": null,
   "id": "54344189",
   "metadata": {},
   "outputs": [],
   "source": [
    "# Write your code here"
   ]
  },
  {
   "cell_type": "markdown",
   "id": "3bb57fbf",
   "metadata": {},
   "source": [
    "## 26. 🧪 Check Key Existence\n",
    "Check if a student name exists in the dictionary."
   ]
  },
  {
   "cell_type": "code",
   "execution_count": null,
   "id": "e55ab1d2",
   "metadata": {},
   "outputs": [],
   "source": [
    "# Write your code here"
   ]
  },
  {
   "cell_type": "markdown",
   "id": "2c342ae0",
   "metadata": {},
   "source": [
    "## 27. 🔁 Dictionary from List\n",
    "Convert a list of tuples into a dictionary: `[('a',1), ('b',2)]`."
   ]
  },
  {
   "cell_type": "code",
   "execution_count": null,
   "id": "03aa0d1e",
   "metadata": {},
   "outputs": [],
   "source": [
    "# Write your code here"
   ]
  },
  {
   "cell_type": "markdown",
   "id": "d1ca3eef",
   "metadata": {},
   "source": [
    "## 28. 🔄 Swap Keys and Values\n",
    "Swap keys and values in a dictionary. Assume values are unique."
   ]
  },
  {
   "cell_type": "code",
   "execution_count": null,
   "id": "6c3f96c1",
   "metadata": {},
   "outputs": [],
   "source": [
    "# Write your code here"
   ]
  },
  {
   "cell_type": "markdown",
   "id": "16c1b15f",
   "metadata": {},
   "source": [
    "## 29. 📏 Dictionary Length\n",
    "Print the number of students in the dictionary using `len()`."
   ]
  },
  {
   "cell_type": "code",
   "execution_count": null,
   "id": "444d1034",
   "metadata": {},
   "outputs": [],
   "source": [
    "# Write your code here"
   ]
  },
  {
   "cell_type": "markdown",
   "id": "3da442a7",
   "metadata": {},
   "source": [
    "## 30. 📚 Merge Two Dictionaries\n",
    "Merge two dictionaries of marks and print the updated dictionary."
   ]
  },
  {
   "cell_type": "code",
   "execution_count": null,
   "id": "eeb20cfb",
   "metadata": {},
   "outputs": [],
   "source": [
    "# Write your code here"
   ]
  },
  {
   "cell_type": "markdown",
   "id": "2f5d624a",
   "metadata": {},
   "source": [
    "## 31. ✍️ String Reversal\n",
    "Reverse a user-input string using slicing."
   ]
  },
  {
   "cell_type": "code",
   "execution_count": null,
   "id": "989400ec",
   "metadata": {},
   "outputs": [],
   "source": [
    "# Write your code here"
   ]
  },
  {
   "cell_type": "markdown",
   "id": "77eb8070",
   "metadata": {},
   "source": [
    "## 32. 🔠 Capitalize Words\n",
    "Capitalize the first letter of each word in a sentence."
   ]
  },
  {
   "cell_type": "code",
   "execution_count": null,
   "id": "408f9514",
   "metadata": {},
   "outputs": [],
   "source": [
    "# Write your code here"
   ]
  },
  {
   "cell_type": "markdown",
   "id": "bd5ad465",
   "metadata": {},
   "source": [
    "## 33. 🔤 Count Characters\n",
    "Count vowels, consonants, digits and spaces in a sentence."
   ]
  },
  {
   "cell_type": "code",
   "execution_count": null,
   "id": "23657b9f",
   "metadata": {},
   "outputs": [],
   "source": [
    "# Write your code here"
   ]
  },
  {
   "cell_type": "markdown",
   "id": "b3889f2d",
   "metadata": {},
   "source": [
    "## 34. 🧽 Strip Extra Spaces\n",
    "Remove leading, trailing and extra internal spaces using `strip()` and `split()`."
   ]
  },
  {
   "cell_type": "code",
   "execution_count": null,
   "id": "a5a67e94",
   "metadata": {},
   "outputs": [],
   "source": [
    "# Write your code here"
   ]
  },
  {
   "cell_type": "markdown",
   "id": "f65f3f67",
   "metadata": {},
   "source": [
    "## 35. 🪓 Slice and Extract\n",
    "Print the first 3 and last 3 characters of a string."
   ]
  },
  {
   "cell_type": "code",
   "execution_count": null,
   "id": "91ee0d61",
   "metadata": {},
   "outputs": [],
   "source": [
    "# Write your code here"
   ]
  },
  {
   "cell_type": "markdown",
   "id": "386cef26",
   "metadata": {},
   "source": [
    "## 36. 🔍 Find and Replace\n",
    "Find a word in a string and replace it with another."
   ]
  },
  {
   "cell_type": "code",
   "execution_count": null,
   "id": "3a0f8f4b",
   "metadata": {},
   "outputs": [],
   "source": [
    "# Write your code here"
   ]
  },
  {
   "cell_type": "markdown",
   "id": "9dd802c0",
   "metadata": {},
   "source": [
    "## 37. 🔁 Palindrome Checker\n",
    "Check whether a given string is a palindrome."
   ]
  },
  {
   "cell_type": "code",
   "execution_count": null,
   "id": "595ffe53",
   "metadata": {},
   "outputs": [],
   "source": [
    "# Write your code here"
   ]
  },
  {
   "cell_type": "markdown",
   "id": "4edf5a9c",
   "metadata": {},
   "source": [
    "## 38. 🆚 Compare Strings\n",
    "Take two strings and compare if they are equal (case insensitive)."
   ]
  },
  {
   "cell_type": "code",
   "execution_count": null,
   "id": "f8980221",
   "metadata": {},
   "outputs": [],
   "source": [
    "# Write your code here"
   ]
  },
  {
   "cell_type": "markdown",
   "id": "df70d3ea",
   "metadata": {},
   "source": [
    "## 39. 📚 Word Frequency Counter\n",
    "Count how many times each word appears in a sentence."
   ]
  },
  {
   "cell_type": "code",
   "execution_count": null,
   "id": "b7a7b47c",
   "metadata": {},
   "outputs": [],
   "source": [
    "# Write your code here"
   ]
  },
  {
   "cell_type": "markdown",
   "id": "b70dd185",
   "metadata": {},
   "source": [
    "## 40. 📝 Basic Text Analyzer\n",
    "Create a small text analyzer that counts lines, words, characters in a paragraph."
   ]
  },
  {
   "cell_type": "code",
   "execution_count": null,
   "id": "80ad0229",
   "metadata": {},
   "outputs": [],
   "source": [
    "# Write your code here"
   ]
  }
 ],
 "metadata": {},
 "nbformat": 4,
 "nbformat_minor": 5
}
