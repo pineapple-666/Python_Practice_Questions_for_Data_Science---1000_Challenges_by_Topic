{
 "cells": [
  {
   "cell_type": "markdown",
   "id": "a83b9668",
   "metadata": {},
   "source": [
    "1. **Sum of Two Numbers**\n",
    "\n",
    "Write a program to input two integers from the user and print their sum."
   ]
  },
  {
   "cell_type": "markdown",
   "id": "205e8284",
   "metadata": {},
   "source": [
    "2. **Simple Interest Calculator**\n",
    "\n",
    "Take input for principal, rate, and time. Calculate and print simple interest."
   ]
  },
  {
   "cell_type": "markdown",
   "id": "14a03ae5",
   "metadata": {},
   "source": [
    "3. **Convert Celsius to Fahrenheit**\n",
    "\n",
    "Take a temperature in Celsius and convert it to Fahrenheit using arithmetic operations."
   ]
  },
  {
   "cell_type": "markdown",
   "id": "094b3df6",
   "metadata": {},
   "source": [
    "4. **Data Type Detector**\n",
    "\n",
    "Take a user input and display whether it is an `int`, `float`, or `str`."
   ]
  },
  {
   "cell_type": "markdown",
   "id": "07491b8c",
   "metadata": {},
   "source": [
    "5. **Area of a Circle**\n",
    "\n",
    "Input the radius of a circle. Calculate and print its area using `π = 3.14`."
   ]
  },
  {
   "cell_type": "markdown",
   "id": "d4f1b009",
   "metadata": {},
   "source": [
    "6. **Type Casting Challenge**\n",
    "\n",
    "Input a float and an int. Multiply them after casting both to integers."
   ]
  },
  {
   "cell_type": "markdown",
   "id": "4251a91d",
   "metadata": {},
   "source": [
    "7. **Using `len()` with Strings**\n",
    "\n",
    "Take a sentence from the user and print the number of characters in it."
   ]
  },
  {
   "cell_type": "markdown",
   "id": "4c87482a",
   "metadata": {},
   "source": [
    "8. **Whitespace Remover**\n",
    "\n",
    "Input a string with leading and trailing spaces. Use `strip()` to clean it and print both versions."
   ]
  },
  {
   "cell_type": "markdown",
   "id": "e8c9e9b4",
   "metadata": {},
   "source": [
    "9. **Character Count (Excluding Spaces)**\n",
    "\n",
    "Input a sentence. Count the characters excluding white spaces using `strip()` and `len()`."
   ]
  },
  {
   "cell_type": "markdown",
   "id": "9d4b7a11",
   "metadata": {},
   "source": [
    "10. **Find Length of Name**\n",
    "\n",
    "Ask the user to input their full name and print how many characters it contains (excluding spaces)."
   ]
  },
  {
   "cell_type": "markdown",
   "id": "9b8cc8a3",
   "metadata": {},
   "source": [
    "11. **Digit Sum Calculator**\n",
    "\n",
    "Input a number like 1234 and print the sum of its digits (e.g., `1 + 2 + 3 + 4 = 10`)."
   ]
  },
  {
   "cell_type": "markdown",
   "id": "f2d9566a",
   "metadata": {},
   "source": [
    "12. **Check if Number is Even or Odd**\n",
    "\n",
    "Input a number and check whether it's even or odd using modulo and conditional logic."
   ]
  },
  {
   "cell_type": "markdown",
   "id": "07963d25",
   "metadata": {},
   "source": [
    "13. **Convert Age to Days**\n",
    "\n",
    "Input a person's age and print how many days they have lived approximately (ignoring leap years)."
   ]
  },
  {
   "cell_type": "markdown",
   "id": "125856dc",
   "metadata": {},
   "source": [
    "14. **Word Count in a Sentence**\n",
    "\n",
    "Use `strip()` and `split()` to count words in a given sentence."
   ]
  },
  {
   "cell_type": "markdown",
   "id": "39264263",
   "metadata": {},
   "source": [
    "15. **String Reversal Without Built-ins**\n",
    "\n",
    "Input a string and reverse it manually without using slicing."
   ]
  },
  {
   "cell_type": "markdown",
   "id": "4b5dfec7",
   "metadata": {},
   "source": [
    "16. **Product of Digits**\n",
    "\n",
    "Input a number and find the product of its digits."
   ]
  },
  {
   "cell_type": "markdown",
   "id": "8781769b",
   "metadata": {},
   "source": [
    "17. **Name Formatter**\n",
    "\n",
    "Input a messy name (e.g., `'  saurav yadav   '`) and clean it using `strip()`, then capitalize first letters."
   ]
  },
  {
   "cell_type": "markdown",
   "id": "da23bc9d",
   "metadata": {},
   "source": [
    "18. **Extract Initials from Full Name**\n",
    "\n",
    "Input full name and print initials (e.g., \"Saurav Yadav\" → \"S.Y\")."
   ]
  },
  {
   "cell_type": "markdown",
   "id": "aa34b3b6",
   "metadata": {},
   "source": [
    "19. **Temperature Category**\n",
    "\n",
    "Input temperature in Celsius and categorize it (e.g., `cold`, `warm`, `hot`)."
   ]
  },
  {
   "cell_type": "markdown",
   "id": "070b2b07",
   "metadata": {},
   "source": [
    "20. **Bill Splitter**\n",
    "\n",
    "Input total amount, number of people, and print how much each person should pay after rounding."
   ]
  },
  {
   "cell_type": "markdown",
   "id": "f9ca1fb8",
   "metadata": {},
   "source": [
    "21. **Password Strength Checker**\n",
    "\n",
    "Input a password. Check if it meets rules like: ≥8 characters, includes a number, and no spaces (using `len`, `strip`, `type`)."
   ]
  },
  {
   "cell_type": "markdown",
   "id": "7f177671",
   "metadata": {},
   "source": [
    "22. **Basic Calculator (Menu Driven)**\n",
    "\n",
    "Create a menu with `+`, `-`, `*`, `/` options. Input two numbers and perform the selected operation."
   ]
  },
  {
   "cell_type": "markdown",
   "id": "ac3f0acf",
   "metadata": {},
   "source": [
    "23. **Check Palindrome (Using String and Strip)**\n",
    "\n",
    "Input a string and check whether it's a palindrome (same forward and backward)."
   ]
  },
  {
   "cell_type": "markdown",
   "id": "f6af2a29",
   "metadata": {},
   "source": [
    "24. **Typing Speed Tester**\n",
    "\n",
    "Ask the user to type a given sentence. Use `len` to check how many characters they typed and calculate characters per second."
   ]
  },
  {
   "cell_type": "markdown",
   "id": "a09cb78c",
   "metadata": {},
   "source": [
    "25. **Cost per Item Calculator**\n",
    "\n",
    "Input total cost and total number of items bought. Print cost per item with two decimal places."
   ]
  },
  {
   "cell_type": "markdown",
   "id": "584d5b05",
   "metadata": {},
   "source": [
    "26. **Unit Converter Tool**\n",
    "\n",
    "Convert kilograms to pounds, centimeters to inches, etc., based on user selection."
   ]
  },
  {
   "cell_type": "markdown",
   "id": "5a274d49",
   "metadata": {},
   "source": [
    "27. **Number Splitter**\n",
    "\n",
    "Input a float (e.g., 12.34) and split it into integer and decimal parts."
   ]
  },
  {
   "cell_type": "markdown",
   "id": "5b938927",
   "metadata": {},
   "source": [
    "28. **Extract File Extension**\n",
    "\n",
    "Input a file name (e.g., `data.csv`) and extract the extension (`csv`)."
   ]
  },
  {
   "cell_type": "markdown",
   "id": "9ad3a354",
   "metadata": {},
   "source": [
    "29. **Email Validator (Basic)**\n",
    "\n",
    "Input an email and check if it contains '@' and ends with `.com` or `.edu`."
   ]
  },
  {
   "cell_type": "markdown",
   "id": "1b41758d",
   "metadata": {},
   "source": [
    "30. **Mobile Number Cleaner**\n",
    "\n",
    "Input a phone number with spaces (e.g., `' +91 98765 43210 '`) and return it without spaces using `strip()` and `replace()`."
   ]
  },
  {
   "cell_type": "markdown",
   "id": "2189e4d9",
   "metadata": {},
   "source": [
    "31. **Student Grade Calculator**\n",
    "\n",
    "Input marks of 5 subjects, calculate average, and determine grade (`A`, `B`, etc.)."
   ]
  },
  {
   "cell_type": "markdown",
   "id": "ef334a30",
   "metadata": {},
   "source": [
    "32. **Simple Budget Tracker**\n",
    "\n",
    "Input income and different expenses. Calculate and print remaining balance."
   ]
  },
  {
   "cell_type": "markdown",
   "id": "59c87d40",
   "metadata": {},
   "source": [
    "33. **Mini Receipt Generator**\n",
    "\n",
    "Take input of items and their prices, print a formatted receipt including total."
   ]
  },
  {
   "cell_type": "markdown",
   "id": "dfa72364",
   "metadata": {},
   "source": [
    "34. **BMI Calculator**\n",
    "\n",
    "Take height and weight, calculate BMI, and print health category."
   ]
  },
  {
   "cell_type": "markdown",
   "id": "a79b01e6",
   "metadata": {},
   "source": [
    "35. **Age Validator**\n",
    "\n",
    "Input DOB in years and check if a person is eligible for voting (age ≥18)."
   ]
  },
  {
   "cell_type": "markdown",
   "id": "53eb2f44",
   "metadata": {},
   "source": [
    "36. **Basic Chat Filter**\n",
    "\n",
    "Input a sentence and replace offensive words with asterisks."
   ]
  },
  {
   "cell_type": "markdown",
   "id": "122acd18",
   "metadata": {},
   "source": [
    "37. **Taxi Fare Estimator**\n",
    "\n",
    "Input distance and calculate fare using base price + per km rate."
   ]
  },
  {
   "cell_type": "markdown",
   "id": "ecc4209c",
   "metadata": {},
   "source": [
    "38. **Fuel Efficiency Tracker**\n",
    "\n",
    "Input fuel used and distance traveled. Print km per liter."
   ]
  },
  {
   "cell_type": "markdown",
   "id": "2e37c55f",
   "metadata": {},
   "source": [
    "39. **Daily Water Intake Logger**\n",
    "\n",
    "Input the amount of water drunk (in liters) for 7 days. Calculate average and total."
   ]
  },
  {
   "cell_type": "markdown",
   "id": "b8994e7a",
   "metadata": {},
   "source": [
    "40. **Book Price Discount Calculator**\n",
    "\n",
    "Input book price and apply discount based on price range. Use arithmetic and casting."
   ]
  }
 ],
 "metadata": {},
 "nbformat": 4,
 "nbformat_minor": 5
}
