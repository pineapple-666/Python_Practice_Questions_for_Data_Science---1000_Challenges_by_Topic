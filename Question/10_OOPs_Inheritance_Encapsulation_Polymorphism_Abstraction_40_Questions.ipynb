{
 "cells": [
  {
   "cell_type": "markdown",
   "id": "5507846d",
   "metadata": {},
   "source": [
    "## 1. 🧬 Basic Inheritance\n",
    "Create a class `Animal` and subclass `Dog`. Add a method in `Animal` and access it through `Dog`."
   ]
  },
  {
   "cell_type": "markdown",
   "id": "25afbd30",
   "metadata": {},
   "source": [
    "## 2. 🧬 Constructor in Inheritance\n",
    "Use `super()` in subclass to call parent class constructor and display attributes."
   ]
  },
  {
   "cell_type": "markdown",
   "id": "ab48d3a8",
   "metadata": {},
   "source": [
    "## 3. 🧬 Override Method\n",
    "Create a method in parent class and override it in child class. Show both outputs."
   ]
  },
  {
   "cell_type": "markdown",
   "id": "07987838",
   "metadata": {},
   "source": [
    "## 4. 🧬 Multiple Inheritance\n",
    "Design two parent classes and a child class that inherits from both."
   ]
  },
  {
   "cell_type": "markdown",
   "id": "8a086036",
   "metadata": {},
   "source": [
    "## 5. 🧬 Multilevel Inheritance\n",
    "Create a multilevel inheritance hierarchy and show attribute flow."
   ]
  },
  {
   "cell_type": "markdown",
   "id": "520489a9",
   "metadata": {},
   "source": [
    "## 6. 🧬 Hierarchical Inheritance\n",
    "Create one base class and two derived classes. Show attribute access from base."
   ]
  },
  {
   "cell_type": "markdown",
   "id": "c0a3cfc2",
   "metadata": {},
   "source": [
    "## 7. 🧬 Hybrid Inheritance (with example)\n",
    "Simulate hybrid inheritance and handle it using `super()`."
   ]
  },
  {
   "cell_type": "markdown",
   "id": "8816e574",
   "metadata": {},
   "source": [
    "## 8. 🧬 Use isinstance() and issubclass()\n",
    "Create multiple classes and demonstrate the use of these built-ins."
   ]
  },
  {
   "cell_type": "markdown",
   "id": "58ab5cd4",
   "metadata": {},
   "source": [
    "## 9. 🧬 Real-World Example: Library\n",
    "Model a library system using inheritance where `LibraryItem` is base class and `Book`, `Magazine` inherit from it."
   ]
  },
  {
   "cell_type": "markdown",
   "id": "b8d553a9",
   "metadata": {},
   "source": [
    "## 10. 🧬 Mini Project - Shape Area Calculator\n",
    "Use base class `Shape` and derive classes like `Rectangle`, `Circle`, `Square` to calculate areas."
   ]
  },
  {
   "cell_type": "markdown",
   "id": "d8b7ed2f",
   "metadata": {},
   "source": [
    "## 11. 🔐 Encapsulation with Private Variables\n",
    "Create a class with private attributes and use setter/getter to access them."
   ]
  },
  {
   "cell_type": "markdown",
   "id": "e645933e",
   "metadata": {},
   "source": [
    "## 12. 🔐 Modify with Getter and Setter\n",
    "Create `Student` class with private marks, update marks only using setter."
   ]
  },
  {
   "cell_type": "markdown",
   "id": "92f2389d",
   "metadata": {},
   "source": [
    "## 13. 🔐 Encapsulation in Bank Account\n",
    "Model a `BankAccount` class with private balance and secure deposit/withdrawal."
   ]
  },
  {
   "cell_type": "markdown",
   "id": "e0c2181b",
   "metadata": {},
   "source": [
    "## 14. 🔐 Access Restriction in Practice\n",
    "Show how direct access of private attribute fails and correct it via method."
   ]
  },
  {
   "cell_type": "markdown",
   "id": "494b29b0",
   "metadata": {},
   "source": [
    "## 15. 🔐 Encapsulation with Validation\n",
    "Ensure only valid data is set via setters (e.g., non-negative age)."
   ]
  },
  {
   "cell_type": "markdown",
   "id": "606baea7",
   "metadata": {},
   "source": [
    "## 16. 🔐 Class with Protected and Private\n",
    "Demonstrate use of `_protected` and `__private` attributes and method access."
   ]
  },
  {
   "cell_type": "markdown",
   "id": "ac773ceb",
   "metadata": {},
   "source": [
    "## 17. 🔐 Encapsulated Report Generator\n",
    "Design a class for generating performance reports with encapsulated data and summary."
   ]
  },
  {
   "cell_type": "markdown",
   "id": "d9658dc0",
   "metadata": {},
   "source": [
    "## 18. 🔐 Mini Project - ATM Machine\n",
    "Model an ATM machine that encapsulates PIN and balance. Provide public interface only."
   ]
  },
  {
   "cell_type": "markdown",
   "id": "2cdd7320",
   "metadata": {},
   "source": [
    "## 19. 🔐 Use Property Decorators\n",
    "Use `@property` and `@<attr>.setter` to manage encapsulated attributes."
   ]
  },
  {
   "cell_type": "markdown",
   "id": "822e93e0",
   "metadata": {},
   "source": [
    "## 20. 🔐 Encapsulation and Inheritance\n",
    "Use encapsulation inside an inherited class and override the getter."
   ]
  },
  {
   "cell_type": "markdown",
   "id": "cdf3f0c2",
   "metadata": {},
   "source": [
    "## 21. 🔄 Polymorphism with Method Overriding\n",
    "Create two classes with same method names but different implementations."
   ]
  },
  {
   "cell_type": "markdown",
   "id": "c918f6ea",
   "metadata": {},
   "source": [
    "## 22. 🔄 Polymorphism in Function\n",
    "Create a function that accepts any object with a common method name and calls it."
   ]
  },
  {
   "cell_type": "markdown",
   "id": "6d067655",
   "metadata": {},
   "source": [
    "## 23. 🔄 Polymorphism with Inheritance\n",
    "Create a base class with a method and override it in 3 subclasses. Use a loop to call methods polymorphically."
   ]
  },
  {
   "cell_type": "markdown",
   "id": "1da76347",
   "metadata": {},
   "source": [
    "## 24. 🔄 Duck Typing\n",
    "Pass different objects to a function and ensure they respond to same method name differently."
   ]
  },
  {
   "cell_type": "markdown",
   "id": "f6fcd753",
   "metadata": {},
   "source": [
    "## 25. 🔄 Operator Overloading\n",
    "Overload `+` for a class to combine two objects meaningfully."
   ]
  },
  {
   "cell_type": "markdown",
   "id": "e76d1c17",
   "metadata": {},
   "source": [
    "## 26. 🔄 Polymorphic Calculator\n",
    "Create an `Operation` class and define subclasses `Add`, `Subtract`, `Multiply` overriding same method."
   ]
  },
  {
   "cell_type": "markdown",
   "id": "e06c379d",
   "metadata": {},
   "source": [
    "## 27. 🔄 Multiple Object Polymorphism\n",
    "Store objects of different types in a list and loop through to call a common method."
   ]
  },
  {
   "cell_type": "markdown",
   "id": "4aaedf54",
   "metadata": {},
   "source": [
    "## 28. 🔄 Mini Project - Drawing App\n",
    "Use polymorphism to implement different shape drawing using one method name like `draw()`."
   ]
  },
  {
   "cell_type": "markdown",
   "id": "1020d030",
   "metadata": {},
   "source": [
    "## 29. 🔄 Function Overloading Simulation\n",
    "Use default arguments and `*args` to simulate function overloading."
   ]
  },
  {
   "cell_type": "markdown",
   "id": "f19ed09c",
   "metadata": {},
   "source": [
    "## 30. 🔄 Real-World Use Case\n",
    "Use polymorphism to simulate different modes of payment: `UPI`, `Card`, `NetBanking`, etc."
   ]
  },
  {
   "cell_type": "markdown",
   "id": "46bfe70b",
   "metadata": {},
   "source": [
    "## 31. 🧠 Abstraction with ABC\n",
    "Use Python’s `abc` module to define abstract base class `Vehicle`."
   ]
  },
  {
   "cell_type": "markdown",
   "id": "0b06edef",
   "metadata": {},
   "source": [
    "## 32. 🧠 Abstract Class with Multiple Methods\n",
    "Create an abstract class with multiple methods and implement all in subclass."
   ]
  },
  {
   "cell_type": "markdown",
   "id": "77b1286a",
   "metadata": {},
   "source": [
    "## 33. 🧠 Abstract Class Constructor\n",
    "Show use of constructor inside abstract class and how it’s used in derived class."
   ]
  },
  {
   "cell_type": "markdown",
   "id": "3f59266e",
   "metadata": {},
   "source": [
    "## 34. 🧠 Abstract vs Interface Style\n",
    "Compare and simulate Java-style interface using abstract class in Python."
   ]
  },
  {
   "cell_type": "markdown",
   "id": "27821c0c",
   "metadata": {},
   "source": [
    "## 35. 🧠 Abstract Shape Classes\n",
    "Model `Shape` as abstract base class with abstract methods `area()` and `perimeter()`."
   ]
  },
  {
   "cell_type": "markdown",
   "id": "0daeec3b",
   "metadata": {},
   "source": [
    "## 36. 🧠 Real-World Abstraction - Payment\n",
    "Create abstract class `PaymentMethod`, and derive `UPI`, `Card`, `Cash` methods."
   ]
  },
  {
   "cell_type": "markdown",
   "id": "6747cc17",
   "metadata": {},
   "source": [
    "## 37. 🧠 Abstract with Partial Implementation\n",
    "Add a partially implemented method in abstract class and override in subclass."
   ]
  },
  {
   "cell_type": "markdown",
   "id": "f45b677a",
   "metadata": {},
   "source": [
    "## 38. 🧠 Abstract with Multiple Levels\n",
    "Chain abstract class inheritance and implement in final subclass."
   ]
  },
  {
   "cell_type": "markdown",
   "id": "d850916c",
   "metadata": {},
   "source": [
    "## 39. 🧠 Abstract Factory Method\n",
    "Implement a factory pattern with abstract classes to create different objects."
   ]
  },
  {
   "cell_type": "markdown",
   "id": "5bd8b6f7",
   "metadata": {},
   "source": [
    "## 40. 🧠 Mini Project - Transport Booking System\n",
    "Use abstract base class `Transport` and create `Bus`, `Train`, `Cab` with common interface."
   ]
  }
 ],
 "metadata": {},
 "nbformat": 4,
 "nbformat_minor": 5
}
