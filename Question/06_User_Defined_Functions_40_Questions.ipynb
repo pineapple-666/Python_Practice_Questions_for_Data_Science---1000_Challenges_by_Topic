{
 "cells": [
  {
   "cell_type": "markdown",
   "id": "53f6f54e",
   "metadata": {},
   "source": [
    "## 1. 🧮 Add Two Numbers\n",
    "Write a function that takes two numbers and returns their sum."
   ]
  },
  {
   "cell_type": "markdown",
   "id": "ca168a4f",
   "metadata": {},
   "source": [
    "## 2. 🔁 Check Even or Odd\n",
    "Create a function that checks whether a number is even or odd."
   ]
  },
  {
   "cell_type": "markdown",
   "id": "815242f2",
   "metadata": {},
   "source": [
    "## 3. 🔠 Greet User\n",
    "Write a function that accepts a name and prints a greeting message."
   ]
  },
  {
   "cell_type": "markdown",
   "id": "3b7a752d",
   "metadata": {},
   "source": [
    "## 4. 🔁 Factorial Function\n",
    "Create a function to compute the factorial of a number."
   ]
  },
  {
   "cell_type": "markdown",
   "id": "17c7d883",
   "metadata": {},
   "source": [
    "## 5. 🧠 Prime Checker\n",
    "Write a function that checks whether a number is prime."
   ]
  },
  {
   "cell_type": "markdown",
   "id": "3ed79e64",
   "metadata": {},
   "source": [
    "## 6. 📏 Length of List\n",
    "Create a function that returns the length of a list (without using `len()`)."
   ]
  },
  {
   "cell_type": "markdown",
   "id": "4db73301",
   "metadata": {},
   "source": [
    "## 7. 🧠 Palindrome Checker\n",
    "Write a function that checks if a string is a palindrome."
   ]
  },
  {
   "cell_type": "markdown",
   "id": "6a0fdc12",
   "metadata": {},
   "source": [
    "## 8. 🔄 Recursive Sum\n",
    "Write a recursive function that calculates the sum of first `n` natural numbers."
   ]
  },
  {
   "cell_type": "markdown",
   "id": "e06d7bd0",
   "metadata": {},
   "source": [
    "## 9. 🆚 Compare Two Strings\n",
    "Create a function that compares two strings and returns whether they are equal (case insensitive)."
   ]
  },
  {
   "cell_type": "markdown",
   "id": "ef57a2f9",
   "metadata": {},
   "source": [
    "## 10. 🧪 Vowel Counter\n",
    "Write a function that counts the number of vowels in a sentence."
   ]
  },
  {
   "cell_type": "markdown",
   "id": "322aa288",
   "metadata": {},
   "source": [
    "## 11. 🔁 Fibonacci Generator\n",
    "Create a function that returns the first `n` Fibonacci numbers."
   ]
  },
  {
   "cell_type": "markdown",
   "id": "d256449c",
   "metadata": {},
   "source": [
    "## 12. 📤 Max of Three\n",
    "Write a function to find the maximum of three numbers."
   ]
  },
  {
   "cell_type": "markdown",
   "id": "ea2b9150",
   "metadata": {},
   "source": [
    "## 13. 🎯 Find Element\n",
    "Write a function to find if an element exists in a list."
   ]
  },
  {
   "cell_type": "markdown",
   "id": "537ff636",
   "metadata": {},
   "source": [
    "## 14. 🔄 Reverse List\n",
    "Create a function to reverse a list without using `reverse()`."
   ]
  },
  {
   "cell_type": "markdown",
   "id": "c118b5d9",
   "metadata": {},
   "source": [
    "## 15. 📚 Capitalize Words\n",
    "Write a function that capitalizes the first letter of each word in a sentence."
   ]
  },
  {
   "cell_type": "markdown",
   "id": "11ddc7e3",
   "metadata": {},
   "source": [
    "## 16. 🧪 Custom Filter\n",
    "Create a function that filters out even numbers from a list."
   ]
  },
  {
   "cell_type": "markdown",
   "id": "19ed251b",
   "metadata": {},
   "source": [
    "## 17. 📊 Average Marks\n",
    "Write a function that takes marks of a student and returns the average."
   ]
  },
  {
   "cell_type": "markdown",
   "id": "1b5a658a",
   "metadata": {},
   "source": [
    "## 18. 🔁 Multiplication Table\n",
    "Write a function that prints multiplication table of a given number."
   ]
  },
  {
   "cell_type": "markdown",
   "id": "9c56201c",
   "metadata": {},
   "source": [
    "## 19. 🔠 Count Letters and Digits\n",
    "Create a function that counts letters and digits in a string."
   ]
  },
  {
   "cell_type": "markdown",
   "id": "c10ae35a",
   "metadata": {},
   "source": [
    "## 20. 🔄 Recursive Factorial\n",
    "Write a recursive version of the factorial function."
   ]
  },
  {
   "cell_type": "markdown",
   "id": "d946ade3",
   "metadata": {},
   "source": [
    "## 21. 🧠 String Analyzer\n",
    "Write a function that takes a string and returns the number of words, characters, and spaces."
   ]
  },
  {
   "cell_type": "markdown",
   "id": "363bc005",
   "metadata": {},
   "source": [
    "## 22. 🔁 Sum of List\n",
    "Create a function that returns the sum of all numbers in a list."
   ]
  },
  {
   "cell_type": "markdown",
   "id": "7d84ec6d",
   "metadata": {},
   "source": [
    "## 23. 🧮 Circle Area\n",
    "Write a function that calculates the area of a circle given the radius."
   ]
  },
  {
   "cell_type": "markdown",
   "id": "a853a473",
   "metadata": {},
   "source": [
    "## 24. 🧪 Square Checker\n",
    "Create a function that checks whether a number is a perfect square."
   ]
  },
  {
   "cell_type": "markdown",
   "id": "422bc988",
   "metadata": {},
   "source": [
    "## 25. ⏫ Exponent Calculator\n",
    "Create a function that calculates `a^b` without using `**`."
   ]
  },
  {
   "cell_type": "markdown",
   "id": "cd891b35",
   "metadata": {},
   "source": [
    "## 26. 🧹 Remove Duplicates\n",
    "Create a function that removes duplicates from a list."
   ]
  },
  {
   "cell_type": "markdown",
   "id": "ece19851",
   "metadata": {},
   "source": [
    "## 27. 🔄 Convert Celsius to Fahrenheit\n",
    "Write a function that converts Celsius to Fahrenheit."
   ]
  },
  {
   "cell_type": "markdown",
   "id": "cd61e25c",
   "metadata": {},
   "source": [
    "## 28. 🧮 BMI Calculator\n",
    "Write a function that calculates BMI and categorizes the result."
   ]
  },
  {
   "cell_type": "markdown",
   "id": "90b97ca8",
   "metadata": {},
   "source": [
    "## 29. 🔤 Word Frequency\n",
    "Create a function that returns a dictionary of word counts in a sentence."
   ]
  },
  {
   "cell_type": "markdown",
   "id": "deed6171",
   "metadata": {},
   "source": [
    "## 30. 🔀 Swap Two Numbers\n",
    "Write a function that swaps two numbers and returns them."
   ]
  },
  {
   "cell_type": "markdown",
   "id": "db227106",
   "metadata": {},
   "source": [
    "## 31. 🔄 Recursive Power Function\n",
    "Create a recursive function to compute `x^n`."
   ]
  },
  {
   "cell_type": "markdown",
   "id": "5175b230",
   "metadata": {},
   "source": [
    "## 32. 🔁 String Splitter\n",
    "Write a function that splits a sentence into words without using `split()`."
   ]
  },
  {
   "cell_type": "markdown",
   "id": "cfb36a27",
   "metadata": {},
   "source": [
    "## 33. 📚 Flatten List\n",
    "Write a function to flatten a list of lists into a single list."
   ]
  },
  {
   "cell_type": "markdown",
   "id": "ee4a4ef2",
   "metadata": {},
   "source": [
    "## 34. 🔢 Digit Sum\n",
    "Create a function that returns the sum of digits of an integer."
   ]
  },
  {
   "cell_type": "markdown",
   "id": "14d992e7",
   "metadata": {},
   "source": [
    "## 35. 🧠 Function with Default Argument\n",
    "Create a function to greet a user. If no name is provided, greet 'Guest'."
   ]
  },
  {
   "cell_type": "markdown",
   "id": "edf12a8a",
   "metadata": {},
   "source": [
    "## 36. 🧠 Nested Function\n",
    "Write a nested function where the inner function adds two numbers."
   ]
  },
  {
   "cell_type": "markdown",
   "id": "126782ec",
   "metadata": {},
   "source": [
    "## 37. 📦 Return Multiple Values\n",
    "Create a function that returns the min, max, and average of a list."
   ]
  },
  {
   "cell_type": "markdown",
   "id": "66466e37",
   "metadata": {},
   "source": [
    "## 38. 🔁 Count Items Greater Than X\n",
    "Write a function that counts how many elements are greater than `x` in a list."
   ]
  },
  {
   "cell_type": "markdown",
   "id": "d102f23d",
   "metadata": {},
   "source": [
    "## 39. 📊 Statistics Function\n",
    "Write a function that takes a list and returns mean, median, and mode."
   ]
  },
  {
   "cell_type": "markdown",
   "id": "1f3d9201",
   "metadata": {},
   "source": [
    "## 40. 🧠 Mini Project - Student Grade System\n",
    "Create a function that takes student marks, calculates the average, and assigns a grade (A/B/C/D/Fail)."
   ]
  }
 ],
 "metadata": {},
 "nbformat": 4,
 "nbformat_minor": 5
}
