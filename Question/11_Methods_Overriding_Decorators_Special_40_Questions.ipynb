{
 "cells": [
  {
   "cell_type": "markdown",
   "id": "419068d1",
   "metadata": {},
   "source": [
    "# 🧠 OOPs Python Practice – 40 Questions\n",
    "Covers: Method Overriding, Decorators, Class/Static/Special Methods"
   ]
  },
  {
   "cell_type": "markdown",
   "id": "b3993b72",
   "metadata": {},
   "source": [
    "## 1. 🔁 Method Overriding\n",
    "Create a base class `Animal` with method `speak()` and override it in `Dog`, `Cat` classes."
   ]
  },
  {
   "cell_type": "code",
   "execution_count": null,
   "id": "fdbe4753",
   "metadata": {},
   "outputs": [],
   "source": []
  },
  {
   "cell_type": "markdown",
   "id": "23d49b58",
   "metadata": {},
   "source": [
    "## 2. 🔁 Use of super() in Overriding\n",
    "Override a method in child class but also call parent class method using `super()`."
   ]
  },
  {
   "cell_type": "code",
   "execution_count": null,
   "id": "3a086911",
   "metadata": {},
   "outputs": [],
   "source": []
  },
  {
   "cell_type": "markdown",
   "id": "7c1f2b5f",
   "metadata": {},
   "source": [
    "## 3. 🔁 Multiple Overridden Methods\n",
    "Override multiple methods in a subclass and demonstrate polymorphism."
   ]
  },
  {
   "cell_type": "code",
   "execution_count": null,
   "id": "38e52c6f",
   "metadata": {},
   "outputs": [],
   "source": []
  },
  {
   "cell_type": "markdown",
   "id": "240de3f3",
   "metadata": {},
   "source": [
    "## 4. 🔁 Overriding with Extra Logic\n",
    "Add additional logic in overridden method beyond what parent provides."
   ]
  },
  {
   "cell_type": "code",
   "execution_count": null,
   "id": "5674859d",
   "metadata": {},
   "outputs": [],
   "source": []
  },
  {
   "cell_type": "markdown",
   "id": "78316faa",
   "metadata": {},
   "source": [
    "## 5. 🔁 Method Overriding in Multilevel Inheritance\n",
    "Show how overriding works across multiple levels of inheritance."
   ]
  },
  {
   "cell_type": "code",
   "execution_count": null,
   "id": "dde0cab0",
   "metadata": {},
   "outputs": [],
   "source": []
  },
  {
   "cell_type": "markdown",
   "id": "3c842827",
   "metadata": {},
   "source": [
    "## 6. 🧩 Basic Decorator\n",
    "Write a decorator to print function start and end logs around any function call."
   ]
  },
  {
   "cell_type": "code",
   "execution_count": null,
   "id": "ae30c4e5",
   "metadata": {},
   "outputs": [],
   "source": []
  },
  {
   "cell_type": "markdown",
   "id": "9c4cff16",
   "metadata": {},
   "source": [
    "## 7. 🧩 Decorator with Arguments\n",
    "Create a decorator that only allows execution if a number is even."
   ]
  },
  {
   "cell_type": "code",
   "execution_count": null,
   "id": "f5909b21",
   "metadata": {},
   "outputs": [],
   "source": []
  },
  {
   "cell_type": "markdown",
   "id": "a4b725ad",
   "metadata": {},
   "source": [
    "## 8. 🧩 Decorator for Timing\n",
    "Create a decorator that calculates and prints the execution time of a function."
   ]
  },
  {
   "cell_type": "code",
   "execution_count": null,
   "id": "202f98d3",
   "metadata": {},
   "outputs": [],
   "source": []
  },
  {
   "cell_type": "markdown",
   "id": "9f297dbe",
   "metadata": {},
   "source": [
    "## 9. 🧩 Decorator to Count Calls\n",
    "Create a decorator that keeps count of how many times a function is called."
   ]
  },
  {
   "cell_type": "code",
   "execution_count": null,
   "id": "0c0c87cb",
   "metadata": {},
   "outputs": [],
   "source": []
  },
  {
   "cell_type": "markdown",
   "id": "31e9a399",
   "metadata": {},
   "source": [
    "## 10. 🧩 Decorator for Authentication\n",
    "Create a decorator that checks if the user is logged in before running a function."
   ]
  },
  {
   "cell_type": "code",
   "execution_count": null,
   "id": "554ed1b7",
   "metadata": {},
   "outputs": [],
   "source": []
  },
  {
   "cell_type": "markdown",
   "id": "39a90145",
   "metadata": {},
   "source": [
    "## 11. 🧩 Multiple Decorators\n",
    "Apply two decorators to a single function and explain the execution flow."
   ]
  },
  {
   "cell_type": "code",
   "execution_count": null,
   "id": "88861fb3",
   "metadata": {},
   "outputs": [],
   "source": []
  },
  {
   "cell_type": "markdown",
   "id": "1f2c2914",
   "metadata": {},
   "source": [
    "## 12. 🧩 Parameterized Decorator\n",
    "Create a decorator that accepts arguments like user role and checks permissions."
   ]
  },
  {
   "cell_type": "code",
   "execution_count": null,
   "id": "6d561583",
   "metadata": {},
   "outputs": [],
   "source": []
  },
  {
   "cell_type": "markdown",
   "id": "7b718262",
   "metadata": {},
   "source": [
    "## 13. 🧩 Decorator for Logging Inputs\n",
    "Write a decorator to log function input arguments before running."
   ]
  },
  {
   "cell_type": "code",
   "execution_count": null,
   "id": "aa843fd9",
   "metadata": {},
   "outputs": [],
   "source": []
  },
  {
   "cell_type": "markdown",
   "id": "6e916b8e",
   "metadata": {},
   "source": [
    "## 14. 🧩 Use Decorator in Class Method\n",
    "Apply a custom decorator to a method inside a class."
   ]
  },
  {
   "cell_type": "code",
   "execution_count": null,
   "id": "e4c1bfac",
   "metadata": {},
   "outputs": [],
   "source": []
  },
  {
   "cell_type": "markdown",
   "id": "c8f61501",
   "metadata": {},
   "source": [
    "## 15. 🧩 Decorator with Return Modification\n",
    "Create a decorator that modifies the return value of a function."
   ]
  },
  {
   "cell_type": "code",
   "execution_count": null,
   "id": "a9e4ffd3",
   "metadata": {},
   "outputs": [],
   "source": []
  },
  {
   "cell_type": "markdown",
   "id": "d7fcbe04",
   "metadata": {},
   "source": [
    "## 16. 🧱 Create Class Method\n",
    "Create a class with class-level data and use `@classmethod` to update it."
   ]
  },
  {
   "cell_type": "code",
   "execution_count": null,
   "id": "009450ba",
   "metadata": {},
   "outputs": [],
   "source": []
  },
  {
   "cell_type": "markdown",
   "id": "8cc1c662",
   "metadata": {},
   "source": [
    "## 17. 🧱 Count Instances\n",
    "Use a class method to keep track of how many objects of the class were created."
   ]
  },
  {
   "cell_type": "code",
   "execution_count": null,
   "id": "10f29e57",
   "metadata": {},
   "outputs": [],
   "source": []
  },
  {
   "cell_type": "markdown",
   "id": "03b31d22",
   "metadata": {},
   "source": [
    "## 18. 🧱 Alternate Constructor\n",
    "Use a class method as an alternative constructor (e.g., from string)."
   ]
  },
  {
   "cell_type": "code",
   "execution_count": null,
   "id": "970f01d8",
   "metadata": {},
   "outputs": [],
   "source": []
  },
  {
   "cell_type": "markdown",
   "id": "83dd75c3",
   "metadata": {},
   "source": [
    "## 19. 🧱 Class Method vs Static Method\n",
    "Demonstrate both with meaningful examples in one class."
   ]
  },
  {
   "cell_type": "code",
   "execution_count": null,
   "id": "3fce1756",
   "metadata": {},
   "outputs": [],
   "source": []
  },
  {
   "cell_type": "markdown",
   "id": "0af05590",
   "metadata": {},
   "source": [
    "## 20. 🧱 Class Method with Validation\n",
    "Use a class method to validate and create only valid objects (e.g., for email)."
   ]
  },
  {
   "cell_type": "code",
   "execution_count": null,
   "id": "4cfbea9c",
   "metadata": {},
   "outputs": [],
   "source": []
  },
  {
   "cell_type": "markdown",
   "id": "2456bb55",
   "metadata": {},
   "source": [
    "## 21. 🧷 Static Method Example\n",
    "Write a utility method inside class using `@staticmethod` and call it without object."
   ]
  },
  {
   "cell_type": "code",
   "execution_count": null,
   "id": "ae638c80",
   "metadata": {},
   "outputs": [],
   "source": []
  },
  {
   "cell_type": "markdown",
   "id": "dddeb53d",
   "metadata": {},
   "source": [
    "## 22. 🧷 Utility Functions in Static Method\n",
    "Add static methods for conversions (e.g., Celsius to Fahrenheit)."
   ]
  },
  {
   "cell_type": "code",
   "execution_count": null,
   "id": "0cf2438d",
   "metadata": {},
   "outputs": [],
   "source": []
  },
  {
   "cell_type": "markdown",
   "id": "333035da",
   "metadata": {},
   "source": [
    "## 23. 🧷 Static Method for Logging\n",
    "Create a static logger function to log messages without needing class instance."
   ]
  },
  {
   "cell_type": "code",
   "execution_count": null,
   "id": "fcab6073",
   "metadata": {},
   "outputs": [],
   "source": []
  },
  {
   "cell_type": "markdown",
   "id": "a7e02eb2",
   "metadata": {},
   "source": [
    "## 24. 🧷 Static Method for Business Logic\n",
    "Use static methods in a class to represent independent business logic."
   ]
  },
  {
   "cell_type": "code",
   "execution_count": null,
   "id": "65290836",
   "metadata": {},
   "outputs": [],
   "source": []
  },
  {
   "cell_type": "markdown",
   "id": "7e4c03fb",
   "metadata": {},
   "source": [
    "## 25. 🧷 Static Method vs Instance Method\n",
    "Write both and show how they differ in access and use."
   ]
  },
  {
   "cell_type": "code",
   "execution_count": null,
   "id": "40e42c39",
   "metadata": {},
   "outputs": [],
   "source": []
  },
  {
   "cell_type": "markdown",
   "id": "e0b0523b",
   "metadata": {},
   "source": [
    "## 26. ✨ __str__ Method\n",
    "Define `__str__()` in a class to give a meaningful print output."
   ]
  },
  {
   "cell_type": "code",
   "execution_count": null,
   "id": "b8dfab20",
   "metadata": {},
   "outputs": [],
   "source": []
  },
  {
   "cell_type": "markdown",
   "id": "456fe082",
   "metadata": {},
   "source": [
    "## 27. ✨ __repr__ Method\n",
    "Define `__repr__()` and compare with `__str__()` when printing objects."
   ]
  },
  {
   "cell_type": "code",
   "execution_count": null,
   "id": "a6edc296",
   "metadata": {},
   "outputs": [],
   "source": []
  },
  {
   "cell_type": "markdown",
   "id": "1d8a2b24",
   "metadata": {},
   "source": [
    "## 28. ✨ __eq__ and __lt__\n",
    "Implement `__eq__` and `__lt__` in a class to compare objects."
   ]
  },
  {
   "cell_type": "code",
   "execution_count": null,
   "id": "8d1ca570",
   "metadata": {},
   "outputs": [],
   "source": []
  },
  {
   "cell_type": "markdown",
   "id": "dd97091f",
   "metadata": {},
   "source": [
    "## 29. ✨ __len__ and __getitem__\n",
    "Simulate a container-like class that supports `len()` and indexing."
   ]
  },
  {
   "cell_type": "code",
   "execution_count": null,
   "id": "ca9f5c8f",
   "metadata": {},
   "outputs": [],
   "source": []
  },
  {
   "cell_type": "markdown",
   "id": "b7e8f308",
   "metadata": {},
   "source": [
    "## 30. ✨ __call__ Method\n",
    "Make an object callable like a function using `__call__()`."
   ]
  },
  {
   "cell_type": "code",
   "execution_count": null,
   "id": "3b080834",
   "metadata": {},
   "outputs": [],
   "source": []
  },
  {
   "cell_type": "markdown",
   "id": "c0630c16",
   "metadata": {},
   "source": [
    "## 31. ✨ Operator Overloading\n",
    "Overload `+` and `*` for a class and demonstrate with objects."
   ]
  },
  {
   "cell_type": "code",
   "execution_count": null,
   "id": "2cde58e9",
   "metadata": {},
   "outputs": [],
   "source": []
  },
  {
   "cell_type": "markdown",
   "id": "287ac562",
   "metadata": {},
   "source": [
    "## 32. ✨ Context Manager with __enter__ and __exit__\n",
    "Write a class that supports `with` statement for file handling."
   ]
  },
  {
   "cell_type": "code",
   "execution_count": null,
   "id": "03873b8f",
   "metadata": {},
   "outputs": [],
   "source": []
  },
  {
   "cell_type": "markdown",
   "id": "3a3fae8a",
   "metadata": {},
   "source": [
    "## 33. ✨ __del__ Method\n",
    "Track object destruction using `__del__()` and explain its caution."
   ]
  },
  {
   "cell_type": "code",
   "execution_count": null,
   "id": "68b1f2f9",
   "metadata": {},
   "outputs": [],
   "source": []
  },
  {
   "cell_type": "markdown",
   "id": "f25f3c87",
   "metadata": {},
   "source": [
    "## 34. ✨ __contains__ Method\n",
    "Simulate `in` operator using a class with `__contains__()`."
   ]
  },
  {
   "cell_type": "code",
   "execution_count": null,
   "id": "065c95eb",
   "metadata": {},
   "outputs": [],
   "source": []
  },
  {
   "cell_type": "markdown",
   "id": "117b177c",
   "metadata": {},
   "source": [
    "## 35. ✨ Iterable Object\n",
    "Create a class with `__iter__()` and `__next__()` to make it iterable."
   ]
  },
  {
   "cell_type": "code",
   "execution_count": null,
   "id": "02d73dac",
   "metadata": {},
   "outputs": [],
   "source": []
  },
  {
   "cell_type": "markdown",
   "id": "c512b75d",
   "metadata": {},
   "source": [
    "## 36. ✨ Custom Error Class with __str__\n",
    "Create a custom exception class and define `__str__()` for it."
   ]
  },
  {
   "cell_type": "code",
   "execution_count": null,
   "id": "7a0e238c",
   "metadata": {},
   "outputs": [],
   "source": []
  },
  {
   "cell_type": "markdown",
   "id": "291220ca",
   "metadata": {},
   "source": [
    "## 37. ✨ __bool__ Method\n",
    "Control truthy/falsy behavior of objects by implementing `__bool__()`."
   ]
  },
  {
   "cell_type": "code",
   "execution_count": null,
   "id": "0fe0d8b6",
   "metadata": {},
   "outputs": [],
   "source": []
  },
  {
   "cell_type": "markdown",
   "id": "1eb513fb",
   "metadata": {},
   "source": [
    "## 38. ✨ __format__ Method\n",
    "Customize how your object is formatted in an `f-string` using `__format__()`."
   ]
  },
  {
   "cell_type": "code",
   "execution_count": null,
   "id": "3bcf4f54",
   "metadata": {},
   "outputs": [],
   "source": []
  },
  {
   "cell_type": "markdown",
   "id": "1859a0a6",
   "metadata": {},
   "source": [
    "## 39. ✨ __hash__ Method\n",
    "Implement `__hash__()` to allow using objects as dictionary keys."
   ]
  },
  {
   "cell_type": "code",
   "execution_count": null,
   "id": "2563ed41",
   "metadata": {},
   "outputs": [],
   "source": []
  },
  {
   "cell_type": "markdown",
   "id": "f522834a",
   "metadata": {},
   "source": [
    "## 40. 🧠 Mini Project - Account Class\n",
    "Build a class `Account` using static, class, and special methods with proper overriding and decorator usage."
   ]
  },
  {
   "cell_type": "code",
   "execution_count": null,
   "id": "f54f07d3",
   "metadata": {},
   "outputs": [],
   "source": []
  }
 ],
 "metadata": {},
 "nbformat": 4,
 "nbformat_minor": 5
}
