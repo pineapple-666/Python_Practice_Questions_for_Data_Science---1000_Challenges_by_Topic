{
 "cells": [
  {
   "cell_type": "markdown",
   "id": "cb5cddd4",
   "metadata": {},
   "source": [
    "## 1. 🧱 Basic Try-Except\n",
    "Write a program that divides two numbers. Use try-except to handle divide by zero."
   ]
  },
  {
   "cell_type": "markdown",
   "id": "412736f3",
   "metadata": {},
   "source": [
    "## 2. 🧪 Multiple Except Blocks\n",
    "Write a program that handles `ZeroDivisionError`, `ValueError`, and `TypeError`."
   ]
  },
  {
   "cell_type": "markdown",
   "id": "4de61d87",
   "metadata": {},
   "source": [
    "## 3. 🚫 Handle File Not Found\n",
    "Write a program to open a file. If it doesn't exist, catch the exception and show an error message."
   ]
  },
  {
   "cell_type": "markdown",
   "id": "c28db3f3",
   "metadata": {},
   "source": [
    "## 4. 📥 User Input Error Handling\n",
    "Ask user to enter an integer. If input is not integer, show an error using try-except."
   ]
  },
  {
   "cell_type": "markdown",
   "id": "9871e25f",
   "metadata": {},
   "source": [
    "## 5. 🔄 Loop Until Valid Input\n",
    "Keep asking user for input until they enter a valid number using exception handling."
   ]
  },
  {
   "cell_type": "markdown",
   "id": "5067e327",
   "metadata": {},
   "source": [
    "## 6. 🧠 Handle List Index Error\n",
    "Write a program that accesses a list index and handles `IndexError` if out of bounds."
   ]
  },
  {
   "cell_type": "markdown",
   "id": "1adad693",
   "metadata": {},
   "source": [
    "## 7. 🧮 Safe Calculator\n",
    "Write a calculator that handles invalid operations like division by zero or wrong inputs."
   ]
  },
  {
   "cell_type": "markdown",
   "id": "8e7f0556",
   "metadata": {},
   "source": [
    "## 8. 🚫 Catch ValueError\n",
    "Convert user input to integer and handle if it's not valid."
   ]
  },
  {
   "cell_type": "markdown",
   "id": "bf0eeb55",
   "metadata": {},
   "source": [
    "## 9. 🔠 Convert to Integer Safely\n",
    "Write a function that converts a string to int, but returns 0 if conversion fails."
   ]
  },
  {
   "cell_type": "markdown",
   "id": "b03dcba8",
   "metadata": {},
   "source": [
    "## 10. 🔄 Handle KeyError\n",
    "Access a dictionary key. Handle the case when the key is missing."
   ]
  },
  {
   "cell_type": "markdown",
   "id": "9348c73a",
   "metadata": {},
   "source": [
    "## 11. 📦 Safe Dictionary Access\n",
    "Create a dictionary lookup tool with error handling for missing keys."
   ]
  },
  {
   "cell_type": "markdown",
   "id": "4692b826",
   "metadata": {},
   "source": [
    "## 12. 📁 File Read with Try-Except\n",
    "Write a function to read a file and use try-except to catch any errors."
   ]
  },
  {
   "cell_type": "markdown",
   "id": "f93d6ec4",
   "metadata": {},
   "source": [
    "## 13. 🚫 Custom Error Message\n",
    "Use `except` block to print a custom message when an error occurs."
   ]
  },
  {
   "cell_type": "markdown",
   "id": "187c0aac",
   "metadata": {},
   "source": [
    "## 14. 🔁 Nested Try Blocks\n",
    "Write a program with nested try blocks that handle different exceptions."
   ]
  },
  {
   "cell_type": "markdown",
   "id": "1d5397b3",
   "metadata": {},
   "source": [
    "## 15. 🔁 Handle Negative Index\n",
    "Write a program to access a negative list index. Handle any possible error."
   ]
  },
  {
   "cell_type": "markdown",
   "id": "468914f2",
   "metadata": {},
   "source": [
    "## 16. ✅ Finally Block\n",
    "Create a program with try-except-finally. Use finally to print a goodbye message."
   ]
  },
  {
   "cell_type": "markdown",
   "id": "486c4485",
   "metadata": {},
   "source": [
    "## 17. 🧪 Raise Custom Error\n",
    "Write a program that raises an exception if the user enters a negative number."
   ]
  },
  {
   "cell_type": "markdown",
   "id": "1047b15a",
   "metadata": {},
   "source": [
    "## 18. 🚫 Assert Example\n",
    "Write a program that uses `assert` to check if a number is positive."
   ]
  },
  {
   "cell_type": "markdown",
   "id": "1ac6307e",
   "metadata": {},
   "source": [
    "## 19. 📥 Multiple Inputs with Try\n",
    "Take multiple inputs and handle each with try-except block."
   ]
  },
  {
   "cell_type": "markdown",
   "id": "0cbbd047",
   "metadata": {},
   "source": [
    "## 20. 🔄 Infinite Loop Exit\n",
    "Use exception handling to break out of an infinite loop on user keyboard interrupt."
   ]
  },
  {
   "cell_type": "markdown",
   "id": "970066b3",
   "metadata": {},
   "source": [
    "## 21. 🧠 Raise and Handle Exception\n",
    "Write a function that raises a `ValueError` if input is not a digit."
   ]
  },
  {
   "cell_type": "markdown",
   "id": "b65ff015",
   "metadata": {},
   "source": [
    "## 22. 🧱 Handle TypeError in Function\n",
    "Write a function that handles a `TypeError` when performing invalid operations."
   ]
  },
  {
   "cell_type": "markdown",
   "id": "986ae85d",
   "metadata": {},
   "source": [
    "## 23. 🚫 Catch AttributeError\n",
    "Access an undefined method on an object and handle the `AttributeError`."
   ]
  },
  {
   "cell_type": "markdown",
   "id": "dd6cbe79",
   "metadata": {},
   "source": [
    "## 24. 🧪 Function Exception Handling\n",
    "Write a function to read a file and handle `IOError`, `FileNotFoundError`, etc."
   ]
  },
  {
   "cell_type": "markdown",
   "id": "fbde7641",
   "metadata": {},
   "source": [
    "## 25. 📦 Unpacking Error Handling\n",
    "Unpack a tuple of 2 elements into 3 variables. Handle the `ValueError`."
   ]
  },
  {
   "cell_type": "markdown",
   "id": "515003a7",
   "metadata": {},
   "source": [
    "## 26. 🧠 Custom Exception Class\n",
    "Create a custom exception class and use it in a program."
   ]
  },
  {
   "cell_type": "markdown",
   "id": "d81062f3",
   "metadata": {},
   "source": [
    "## 27. 🚫 Catch ImportError\n",
    "Write a program that attempts to import a non-existent module and catches the error."
   ]
  },
  {
   "cell_type": "markdown",
   "id": "894cfe4a",
   "metadata": {},
   "source": [
    "## 28. 🔄 Retry on Error\n",
    "Create a loop that retries reading a file until it succeeds (max 3 attempts)."
   ]
  },
  {
   "cell_type": "markdown",
   "id": "cd49e926",
   "metadata": {},
   "source": [
    "## 29. 🧮 Division Function with Errors\n",
    "Create a divide function that handles ZeroDivision and ValueErrors gracefully."
   ]
  },
  {
   "cell_type": "markdown",
   "id": "f3c59ca0",
   "metadata": {},
   "source": [
    "## 30. 🔁 Exception in Loop\n",
    "Write a program that processes a list of integers and handles exceptions while iterating."
   ]
  },
  {
   "cell_type": "markdown",
   "id": "08adac00",
   "metadata": {},
   "source": [
    "## 31. 🧱 Use Else with Try\n",
    "Write a program with try-except-else to check for even number input."
   ]
  },
  {
   "cell_type": "markdown",
   "id": "2919571a",
   "metadata": {},
   "source": [
    "## 32. 🚫 Program Exit on Error\n",
    "Use `sys.exit()` to stop the program when a fatal error occurs."
   ]
  },
  {
   "cell_type": "markdown",
   "id": "c425cee8",
   "metadata": {},
   "source": [
    "## 33. ⛔ Catch NameError\n",
    "Use a variable before defining it and handle the NameError."
   ]
  },
  {
   "cell_type": "markdown",
   "id": "3f340cbe",
   "metadata": {},
   "source": [
    "## 34. 🧠 Chain Exceptions\n",
    "Raise one exception from another using `raise from` syntax."
   ]
  },
  {
   "cell_type": "markdown",
   "id": "86845756",
   "metadata": {},
   "source": [
    "## 35. 🔐 Try with File Write\n",
    "Write to a file and handle any potential exceptions (e.g., permission error)."
   ]
  },
  {
   "cell_type": "markdown",
   "id": "6b519526",
   "metadata": {},
   "source": [
    "## 36. ⛔ Program Termination Message\n",
    "Use try-finally to print a message just before program exits."
   ]
  },
  {
   "cell_type": "markdown",
   "id": "839f99ca",
   "metadata": {},
   "source": [
    "## 37. 📜 Logging Exception\n",
    "Use the `logging` module to log errors in a file instead of printing."
   ]
  },
  {
   "cell_type": "markdown",
   "id": "1847fb53",
   "metadata": {},
   "source": [
    "## 38. 🧠 Validate Input Type\n",
    "Create a function that validates if input is `int`. Raise error if not."
   ]
  },
  {
   "cell_type": "markdown",
   "id": "a3e636a9",
   "metadata": {},
   "source": [
    "## 39. 🧪 Catch Exception Object\n",
    "Catch any general `Exception` and print its type and message."
   ]
  },
  {
   "cell_type": "markdown",
   "id": "297758b3",
   "metadata": {},
   "source": [
    "## 40. 🧠 Mini Project - Robust User Login\n",
    "Write a program for user login that handles invalid input, missing user data, and program termination cleanly."
   ]
  }
 ],
 "metadata": {},
 "nbformat": 4,
 "nbformat_minor": 5
}
