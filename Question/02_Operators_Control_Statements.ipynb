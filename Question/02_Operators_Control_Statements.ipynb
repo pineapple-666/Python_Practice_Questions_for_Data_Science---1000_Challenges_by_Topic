{
 "cells": [
  {
   "cell_type": "markdown",
   "id": "f935e4bd",
   "metadata": {},
   "source": [
    "1. **Assign and Print**\n",
    "\n",
    "Assign values to variables `a`, `b`, and `c`. Perform `c = a + b`, and print all three variables."
   ]
  },
  {
   "cell_type": "markdown",
   "id": "111e1bd7",
   "metadata": {},
   "source": [
    "2. **Multiple Assignment**\n",
    "\n",
    "Assign values to `x`, `y`, `z` in a single line and print them."
   ]
  },
  {
   "cell_type": "markdown",
   "id": "b7abc400",
   "metadata": {},
   "source": [
    "3. **Swap Values Using Assignment**\n",
    "\n",
    "Swap the values of two variables without using a third variable."
   ]
  },
  {
   "cell_type": "markdown",
   "id": "7dccf09b",
   "metadata": {},
   "source": [
    "4. **Compound Assignment Operator**\n",
    "\n",
    "Demonstrate the use of `+=`, `-=`, `*=`, and `/=` with an example for each."
   ]
  },
  {
   "cell_type": "markdown",
   "id": "05d0a18a",
   "metadata": {},
   "source": [
    "5. **Number Comparison**\n",
    "\n",
    "Input two numbers and use comparison operators to check which one is greater or if they are equal."
   ]
  },
  {
   "cell_type": "markdown",
   "id": "b1d493d6",
   "metadata": {},
   "source": [
    "6. **String Comparison**\n",
    "\n",
    "Compare two strings and check whether they are equal or not."
   ]
  },
  {
   "cell_type": "markdown",
   "id": "6ba030ca",
   "metadata": {},
   "source": [
    "7. **Age Eligibility**\n",
    "\n",
    "Input age and check if the person is eligible to vote (18+)."
   ]
  },
  {
   "cell_type": "markdown",
   "id": "8b6ee810",
   "metadata": {},
   "source": [
    "8. **Check for Even Equality**\n",
    "\n",
    "Check if the square of a number is equal to its double."
   ]
  },
  {
   "cell_type": "markdown",
   "id": "2989ad91",
   "metadata": {},
   "source": [
    "9. **Login Validator**\n",
    "\n",
    "Input username and password. Check both using logical AND to allow access."
   ]
  },
  {
   "cell_type": "markdown",
   "id": "e1a98831",
   "metadata": {},
   "source": [
    "10. **Student Pass Criteria**\n",
    "\n",
    "Input marks for three subjects. Student passes if all are above 40 using logical AND."
   ]
  },
  {
   "cell_type": "markdown",
   "id": "fbd3bc20",
   "metadata": {},
   "source": [
    "11. **Leap Year Check**\n",
    "\n",
    "Use logical operators to check if a year is a leap year."
   ]
  },
  {
   "cell_type": "markdown",
   "id": "1ab2007c",
   "metadata": {},
   "source": [
    "12. **Complex Condition**\n",
    "\n",
    "Check if a number is positive and even OR a multiple of 5."
   ]
  },
  {
   "cell_type": "markdown",
   "id": "cafe7aec",
   "metadata": {},
   "source": [
    "13. **Odd or Even Checker**\n",
    "\n",
    "Input a number and use `if` to check if it's even or odd."
   ]
  },
  {
   "cell_type": "markdown",
   "id": "5cac2822",
   "metadata": {},
   "source": [
    "14. **Positive, Negative, Zero**\n",
    "\n",
    "Input a number and check whether it is positive, negative, or zero."
   ]
  },
  {
   "cell_type": "markdown",
   "id": "4a64ead6",
   "metadata": {},
   "source": [
    "15. **Grade System**\n",
    "\n",
    "Input marks and assign grades using `if-elif-else` (90+: A, 80+: B, etc.)."
   ]
  },
  {
   "cell_type": "markdown",
   "id": "c01cfe29",
   "metadata": {},
   "source": [
    "16. **Number Category**\n",
    "\n",
    "Check if a number is single-digit, double-digit, or more."
   ]
  },
  {
   "cell_type": "markdown",
   "id": "1da3b5f5",
   "metadata": {},
   "source": [
    "17. **Eligibility for Scholarship**\n",
    "\n",
    "Check if student marks are above 85. If yes, check if family income is below 5L to assign scholarship."
   ]
  },
  {
   "cell_type": "markdown",
   "id": "ab927f18",
   "metadata": {},
   "source": [
    "18. **Nested Login System**\n",
    "\n",
    "Input username. If valid, then check password. If both correct, print welcome."
   ]
  },
  {
   "cell_type": "markdown",
   "id": "1941310a",
   "metadata": {},
   "source": [
    "19. **Movie Ticket Price**\n",
    "\n",
    "If age < 5 or age > 60 → ticket is free. Else → charge ₹200."
   ]
  },
  {
   "cell_type": "markdown",
   "id": "b2d48226",
   "metadata": {},
   "source": [
    "20. **Simple Calculator with Conditions**\n",
    "\n",
    "Input two numbers and an operator. Use `if-elif` to perform selected operation."
   ]
  }
 ],
 "metadata": {},
 "nbformat": 4,
 "nbformat_minor": 5
}
