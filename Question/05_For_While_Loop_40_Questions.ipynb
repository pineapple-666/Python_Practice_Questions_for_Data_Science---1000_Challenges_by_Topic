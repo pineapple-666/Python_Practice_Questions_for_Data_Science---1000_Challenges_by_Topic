{
 "cells": [
  {
   "cell_type": "markdown",
   "id": "dfb950bc",
   "metadata": {},
   "source": [
    "## 1. 🔁 Print Numbers 1 to 10\n",
    "Use a `for` loop to print numbers from 1 to 10."
   ]
  },
  {
   "cell_type": "markdown",
   "id": "601477c6",
   "metadata": {},
   "source": [
    "## 2. 🔁 Print Even Numbers\n",
    "Use a `while` loop to print even numbers from 2 to 20."
   ]
  },
  {
   "cell_type": "markdown",
   "id": "5b3752d5",
   "metadata": {},
   "source": [
    "## 3. 🧮 Sum of First N Natural Numbers\n",
    "Take user input `n` and calculate the sum using a `for` loop."
   ]
  },
  {
   "cell_type": "markdown",
   "id": "a41f2e70",
   "metadata": {},
   "source": [
    "## 4. 🔁 Factorial\n",
    "Use a `while` loop to calculate the factorial of a number `n`."
   ]
  },
  {
   "cell_type": "markdown",
   "id": "f60673e5",
   "metadata": {},
   "source": [
    "## 5. 🔁 Multiplication Table\n",
    "Use a `for` loop to print the multiplication table of a number."
   ]
  },
  {
   "cell_type": "markdown",
   "id": "6fc5b45c",
   "metadata": {},
   "source": [
    "## 6. 🔢 Reverse a Number\n",
    "Take a number and reverse its digits using a `while` loop."
   ]
  },
  {
   "cell_type": "markdown",
   "id": "f4b9f04d",
   "metadata": {},
   "source": [
    "## 7. 🔄 Print Elements of a List\n",
    "Iterate over a list and print each element using a `for` loop."
   ]
  },
  {
   "cell_type": "markdown",
   "id": "00c7cf0b",
   "metadata": {},
   "source": [
    "## 8. 📊 Count Digits in a Number\n",
    "Use a `while` loop to count the number of digits in an integer."
   ]
  },
  {
   "cell_type": "markdown",
   "id": "94685643",
   "metadata": {},
   "source": [
    "## 9. 🆚 Compare For and While\n",
    "Write the same program (e.g., printing squares from 1 to 10) using both `for` and `while` loops."
   ]
  },
  {
   "cell_type": "markdown",
   "id": "8562a680",
   "metadata": {},
   "source": [
    "## 10. 🧠 Break Statement\n",
    "Demonstrate the use of `break` by stopping a loop when a condition is met."
   ]
  },
  {
   "cell_type": "markdown",
   "id": "5a527a50",
   "metadata": {},
   "source": [
    "## 11. ⏭ Continue Statement\n",
    "Use `continue` to skip printing the number 5 in a loop from 1 to 10."
   ]
  },
  {
   "cell_type": "markdown",
   "id": "4652b555",
   "metadata": {},
   "source": [
    "## 12. 📈 Print Pattern of Stars\n",
    "Use a `for` loop to print a right triangle of `*` of height 5."
   ]
  },
  {
   "cell_type": "markdown",
   "id": "46755ab1",
   "metadata": {},
   "source": [
    "## 13. 🔁 Nested Loop Pattern\n",
    "Print a square pattern using nested `for` loops."
   ]
  },
  {
   "cell_type": "markdown",
   "id": "c81d6b1c",
   "metadata": {},
   "source": [
    "## 14. 🔁 Reverse a List\n",
    "Use a `while` loop to reverse and print a list."
   ]
  },
  {
   "cell_type": "markdown",
   "id": "49a60583",
   "metadata": {},
   "source": [
    "## 15. 📚 Print Characters in a String\n",
    "Use a `for` loop to print each character of a string."
   ]
  },
  {
   "cell_type": "markdown",
   "id": "079c3450",
   "metadata": {},
   "source": [
    "## 16. 🧮 Power of a Number\n",
    "Use a loop to compute x^y (without using `**` operator)."
   ]
  },
  {
   "cell_type": "markdown",
   "id": "63c82978",
   "metadata": {},
   "source": [
    "## 17. 🔁 Fibonacci Sequence\n",
    "Print the first `n` terms of the Fibonacci sequence using a loop."
   ]
  },
  {
   "cell_type": "markdown",
   "id": "6404415e",
   "metadata": {},
   "source": [
    "## 18. ✅ Check Prime\n",
    "Check whether a number is prime using a `for` loop."
   ]
  },
  {
   "cell_type": "markdown",
   "id": "c5c84f81",
   "metadata": {},
   "source": [
    "## 19. 🔁 List Comprehension Alternative\n",
    "Replicate a `for` loop result with list comprehension."
   ]
  },
  {
   "cell_type": "markdown",
   "id": "cf4c0e87",
   "metadata": {},
   "source": [
    "## 20. 🧠 Guessing Game\n",
    "Make a number guessing game that loops until the correct number is guessed."
   ]
  },
  {
   "cell_type": "markdown",
   "id": "416d35f3",
   "metadata": {},
   "source": [
    "## 21. 🔁 Find Max from List\n",
    "Use a loop to find the maximum number in a list without using `max()`."
   ]
  },
  {
   "cell_type": "markdown",
   "id": "640d2737",
   "metadata": {},
   "source": [
    "## 22. 🧹 Remove Duplicates\n",
    "Use a loop to remove duplicates from a list."
   ]
  },
  {
   "cell_type": "markdown",
   "id": "a9eb96f2",
   "metadata": {},
   "source": [
    "## 23. 🔁 Sum of Even Numbers in List\n",
    "Use a loop to sum all even numbers in a list."
   ]
  },
  {
   "cell_type": "markdown",
   "id": "155d0d86",
   "metadata": {},
   "source": [
    "## 24. 🔁 Count Occurrence\n",
    "Count how many times a specific element appears in a list using a loop."
   ]
  },
  {
   "cell_type": "markdown",
   "id": "27bfee15",
   "metadata": {},
   "source": [
    "## 25. 🔄 While Loop with Else\n",
    "Write a `while` loop with an `else` block that prints a message when done."
   ]
  },
  {
   "cell_type": "markdown",
   "id": "de8d8d84",
   "metadata": {},
   "source": [
    "## 26. 🔁 Reverse String\n",
    "Use a loop to reverse a given string."
   ]
  },
  {
   "cell_type": "markdown",
   "id": "885cb540",
   "metadata": {},
   "source": [
    "## 27. 🧠 Loop with Index\n",
    "Use `for` loop and `range()` to iterate over a list with index."
   ]
  },
  {
   "cell_type": "markdown",
   "id": "196f629b",
   "metadata": {},
   "source": [
    "## 28. 🔁 Filter Positive Numbers\n",
    "Use a loop to filter out only positive numbers from a list."
   ]
  },
  {
   "cell_type": "markdown",
   "id": "2c7dc165",
   "metadata": {},
   "source": [
    "## 29. 🧠 Sum of Digits\n",
    "Sum the digits of a number using a `while` loop."
   ]
  },
  {
   "cell_type": "markdown",
   "id": "192dc675",
   "metadata": {},
   "source": [
    "## 30. ⏹ Exit on Input\n",
    "Keep taking input from user until they type 'exit'."
   ]
  },
  {
   "cell_type": "markdown",
   "id": "6d00a27f",
   "metadata": {},
   "source": [
    "## 31. 🔄 Loop to Create Dictionary\n",
    "Use a loop to create a dictionary of squares from 1 to 10."
   ]
  },
  {
   "cell_type": "markdown",
   "id": "097216c7",
   "metadata": {},
   "source": [
    "## 32. 📦 Nested Loops for Multiplication Table\n",
    "Print full multiplication tables from 1 to 5."
   ]
  },
  {
   "cell_type": "markdown",
   "id": "58015bd9",
   "metadata": {},
   "source": [
    "## 33. 🎯 Find Target in List\n",
    "Use a loop to check if a number exists in a list."
   ]
  },
  {
   "cell_type": "markdown",
   "id": "0ba4d0da",
   "metadata": {},
   "source": [
    "## 34. 🔁 Print Reverse Pattern\n",
    "Print a reverse star triangle of height 5 using loop."
   ]
  },
  {
   "cell_type": "markdown",
   "id": "a7e5bba5",
   "metadata": {},
   "source": [
    "## 35. 🧠 Password Checker\n",
    "Keep asking for password until user types correct one using `while`."
   ]
  },
  {
   "cell_type": "markdown",
   "id": "bc5afac0",
   "metadata": {},
   "source": [
    "## 36. 🗳 Count Vowels in Sentence\n",
    "Use a `for` loop to count vowels in a sentence."
   ]
  },
  {
   "cell_type": "markdown",
   "id": "8aac8e6f",
   "metadata": {},
   "source": [
    "## 37. 🔁 Loop with Zip\n",
    "Loop over two lists at once using `zip()`."
   ]
  },
  {
   "cell_type": "markdown",
   "id": "2f0fc864",
   "metadata": {},
   "source": [
    "## 38. 🧠 Custom Range Loop\n",
    "Write a custom loop that behaves like `range(start, stop, step)` using `while`."
   ]
  },
  {
   "cell_type": "markdown",
   "id": "b0c9520f",
   "metadata": {},
   "source": [
    "## 39. 🔄 Loop Over Dictionary\n",
    "Loop through dictionary keys and values and print them."
   ]
  },
  {
   "cell_type": "markdown",
   "id": "82a1ca76",
   "metadata": {},
   "source": [
    "## 40. 📊 Simple Data Analysis\n",
    "Given a list of student marks, calculate average, highest and lowest using loops."
   ]
  }
 ],
 "metadata": {},
 "nbformat": 4,
 "nbformat_minor": 5
}
