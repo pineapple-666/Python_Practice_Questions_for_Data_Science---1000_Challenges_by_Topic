{
 "cells": [
  {
   "cell_type": "markdown",
   "id": "7d8970a9",
   "metadata": {},
   "source": [
    "## 1. 🔁 Print Numbers 1 to 10\n",
    "Use a `for` loop to print numbers from 1 to 10."
   ]
  },
  {
   "cell_type": "code",
   "execution_count": 2,
   "id": "93ca986d",
   "metadata": {},
   "outputs": [
    {
     "name": "stdout",
     "output_type": "stream",
     "text": [
      "1\n",
      "2\n",
      "3\n",
      "4\n",
      "5\n",
      "6\n",
      "7\n",
      "8\n",
      "9\n",
      "10\n"
     ]
    }
   ],
   "source": [
    "for i in range(1,11):\n",
    "    print(i)"
   ]
  },
  {
   "cell_type": "markdown",
   "id": "4ec4273b",
   "metadata": {},
   "source": [
    "## 2. 🔁 Print Even Numbers\n",
    "Use a `while` loop to print even numbers from 2 to 20."
   ]
  },
  {
   "cell_type": "code",
   "execution_count": 11,
   "id": "e979c68e",
   "metadata": {},
   "outputs": [
    {
     "name": "stdout",
     "output_type": "stream",
     "text": [
      "2\n",
      "4\n",
      "6\n",
      "8\n",
      "10\n",
      "12\n",
      "14\n",
      "16\n",
      "18\n",
      "20\n"
     ]
    }
   ],
   "source": [
    "n = 2\n",
    "while n <= 20:\n",
    "    print(n)\n",
    "    n += 2"
   ]
  },
  {
   "cell_type": "markdown",
   "id": "58cea69d",
   "metadata": {},
   "source": [
    "## 3. 🧮 Sum of First N Natural Numbers\n",
    "Take user input `n` and calculate the sum using a `for` loop."
   ]
  },
  {
   "cell_type": "code",
   "execution_count": 13,
   "id": "981fc8de",
   "metadata": {},
   "outputs": [
    {
     "name": "stdout",
     "output_type": "stream",
     "text": [
      "Sum of first 10 natural number is:55\n"
     ]
    }
   ],
   "source": [
    "n = int(input(\"Enter the number\"))\n",
    "sum = 0\n",
    "for i in range(1,n+1):\n",
    "    sum += i\n",
    "\n",
    "print(f\"Sum of first {n} natural number is:{sum}\")"
   ]
  },
  {
   "cell_type": "markdown",
   "id": "0b729700",
   "metadata": {},
   "source": [
    "## 4. 🔁 Factorial\n",
    "Use a `while` loop to calculate the factorial of a number `n`."
   ]
  },
  {
   "cell_type": "code",
   "execution_count": null,
   "id": "40c021a9",
   "metadata": {},
   "outputs": [
    {
     "name": "stdout",
     "output_type": "stream",
     "text": [
      "Factorial of 5 is: 120\n"
     ]
    }
   ],
   "source": [
    "n = int(input(\"Enter the number: \"))\n",
    "factorial = 1\n",
    "i = 1\n",
    "\n",
    "while i <= n:\n",
    "    factorial *= i\n",
    "    i += 1\n",
    "\n",
    "print(f\"Factorial of {n} is: {factorial}\")\n"
   ]
  },
  {
   "cell_type": "markdown",
   "id": "c013f076",
   "metadata": {},
   "source": [
    "## 5. 🔁 Multiplication Table\n",
    "Use a `for` loop to print the multiplication table of a number."
   ]
  },
  {
   "cell_type": "code",
   "execution_count": 16,
   "id": "34384686",
   "metadata": {},
   "outputs": [
    {
     "name": "stdout",
     "output_type": "stream",
     "text": [
      "5*1 = 5\n",
      "5*2 = 10\n",
      "5*3 = 15\n",
      "5*4 = 20\n",
      "5*5 = 25\n",
      "5*6 = 30\n",
      "5*7 = 35\n",
      "5*8 = 40\n",
      "5*9 = 45\n",
      "5*10 = 50\n"
     ]
    }
   ],
   "source": [
    "n = int(input(\"Enter the number: \"))\n",
    "for i in range(1,11):\n",
    "    print(f\"{n}*{i} = {i*n}\")"
   ]
  },
  {
   "cell_type": "markdown",
   "id": "4c9ade51",
   "metadata": {},
   "source": [
    "## 6. 🔢 Reverse a Number\n",
    "Take a number and reverse its digits using a `while` loop."
   ]
  },
  {
   "cell_type": "code",
   "execution_count": 17,
   "id": "26c3459e",
   "metadata": {},
   "outputs": [
    {
     "name": "stdout",
     "output_type": "stream",
     "text": [
      "Reversed number is: 4321\n"
     ]
    }
   ],
   "source": [
    "num = int(input(\"Enter a number: \"))\n",
    "reverse = 0\n",
    "\n",
    "while num > 0:\n",
    "    digit = num % 10          # Get last digit\n",
    "    reverse = reverse * 10 + digit  # Append digit to reversed number\n",
    "    num = num // 10           # Remove last digit\n",
    "\n",
    "print(f\"Reversed number is: {reverse}\")\n"
   ]
  },
  {
   "cell_type": "markdown",
   "id": "919b41db",
   "metadata": {},
   "source": [
    "## 7. 🔄 Print Elements of a List\n",
    "Iterate over a list and print each element using a `for` loop."
   ]
  },
  {
   "cell_type": "code",
   "execution_count": 18,
   "id": "87ecc80e",
   "metadata": {},
   "outputs": [
    {
     "name": "stdout",
     "output_type": "stream",
     "text": [
      "10\n",
      "20\n",
      "30\n",
      "20\n",
      "40\n",
      "50\n",
      "30\n",
      "60\n",
      "70\n",
      "10\n",
      "80\n",
      "90\n",
      "60\n",
      "100\n"
     ]
    }
   ],
   "source": [
    "numbers = [10, 20, 30, 20, 40, 50, 30, 60, 70, 10, 80, 90, 60, 100]\n",
    "for i in numbers:\n",
    "    print(i)"
   ]
  },
  {
   "cell_type": "markdown",
   "id": "2bb02a1d",
   "metadata": {},
   "source": [
    "## 8. 📊 Count Digits in a Number\n",
    "Use a `while` loop to count the number of digits in an integer."
   ]
  },
  {
   "cell_type": "code",
   "execution_count": 21,
   "id": "1a327fe8",
   "metadata": {},
   "outputs": [
    {
     "name": "stdout",
     "output_type": "stream",
     "text": [
      "10\n"
     ]
    }
   ],
   "source": [
    "num = int(input(\"Enter the number\"))\n",
    "digit = 0\n",
    "while num > 0:\n",
    "    digit += 1\n",
    "    num = num // 10\n",
    "\n",
    "print(digit)"
   ]
  },
  {
   "cell_type": "markdown",
   "id": "3ce8eecb",
   "metadata": {},
   "source": [
    "## 9. 🆚 Compare For and While\n",
    "Write the same program (e.g., printing squares from 1 to 10) using both `for` and `while` loops."
   ]
  },
  {
   "cell_type": "code",
   "execution_count": 23,
   "id": "c5c50e37",
   "metadata": {},
   "outputs": [
    {
     "name": "stdout",
     "output_type": "stream",
     "text": [
      "1\n",
      "2\n",
      "3\n",
      "4\n",
      "5\n",
      "6\n",
      "7\n",
      "8\n",
      "9\n",
      "10\n"
     ]
    }
   ],
   "source": [
    "for i in range(1,11):\n",
    "    print(i)"
   ]
  },
  {
   "cell_type": "code",
   "execution_count": 25,
   "id": "d808d0e4",
   "metadata": {},
   "outputs": [
    {
     "name": "stdout",
     "output_type": "stream",
     "text": [
      "1\n",
      "2\n",
      "3\n",
      "4\n",
      "5\n",
      "6\n",
      "7\n",
      "8\n",
      "9\n",
      "10\n"
     ]
    }
   ],
   "source": [
    "n = 1\n",
    "while n < 11:\n",
    "    print(n)\n",
    "    n += 1"
   ]
  },
  {
   "cell_type": "markdown",
   "id": "d4e6007f",
   "metadata": {},
   "source": [
    "## 10. 🧠 Break Statement\n",
    "Demonstrate the use of `break` by stopping a loop when a condition is met."
   ]
  },
  {
   "cell_type": "code",
   "execution_count": 29,
   "id": "27759fc5",
   "metadata": {},
   "outputs": [
    {
     "name": "stdout",
     "output_type": "stream",
     "text": [
      "1\n",
      "2\n",
      "3\n",
      "4\n",
      "5\n",
      "6\n",
      "7\n",
      "8\n",
      "Loop is break\n"
     ]
    }
   ],
   "source": [
    "n = 1\n",
    "while n < 11:\n",
    "    if n == 9:\n",
    "        print(\"Loop is break\")\n",
    "        break\n",
    "    print(n)\n",
    "    n += 1"
   ]
  },
  {
   "cell_type": "markdown",
   "id": "760e080d",
   "metadata": {},
   "source": [
    "## 11. ⏭ Continue Statement\n",
    "Use `continue` to skip printing the number 5 in a loop from 1 to 10."
   ]
  },
  {
   "cell_type": "code",
   "execution_count": 31,
   "id": "e89dfc2a",
   "metadata": {},
   "outputs": [
    {
     "name": "stdout",
     "output_type": "stream",
     "text": [
      "1\n",
      "2\n",
      "3\n",
      "4\n",
      "6\n",
      "7\n",
      "8\n",
      "9\n",
      "10\n"
     ]
    }
   ],
   "source": [
    "n = 1\n",
    "while n < 11:\n",
    "    if n == 5:\n",
    "        n += 1\n",
    "        continue\n",
    "    print(n)\n",
    "    n += 1"
   ]
  },
  {
   "cell_type": "markdown",
   "id": "5343df42",
   "metadata": {},
   "source": [
    "## 12. 📈 Print Pattern of Stars\n",
    "Use a `for` loop to print a right triangle of `*` of height 5."
   ]
  },
  {
   "cell_type": "code",
   "execution_count": 36,
   "id": "3b3e65c6",
   "metadata": {},
   "outputs": [
    {
     "name": "stdout",
     "output_type": "stream",
     "text": [
      "\n",
      "*\n",
      "**\n",
      "***\n",
      "****\n",
      "*****\n"
     ]
    }
   ],
   "source": [
    "for i in range(6):\n",
    "    print(i*\"*\",end=\"\\n\")"
   ]
  },
  {
   "cell_type": "markdown",
   "id": "b4bc574a",
   "metadata": {},
   "source": [
    "## 13. 🔁 Nested Loop Pattern\n",
    "Print a square pattern using nested `for` loops."
   ]
  },
  {
   "cell_type": "code",
   "execution_count": null,
   "id": "17ef6f17",
   "metadata": {},
   "outputs": [],
   "source": []
  },
  {
   "cell_type": "markdown",
   "id": "7edb8339",
   "metadata": {},
   "source": [
    "## 14. 🔁 Reverse a List\n",
    "Use a `while` loop to reverse and print a list."
   ]
  },
  {
   "cell_type": "markdown",
   "id": "f8e67ae5",
   "metadata": {},
   "source": [
    "## 15. 📚 Print Characters in a String\n",
    "Use a `for` loop to print each character of a string."
   ]
  },
  {
   "cell_type": "markdown",
   "id": "1eb231a4",
   "metadata": {},
   "source": [
    "## 16. 🧮 Power of a Number\n",
    "Use a loop to compute x^y (without using `**` operator)."
   ]
  },
  {
   "cell_type": "markdown",
   "id": "641ada6d",
   "metadata": {},
   "source": [
    "## 17. 🔁 Fibonacci Sequence\n",
    "Print the first `n` terms of the Fibonacci sequence using a loop."
   ]
  },
  {
   "cell_type": "markdown",
   "id": "64524a7d",
   "metadata": {},
   "source": [
    "## 18. ✅ Check Prime\n",
    "Check whether a number is prime using a `for` loop."
   ]
  },
  {
   "cell_type": "markdown",
   "id": "3860fbe4",
   "metadata": {},
   "source": [
    "## 19. 🔁 List Comprehension Alternative\n",
    "Replicate a `for` loop result with list comprehension."
   ]
  },
  {
   "cell_type": "markdown",
   "id": "11aed0bf",
   "metadata": {},
   "source": [
    "## 20. 🧠 Guessing Game\n",
    "Make a number guessing game that loops until the correct number is guessed."
   ]
  },
  {
   "cell_type": "markdown",
   "id": "087b9cda",
   "metadata": {},
   "source": [
    "## 21. 🔁 Find Max from List\n",
    "Use a loop to find the maximum number in a list without using `max()`."
   ]
  },
  {
   "cell_type": "markdown",
   "id": "af75c667",
   "metadata": {},
   "source": [
    "## 22. 🧹 Remove Duplicates\n",
    "Use a loop to remove duplicates from a list."
   ]
  },
  {
   "cell_type": "markdown",
   "id": "b591f857",
   "metadata": {},
   "source": [
    "## 23. 🔁 Sum of Even Numbers in List\n",
    "Use a loop to sum all even numbers in a list."
   ]
  },
  {
   "cell_type": "markdown",
   "id": "f4efd617",
   "metadata": {},
   "source": [
    "## 24. 🔁 Count Occurrence\n",
    "Count how many times a specific element appears in a list using a loop."
   ]
  },
  {
   "cell_type": "markdown",
   "id": "c9349334",
   "metadata": {},
   "source": [
    "## 25. 🔄 While Loop with Else\n",
    "Write a `while` loop with an `else` block that prints a message when done."
   ]
  },
  {
   "cell_type": "markdown",
   "id": "8f3ae891",
   "metadata": {},
   "source": [
    "## 26. 🔁 Reverse String\n",
    "Use a loop to reverse a given string."
   ]
  },
  {
   "cell_type": "markdown",
   "id": "62dd92a1",
   "metadata": {},
   "source": [
    "## 27. 🧠 Loop with Index\n",
    "Use `for` loop and `range()` to iterate over a list with index."
   ]
  },
  {
   "cell_type": "markdown",
   "id": "40eb6e70",
   "metadata": {},
   "source": [
    "## 28. 🔁 Filter Positive Numbers\n",
    "Use a loop to filter out only positive numbers from a list."
   ]
  },
  {
   "cell_type": "markdown",
   "id": "7fd1ede7",
   "metadata": {},
   "source": [
    "## 29. 🧠 Sum of Digits\n",
    "Sum the digits of a number using a `while` loop."
   ]
  },
  {
   "cell_type": "markdown",
   "id": "f87ab6dc",
   "metadata": {},
   "source": [
    "## 30. ⏹ Exit on Input\n",
    "Keep taking input from user until they type 'exit'."
   ]
  },
  {
   "cell_type": "markdown",
   "id": "67db9474",
   "metadata": {},
   "source": [
    "## 31. 🔄 Loop to Create Dictionary\n",
    "Use a loop to create a dictionary of squares from 1 to 10."
   ]
  },
  {
   "cell_type": "markdown",
   "id": "e1f0b8b5",
   "metadata": {},
   "source": [
    "## 32. 📦 Nested Loops for Multiplication Table\n",
    "Print full multiplication tables from 1 to 5."
   ]
  },
  {
   "cell_type": "markdown",
   "id": "ef2f366c",
   "metadata": {},
   "source": [
    "## 33. 🎯 Find Target in List\n",
    "Use a loop to check if a number exists in a list."
   ]
  },
  {
   "cell_type": "markdown",
   "id": "56698c24",
   "metadata": {},
   "source": [
    "## 34. 🔁 Print Reverse Pattern\n",
    "Print a reverse star triangle of height 5 using loop."
   ]
  },
  {
   "cell_type": "markdown",
   "id": "5e77e909",
   "metadata": {},
   "source": [
    "## 35. 🧠 Password Checker\n",
    "Keep asking for password until user types correct one using `while`."
   ]
  },
  {
   "cell_type": "markdown",
   "id": "2c70021a",
   "metadata": {},
   "source": [
    "## 36. 🗳 Count Vowels in Sentence\n",
    "Use a `for` loop to count vowels in a sentence."
   ]
  },
  {
   "cell_type": "markdown",
   "id": "bd1e8074",
   "metadata": {},
   "source": [
    "## 37. 🔁 Loop with Zip\n",
    "Loop over two lists at once using `zip()`."
   ]
  },
  {
   "cell_type": "markdown",
   "id": "64771c9d",
   "metadata": {},
   "source": [
    "## 38. 🧠 Custom Range Loop\n",
    "Write a custom loop that behaves like `range(start, stop, step)` using `while`."
   ]
  },
  {
   "cell_type": "markdown",
   "id": "a46af338",
   "metadata": {},
   "source": [
    "## 39. 🔄 Loop Over Dictionary\n",
    "Loop through dictionary keys and values and print them."
   ]
  },
  {
   "cell_type": "markdown",
   "id": "ffb99231",
   "metadata": {},
   "source": [
    "## 40. 📊 Simple Data Analysis\n",
    "Given a list of student marks, calculate average, highest and lowest using loops."
   ]
  }
 ],
 "metadata": {
  "kernelspec": {
   "display_name": "Python 3",
   "language": "python",
   "name": "python3"
  },
  "language_info": {
   "codemirror_mode": {
    "name": "ipython",
    "version": 3
   },
   "file_extension": ".py",
   "mimetype": "text/x-python",
   "name": "python",
   "nbconvert_exporter": "python",
   "pygments_lexer": "ipython3",
   "version": "3.12.0"
  }
 },
 "nbformat": 4,
 "nbformat_minor": 5
}
