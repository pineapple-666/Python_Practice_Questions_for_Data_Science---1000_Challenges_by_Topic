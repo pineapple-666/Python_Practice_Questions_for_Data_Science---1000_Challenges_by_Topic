{
 "cells": [
  {
   "cell_type": "markdown",
   "id": "468a7b52",
   "metadata": {},
   "source": [
    "## 1. 📦 Create a Tuple\n",
    "Store 5 fruit names in a tuple and print it."
   ]
  },
  {
   "cell_type": "code",
   "execution_count": 3,
   "id": "94d601ba",
   "metadata": {},
   "outputs": [
    {
     "name": "stdout",
     "output_type": "stream",
     "text": [
      "('Apple', 'banana', 'mango', 'kiwi', 'orange')\n"
     ]
    }
   ],
   "source": [
    "tuple_1 = (\"Apple\",\"banana\",\"mango\",\"kiwi\",\"orange\")\n",
    "print(tuple)"
   ]
  },
  {
   "cell_type": "markdown",
   "id": "c56c2244",
   "metadata": {},
   "source": [
    "## 2. 🔁 Tuple Repetition\n",
    "Repeat a tuple `(1, 2, 3)` three times and print the result."
   ]
  },
  {
   "cell_type": "code",
   "execution_count": 4,
   "id": "929615be",
   "metadata": {},
   "outputs": [
    {
     "name": "stdout",
     "output_type": "stream",
     "text": [
      "(1, 2, 3, 1, 2, 3, 1, 2, 3)\n"
     ]
    }
   ],
   "source": [
    "t = (1, 2, 3)\n",
    "repeated = t * 3\n",
    "print(repeated)\n"
   ]
  },
  {
   "cell_type": "markdown",
   "id": "0ed482ac",
   "metadata": {},
   "source": [
    "## 3. 📐 Tuple Slicing\n",
    "Given a tuple of 10 elements, slice and print the middle 4 elements."
   ]
  },
  {
   "cell_type": "code",
   "execution_count": 5,
   "id": "ab724f82",
   "metadata": {},
   "outputs": [
    {
     "name": "stdout",
     "output_type": "stream",
     "text": [
      "(10, 20, 30, 40, 50, 60, 70, 80, 90, 100)\n",
      "Middle 4 element of tuple: (40, 50, 60, 70)\n"
     ]
    }
   ],
   "source": [
    "my_tuple = (10, 20, 30, 40, 50, 60, 70, 80, 90, 100)\n",
    "print(my_tuple)\n",
    "print(f\"Middle 4 element of tuple: {my_tuple[3:7]}\")"
   ]
  },
  {
   "cell_type": "markdown",
   "id": "c0ff4080",
   "metadata": {},
   "source": [
    "## 4. ➕ Tuple Concatenation\n",
    "Concatenate two tuples and print the result."
   ]
  },
  {
   "cell_type": "code",
   "execution_count": 10,
   "id": "2cb81de6",
   "metadata": {},
   "outputs": [
    {
     "name": "stdout",
     "output_type": "stream",
     "text": [
      "(1, 2, 3, 4, 5, 6, 7, 8, 9, 10)\n"
     ]
    }
   ],
   "source": [
    "tuple_1 = (1,2,3,4,5)\n",
    "tuple_2 = (6,7,8,9,10)\n",
    "print(tuple_1+tuple_2)"
   ]
  },
  {
   "cell_type": "markdown",
   "id": "b06e0013",
   "metadata": {},
   "source": [
    "## 5. 🔍 Check Value in Tuple\n",
    "Check if 'apple' exists in the tuple of fruits."
   ]
  },
  {
   "cell_type": "code",
   "execution_count": 7,
   "id": "ec418cf4",
   "metadata": {},
   "outputs": [
    {
     "name": "stdout",
     "output_type": "stream",
     "text": [
      "Apple is in the tuple\n",
      "no apple in tuple\n",
      "no apple in tuple\n",
      "no apple in tuple\n",
      "no apple in tuple\n"
     ]
    }
   ],
   "source": [
    "tuple_1 = (\"Apple\",\"banana\",\"mango\",\"kiwi\",\"orange\")\n",
    "for i in tuple_1:\n",
    "    if i.lower() == \"apple\":\n",
    "        print(\"Apple is in the tuple\")\n",
    "    else:\n",
    "        print(\"no apple in tuple\")"
   ]
  },
  {
   "cell_type": "markdown",
   "id": "6713b8be",
   "metadata": {},
   "source": [
    "## 6. 🧠 Tuple to List Conversion\n",
    "Convert a tuple to a list, modify the list, and convert back to a tuple."
   ]
  },
  {
   "cell_type": "code",
   "execution_count": 1,
   "id": "b70a3eee",
   "metadata": {},
   "outputs": [
    {
     "name": "stdout",
     "output_type": "stream",
     "text": [
      "Tuple to List:['Apple', 'banana', 'mango', 'kiwi', 'orange']\n",
      "List after modification:['Apple', 'banana', 'mango', 'kiwi', 'orange', 'Guava']\n",
      "List to Tuple :('Apple', 'banana', 'mango', 'kiwi', 'orange', 'Guava')\n"
     ]
    }
   ],
   "source": [
    "\n",
    "my_tuple = (\"Apple\",\"banana\",\"mango\",\"kiwi\",\"orange\")\n",
    "my_list = list(my_tuple)\n",
    "print(f\"Tuple to List:{my_list}\")\n",
    "my_list.append(\"Guava\")\n",
    "print(f\"List after modification:{my_list}\")\n",
    "tuple_1 = tuple(my_list)\n",
    "print(f\"List to Tuple :{tuple_1}\")"
   ]
  },
  {
   "cell_type": "markdown",
   "id": "ac8f7a0b",
   "metadata": {},
   "source": [
    "## 7. 📚 Tuple Unpacking\n",
    "Unpack a tuple with 3 items into 3 variables and print them."
   ]
  },
  {
   "cell_type": "code",
   "execution_count": 3,
   "id": "0a6e0720",
   "metadata": {},
   "outputs": [
    {
     "name": "stdout",
     "output_type": "stream",
     "text": [
      "Name: Saurav\n",
      "Age: 22\n",
      "Country: India\n"
     ]
    }
   ],
   "source": [
    "info = (\"Saurav\", 22, \"India\")\n",
    "\n",
    "name, age, country = info\n",
    "\n",
    "print(\"Name:\", name)\n",
    "print(\"Age:\", age)\n",
    "print(\"Country:\", country)\n"
   ]
  },
  {
   "cell_type": "markdown",
   "id": "05696d79",
   "metadata": {},
   "source": [
    "## 8. 📏 Count in Tuple\n",
    "Count how many times 5 appears in the tuple `(5, 2, 3, 5, 1, 5)`."
   ]
  },
  {
   "cell_type": "code",
   "execution_count": 8,
   "id": "1c9f2928",
   "metadata": {},
   "outputs": [
    {
     "name": "stdout",
     "output_type": "stream",
     "text": [
      "Count of number 5 appear is 3\n"
     ]
    }
   ],
   "source": [
    "my_tuple = (5, 2, 3, 5, 1, 5)\n",
    "s = 0 \n",
    "for i in my_tuple:\n",
    "    if i == 5:\n",
    "        s += 1\n",
    "    else:\n",
    "        pass\n",
    "print(f\"Count of number 5 appear is {s}\")"
   ]
  },
  {
   "cell_type": "code",
   "execution_count": 9,
   "id": "ff1205cb",
   "metadata": {},
   "outputs": [
    {
     "name": "stdout",
     "output_type": "stream",
     "text": [
      "Number 5 appears 3 times in the tuple.\n"
     ]
    }
   ],
   "source": [
    "numbers = (5, 2, 3, 5, 1, 5)\n",
    "\n",
    "count_5 = numbers.count(5)\n",
    "\n",
    "print(f\"Number 5 appears {count_5} times in the tuple.\")\n"
   ]
  },
  {
   "cell_type": "markdown",
   "id": "950199c9",
   "metadata": {},
   "source": [
    "## 9. 🆚 Compare Two Tuples\n",
    "Write a program to compare two tuples and print whether they are equal."
   ]
  },
  {
   "cell_type": "code",
   "execution_count": 11,
   "id": "2ea81175",
   "metadata": {},
   "outputs": [
    {
     "name": "stdout",
     "output_type": "stream",
     "text": [
      "Both tuple are not equal\n"
     ]
    }
   ],
   "source": [
    "tuple_1 = (1,2,3,4,5)\n",
    "tuple_2 = (6,7,8,9,10)\n",
    "if tuple_1 == tuple_2:\n",
    "    print(\"Both tuple are equal\")\n",
    "else:\n",
    "    print(\"Both tuple are not equal\")"
   ]
  },
  {
   "cell_type": "markdown",
   "id": "a4f15681",
   "metadata": {},
   "source": [
    "## 10. 🔁 Reverse a Tuple\n",
    "Reverse the elements in a tuple using slicing."
   ]
  },
  {
   "cell_type": "code",
   "execution_count": 12,
   "id": "c6f0da92",
   "metadata": {},
   "outputs": [
    {
     "name": "stdout",
     "output_type": "stream",
     "text": [
      "Reverse of tuple is:(5, 4, 3, 2, 1)\n"
     ]
    }
   ],
   "source": [
    "tuple_1 = (1,2,3,4,5)\n",
    "print(f\"Reverse of tuple is:{tuple_1[::-1]}\")"
   ]
  },
  {
   "cell_type": "markdown",
   "id": "391a64c8",
   "metadata": {},
   "source": [
    "## 11. 📋 Create and Print Set\n",
    "Create a set of unique city names and print it."
   ]
  },
  {
   "cell_type": "code",
   "execution_count": 2,
   "id": "52d7fb92",
   "metadata": {},
   "outputs": [
    {
     "name": "stdout",
     "output_type": "stream",
     "text": [
      "{'Hyderabad', 'Ahmedabad', 'Delhi', 'Chennai', 'Lucknow', 'Bangalore', 'Kolkata', 'Mumbai', 'Pune'}\n"
     ]
    }
   ],
   "source": [
    "cities = {\"Delhi\", \"Mumbai\", \"Kolkata\", \"Chennai\", \"Bangalore\", \"Hyderabad\", \"Ahmedabad\", \"Pune\", \"Lucknow\"}\n",
    "print(cities)\n"
   ]
  },
  {
   "cell_type": "markdown",
   "id": "19c812b0",
   "metadata": {},
   "source": [
    "## 12. ➕ Add to Set\n",
    "Add an element to the set using `add()` and print the updated set."
   ]
  },
  {
   "cell_type": "code",
   "execution_count": 3,
   "id": "c88c6cd2",
   "metadata": {},
   "outputs": [
    {
     "name": "stdout",
     "output_type": "stream",
     "text": [
      "{'Hyderabad', 'Ahmedabad', 'Delhi', 'Chennai', 'Lucknow', 'Bangalore', 'Jaipur', 'Kolkata', 'Mumbai', 'Pune'}\n"
     ]
    }
   ],
   "source": [
    "cities.add(\"Jaipur\")\n",
    "print(cities)"
   ]
  },
  {
   "cell_type": "markdown",
   "id": "52550f2c",
   "metadata": {},
   "source": [
    "## 13. ➕➕ Update Set\n",
    "Add multiple elements to the set using `update()`."
   ]
  },
  {
   "cell_type": "code",
   "execution_count": 7,
   "id": "cd5bbbc1",
   "metadata": {},
   "outputs": [
    {
     "name": "stdout",
     "output_type": "stream",
     "text": [
      "{'Delhi', 'Chennai', 'Bangalore', 'Kolkata', 'Mumbai'}\n"
     ]
    }
   ],
   "source": [
    "cities = {\"Delhi\", \"Mumbai\", \"Kolkata\"}\n",
    "new_cities = [\"Chennai\", \"Bangalore\", \"Mumbai\"]  \n",
    "\n",
    "cities.update(new_cities)\n",
    "\n",
    "print(cities)\n"
   ]
  },
  {
   "cell_type": "markdown",
   "id": "4e2f2962",
   "metadata": {},
   "source": [
    "## 14. ❌ Remove from Set\n",
    "Remove an element from the set using `remove()` or `discard()`."
   ]
  },
  {
   "cell_type": "code",
   "execution_count": 8,
   "id": "a1ae04fe",
   "metadata": {},
   "outputs": [
    {
     "name": "stdout",
     "output_type": "stream",
     "text": [
      "{'Delhi', 'Chennai', 'Bangalore', 'Kolkata'}\n"
     ]
    }
   ],
   "source": [
    "cities.remove(\"Mumbai\")\n",
    "print(cities)"
   ]
  },
  {
   "cell_type": "markdown",
   "id": "55404999",
   "metadata": {},
   "source": [
    "## 15. 🔁 Set Operations\n",
    "Given two sets of numbers, perform union, intersection, and difference."
   ]
  },
  {
   "cell_type": "code",
   "execution_count": 12,
   "id": "1ef31003",
   "metadata": {},
   "outputs": [
    {
     "name": "stdout",
     "output_type": "stream",
     "text": [
      "Set A union Set B:{2, 4, 5, 6, 7, 8, 9, 10}\n",
      "Set A intersection Set B:{8, 10, 6}\n",
      "Set A difference Set B:{2, 4}\n"
     ]
    }
   ],
   "source": [
    "Set_A =  {2, 4, 6, 8, 10}\n",
    "Set_B = {5, 6, 7, 8, 9, 10}\n",
    "\n",
    "print(f\"Set A union Set B:{Set_A.union(Set_B)}\")\n",
    "print(f\"Set A intersection Set B:{Set_A.intersection(Set_B)}\")\n",
    "print(f\"Set A difference Set B:{Set_A.difference(Set_B)}\")\n",
    "\n"
   ]
  },
  {
   "cell_type": "markdown",
   "id": "f547bba2",
   "metadata": {},
   "source": [
    "## 16. 📤 Pop from Set\n",
    "Use `pop()` to remove a random element from a set and print it."
   ]
  },
  {
   "cell_type": "code",
   "execution_count": 15,
   "id": "b1f03d2d",
   "metadata": {},
   "outputs": [
    {
     "data": {
      "text/plain": [
       "2"
      ]
     },
     "execution_count": 15,
     "metadata": {},
     "output_type": "execute_result"
    }
   ],
   "source": [
    "Set_A =  {2, 4, 6, 8, 10}\n",
    "Set_A.pop()"
   ]
  },
  {
   "cell_type": "markdown",
   "id": "143964f5",
   "metadata": {},
   "source": [
    "## 17. 🔍 Membership Test\n",
    "Check if 'Delhi' is in the set of cities."
   ]
  },
  {
   "cell_type": "code",
   "execution_count": 20,
   "id": "07d91cda",
   "metadata": {},
   "outputs": [
    {
     "name": "stdout",
     "output_type": "stream",
     "text": [
      "Yes Delhi is present in the set\n"
     ]
    }
   ],
   "source": [
    "cities = {\"Delhi\", \"Mumbai\", \"Kolkata\", \"Chennai\", \"Bangalore\", \"Hyderabad\", \"Ahmedabad\", \"Pune\", \"Lucknow\"}\n",
    "for i in cities:\n",
    "    if i.lower() == \"delhi\":\n",
    "        print(\"Yes Delhi is present in the set\")\n",
    "    else:\n",
    "        pass"
   ]
  },
  {
   "cell_type": "markdown",
   "id": "2aaee352",
   "metadata": {},
   "source": [
    "## 18. 🧹 Clear a Set\n",
    "Clear all elements from a set and show the empty set."
   ]
  },
  {
   "cell_type": "code",
   "execution_count": 21,
   "id": "f9fe1f84",
   "metadata": {},
   "outputs": [
    {
     "name": "stdout",
     "output_type": "stream",
     "text": [
      "{2, 4, 5, 6, 7, 8, 9, 10}\n",
      "Set A after clear:set()\n"
     ]
    }
   ],
   "source": [
    "Set_A = {2, 4, 5, 6, 7, 8, 9, 10}\n",
    "print(Set_A)\n",
    "Set_A.clear()\n",
    "print(f\"Set A after clear:{Set_A}\")"
   ]
  },
  {
   "cell_type": "markdown",
   "id": "18c654cd",
   "metadata": {},
   "source": [
    "## 19. ♻️ Convert List to Set\n",
    "Convert a list with duplicate numbers into a set and print it."
   ]
  },
  {
   "cell_type": "code",
   "execution_count": 24,
   "id": "20bdb61b",
   "metadata": {},
   "outputs": [
    {
     "name": "stdout",
     "output_type": "stream",
     "text": [
      "Lsit of Number:[10, 20, 30, 20, 40, 50, 30, 60, 70, 10, 80, 90, 60, 100]\n",
      "Set of number is:{100, 70, 40, 10, 80, 50, 20, 90, 60, 30}\n"
     ]
    }
   ],
   "source": [
    "numbers = [10, 20, 30, 20, 40, 50, 30, 60, 70, 10, 80, 90, 60, 100]\n",
    "print(f\"Lsit of Number:{numbers}\")\n",
    "set_1 = set(numbers)\n",
    "print(f\"Set of number is:{set_1}\")\n"
   ]
  },
  {
   "cell_type": "markdown",
   "id": "d42037c9",
   "metadata": {},
   "source": [
    "## 20. 🚫 Set of Immutable Elements\n",
    "Create a set of tuples and try to add a list. Handle the error."
   ]
  },
  {
   "cell_type": "code",
   "execution_count": null,
   "id": "f27aec80",
   "metadata": {},
   "outputs": [],
   "source": []
  },
  {
   "cell_type": "markdown",
   "id": "aaa65b46",
   "metadata": {},
   "source": [
    "## 21. 📖 Create a Dictionary\n",
    "Create a dictionary to store student names and their grades."
   ]
  },
  {
   "cell_type": "markdown",
   "id": "1e705a11",
   "metadata": {},
   "source": [
    "## 22. 🔍 Access Dictionary Value\n",
    "Access the grade of a student using their name (key)."
   ]
  },
  {
   "cell_type": "markdown",
   "id": "cb7984d4",
   "metadata": {},
   "source": [
    "## 23. 🆕 Add Dictionary Item\n",
    "Add a new student and grade to the dictionary."
   ]
  },
  {
   "cell_type": "markdown",
   "id": "3340dd7b",
   "metadata": {},
   "source": [
    "## 24. 🔁 Loop through Dictionary\n",
    "Loop through the dictionary and print all student names and their grades."
   ]
  },
  {
   "cell_type": "markdown",
   "id": "8bb80e98",
   "metadata": {},
   "source": [
    "## 25. 🧹 Remove Dictionary Entry\n",
    "Remove a student from the dictionary using `pop()`."
   ]
  },
  {
   "cell_type": "markdown",
   "id": "b0ab046e",
   "metadata": {},
   "source": [
    "## 26. 🧪 Check Key Existence\n",
    "Check if a student name exists in the dictionary."
   ]
  },
  {
   "cell_type": "markdown",
   "id": "7e5a1b07",
   "metadata": {},
   "source": [
    "## 27. 🔁 Dictionary from List\n",
    "Convert a list of tuples into a dictionary: `[('a',1), ('b',2)]`."
   ]
  },
  {
   "cell_type": "markdown",
   "id": "696ac204",
   "metadata": {},
   "source": [
    "## 28. 🔄 Swap Keys and Values\n",
    "Swap keys and values in a dictionary. Assume values are unique."
   ]
  },
  {
   "cell_type": "markdown",
   "id": "6e66baf1",
   "metadata": {},
   "source": [
    "## 29. 📏 Dictionary Length\n",
    "Print the number of students in the dictionary using `len()`."
   ]
  },
  {
   "cell_type": "markdown",
   "id": "a83e169a",
   "metadata": {},
   "source": [
    "## 30. 📚 Merge Two Dictionaries\n",
    "Merge two dictionaries of marks and print the updated dictionary."
   ]
  },
  {
   "cell_type": "markdown",
   "id": "2de11414",
   "metadata": {},
   "source": [
    "## 31. ✍️ String Reversal\n",
    "Reverse a user-input string using slicing."
   ]
  },
  {
   "cell_type": "markdown",
   "id": "ce5068f0",
   "metadata": {},
   "source": [
    "## 32. 🔠 Capitalize Words\n",
    "Capitalize the first letter of each word in a sentence."
   ]
  },
  {
   "cell_type": "markdown",
   "id": "65ddea91",
   "metadata": {},
   "source": [
    "## 33. 🔤 Count Characters\n",
    "Count vowels, consonants, digits and spaces in a sentence."
   ]
  },
  {
   "cell_type": "markdown",
   "id": "f968872c",
   "metadata": {},
   "source": [
    "## 34. 🧽 Strip Extra Spaces\n",
    "Remove leading, trailing and extra internal spaces using `strip()` and `split()`."
   ]
  },
  {
   "cell_type": "markdown",
   "id": "cf4d05c9",
   "metadata": {},
   "source": [
    "## 35. 🪓 Slice and Extract\n",
    "Print the first 3 and last 3 characters of a string."
   ]
  },
  {
   "cell_type": "markdown",
   "id": "21eda86f",
   "metadata": {},
   "source": [
    "## 36. 🔍 Find and Replace\n",
    "Find a word in a string and replace it with another."
   ]
  },
  {
   "cell_type": "markdown",
   "id": "d53ac995",
   "metadata": {},
   "source": [
    "## 37. 🔁 Palindrome Checker\n",
    "Check whether a given string is a palindrome."
   ]
  },
  {
   "cell_type": "markdown",
   "id": "048ea534",
   "metadata": {},
   "source": [
    "## 38. 🆚 Compare Strings\n",
    "Take two strings and compare if they are equal (case insensitive)."
   ]
  },
  {
   "cell_type": "markdown",
   "id": "483adefd",
   "metadata": {},
   "source": [
    "## 39. 📚 Word Frequency Counter\n",
    "Count how many times each word appears in a sentence."
   ]
  },
  {
   "cell_type": "markdown",
   "id": "4584982a",
   "metadata": {},
   "source": [
    "## 40. 📝 Basic Text Analyzer\n",
    "Create a small text analyzer that counts lines, words, characters in a paragraph."
   ]
  }
 ],
 "metadata": {
  "kernelspec": {
   "display_name": "base",
   "language": "python",
   "name": "python3"
  },
  "language_info": {
   "codemirror_mode": {
    "name": "ipython",
    "version": 3
   },
   "file_extension": ".py",
   "mimetype": "text/x-python",
   "name": "python",
   "nbconvert_exporter": "python",
   "pygments_lexer": "ipython3",
   "version": "3.12.7"
  }
 },
 "nbformat": 4,
 "nbformat_minor": 5
}
