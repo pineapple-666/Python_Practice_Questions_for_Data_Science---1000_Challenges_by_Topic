{
 "cells": [
  {
   "cell_type": "markdown",
   "id": "ebf49675",
   "metadata": {},
   "source": [
    "## 1. 🛒 Create a Shopping List\n",
    "Ask the user to input 5 grocery items and store them in a list using `append()`. Print the list."
   ]
  },
  {
   "cell_type": "code",
   "execution_count": 8,
   "id": "e7409e6c",
   "metadata": {},
   "outputs": [
    {
     "name": "stdout",
     "output_type": "stream",
     "text": [
      "Your Shopping List: ['pen', 'buds', 'charger', 'string', 'ipad']\n"
     ]
    }
   ],
   "source": [
    "shopping_list = []\n",
    "\n",
    "for i in range(5):\n",
    "    item = input(f\"Enter item {i+1}: \")\n",
    "    shopping_list.append(item)\n",
    "\n",
    "print(\"Your Shopping List:\", shopping_list)"
   ]
  },
  {
   "cell_type": "markdown",
   "id": "0315a129",
   "metadata": {},
   "source": [
    "## 2. 📏 List Length Calculator\n",
    "Write a program that takes a list of cities and prints the number of cities using `len()`."
   ]
  },
  {
   "cell_type": "code",
   "execution_count": 10,
   "id": "420f2417",
   "metadata": {},
   "outputs": [
    {
     "name": "stdout",
     "output_type": "stream",
     "text": [
      "Number of cities in this list:5\n"
     ]
    }
   ],
   "source": [
    "city_list = ['Delhi', 'Mumbai', 'Kolkata', 'Chennai', 'Bengaluru'] \n",
    "print(f\"Number of cities in this list:{len(city_list)}\")"
   ]
  },
  {
   "cell_type": "markdown",
   "id": "1d21e64e",
   "metadata": {},
   "source": [
    "## 3. 🌡️ Find Maximum Temperature\n",
    "Given a list of temperatures for a week, find the highest temperature using `max()`."
   ]
  },
  {
   "cell_type": "code",
   "execution_count": 11,
   "id": "9dfc7207",
   "metadata": {},
   "outputs": [
    {
     "name": "stdout",
     "output_type": "stream",
     "text": [
      "Maximum temperature in this week:55\n"
     ]
    }
   ],
   "source": [
    "temp_list = [38,40,55,45,38,25,44]\n",
    "print(f\"Maximum temperature in this week:{max(temp_list)}\")"
   ]
  },
  {
   "cell_type": "markdown",
   "id": "62b2ff8f",
   "metadata": {},
   "source": [
    "## 4. 🔁 Convert Tuple to List\n",
    "Convert a tuple of vowels `('a', 'e', 'i', 'o', 'u')` into a list using `list()`."
   ]
  },
  {
   "cell_type": "code",
   "execution_count": null,
   "id": "9cdf0d8a",
   "metadata": {},
   "outputs": [],
   "source": [
    "vowels = ('a', 'e', 'i', 'o', 'u')\n",
    "vowel_list = list(vowels)\n",
    "\n",
    "print(\"Tuple:\", vowels)\n",
    "print(\"List:\", vowel_list)"
   ]
  },
  {
   "cell_type": "markdown",
   "id": "48f4dab4",
   "metadata": {},
   "source": [
    "## 5. 🧑‍🎓 Student Marks Sorter\n",
    "Sort a list of student marks in ascending order using `sort()` and print it."
   ]
  },
  {
   "cell_type": "code",
   "execution_count": 28,
   "id": "1a3749b7",
   "metadata": {},
   "outputs": [
    {
     "name": "stdout",
     "output_type": "stream",
     "text": [
      "[26, 40, 45, 49, 58, 62, 63, 65, 68, 75, 82, 85, 89, 90, 93, 95, 96]\n"
     ]
    }
   ],
   "source": [
    "marks = [58,96,65,40,85,45,75,26,49,82,63,68,89,90,95,93,62]\n",
    "marks.sort()\n",
    "print(marks)"
   ]
  },
  {
   "cell_type": "markdown",
   "id": "0df9bb6d",
   "metadata": {},
   "source": [
    "## 6. 🧪 List Type Checker\n",
    "Create any list and use `type()` to check and print the data type of the list."
   ]
  },
  {
   "cell_type": "code",
   "execution_count": 31,
   "id": "3677d805",
   "metadata": {},
   "outputs": [
    {
     "name": "stdout",
     "output_type": "stream",
     "text": [
      "<class 'int'>\n",
      "<class 'str'>\n",
      "<class 'float'>\n",
      "<class 'bool'>\n"
     ]
    }
   ],
   "source": [
    "list = [1,\"saurav\",5.11,True ]\n",
    "for i in list:\n",
    "    print(type(i))"
   ]
  },
  {
   "cell_type": "markdown",
   "id": "d6673bdf",
   "metadata": {},
   "source": [
    "## 7. 🔍 Index Finder\n",
    "From a list of names, find the index of a specific name entered by the user using `index()`."
   ]
  },
  {
   "cell_type": "code",
   "execution_count": 38,
   "id": "785b2f57",
   "metadata": {},
   "outputs": [
    {
     "name": "stdout",
     "output_type": "stream",
     "text": [
      "The index for this student Ishaan is 4\n"
     ]
    }
   ],
   "source": [
    "students = [\"Aarav\", \"Saanvi\", \"Rahul\", \"Priya\", \"Ishaan\"]\n",
    "name = input(\"Enter the name for which you want to check index\")\n",
    "print(f\"The index for this student {name} is {students.index(name)}\")"
   ]
  },
  {
   "cell_type": "markdown",
   "id": "ac261397",
   "metadata": {},
   "source": [
    "## 8. ➕ Append Elements Dynamically\n",
    "Ask the user how many numbers they want to enter, and then append those to a list."
   ]
  },
  {
   "cell_type": "code",
   "execution_count": 42,
   "id": "18f78b68",
   "metadata": {},
   "outputs": [
    {
     "name": "stdout",
     "output_type": "stream",
     "text": [
      "Your Shopping List: ['pen', 'buds', 'mouse']\n"
     ]
    }
   ],
   "source": [
    "shopping_list = []\n",
    "n = int(input(\"Enter number item you want add to list\"))\n",
    "for i in range(n):\n",
    "    item = input(f\"Enter item {i+1}: \")\n",
    "    shopping_list.append(item)\n",
    "\n",
    "print(\"Your Shopping List:\", shopping_list)"
   ]
  },
  {
   "cell_type": "markdown",
   "id": "0b396fc4",
   "metadata": {},
   "source": [
    "## 9. 🔢 Count Occurrences\n",
    "Count how many times a specific number appears in a given list using `count()`."
   ]
  },
  {
   "cell_type": "code",
   "execution_count": 43,
   "id": "112aa3bd",
   "metadata": {},
   "outputs": [
    {
     "name": "stdout",
     "output_type": "stream",
     "text": [
      "2\n"
     ]
    }
   ],
   "source": [
    "marks = [85, 92, 76, 64, 90, 88, 73, 95, 67, 81, 79, 84, 91, 58, 69, 76, 90, 85]\n",
    "print(marks.count(90))"
   ]
  },
  {
   "cell_type": "markdown",
   "id": "6404f780",
   "metadata": {},
   "source": [
    "## 10. 📚 Copy a List\n",
    "Create a list of books and copy it using `copy()`. Show both lists."
   ]
  },
  {
   "cell_type": "code",
   "execution_count": 45,
   "id": "3891104c",
   "metadata": {},
   "outputs": [
    {
     "name": "stdout",
     "output_type": "stream",
     "text": [
      "Original list:['NCERT Mathematics Class 10', 'NCERT Science Class 9', 'NCERT History Class 8', 'NCERT Geography Class 7', 'English Literature - First Flight (Class 10)', 'Hindi Kritika (Class 10)', 'Physics Part 1 - Class 12', 'Chemistry Part 2 - Class 11', 'Biology Class 12', 'Economics Class 10', 'Civics - Democratic Politics (Class 9)']\n",
      "Copy of list: ['NCERT Mathematics Class 10', 'NCERT Science Class 9', 'NCERT History Class 8', 'NCERT Geography Class 7', 'English Literature - First Flight (Class 10)', 'Hindi Kritika (Class 10)', 'Physics Part 1 - Class 12', 'Chemistry Part 2 - Class 11', 'Biology Class 12', 'Economics Class 10', 'Civics - Democratic Politics (Class 9)']\n"
     ]
    }
   ],
   "source": [
    "books = [\n",
    "    \"NCERT Mathematics Class 10\",\n",
    "    \"NCERT Science Class 9\",\n",
    "    \"NCERT History Class 8\",\n",
    "    \"NCERT Geography Class 7\",\n",
    "    \"English Literature - First Flight (Class 10)\",\n",
    "    \"Hindi Kritika (Class 10)\",\n",
    "    \"Physics Part 1 - Class 12\",\n",
    "    \"Chemistry Part 2 - Class 11\",\n",
    "    \"Biology Class 12\",\n",
    "    \"Economics Class 10\",\n",
    "    \"Civics - Democratic Politics (Class 9)\"\n",
    "]\n",
    "copy_list = books.copy()\n",
    "print(f\"Original list:{books}\")\n",
    "print(f\"Copy of list: {copy_list}\")"
   ]
  },
  {
   "cell_type": "markdown",
   "id": "c5511da3",
   "metadata": {},
   "source": [
    "## 11. 🧮 Filter Even Numbers\n",
    "Use `filter()` and a lambda function to extract all even numbers from a list."
   ]
  },
  {
   "cell_type": "code",
   "execution_count": 2,
   "id": "271dd9b8",
   "metadata": {},
   "outputs": [
    {
     "name": "stdout",
     "output_type": "stream",
     "text": [
      "Original List: [85, 92, 76, 64, 90, 88, 73, 95, 67, 81, 79, 84, 91, 58, 69, 76, 90, 85]\n",
      "Even Numbers: [92, 76, 64, 90, 88, 84, 58, 76, 90]\n"
     ]
    }
   ],
   "source": [
    "number = [85, 92, 76, 64, 90, 88, 73, 95, 67, 81, 79, 84, 91, 58, 69, 76, 90, 85]\n",
    "even_numbers = list(filter(lambda x: x % 2 == 0, number))\n",
    "\n",
    "print(\"Original List:\", number)\n",
    "print(\"Even Numbers:\", even_numbers)"
   ]
  },
  {
   "cell_type": "markdown",
   "id": "bc5dc7a7",
   "metadata": {},
   "source": [
    "## 12. 📘 Extend List with Subjects\n",
    "Add multiple subjects to a student’s subject list using `extend()`."
   ]
  },
  {
   "cell_type": "code",
   "execution_count": 3,
   "id": "bd930e33",
   "metadata": {},
   "outputs": [
    {
     "name": "stdout",
     "output_type": "stream",
     "text": [
      "['Maths', 'Science', 'Hindi', 'English', 'Social Science', 'IT', 'AI', 'Physical edu']\n"
     ]
    }
   ],
   "source": [
    "subjects = [\"Maths\",\"Science\",\"Hindi\",\"English\",\"Social Science\"]\n",
    "additional_subject = [\"IT\",\"AI\",\"Physical edu\"]\n",
    "subjects.extend(additional_subject)\n",
    "print(subjects)"
   ]
  },
  {
   "cell_type": "markdown",
   "id": "8f8d7830",
   "metadata": {},
   "source": [
    "## 13. ↪️ Insert Element at Specific Position\n",
    "Insert an item into a list at the 3rd position using `insert()`."
   ]
  },
  {
   "cell_type": "code",
   "execution_count": 5,
   "id": "c8ffca11",
   "metadata": {},
   "outputs": [
    {
     "name": "stdout",
     "output_type": "stream",
     "text": [
      "List after adding new item['Rice', 'Milk', 'Bread', 'Oats', 'Eggs', 'Sugar']\n"
     ]
    }
   ],
   "source": [
    "item = ['Rice', 'Milk', 'Bread', 'Eggs', 'Sugar']\n",
    "index = int(input(\"Enter the index value at you want to add item\"))\n",
    "item_name = input(\"Enter the item name\")\n",
    "item.insert(index,item_name)\n",
    "print(f\"List after adding new item{item}\")"
   ]
  },
  {
   "cell_type": "markdown",
   "id": "07e9481c",
   "metadata": {},
   "source": [
    "## 14. 🧹 Remove All Items\n",
    "Clear a to-do list using `clear()` and show the result."
   ]
  },
  {
   "cell_type": "code",
   "execution_count": 7,
   "id": "620d4e28",
   "metadata": {},
   "outputs": [
    {
     "name": "stdout",
     "output_type": "stream",
     "text": [
      "[]\n"
     ]
    }
   ],
   "source": [
    "to_do_list = [\n",
    "    \"Buy groceries\",\n",
    "    \"Finish homework\",\n",
    "    \"Call Mom\",\n",
    "    \"Read a book\",\n",
    "    \"Exercise for 30 minutes\"\n",
    "]\n",
    "to_do_list.clear()\n",
    "print(to_do_list)"
   ]
  },
  {
   "cell_type": "markdown",
   "id": "daf7805d",
   "metadata": {},
   "source": [
    "## 15. 📤 Pop Last Element\n",
    "Create a stack and simulate popping the top element using `pop()`."
   ]
  },
  {
   "cell_type": "code",
   "execution_count": 8,
   "id": "e3947d94",
   "metadata": {},
   "outputs": [
    {
     "name": "stdout",
     "output_type": "stream",
     "text": [
      "Initial stack: [10, 20, 30, 40, 50]\n",
      "Stack after pop [10, 20, 30, 40]\n"
     ]
    }
   ],
   "source": [
    "stack = [10, 20, 30, 40, 50]\n",
    "\n",
    "print(\"Initial stack:\", stack)\n",
    "stack.pop()\n",
    "print(f\"Stack after pop {stack}\")"
   ]
  },
  {
   "cell_type": "markdown",
   "id": "62b49301",
   "metadata": {},
   "source": [
    "## 16. ❌ Delete First Occurrence\n",
    "Remove the first occurrence of the number 7 from a list using `remove()`."
   ]
  },
  {
   "cell_type": "code",
   "execution_count": 10,
   "id": "b506eca6",
   "metadata": {},
   "outputs": [
    {
     "name": "stdout",
     "output_type": "stream",
     "text": [
      "Marks list after removing[85, 92, 76, 64, 88, 73, 95, 67, 81, 79, 84, 91, 58, 69, 76, 90, 85]\n"
     ]
    }
   ],
   "source": [
    "marks = [85, 92, 76, 64, 90, 88, 73, 95, 67, 81, 79, 84, 91, 58, 69, 76, 90, 85]\n",
    "marks.remove(90)\n",
    "print(f\"Marks list after removing{marks}\")"
   ]
  },
  {
   "cell_type": "markdown",
   "id": "3c941fd6",
   "metadata": {},
   "source": [
    "## 17. 🔄 Reverse a Playlist\n",
    "Reverse a list of songs using `reverse()` and print the original and reversed list."
   ]
  },
  {
   "cell_type": "code",
   "execution_count": 16,
   "id": "2ccbc364",
   "metadata": {},
   "outputs": [
    {
     "name": "stdout",
     "output_type": "stream",
     "text": [
      "Original Playlist :['Mere Gully Mein', 'Apna Time Aayega', 'Jungli Sher', 'Kaam 25', 'Machayenge', 'Sher Aaya Sher', 'Kohinoor', 'Vibe Hai', 'Azadi', 'Bantai', 'NY Se Mumbai', 'Gully Gang Cypher', 'Khatam', 'So High', 'Old Skool', '47', 'Selfmade', 'Bambiha Bole', 'Just Listen', 'Warning Shots']\n",
      "Playlist after Reversed:['Warning Shots', 'Just Listen', 'Bambiha Bole', 'Selfmade', '47', 'Old Skool', 'So High', 'Khatam', 'Gully Gang Cypher', 'NY Se Mumbai', 'Bantai', 'Azadi', 'Vibe Hai', 'Kohinoor', 'Sher Aaya Sher', 'Machayenge', 'Kaam 25', 'Jungli Sher', 'Apna Time Aayega', 'Mere Gully Mein']\n"
     ]
    }
   ],
   "source": [
    "songs = [\n",
    "    \"Mere Gully Mein\",\n",
    "    \"Apna Time Aayega\",\n",
    "    \"Jungli Sher\",\n",
    "    \"Kaam 25\",\n",
    "    \"Machayenge\",\n",
    "    \"Sher Aaya Sher\",\n",
    "    \"Kohinoor\",\n",
    "    \"Vibe Hai\",\n",
    "    \"Azadi\",\n",
    "    \"Bantai\",\n",
    "    \"NY Se Mumbai\",\n",
    "    \"Gully Gang Cypher\",\n",
    "    \"Khatam\",\n",
    "    \"So High\",\n",
    "    \"Old Skool\",\n",
    "    \"47\",\n",
    "    \"Selfmade\",\n",
    "    \"Bambiha Bole\",\n",
    "    \"Just Listen\",\n",
    "    \"Warning Shots\"\n",
    "]\n",
    "print(f\"Original Playlist :{songs}\")\n",
    "songs.reverse()\n",
    "print(f\"Playlist after Reversed:{songs}\")"
   ]
  },
  {
   "cell_type": "markdown",
   "id": "2979a12f",
   "metadata": {},
   "source": [
    "## 18. 🥇 Minimum Score in Class\n",
    "Input a list of scores and print the minimum using `min()`."
   ]
  },
  {
   "cell_type": "code",
   "execution_count": 17,
   "id": "3aa1bc8c",
   "metadata": {},
   "outputs": [
    {
     "name": "stdout",
     "output_type": "stream",
     "text": [
      "Lowest marks in class is:58\n"
     ]
    }
   ],
   "source": [
    "marks = [85, 92, 76, 64, 90, 88, 73, 95, 67, 81, 79, 84, 91, 58, 69, 76, 90, 85]\n",
    "print(f\"Lowest marks in class is:{min(marks)}\")"
   ]
  },
  {
   "cell_type": "markdown",
   "id": "961818f1",
   "metadata": {},
   "source": [
    "## 19. 🔠 Sort a List of Words\n",
    "Sort a list of random words in alphabetical order using `sort()`."
   ]
  },
  {
   "cell_type": "code",
   "execution_count": 24,
   "id": "67a0518b",
   "metadata": {},
   "outputs": [
    {
     "name": "stdout",
     "output_type": "stream",
     "text": [
      "List before sorting['storm', 'lemon', 'victory', 'apple', 'zenith', 'dream', 'xenon', 'kick', 'whisper', 'electric', 'horizon', 'night', 'glow', 'cloud', 'jungle', 'thunder', 'mystery', 'umbrella', 'peace', 'forest', 'river', 'brave', 'quartz', 'yellow', 'ocean', 'island']\n",
      "List after storting:['apple', 'brave', 'cloud', 'dream', 'electric', 'forest', 'glow', 'horizon', 'island', 'jungle', 'kick', 'lemon', 'mystery', 'night', 'ocean', 'peace', 'quartz', 'river', 'storm', 'thunder', 'umbrella', 'victory', 'whisper', 'xenon', 'yellow', 'zenith']\n"
     ]
    }
   ],
   "source": [
    "random_words = [\n",
    "    \"storm\", \"lemon\", \"victory\", \"apple\", \"zenith\",\n",
    "    \"dream\", \"xenon\", \"kick\", \"whisper\", \"electric\",\n",
    "    \"horizon\", \"night\", \"glow\", \"cloud\", \"jungle\",\n",
    "    \"thunder\", \"mystery\", \"umbrella\", \"peace\", \"forest\",\n",
    "    \"river\", \"brave\", \"quartz\", \"yellow\", \"ocean\", \"island\"\n",
    "]\n",
    "print(f\"List before sorting{random_words}\")\n",
    "random_words.sort()\n",
    "print(f\"List after storting:{random_words}\")\n"
   ]
  },
  {
   "cell_type": "markdown",
   "id": "9f744fa5",
   "metadata": {},
   "source": [
    "## 20. ⚖️ Compare Two Lists\n",
    "Write a function to compare two lists and return whether they are the same or not."
   ]
  },
  {
   "cell_type": "code",
   "execution_count": 29,
   "id": "9fa53851",
   "metadata": {},
   "outputs": [
    {
     "name": "stdout",
     "output_type": "stream",
     "text": [
      "BOth list are not same\n"
     ]
    }
   ],
   "source": [
    "def list_compare(list_1,list_2):\n",
    "    if list_1 == list_2:\n",
    "        print(\"Both list have same element\")\n",
    "    else:\n",
    "        print(\"BOth list are not same\")\n",
    "\n",
    "\n",
    "list_1 = [1,2,3,4]\n",
    "list_2 = [1,2,3,3]\n",
    "\n",
    "\n",
    "list_compare(list_1,list_2)\n"
   ]
  },
  {
   "cell_type": "markdown",
   "id": "45e5186d",
   "metadata": {},
   "source": [
    "## 21. 📏 Custom Sort by Length\n",
    "Given a list of words, sort them by their length."
   ]
  },
  {
   "cell_type": "code",
   "execution_count": 30,
   "id": "95a2a3c6",
   "metadata": {},
   "outputs": [
    {
     "name": "stdout",
     "output_type": "stream",
     "text": [
      "Original list:\n",
      "['apple', 'dream', 'xenon', 'storm', 'island', 'glow', 'umbrella', 'kick']\n",
      "Sorted by length:\n",
      "['glow', 'kick', 'apple', 'dream', 'xenon', 'storm', 'island', 'umbrella']\n"
     ]
    }
   ],
   "source": [
    "words = [\"apple\", \"dream\", \"xenon\", \"storm\", \"island\", \"glow\", \"umbrella\", \"kick\"]\n",
    "sorted_by_length = sorted(words, key=len)\n",
    "print(\"Original list:\")\n",
    "print(words)\n",
    "print(\"Sorted by length:\")\n",
    "print(sorted_by_length)\n"
   ]
  },
  {
   "cell_type": "markdown",
   "id": "c2257401",
   "metadata": {},
   "source": [
    "## 22. 👩‍🏫 Insert Attendance Status\n",
    "Insert 'Present' or 'Absent' into an attendance list for 5 students using `insert()`."
   ]
  },
  {
   "cell_type": "code",
   "execution_count": 31,
   "id": "fa1d0457",
   "metadata": {},
   "outputs": [
    {
     "name": "stdout",
     "output_type": "stream",
     "text": [
      "Final attendance sheet:['present', 'absent', 'present']\n"
     ]
    }
   ],
   "source": [
    "attendance = []\n",
    "n = int(input(\"Enter the no. of student\"))\n",
    "for i in range(n):\n",
    "    remarke = input(f\"Enter the attendance of student no.{i+1}\")\n",
    "    attendance.insert(i,remarke)\n",
    "\n",
    "print(f\"Final attendance sheet:{attendance}\")"
   ]
  },
  {
   "cell_type": "markdown",
   "id": "e05b15a3",
   "metadata": {},
   "source": [
    "## 23. 🧭 Search for Element\n",
    "Check whether an input number exists in a list and print its index if found."
   ]
  },
  {
   "cell_type": "code",
   "execution_count": 37,
   "id": "efbf9941",
   "metadata": {},
   "outputs": [
    {
     "name": "stdout",
     "output_type": "stream",
     "text": [
      "Your id is present in system a index value 1\n"
     ]
    }
   ],
   "source": [
    "ids = [101, 102, 103, 104, 105, 106, 107, 108, 109, 110, 111, 112, 113, 114, 115, 116, 117, 118, 119, 120,\n",
    "        121, 122, 123, 124, 125, 126, 127, 128, 129, 130, 131, 132, 133, 134, 135, 136, 137, 138, 139, 140, \n",
    "        141, 142, 143, 144, 145, 146, 147, 148, 149, 150]\n",
    "user_id = int(input(\"Enter your id\"))\n",
    "if user_id in ids:\n",
    "    print(f\"Your id is present in system a index value {ids.index(user_id)}\")\n",
    "else:\n",
    "    print(\"No id found\")"
   ]
  },
  {
   "cell_type": "markdown",
   "id": "4844be50",
   "metadata": {},
   "source": [
    "## 24. 🔗 Merge Two Lists\n",
    "Merge two lists using both `+` operator and `extend()` method. Compare results."
   ]
  },
  {
   "cell_type": "code",
   "execution_count": 45,
   "id": "418b0f5b",
   "metadata": {},
   "outputs": [
    {
     "name": "stdout",
     "output_type": "stream",
     "text": [
      "Result by using + operator[1, 2, 3, 4, 5, 6, 7, 8]\n",
      "Result by using extend method [1, 2, 3, 4, 5, 6, 7, 8]\n"
     ]
    }
   ],
   "source": [
    "list_1 = [1,2,3,4]\n",
    "list_2 = [5,6,7,8]\n",
    "print(f\"Result by using + operator{list_1 + list_2}\")\n",
    "list_1.extend(list_2)\n",
    "print(f\"Result by using extend method {list_1}\")"
   ]
  },
  {
   "cell_type": "markdown",
   "id": "3c91f81a",
   "metadata": {},
   "source": [
    "## 25. 🔁 Generate Multiples of 3\n",
    "Generate a list of the first 10 multiples of 3 and reverse the list."
   ]
  },
  {
   "cell_type": "code",
   "execution_count": 47,
   "id": "2332aa5e",
   "metadata": {},
   "outputs": [
    {
     "name": "stdout",
     "output_type": "stream",
     "text": [
      "List of first 10 multiples of 3:[3, 6, 9, 12, 15, 18, 21, 24, 27, 30]\n",
      "The reverse of list of first 10 multiples of 3:[30, 27, 24, 21, 18, 15, 12, 9, 6, 3]\n"
     ]
    }
   ],
   "source": [
    "list = []\n",
    "for i in range(1,11):\n",
    "    list.append(i*3)\n",
    "print(f\"List of first 10 multiples of 3:{list}\")\n",
    "list.reverse()\n",
    "print(f\"The reverse of list of first 10 multiples of 3:{list}\")"
   ]
  },
  {
   "cell_type": "markdown",
   "id": "3ce53a97",
   "metadata": {},
   "source": [
    "## 26. 📧 Unique Email Collector\n",
    "Ask users to enter 10 emails. Filter and store only the unique ones using list operations."
   ]
  },
  {
   "cell_type": "code",
   "execution_count": 8,
   "id": "9829f848",
   "metadata": {},
   "outputs": [
    {
     "name": "stdout",
     "output_type": "stream",
     "text": [
      "\n",
      "Unique emails:\n",
      "nvn@gmail.com\n",
      "v\n"
     ]
    }
   ],
   "source": [
    "emails = []\n",
    "\n",
    "# Ask user to enter 10 emails\n",
    "for i in range(10):\n",
    "    email = input(\"Enter email: \")\n",
    "    emails.append(email)\n",
    "\n",
    "# Remove duplicates using filter\n",
    "unique = []\n",
    "def check(email):\n",
    "    if email not in unique:\n",
    "        unique.append(email)\n",
    "        return True\n",
    "    return False\n",
    "\n",
    "unique_emails = list(filter(check, emails))\n",
    "\n",
    "# Print unique emails\n",
    "print(\"\\nUnique emails:\")\n",
    "for email in unique_emails:\n",
    "    print(email)\n"
   ]
  },
  {
   "cell_type": "markdown",
   "id": "d8b29a60",
   "metadata": {},
   "source": [
    "## 27. 🏆 Top 3 Marks Filter\n",
    "Given a list of marks, sort and print the top 3 highest using slicing and `sort()`."
   ]
  },
  {
   "cell_type": "code",
   "execution_count": 3,
   "id": "0f9b046a",
   "metadata": {},
   "outputs": [
    {
     "name": "stdout",
     "output_type": "stream",
     "text": [
      "Three Highest Score are :[95, 92, 91]\n"
     ]
    }
   ],
   "source": [
    "marks = [85, 92, 76, 64, 90, 88, 73, 95, 67, 81, 79, 84, 91, 58, 69, 76, 90, 85]\n",
    "marks.sort(reverse=True)\n",
    "print(f\"Three Highest Score are :{marks[0:3]}\")"
   ]
  },
  {
   "cell_type": "markdown",
   "id": "7a957d5b",
   "metadata": {},
   "source": [
    "## 28. 🗑️ Remove Duplicates\n",
    "Remove duplicates from a list manually (without using `set()`)."
   ]
  },
  {
   "cell_type": "code",
   "execution_count": 9,
   "id": "596153c1",
   "metadata": {},
   "outputs": [
    {
     "name": "stdout",
     "output_type": "stream",
     "text": [
      "[85, 92, 76, 64, 90, 88, 73, 95, 67, 81, 79, 84, 91, 58, 69]\n"
     ]
    }
   ],
   "source": [
    "marks = [85, 92, 76, 64, 90, 88, 73, 95, 67, 81, 79, 84, 91, 58, 69, 76, 90, 85]\n",
    "list_no = []\n",
    "\n",
    "for i in marks:\n",
    "    if i not in list_no:\n",
    "        list_no.append(i)\n",
    "\n",
    "\n",
    "\n",
    "print(list_no)"
   ]
  },
  {
   "cell_type": "markdown",
   "id": "27199e64",
   "metadata": {},
   "source": [
    "## 29. 🗳️ Voting Age Validator\n",
    "From a list of ages, filter out people eligible to vote (age ≥ 18) using `filter()`."
   ]
  },
  {
   "cell_type": "code",
   "execution_count": 14,
   "id": "3af5e444",
   "metadata": {},
   "outputs": [
    {
     "name": "stdout",
     "output_type": "stream",
     "text": [
      "Age list of people which are eligibel for voting:[45, 23, 36, 60, 29, 18, 55, 33, 41, 24, 21, 30, 47, 35, 50, 28, 20, 19, 48, 22, 43, 40, 38, 26, 31, 39, 27]\n"
     ]
    }
   ],
   "source": [
    "age = [12, 45, 8, 23, 17, 36, 14, 60, 10, 29, 18, 16, 55, 7, 33, 41, 13, 24, 6, 21, 15, 30, 47, 9, 35, 11, 50, 28, 20, 19, 5, 48, 22, 43, 40, 38, 26, 31, 39, 27]\n",
    "age_voting = list(filter(lambda x: x >= 18 ,age ))\n",
    "print(f\"Age list of people which are eligibel for voting:{age_voting}\")"
   ]
  },
  {
   "cell_type": "markdown",
   "id": "07b3b43c",
   "metadata": {},
   "source": [
    "## 30. 📦 Flatten Nested List\n",
    "Given a nested list `[[1,2], [3,4], [5]]`, flatten it into `[1,2,3,4,5]`."
   ]
  },
  {
   "cell_type": "code",
   "execution_count": 18,
   "id": "68738e6e",
   "metadata": {},
   "outputs": [
    {
     "name": "stdout",
     "output_type": "stream",
     "text": [
      "Flattened list: [1, 2, 3, 4, 5]\n"
     ]
    }
   ],
   "source": [
    "nested_list = [[1, 2], [3, 4], [5]]\n",
    "flat_list = []\n",
    "\n",
    "for sublist in nested_list:\n",
    "    for item in sublist:\n",
    "        flat_list.append(item)\n",
    "\n",
    "print(\"Flattened list:\", flat_list)"
   ]
  },
  {
   "cell_type": "markdown",
   "id": "4e3c282a",
   "metadata": {},
   "source": [
    "## 31. 👥 Find Common Elements\n",
    "Find common students in two different classes using list operations."
   ]
  },
  {
   "cell_type": "code",
   "execution_count": 20,
   "id": "17208183",
   "metadata": {},
   "outputs": [
    {
     "name": "stdout",
     "output_type": "stream",
     "text": [
      "Common Student in both list are:['Aarav', 'Sneha', 'Ankit', 'Riya']\n"
     ]
    }
   ],
   "source": [
    "students_group_1 = [\"Aarav\", \"Isha\", \"Rohan\", \"Sneha\", \"Karan\", \"Pooja\", \"Aditi\", \"Ankit\", \"Riya\", \"Suresh\"]\n",
    "students_group_2 = [\"Riya\", \"Ankit\", \"Meena\", \"Siddharth\", \"Sneha\", \"Aman\", \"Kavya\", \"Aarav\", \"Divya\", \"Raj\"]\n",
    "common_list = []\n",
    "for i in students_group_1:\n",
    "    for j in students_group_2:\n",
    "        if i == j:\n",
    "            common_list.append(i)\n",
    "\n",
    "print(f\"Common Student in both list are:{common_list}\")"
   ]
  },
  {
   "cell_type": "markdown",
   "id": "78fa1992",
   "metadata": {},
   "source": [
    "## 32. 🧮 Calculate Average from List\n",
    "Ask user to input numbers into a list. Calculate and print average."
   ]
  },
  {
   "cell_type": "code",
   "execution_count": 22,
   "id": "c8834130",
   "metadata": {},
   "outputs": [
    {
     "name": "stdout",
     "output_type": "stream",
     "text": [
      "The Average of given 5 is: 5.6\n"
     ]
    }
   ],
   "source": [
    "n = int(input(\"Enter the no. for which you want to know the average\"))\n",
    "list_1 = []\n",
    "for i in range(n):\n",
    "    num = int(input(f\"Enter the {i+1} number\"))\n",
    "    list_1.append(num)\n",
    "\n",
    "print(f\"The Average of given {n} is: {(sum(list_1))/n}\")"
   ]
  },
  {
   "cell_type": "markdown",
   "id": "2efc5ad7",
   "metadata": {},
   "source": [
    "## 33. 👫 Split Names by Gender\n",
    "From a list of names and gender tags, split them into male and female lists."
   ]
  },
  {
   "cell_type": "code",
   "execution_count": 41,
   "id": "4c526951",
   "metadata": {},
   "outputs": [
    {
     "name": "stdout",
     "output_type": "stream",
     "text": [
      "Male List:['Aarav', 'Rohan', 'Karan', 'Ankit', 'Suresh', 'Siddharth', 'Aman', 'Raj', 'Mohit', 'Rahul']\n",
      "Female List:['Isha', 'Sneha', 'Pooja', 'Aditi', 'Riya', 'Meena', 'Kavya', 'Divya', 'Neha', 'Priya']\n"
     ]
    }
   ],
   "source": [
    "names = [\n",
    "    \"Aarav\", \"Isha\", \"Rohan\", \"Sneha\", \"Karan\", \"Pooja\", \"Aditi\", \"Ankit\", \"Riya\", \"Suresh\",\n",
    "    \"Meena\", \"Siddharth\", \"Aman\", \"Kavya\", \"Divya\", \"Raj\", \"Mohit\", \"Neha\", \"Rahul\", \"Priya\"\n",
    "]\n",
    "genders = [\n",
    "    \"M\", \"F\", \"M\", \"F\", \"M\", \"F\", \"F\", \"M\", \"F\", \"M\",\n",
    "    \"F\", \"M\", \"M\", \"F\", \"F\", \"M\", \"M\", \"F\", \"M\", \"F\"\n",
    "]\n",
    "male = []\n",
    "female = []\n",
    "for i,x in zip(genders,names):\n",
    "    if i == \"M\":\n",
    "        male.append(x)\n",
    "    else:\n",
    "        female.append(x)\n",
    "\n",
    "print(f\"Male List:{male}\")\n",
    "print(f\"Female List:{female}\")"
   ]
  },
  {
   "cell_type": "markdown",
   "id": "381787b0",
   "metadata": {},
   "source": [
    "## 34. 🎓 Remove Failing Students\n",
    "From a list of marks, remove all entries below 33."
   ]
  },
  {
   "cell_type": "code",
   "execution_count": 23,
   "id": "1818a602",
   "metadata": {},
   "outputs": [
    {
     "name": "stdout",
     "output_type": "stream",
     "text": [
      "List of marks which are pass in exam[45, 67, 89, 76, 49, 90, 60, 55, 33, 47, 80, 38, 50, 41, 65, 34, 58, 73, 35, 44, 48, 39, 36]\n"
     ]
    }
   ],
   "source": [
    "marks = [\n",
    "    45, 67, 22, 89, 30, 76, 49, 15, 90, 28, 60, 55, 12, 33, 31, 25, 47, 80, 29, 38,\n",
    "    50, 41, 20, 19, 65, 34, 27, 32, 58, 73, 24, 26, 35, 44, 48, 17, 21, 39, 28, 36\n",
    "]\n",
    "\n",
    "pass_marks = list(filter(lambda x: x>=33 , marks))\n",
    "print(f\"List of marks which are pass in exam{pass_marks}\")"
   ]
  },
  {
   "cell_type": "markdown",
   "id": "95105aa2",
   "metadata": {},
   "source": [
    "## 35. 🧠 Filter Based on Condition\n",
    "Filter students whose names start with a vowel from a list of names."
   ]
  },
  {
   "cell_type": "code",
   "execution_count": 35,
   "id": "7020c1e7",
   "metadata": {},
   "outputs": [
    {
     "name": "stdout",
     "output_type": "stream",
     "text": [
      "List of student name without vowels['Rohan', 'Sneha', 'Karan', 'Pooja', 'Riya', 'Suresh', 'Riya', 'Meena', 'Siddharth', 'Sneha', 'Kavya', 'Divya', 'Raj']\n"
     ]
    }
   ],
   "source": [
    "name = [\"Aarav\", \"Isha\", \"Rohan\", \"Sneha\", \"Karan\", \"Pooja\", \"Aditi\", \"Ankit\", \"Riya\", \"Suresh\" ,\"Riya\", \"Ankit\", \"Meena\", \"Siddharth\", \"Sneha\", \"Aman\", \"Kavya\", \"Aarav\", \"Divya\", \"Raj\"]\n",
    "list_new  = []\n",
    "for i in name:\n",
    "    if i[0] not in [\"A\",\"E\",\"I\",\"O\",\"U\"]:\n",
    "        list_new.append(i)\n",
    "\n",
    "print(f\"List of student name without vowels{list_new}\")"
   ]
  },
  {
   "cell_type": "markdown",
   "id": "a9bd27fd",
   "metadata": {},
   "source": [
    "## 36. 📊 Student Gradebook App\n",
    "Store student names and marks in a list. Print name, mark, and grade (A/B/C) for each."
   ]
  },
  {
   "cell_type": "code",
   "execution_count": 39,
   "id": "4fbd8639",
   "metadata": {},
   "outputs": [
    {
     "name": "stdout",
     "output_type": "stream",
     "text": [
      "Aarav scored 45 and got grade E\n",
      "Isha score 67 and  grade C\n",
      "Rohan scored 22 and got grade F (Fail)\n",
      "Sneha score 89 and  grade A\n",
      "Karan scored 30 and got grade F (Fail)\n",
      "Pooja score 76 and  grade B\n",
      "Aditi scored 49 and got grade E\n",
      "Ankit scored 15 and got grade F (Fail)\n",
      "Riya score 90 and  grade A+\n",
      "Suresh scored 28 and got grade F (Fail)\n",
      "Meena score 60 and  grade C\n",
      "Siddharth score 55 and  grade D\n",
      "Aman scored 12 and got grade F (Fail)\n",
      "Kavya scored 33 and got grade E\n",
      "Divya scored 31 and got grade F (Fail)\n",
      "Raj scored 25 and got grade F (Fail)\n",
      "Mohit scored 47 and got grade E\n",
      "Neha score 80 and  grade A\n",
      "Rahul scored 29 and got grade F (Fail)\n",
      "Priya scored 38 and got grade E\n",
      "Aditya score 50 and  grade D\n",
      "Simran scored 41 and got grade E\n",
      "Tushar scored 20 and got grade F (Fail)\n",
      "Preeti scored 19 and got grade F (Fail)\n",
      "Yash score 65 and  grade C\n",
      "Bhavna scored 34 and got grade E\n",
      "Nikhil scored 27 and got grade F (Fail)\n",
      "Tanvi scored 32 and got grade F (Fail)\n",
      "Deepak score 58 and  grade D\n",
      "Komal score 73 and  grade B\n",
      "Gaurav scored 24 and got grade F (Fail)\n",
      "Shruti scored 26 and got grade F (Fail)\n",
      "Nitin scored 35 and got grade E\n",
      "Pallavi scored 44 and got grade E\n",
      "Manish scored 48 and got grade E\n",
      "Payal scored 17 and got grade F (Fail)\n",
      "Vikram scored 21 and got grade F (Fail)\n",
      "Reena scored 39 and got grade E\n",
      "Alok scored 28 and got grade F (Fail)\n",
      "Sonam scored 36 and got grade E\n"
     ]
    }
   ],
   "source": [
    "student_names = [\n",
    "    \"Aarav\", \"Isha\", \"Rohan\", \"Sneha\", \"Karan\", \"Pooja\", \"Aditi\", \"Ankit\", \"Riya\", \"Suresh\",\n",
    "    \"Meena\", \"Siddharth\", \"Aman\", \"Kavya\", \"Divya\", \"Raj\", \"Mohit\", \"Neha\", \"Rahul\", \"Priya\",\n",
    "    \"Aditya\", \"Simran\", \"Tushar\", \"Preeti\", \"Yash\", \"Bhavna\", \"Nikhil\", \"Tanvi\", \"Deepak\", \"Komal\",\n",
    "    \"Gaurav\", \"Shruti\", \"Nitin\", \"Pallavi\", \"Manish\", \"Payal\", \"Vikram\", \"Reena\", \"Alok\", \"Sonam\"\n",
    "]\n",
    "\n",
    "marks = [\n",
    "    45, 67, 22, 89, 30, 76, 49, 15, 90, 28,\n",
    "    60, 55, 12, 33, 31, 25, 47, 80, 29, 38,\n",
    "    50, 41, 20, 19, 65, 34, 27, 32, 58, 73,\n",
    "    24, 26, 35, 44, 48, 17, 21, 39, 28, 36\n",
    "]\n",
    "\n",
    "for x, i in zip(student_names, marks):\n",
    "        if i >= 90:\n",
    "            print(f\"{x} score {i} and  grade A+\")\n",
    "        elif 80 <= i <= 90 :\n",
    "            print(f\"{x} score {i} and  grade A\")\n",
    "        elif 70 <= i <= 80 :\n",
    "            print(f\"{x} score {i} and  grade B\")\n",
    "        elif 60 <= i <= 70 :\n",
    "            print(f\"{x} score {i} and  grade C\")\n",
    "        elif 50 <= i <= 60 :\n",
    "            print(f\"{x} score {i} and  grade D\")\n",
    "        elif 33 <= i < 50:\n",
    "            print(f\"{x} scored {i} and got grade E\")\n",
    "        else:\n",
    "            print(f\"{x} scored {i} and got grade F (Fail)\")"
   ]
  },
  {
   "cell_type": "markdown",
   "id": "008ad4ce",
   "metadata": {},
   "source": [
    "## 37. 📅 Daily Planner\n",
    "Create a weekly planner. Let the user add, remove, and view tasks using list operations."
   ]
  },
  {
   "cell_type": "code",
   "execution_count": null,
   "id": "75bfc180",
   "metadata": {},
   "outputs": [],
   "source": []
  },
  {
   "cell_type": "markdown",
   "id": "b220a4c6",
   "metadata": {},
   "source": [
    "## 38. 🎬 Movie Watchlist\n",
    "Create a watchlist with `append()`, mark movies as watched using `remove()`, and display the list."
   ]
  },
  {
   "cell_type": "code",
   "execution_count": 3,
   "id": "040d79a4",
   "metadata": {},
   "outputs": [
    {
     "name": "stdout",
     "output_type": "stream",
     "text": [
      "Your watchlist is here:\n",
      "['3 Idiots ', ' Chak De! India  ', 'Zindagi Na Milegi Dobara ']\n"
     ]
    }
   ],
   "source": [
    "watchlist = []\n",
    "n = int(input(\"Enter the number of movie you want to watch \"))\n",
    "for i in range(n):\n",
    "    name = input(f\"Enter the {i+1} movie name\")\n",
    "    watchlist.append(name)\n",
    "\n",
    "\n",
    "delete = input(\"Write Yes/No if you want to delete any movie\")\n",
    "\n",
    "if delete.lower() == \"yes\":\n",
    "    name_1 = input(\"Enter the movie name you want to delet\")\n",
    "    watchlist.remove(name_1)\n",
    "    print(f\"Your updated watchlist is here:\\n{watchlist}\")\n",
    "else:\n",
    "    print(f\"Your watchlist is here:\\n{watchlist}\")"
   ]
  },
  {
   "cell_type": "markdown",
   "id": "b79e40a9",
   "metadata": {},
   "source": [
    "## 39. 🧹 Email Cleaner\n",
    "Input a list of emails, remove duplicates, remove any containing 'spam', and print the cleaned list."
   ]
  },
  {
   "cell_type": "code",
   "execution_count": 10,
   "id": "4100d3f2",
   "metadata": {},
   "outputs": [
    {
     "name": "stdout",
     "output_type": "stream",
     "text": [
      "Here is your final database:\n",
      "['rohit.kumar@example.com', 'isha123@gmail.com', 'official.job.offer@fastmail.biz', 'luckywinner$$$@lotto-prize.com', 'anita.sharma@yahoo.com', 'nisha.patel@outlook.com', 'freegiftcard2024@scammer.ru', 'rahul.verma@gmail.com', 'winiphone14@fakepromo.win', 'support@trustedshop.in', 'login-alert@phishing-page.com', 'priyanka.mehta@protonmail.com', 'discounts99@buyquick.store', 'aman.singh@edu.in']\n"
     ]
    }
   ],
   "source": [
    "emails = [\n",
    "    \"rohit.kumar@example.com\",\n",
    "    \"isha123@gmail.com\",\n",
    "    \"official.job.offer@fastmail.biz\",\n",
    "    \"luckywinner$$$@lotto-prize.com\",\n",
    "    \"anita.sharma@yahoo.com\",\n",
    "    \"getrichnow@spamclicks.net\",\n",
    "    \"nisha.patel@outlook.com\",\n",
    "    \"freegiftcard2024@scammer.ru\",\n",
    "    \"rahul.verma@gmail.com\",\n",
    "    \"winiphone14@fakepromo.win\",\n",
    "    \"support@trustedshop.in\",\n",
    "    \"login-alert@phishing-page.com\",\n",
    "    \"priyanka.mehta@protonmail.com\",\n",
    "    \"discounts99@buyquick.store\",\n",
    "    \"aman.singh@edu.in\"\n",
    "]\n",
    "for i in emails:\n",
    "    if  \"spam\" in i:\n",
    "        emails.remove(i)\n",
    "\n",
    "\n",
    "print(f\"Here is your final database:\\n{emails}\")"
   ]
  },
  {
   "cell_type": "markdown",
   "id": "b740c96a",
   "metadata": {},
   "source": [
    "## 40. 🏥 Patient Record System\n",
    "Each patient has `[name, place, email, age]`. Store multiple patients and retrieve a patient's name & age by index."
   ]
  },
  {
   "cell_type": "code",
   "execution_count": 11,
   "id": "72742348",
   "metadata": {},
   "outputs": [
    {
     "name": "stdout",
     "output_type": "stream",
     "text": [
      "Name: Meena\n",
      "Age: 52\n"
     ]
    }
   ],
   "source": [
    "# List of patients: each patient is a list [name, place, email, age]\n",
    "patients = [\n",
    "    [\"Aarav\", \"Delhi\", \"aarav@example.com\", 34],\n",
    "    [\"Sneha\", \"Mumbai\", \"sneha123@gmail.com\", 28],\n",
    "    [\"Rohan\", \"Bangalore\", \"rohan.k@outlook.com\", 45],\n",
    "    [\"Meena\", \"Kolkata\", \"meena.mail@yahoo.com\", 52],\n",
    "    [\"Aditya\", \"Pune\", \"aditya_pune@gmail.com\", 39]\n",
    "]\n",
    "\n",
    "# Ask user for patient index\n",
    "index = int(input(\"Enter patient index (0 to {}): \".format(len(patients)-1)))\n",
    "\n",
    "# Retrieve and print name and age\n",
    "if 0 <= index < len(patients):\n",
    "    patient = patients[index]\n",
    "    print(\"Name:\", patient[0])\n",
    "    print(\"Age:\", patient[3])\n",
    "else:\n",
    "    print(\"❌ Invalid index\")\n"
   ]
  },
  {
   "cell_type": "code",
   "execution_count": null,
   "id": "8f4fec17",
   "metadata": {},
   "outputs": [],
   "source": []
  }
 ],
 "metadata": {
  "kernelspec": {
   "display_name": "Python 3",
   "language": "python",
   "name": "python3"
  },
  "language_info": {
   "codemirror_mode": {
    "name": "ipython",
    "version": 3
   },
   "file_extension": ".py",
   "mimetype": "text/x-python",
   "name": "python",
   "nbconvert_exporter": "python",
   "pygments_lexer": "ipython3",
   "version": "3.12.0"
  }
 },
 "nbformat": 4,
 "nbformat_minor": 5
}
