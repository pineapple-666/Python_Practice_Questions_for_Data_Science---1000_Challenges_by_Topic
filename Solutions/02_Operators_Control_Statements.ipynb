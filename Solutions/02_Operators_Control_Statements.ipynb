{
 "cells": [
  {
   "cell_type": "markdown",
   "id": "21c90f9f",
   "metadata": {},
   "source": [
    "1. **Assign and Print**\n",
    "\n",
    "Assign values to variables `a`, `b`, and `c`. Perform `c = a + b`, and print all three variables."
   ]
  },
  {
   "cell_type": "code",
   "execution_count": 3,
   "id": "cffafa65",
   "metadata": {},
   "outputs": [
    {
     "name": "stdout",
     "output_type": "stream",
     "text": [
      "a= 10\n",
      "b= 20\n",
      "c= 30\n"
     ]
    }
   ],
   "source": [
    "a = 10\n",
    "b = 20 \n",
    "c = a + b\n",
    "print(\"a=\",a)\n",
    "print(\"b=\",b)\n",
    "print(\"c=\",c)"
   ]
  },
  {
   "cell_type": "markdown",
   "id": "267dd4cc",
   "metadata": {},
   "source": [
    "2. **Multiple Assignment**\n",
    "\n",
    "Assign values to `x`, `y`, `z` in a single line and print them."
   ]
  },
  {
   "cell_type": "code",
   "execution_count": 4,
   "id": "5d3e03d2",
   "metadata": {},
   "outputs": [
    {
     "name": "stdout",
     "output_type": "stream",
     "text": [
      "x = 10\n",
      "y = 20\n",
      "z = 30\n"
     ]
    }
   ],
   "source": [
    "x,y,z = 10,20,30\n",
    "print(\"x =\",x)\n",
    "print(\"y =\",y)\n",
    "print(\"z =\",z)"
   ]
  },
  {
   "cell_type": "markdown",
   "id": "59200da6",
   "metadata": {},
   "source": [
    "3. **Swap Values Using Assignment**\n",
    "\n",
    "Swap the values of two variables without using a third variable."
   ]
  },
  {
   "cell_type": "code",
   "execution_count": 8,
   "id": "81113077",
   "metadata": {},
   "outputs": [
    {
     "name": "stdout",
     "output_type": "stream",
     "text": [
      "20\n",
      "10\n"
     ]
    }
   ],
   "source": [
    "a = 10\n",
    "b = 20\n",
    "a,b = b,a\n",
    "print(a)\n",
    "print(b)"
   ]
  },
  {
   "cell_type": "markdown",
   "id": "2f73cdc6",
   "metadata": {},
   "source": [
    "4. **Compound Assignment Operator**\n",
    "\n",
    "Demonstrate the use of `+=`, `-=`, `*=`, and `/=` with an example for each."
   ]
  },
  {
   "cell_type": "code",
   "execution_count": 18,
   "id": "446c9c0b",
   "metadata": {},
   "outputs": [
    {
     "name": "stdout",
     "output_type": "stream",
     "text": [
      "4\n"
     ]
    }
   ],
   "source": [
    "a = 2\n",
    "a += a\n",
    "print(a)"
   ]
  },
  {
   "cell_type": "code",
   "execution_count": 19,
   "id": "c3a007c7",
   "metadata": {},
   "outputs": [
    {
     "name": "stdout",
     "output_type": "stream",
     "text": [
      "0\n"
     ]
    }
   ],
   "source": [
    "a = 2\n",
    "a -= a\n",
    "print(a)"
   ]
  },
  {
   "cell_type": "code",
   "execution_count": 20,
   "id": "fb27ac56",
   "metadata": {},
   "outputs": [
    {
     "name": "stdout",
     "output_type": "stream",
     "text": [
      "4\n"
     ]
    }
   ],
   "source": [
    "a = 2\n",
    "a *= a\n",
    "print(a)"
   ]
  },
  {
   "cell_type": "code",
   "execution_count": 21,
   "id": "b1cb90e5",
   "metadata": {},
   "outputs": [
    {
     "name": "stdout",
     "output_type": "stream",
     "text": [
      "1.0\n"
     ]
    }
   ],
   "source": [
    "a = 2\n",
    "a /= a\n",
    "print(a)"
   ]
  },
  {
   "cell_type": "markdown",
   "id": "7d083003",
   "metadata": {},
   "source": [
    "5. **Number Comparison**\n",
    "\n",
    "Input two numbers and use comparison operators to check which one is greater or if they are equal."
   ]
  },
  {
   "cell_type": "code",
   "execution_count": 24,
   "id": "4d9acee3",
   "metadata": {},
   "outputs": [
    {
     "name": "stdout",
     "output_type": "stream",
     "text": [
      "A is greater then B : False\n",
      "B is greater then A : False\n",
      "A is equal to B : True\n"
     ]
    }
   ],
   "source": [
    "a = int(input(\"Enter first number\"))\n",
    "b = int(input(\"Enter the second number\"))\n",
    "\n",
    "print(\"A is greater then B :\", a>b)\n",
    "print(\"B is greater then A :\", a<b)\n",
    "print(\"A is equal to B :\", a == b)"
   ]
  },
  {
   "cell_type": "markdown",
   "id": "53112bd3",
   "metadata": {},
   "source": [
    "6. **String Comparison**\n",
    "\n",
    "Compare two strings and check whether they are equal or not."
   ]
  },
  {
   "cell_type": "code",
   "execution_count": 27,
   "id": "4be8a22e",
   "metadata": {},
   "outputs": [
    {
     "name": "stdout",
     "output_type": "stream",
     "text": [
      "True\n"
     ]
    }
   ],
   "source": [
    "str_1 = input(\"Enter the first string\")\n",
    "str_2 = input(\"Enter the second string\")\n",
    "print(str_1 == str_2)"
   ]
  },
  {
   "cell_type": "markdown",
   "id": "b77e78fa",
   "metadata": {},
   "source": [
    "7. **Age Eligibility**\n",
    "\n",
    "Input age and check if the person is eligible to vote (18+)."
   ]
  },
  {
   "cell_type": "code",
   "execution_count": 30,
   "id": "e3be81fa",
   "metadata": {},
   "outputs": [
    {
     "name": "stdout",
     "output_type": "stream",
     "text": [
      "You are eligible for voting\n"
     ]
    }
   ],
   "source": [
    "age = int(input(\"Enter your age \"))\n",
    "if age >= 18:\n",
    "    print(\"You are eligible for voting\")\n",
    "else:\n",
    "    print(\"You are not eligible for voting\")"
   ]
  },
  {
   "cell_type": "markdown",
   "id": "1c39f275",
   "metadata": {},
   "source": [
    "8. **Check for Even Equality**\n",
    "\n",
    "Check if the square of a number is equal to its double."
   ]
  },
  {
   "cell_type": "code",
   "execution_count": 32,
   "id": "7e455af0",
   "metadata": {},
   "outputs": [
    {
     "name": "stdout",
     "output_type": "stream",
     "text": [
      "The square to given number is equal to it double\n"
     ]
    }
   ],
   "source": [
    "number  = int(input(\"Enter the number you want to check\"))\n",
    "if number*2 == number**2:\n",
    "    print(\"The square to given number is equal to it double\")\n",
    "else:\n",
    "    print(\"The square of given number is not equal to its double\")"
   ]
  },
  {
   "cell_type": "markdown",
   "id": "b4a5e405",
   "metadata": {},
   "source": [
    "9. **Login Validator**\n",
    "\n",
    "Input username and password. Check both using logical AND to allow access."
   ]
  },
  {
   "cell_type": "code",
   "execution_count": 34,
   "id": "f1b10fa6",
   "metadata": {},
   "outputs": [
    {
     "name": "stdout",
     "output_type": "stream",
     "text": [
      "Access Granted\n"
     ]
    }
   ],
   "source": [
    "username = \"Sauravyadav7721\"\n",
    "password = \"sauravyadav\"\n",
    "\n",
    "username_by_user = input(\"Enter your username\")\n",
    "password_by_user = input(\"Enter your password\")\n",
    "\n",
    "if username == username_by_user and password == password_by_user:\n",
    "    print(\"Access Granted\")\n",
    "else:\n",
    "    print(\"Access is deny\")"
   ]
  },
  {
   "cell_type": "markdown",
   "id": "ab9492f6",
   "metadata": {},
   "source": [
    "10. **Student Pass Criteria**\n",
    "\n",
    "Input marks for three subjects. Student passes if all are above 40 using logical AND."
   ]
  },
  {
   "cell_type": "code",
   "execution_count": 37,
   "id": "e51b17df",
   "metadata": {},
   "outputs": [
    {
     "name": "stdout",
     "output_type": "stream",
     "text": [
      "You are Fail\n"
     ]
    }
   ],
   "source": [
    "marks_1 = float(input(\"Enter your marks in Subject 1\"))\n",
    "marks_2 = float(input(\"Enter your marks in Subject 2\"))\n",
    "marks_3 = float(input(\"Enter your marks in Subject 3\"))\n",
    "if marks_1 >= 40 and marks_2 >= 40 and marks_3 >= 40:\n",
    "    print(\"You are pass in all three Subject\")\n",
    "else:\n",
    "    print(\"You are Fail\")"
   ]
  },
  {
   "cell_type": "markdown",
   "id": "ded71f9e",
   "metadata": {},
   "source": [
    "11. **Leap Year Check**\n",
    "\n",
    "Use logical operators to check if a year is a leap year."
   ]
  },
  {
   "cell_type": "code",
   "execution_count": 40,
   "id": "43254946",
   "metadata": {},
   "outputs": [
    {
     "name": "stdout",
     "output_type": "stream",
     "text": [
      "This is not a leap year\n"
     ]
    }
   ],
   "source": [
    "year = int(input(\"Enter a year you want to check\"))\n",
    "if year % 4 == 0 and year % 100 != 0:\n",
    "    print(\"This is a Leap Year\")\n",
    "else:\n",
    "    print(\"This is not a leap year\")"
   ]
  },
  {
   "cell_type": "markdown",
   "id": "5b6bad73",
   "metadata": {},
   "source": [
    "12. **Complex Condition**\n",
    "\n",
    "Check if a number is positive and even OR a multiple of 5."
   ]
  },
  {
   "cell_type": "code",
   "execution_count": 43,
   "id": "ea2dca3c",
   "metadata": {},
   "outputs": [
    {
     "name": "stdout",
     "output_type": "stream",
     "text": [
      "Number satisfy the given condition\n"
     ]
    }
   ],
   "source": [
    "number = int(input(\"Enter the number\"))\n",
    "if (number > 0 and number % 2 ==0) or (number % 5 == 0):\n",
    "    print(\"Number satisfy the given condition\")\n",
    "else:\n",
    "    print(\"Number does not satisfy the given condition\")"
   ]
  },
  {
   "cell_type": "markdown",
   "id": "8c9e60ef",
   "metadata": {},
   "source": [
    "13. **Odd or Even Checker**\n",
    "\n",
    "Input a number and use `if` to check if it's even or odd."
   ]
  },
  {
   "cell_type": "code",
   "execution_count": 45,
   "id": "cbc1494a",
   "metadata": {},
   "outputs": [
    {
     "name": "stdout",
     "output_type": "stream",
     "text": [
      "Given number is Zero\n"
     ]
    }
   ],
   "source": [
    "num = int(input(\"Enter the you want to check\"))\n",
    "if num  == 0:\n",
    "    print(\"Given number is Zero\")\n",
    "elif num % 2 == 0:\n",
    "    print(\"Given number is even\")\n",
    "else:\n",
    "    print(\"Given number is odd\")"
   ]
  },
  {
   "cell_type": "markdown",
   "id": "ca13bfac",
   "metadata": {},
   "source": [
    "14. **Positive, Negative, Zero**\n",
    "\n",
    "Input a number and check whether it is positive, negative, or zero."
   ]
  },
  {
   "cell_type": "code",
   "execution_count": 46,
   "id": "f3db8859",
   "metadata": {},
   "outputs": [
    {
     "name": "stdout",
     "output_type": "stream",
     "text": [
      "Given number is negative\n"
     ]
    }
   ],
   "source": [
    "num = int(input(\"Enter the you want to check\"))\n",
    "if num  == 0:\n",
    "    print(\"Given number is Zero\")\n",
    "elif num > 0:\n",
    "    print(\"Given number is positive\")\n",
    "else:\n",
    "    print(\"Given number is negative\")"
   ]
  },
  {
   "cell_type": "markdown",
   "id": "5d421775",
   "metadata": {},
   "source": [
    "15. **Grade System**\n",
    "\n",
    "Input marks and assign grades using `if-elif-else` (90+: A, 80+: B, etc.)."
   ]
  },
  {
   "cell_type": "code",
   "execution_count": 49,
   "id": "b3427884",
   "metadata": {},
   "outputs": [
    {
     "name": "stdout",
     "output_type": "stream",
     "text": [
      "You score a grade A+\n"
     ]
    }
   ],
   "source": [
    "marks = float(input(\"Enter Your Marks\"))\n",
    "if marks >= 90:\n",
    "    print(\"You score a grade A+\")\n",
    "elif 80 <= marks <= 90 :\n",
    "    print(\"You score a grade A\")\n",
    "elif 70 <= marks <= 80 :\n",
    "    print(\"You score a grade B\")\n",
    "elif 60 <= marks <= 70 :\n",
    "    print(\"You score a grade C\")\n",
    "elif 50 <= marks <= 60 :\n",
    "    print(\"You score a grade D\")"
   ]
  },
  {
   "cell_type": "markdown",
   "id": "02b22c06",
   "metadata": {},
   "source": [
    "16. **Number Category**\n",
    "\n",
    "Check if a number is single-digit, double-digit, or more."
   ]
  },
  {
   "cell_type": "code",
   "execution_count": 52,
   "id": "fe7c38b3",
   "metadata": {},
   "outputs": [
    {
     "name": "stdout",
     "output_type": "stream",
     "text": [
      "More than two digits\n"
     ]
    }
   ],
   "source": [
    "num = int(input(\"Enter a number: \"))\n",
    "\n",
    "# Use absolute value to ignore negative sign\n",
    "digits = len(str(abs(num)))\n",
    "\n",
    "if digits == 1:\n",
    "    print(\"Single-digit number\")\n",
    "elif digits == 2:\n",
    "    print(\"Double-digit number\")\n",
    "else:\n",
    "    print(\"More than two digits\")\n"
   ]
  },
  {
   "cell_type": "markdown",
   "id": "fa211367",
   "metadata": {},
   "source": [
    "17. **Eligibility for Scholarship**\n",
    "\n",
    "Check if student marks are above 85. If yes, check if family income is below 5L to assign scholarship."
   ]
  },
  {
   "cell_type": "code",
   "execution_count": 56,
   "id": "28fd6727",
   "metadata": {},
   "outputs": [
    {
     "name": "stdout",
     "output_type": "stream",
     "text": [
      "You are not eligible for Scholarship\n"
     ]
    }
   ],
   "source": [
    "marks = float(input(\"Enter your marks\"))\n",
    "income = float(input(\"Enter your family income in lakh\"))\n",
    "\n",
    "if marks > 85 and income <=5:\n",
    "    print(\"You are eligible for Scholarship\")\n",
    "else:\n",
    "    print(\"You are not eligible for Scholarship\")"
   ]
  },
  {
   "cell_type": "markdown",
   "id": "1c72f5a3",
   "metadata": {},
   "source": [
    "18. **Nested Login System**\n",
    "\n",
    "Input username. If valid, then check password. If both correct, print welcome."
   ]
  },
  {
   "cell_type": "code",
   "execution_count": 57,
   "id": "ab281aa2",
   "metadata": {},
   "outputs": [
    {
     "name": "stdout",
     "output_type": "stream",
     "text": [
      "You have entred the incorrect password\n"
     ]
    }
   ],
   "source": [
    "username = \"Sauravyadav7721\"\n",
    "password = \"sauravyadav\"\n",
    "\n",
    "username_by_user = input(\"Enter your username\")\n",
    "password_by_user = input(\"Enter your password\")\n",
    "\n",
    "if username == username_by_user:\n",
    "    if password == password_by_user:\n",
    "        print(\"Welcome\")\n",
    "    else:\n",
    "        print(\"You have entred the incorrect password\")\n",
    "else:\n",
    "    print(\"You have entred the incorret username\")"
   ]
  },
  {
   "cell_type": "markdown",
   "id": "b1e3daa1",
   "metadata": {},
   "source": [
    "19. **Movie Ticket Price**\n",
    "\n",
    "If age < 5 or age > 60 → ticket is free. Else → charge ₹200."
   ]
  },
  {
   "cell_type": "code",
   "execution_count": 59,
   "id": "7b4b853f",
   "metadata": {},
   "outputs": [
    {
     "name": "stdout",
     "output_type": "stream",
     "text": [
      "Your ticket is free!\n"
     ]
    }
   ],
   "source": [
    "age = int(input(\"Enter your age\"))\n",
    "if age > 60 or age < 5:\n",
    "    print(\"Your ticket is free!\")\n",
    "else:\n",
    "    print(\"You have to pay Rs.200 for ticket\")"
   ]
  },
  {
   "cell_type": "markdown",
   "id": "8d1e4142",
   "metadata": {},
   "source": [
    "20. **Simple Calculator with Conditions**\n",
    "\n",
    "Input two numbers and an operator. Use `if-elif` to perform selected operation."
   ]
  },
  {
   "cell_type": "code",
   "execution_count": 60,
   "id": "cf5fcc4b",
   "metadata": {},
   "outputs": [
    {
     "name": "stdout",
     "output_type": "stream",
     "text": [
      "Choose your operation\n",
      "1.Add(+)\n",
      "2.Subtracation\n",
      "3.Muiltply \n",
      "4.Divide\n",
      "0.8333333333333334\n"
     ]
    }
   ],
   "source": [
    "a = int(input(\"Enter First no.\"))\n",
    "b = int(input(\"Enter second no.\"))\n",
    "operation = \"\"\"Choose your operation\n",
    "1.Add(+)\n",
    "2.Subtracation\n",
    "3.Muiltply \n",
    "4.Divide\"\"\"\n",
    "print(operation)\n",
    "sign = int(input(\"Enter the operation which you want to perform\"))\n",
    "if sign == 1:\n",
    "    print(a+b)\n",
    "elif sign == 2:\n",
    "    print(a-b)\n",
    "elif sign == 3:\n",
    "    print(a*b)\n",
    "elif sign == 4:\n",
    "    print(a/b)"
   ]
  },
  {
   "cell_type": "code",
   "execution_count": null,
   "id": "d321be23",
   "metadata": {},
   "outputs": [],
   "source": []
  }
 ],
 "metadata": {
  "kernelspec": {
   "display_name": "base",
   "language": "python",
   "name": "python3"
  },
  "language_info": {
   "codemirror_mode": {
    "name": "ipython",
    "version": 3
   },
   "file_extension": ".py",
   "mimetype": "text/x-python",
   "name": "python",
   "nbconvert_exporter": "python",
   "pygments_lexer": "ipython3",
   "version": "3.12.7"
  }
 },
 "nbformat": 4,
 "nbformat_minor": 5
}
