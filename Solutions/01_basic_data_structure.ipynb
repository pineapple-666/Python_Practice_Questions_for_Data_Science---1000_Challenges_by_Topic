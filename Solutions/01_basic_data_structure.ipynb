{
 "cells": [
  {
   "cell_type": "markdown",
   "id": "f2724bd8",
   "metadata": {},
   "source": [
    "1. **Sum of Two Numbers**\n",
    "\n",
    "Write a program to input two integers from the user and print their sum."
   ]
  },
  {
   "cell_type": "code",
   "execution_count": 1,
   "id": "040b8dfa",
   "metadata": {},
   "outputs": [
    {
     "name": "stdout",
     "output_type": "stream",
     "text": [
      "7\n"
     ]
    }
   ],
   "source": [
    "a = int(input(\"Enter a no.\"))\n",
    "b = int(input(\"Enter second no.\"))\n",
    "sum = a + b\n",
    "print(sum)"
   ]
  },
  {
   "cell_type": "markdown",
   "id": "5ced28e6",
   "metadata": {},
   "source": [
    "2. **Simple Interest Calculator**\n",
    "\n",
    "Take input for principal, rate, and time. Calculate and print simple interest."
   ]
  },
  {
   "cell_type": "code",
   "execution_count": 8,
   "id": "5e206e93",
   "metadata": {},
   "outputs": [
    {
     "name": "stdout",
     "output_type": "stream",
     "text": [
      "Your simple interest will be: 100.0\n"
     ]
    }
   ],
   "source": [
    "principal = float(input(\"enter the principal ampount\"))\n",
    "rate = float(input(\"Enter the the interest rate precentage\"))\n",
    "time = float(input(\"Enter the time period (in year)\"))\n",
    "interest = (principal * rate * time) / 100\n",
    "print(\"Your simple interest will be:\", interest)"
   ]
  },
  {
   "cell_type": "markdown",
   "id": "07d3ae09",
   "metadata": {},
   "source": [
    "3. **Convert Celsius to Fahrenheit**\n",
    "\n",
    "Take a temperature in Celsius and convert it to Fahrenheit using arithmetic operations."
   ]
  },
  {
   "cell_type": "code",
   "execution_count": 9,
   "id": "84ce8daa",
   "metadata": {},
   "outputs": [
    {
     "name": "stdout",
     "output_type": "stream",
     "text": [
      "Your temperature in Fahrenheit is : 104.0\n"
     ]
    }
   ],
   "source": [
    "temp = float(input(\"Enter the tempture in Celsius\"))\n",
    "Fahrenheit_temp = (temp*9/5) + 32\n",
    "print(\"Your temperature in Fahrenheit is :\",Fahrenheit_temp)"
   ]
  },
  {
   "cell_type": "markdown",
   "id": "190c96fa",
   "metadata": {},
   "source": [
    "4. **Data Type Detector**\n",
    "\n",
    "Take a user input and display whether it is an `int`, `float`, or `str`."
   ]
  },
  {
   "cell_type": "code",
   "execution_count": null,
   "id": "b6c4f3e7",
   "metadata": {},
   "outputs": [],
   "source": [
    "user_input = input(\"Enter something: \")\n",
    "\n",
    "# Check if it's an integer (e.g., \"123\")\n",
    "if user_input.isdigit():\n",
    "    print(\"The input is of type: int\")\n",
    "\n",
    "# Check if it's a float (e.g., \"12.34\")\n",
    "elif user_input.count('.') == 1:\n",
    "    whole, decimal = user_input.split('.')\n",
    "    if whole.isdigit() and decimal.isdigit():\n",
    "        print(\"The input is of type: float\")\n",
    "    else:\n",
    "        print(\"The input is of type: str\")\n",
    "\n",
    "# Otherwise, it's a string\n",
    "else:\n",
    "    print(\"The input is of type: str\")\n"
   ]
  },
  {
   "cell_type": "markdown",
   "id": "9b624c5d",
   "metadata": {},
   "source": [
    "5. **Area of a Circle**\n",
    "\n",
    "Input the radius of a circle. Calculate and print its area using `π = 3.14`."
   ]
  },
  {
   "cell_type": "code",
   "execution_count": 1,
   "id": "085dd1bf",
   "metadata": {},
   "outputs": [
    {
     "name": "stdout",
     "output_type": "stream",
     "text": [
      "Area of circle: 314.0\n"
     ]
    }
   ],
   "source": [
    "radius = float(input(\"Enter thr radius of the circle\"))\n",
    "pie = 3.14\n",
    "area = (radius**2*pie)\n",
    "print(\"Area of circle:\",area)"
   ]
  },
  {
   "cell_type": "markdown",
   "id": "10b8ce67",
   "metadata": {},
   "source": [
    "6. **Type Casting Challenge**\n",
    "\n",
    "Input a float and an int. Multiply them after casting both to integers."
   ]
  },
  {
   "cell_type": "code",
   "execution_count": 3,
   "id": "a399474c",
   "metadata": {},
   "outputs": [
    {
     "name": "stdout",
     "output_type": "stream",
     "text": [
      "Multiplication of both no. is : 25\n",
      "<class 'int'>\n"
     ]
    }
   ],
   "source": [
    "integer_no = int(input(\"Enter a integer no.\"))\n",
    "float_no = float(input(\"Enter a float no.\"))\n",
    "integer_no = int(integer_no)\n",
    "float_no = int(float_no)\n",
    "multiply = integer_no*float_no\n",
    "print(\"Multiplication of both no. is :\",multiply)\n",
    "print(type(multiply))"
   ]
  },
  {
   "cell_type": "markdown",
   "id": "82dd0183",
   "metadata": {},
   "source": [
    "7. **Using `len()` with Strings**\n",
    "\n",
    "Take a sentence from the user and print the number of characters in it."
   ]
  },
  {
   "cell_type": "code",
   "execution_count": 4,
   "id": "c162e940",
   "metadata": {},
   "outputs": [
    {
     "name": "stdout",
     "output_type": "stream",
     "text": [
      "23\n"
     ]
    }
   ],
   "source": [
    "Sentence = input(\"Enter a sentence\")\n",
    "print(len(Sentence))"
   ]
  },
  {
   "cell_type": "markdown",
   "id": "59567bbf",
   "metadata": {},
   "source": [
    "8. **Whitespace Remover**\n",
    "\n",
    "Input a string with leading and trailing spaces. Use `strip()` to clean it and print both versions."
   ]
  },
  {
   "cell_type": "code",
   "execution_count": 6,
   "id": "f39f0cac",
   "metadata": {},
   "outputs": [
    {
     "name": "stdout",
     "output_type": "stream",
     "text": [
      "Word with space:                                           Saurav                               \n",
      "Word without extra space: Saurav\n"
     ]
    }
   ],
   "source": [
    "word = input(\"Enter a word with space\")\n",
    "print(\"Word with space:\",word)\n",
    "word = word.strip()\n",
    "print(\"Word without extra space:\",word)"
   ]
  },
  {
   "cell_type": "markdown",
   "id": "505c01e0",
   "metadata": {},
   "source": [
    "9. **Character Count (Excluding Spaces)**\n",
    "\n",
    "Input a sentence. Count the characters excluding white spaces using `strip()` and `len()`."
   ]
  },
  {
   "cell_type": "code",
   "execution_count": 4,
   "id": "981cd523",
   "metadata": {},
   "outputs": [
    {
     "name": "stdout",
     "output_type": "stream",
     "text": [
      "19\n"
     ]
    }
   ],
   "source": [
    "Sentence = input(\"Enter a sentence\")\n",
    "Sentence = Sentence.strip()\n",
    "Sentence = Sentence.replace(\" \",\"\")\n",
    "print(len(Sentence))"
   ]
  },
  {
   "cell_type": "markdown",
   "id": "6fae2dfa",
   "metadata": {},
   "source": [
    "10. **Find Length of Name**\n",
    "\n",
    "Ask the user to input their full name and print how many characters it contains (excluding spaces)."
   ]
  },
  {
   "cell_type": "code",
   "execution_count": null,
   "id": "8d15cd37",
   "metadata": {},
   "outputs": [
    {
     "name": "stdout",
     "output_type": "stream",
     "text": [
      "12\n"
     ]
    }
   ],
   "source": [
    "name = input(\"Enter your full name\")\n",
    "name = name.replace(\" \",\"\")\n",
    "print(len(name))"
   ]
  },
  {
   "cell_type": "markdown",
   "id": "d0c9e46e",
   "metadata": {},
   "source": [
    "11. **Digit Sum Calculator**\n",
    "\n",
    "Input a number like 1234 and print the sum of its digits (e.g., `1 + 2 + 3 + 4 = 10`)."
   ]
  },
  {
   "cell_type": "code",
   "execution_count": 16,
   "id": "6cbde834",
   "metadata": {},
   "outputs": [
    {
     "name": "stdout",
     "output_type": "stream",
     "text": [
      "['2', '5', '8']\n",
      "15\n"
     ]
    }
   ],
   "source": [
    "number = (input(\"Enter an number without space like:1234\"))\n",
    "digits = list(str(number))\n",
    "print((digits))\n",
    "digits_sum = 0\n",
    "for i in digits:\n",
    "    digits_sum += int(i)\n",
    "print(digits_sum)"
   ]
  },
  {
   "cell_type": "markdown",
   "id": "7a5601bb",
   "metadata": {},
   "source": [
    "12. **Check if Number is Even or Odd**\n",
    "\n",
    "Input a number and check whether it's even or odd using modulo and conditional logic."
   ]
  },
  {
   "cell_type": "code",
   "execution_count": 19,
   "id": "c5979f7d",
   "metadata": {},
   "outputs": [
    {
     "name": "stdout",
     "output_type": "stream",
     "text": [
      "The given no. is even\n"
     ]
    }
   ],
   "source": [
    "integer = int(input(\"Enter the no. you want to check it\"))\n",
    "if integer%2 == 0:\n",
    "    print(\"The given no. is even\")\n",
    "elif integer%2 != 0:\n",
    "    print(\"the given no. is odd\")\n",
    "else:\n",
    "    (\"the given no. is zero\")"
   ]
  },
  {
   "cell_type": "markdown",
   "id": "a6b844c6",
   "metadata": {},
   "source": [
    "13. **Convert Age to Days**\n",
    "\n",
    "Input a person's age and print how many days they have lived approximately (ignoring leap years)."
   ]
  },
  {
   "cell_type": "code",
   "execution_count": 22,
   "id": "db54b84b",
   "metadata": {},
   "outputs": [
    {
     "name": "stdout",
     "output_type": "stream",
     "text": [
      "Your age in days: 730\n"
     ]
    }
   ],
   "source": [
    "age = int(input(\"Enter your age in year\"))\n",
    "days = 365\n",
    "age_days = age*days\n",
    "print(\"Your age in days:\",age_days)"
   ]
  },
  {
   "cell_type": "markdown",
   "id": "71676888",
   "metadata": {},
   "source": [
    "14. **Word Count in a Sentence**\n",
    "\n",
    "Use `strip()` and `split()` to count words in a given sentence."
   ]
  },
  {
   "cell_type": "code",
   "execution_count": 27,
   "id": "b8e6a5e2",
   "metadata": {},
   "outputs": [
    {
     "name": "stdout",
     "output_type": "stream",
     "text": [
      "list of words in given sentence ['ankit', 'yadav']\n",
      "2\n"
     ]
    }
   ],
   "source": [
    "Sentence = input(\"Enter a sentence\")\n",
    "Sentence = Sentence.strip()\n",
    "list_word = list(Sentence.split(\" \"))\n",
    "print(\"list of words in given sentence\",list_word)\n",
    "print(len(list_word))"
   ]
  },
  {
   "cell_type": "markdown",
   "id": "d74d0c84",
   "metadata": {},
   "source": [
    "15. **String Reversal Without Built-ins**\n",
    "\n",
    "Input a string and reverse it manually without using slicing."
   ]
  },
  {
   "cell_type": "code",
   "execution_count": 28,
   "id": "63a1cbef",
   "metadata": {},
   "outputs": [
    {
     "name": "stdout",
     "output_type": "stream",
     "text": [
      "The reverse of given string is : varuas\n"
     ]
    }
   ],
   "source": [
    "word = input(\"Enter a string you want to revers\")\n",
    "print(\"The reverse of given string is :\",word[::-1])"
   ]
  },
  {
   "cell_type": "markdown",
   "id": "3da563f1",
   "metadata": {},
   "source": [
    "16. **Product of Digits**\n",
    "\n",
    "Input a number and find the product of its digits."
   ]
  },
  {
   "cell_type": "code",
   "execution_count": 29,
   "id": "422878ee",
   "metadata": {},
   "outputs": [
    {
     "name": "stdout",
     "output_type": "stream",
     "text": [
      "['1', '2']\n",
      "2\n"
     ]
    }
   ],
   "source": [
    "number = (input(\"Enter an number without space like:1234\"))\n",
    "digits = list(str(number))\n",
    "print((digits))\n",
    "digits_sum = 1\n",
    "for i in digits:\n",
    "    digits_sum = digits_sum* int(i)\n",
    "print(digits_sum)"
   ]
  },
  {
   "cell_type": "markdown",
   "id": "4f88b5b1",
   "metadata": {},
   "source": [
    "17. **Name Formatter**\n",
    "\n",
    "Input a messy name (e.g., `'  saurav yadav   '`) and clean it using `strip()`, then capitalize first letters."
   ]
  },
  {
   "cell_type": "code",
   "execution_count": 30,
   "id": "6b3a3563",
   "metadata": {},
   "outputs": [
    {
     "name": "stdout",
     "output_type": "stream",
     "text": [
      "Saurav Yadav\n"
     ]
    }
   ],
   "source": [
    "name = input(\"Enter your name\")\n",
    "name = name.strip()\n",
    "print(name.title())"
   ]
  },
  {
   "cell_type": "markdown",
   "id": "b1c278da",
   "metadata": {},
   "source": [
    "18. **Extract Initials from Full Name**\n",
    "\n",
    "Input full name and print initials (e.g., \"Saurav Yadav\" → \"S.Y\")."
   ]
  },
  {
   "cell_type": "code",
   "execution_count": 35,
   "id": "4d9cf53d",
   "metadata": {},
   "outputs": [
    {
     "name": "stdout",
     "output_type": "stream",
     "text": [
      "S . Y\n",
      "S.Y\n"
     ]
    }
   ],
   "source": [
    "name = input(\"Enter your name\")\n",
    "name = name.strip()\n",
    "diff = name.split(\" \")\n",
    "letter_1 = diff[0][0]\n",
    "letter_2 = diff[1][0]\n",
    "print(letter_1.upper(),\".\",letter_2.upper())\n",
    "list = [letter_1.upper(),\".\",letter_2.upper()]\n",
    "string = \"\"\n",
    "for i in list:\n",
    "    string += i\n",
    "print(string)"
   ]
  },
  {
   "cell_type": "markdown",
   "id": "3629cee1",
   "metadata": {},
   "source": [
    "19. **Temperature Category**\n",
    "\n",
    "Input temperature in Celsius and categorize it (e.g., `cold`, `warm`, `hot`)."
   ]
  },
  {
   "cell_type": "code",
   "execution_count": 43,
   "id": "2e29de61",
   "metadata": {},
   "outputs": [
    {
     "name": "stdout",
     "output_type": "stream",
     "text": [
      "It's cold now\n"
     ]
    }
   ],
   "source": [
    "temp = int(input(\"Enter the temperatur in celsius\"))\n",
    "if temp in range(-100,10):\n",
    "    print(\"It's cold now\")\n",
    "elif temp in range(10,30):\n",
    "    print(\"It's Warm now\")\n",
    "elif temp in range(30,50):\n",
    "    print(\"It's hot now\")\n"
   ]
  },
  {
   "cell_type": "markdown",
   "id": "10c1b187",
   "metadata": {},
   "source": [
    "20. **Bill Splitter**\n",
    "\n",
    "Input total amount, number of people, and print how much each person should pay after rounding."
   ]
  },
  {
   "cell_type": "code",
   "execution_count": 45,
   "id": "8b03c4b4",
   "metadata": {},
   "outputs": [
    {
     "name": "stdout",
     "output_type": "stream",
     "text": [
      "Each person have to pay this amount 200.0\n"
     ]
    }
   ],
   "source": [
    "people = int(input(\"Enter the no. people\"))\n",
    "bill = float(input(\"Enter the total amount of bill\"))\n",
    "amount = bill // people\n",
    "print(\"Each person have to pay this amount\",amount)"
   ]
  },
  {
   "cell_type": "markdown",
   "id": "b011642d",
   "metadata": {},
   "source": [
    "21. **Password Strength Checker**\n",
    "\n",
    "Input a password. Check if it meets rules like: ≥8 characters, includes a number, and no spaces (using `len`, `strip`, `type`)."
   ]
  },
  {
   "cell_type": "code",
   "execution_count": 57,
   "id": "8da45d4e",
   "metadata": {},
   "outputs": [
    {
     "name": "stdout",
     "output_type": "stream",
     "text": [
      "Password is strong!\n"
     ]
    }
   ],
   "source": [
    "password = input(\"Enter your password: \").strip()\n",
    "\n",
    "if len(password) < 8:\n",
    "    print(\"Password must be at least 8 characters long.\")\n",
    "elif not any(char.isdigit() for char in password):\n",
    "    print(\"Password must include at least one number.\")\n",
    "elif ' ' in password:\n",
    "    print(\"Password must not contain spaces.\")\n",
    "else:\n",
    "    print(\"Password is strong!\")\n"
   ]
  },
  {
   "cell_type": "markdown",
   "id": "11ca9627",
   "metadata": {},
   "source": [
    "22. **Basic Calculator (Menu Driven)**\n",
    "\n",
    "Create a menu with `+`, `-`, `*`, `/` options. Input two numbers and perform the selected operation."
   ]
  },
  {
   "cell_type": "code",
   "execution_count": 67,
   "id": "d5609d6a",
   "metadata": {},
   "outputs": [
    {
     "name": "stdout",
     "output_type": "stream",
     "text": [
      "Choose your operation\n",
      "1.Add(+)\n",
      "2.Subtracation\n",
      "3.Muiltply \n",
      "4.Divide\n",
      "25\n"
     ]
    }
   ],
   "source": [
    "a = int(input(\"Enter First no.\"))\n",
    "b = int(input(\"Enter second no.\"))\n",
    "operation = \"\"\"Choose your operation\n",
    "1.Add(+)\n",
    "2.Subtracation\n",
    "3.Muiltply \n",
    "4.Divide\"\"\"\n",
    "print(operation)\n",
    "sign = int(input(\"Enter the operation which you want to perform\"))\n",
    "if sign == 1:\n",
    "    print(a+b)\n",
    "elif sign == 2:\n",
    "    print(a-b)\n",
    "elif sign == 3:\n",
    "    print(a*b)\n",
    "elif sign == 4:\n",
    "    print(a/b)"
   ]
  },
  {
   "cell_type": "markdown",
   "id": "340bcf05",
   "metadata": {},
   "source": [
    "23. **Check Palindrome (Using String and Strip)**\n",
    "\n",
    "Input a string and check whether it's a palindrome (same forward and backward)."
   ]
  },
  {
   "cell_type": "code",
   "execution_count": 2,
   "id": "793d5f57",
   "metadata": {},
   "outputs": [
    {
     "name": "stdout",
     "output_type": "stream",
     "text": [
      "Given word is palindrome\n"
     ]
    }
   ],
   "source": [
    "String = input(\"Enter a word to check\")\n",
    "if String == String[::-1]:\n",
    "    print(\"Given word is palindrome\")\n",
    "else:\n",
    "    print(\"Given word is not  palindrome\")"
   ]
  },
  {
   "cell_type": "markdown",
   "id": "124273b7",
   "metadata": {},
   "source": [
    "24. **Typing Speed Tester**\n",
    "\n",
    "Ask the user to type a given sentence. Use `len` to check how many characters they typed and calculate characters per second."
   ]
  },
  {
   "cell_type": "code",
   "execution_count": 17,
   "id": "7119c2ee",
   "metadata": {},
   "outputs": [
    {
     "name": "stdout",
     "output_type": "stream",
     "text": [
      "calculate characters per second: 2.619047619047619\n"
     ]
    }
   ],
   "source": [
    "from datetime import datetime\n",
    "t1 =datetime.now()\n",
    "before_time = t1.strftime(\"%S\",)\n",
    "char = input(\"Type the word\")\n",
    "t2 = datetime.now()\n",
    "after_time = t2.strftime(\"%S\",)\n",
    "time_taken = float(after_time) - float(before_time)\n",
    "length = len(char)\n",
    "print(\"calculate characters per second:\",length/time_taken)"
   ]
  },
  {
   "cell_type": "markdown",
   "id": "d1c4964d",
   "metadata": {},
   "source": [
    "25. **Cost per Item Calculator**\n",
    "\n",
    "Input total cost and total number of items bought. Print cost per item with two decimal places."
   ]
  },
  {
   "cell_type": "code",
   "execution_count": 20,
   "id": "b3e55b9b",
   "metadata": {},
   "outputs": [
    {
     "name": "stdout",
     "output_type": "stream",
     "text": [
      "Cost per Item is: 108.59\n"
     ]
    }
   ],
   "source": [
    "total_cost = float(input(\"Enter the total cost of items\"))\n",
    "items = int(input(\"Enter the the total no. item you buy\"))\n",
    "cost_items = total_cost / items\n",
    "print(\"Cost per Item is:\",round(cost_items,2))"
   ]
  },
  {
   "cell_type": "markdown",
   "id": "75a54611",
   "metadata": {},
   "source": [
    "26. **Unit Converter Tool**\n",
    "\n",
    "Convert kilograms to pounds, centimeters to inches, etc., based on user selection."
   ]
  },
  {
   "cell_type": "code",
   "execution_count": 4,
   "id": "d6b30a56",
   "metadata": {},
   "outputs": [
    {
     "name": "stdout",
     "output_type": "stream",
     "text": [
      "3.94\n"
     ]
    }
   ],
   "source": [
    "a = float(input(\"Enter First no.\"))\n",
    "\n",
    "operation = \"\"\"Choose your Conversion\n",
    "1.kilograms to pounds\n",
    "2.centimeters to inches\"\"\"\n",
    "sign = int(input(\"Enter the operation which you want to perform\"))\n",
    "if sign == 1:\n",
    "    print(round(a*2.205,2))\n",
    "elif sign == 2:\n",
    "    print(round(a*0.394,2))\n",
    "\n"
   ]
  },
  {
   "cell_type": "markdown",
   "id": "36e35728",
   "metadata": {},
   "source": [
    "27. **Number Splitter**\n",
    "\n",
    "Input a float (e.g., 12.34) and split it into integer and decimal parts."
   ]
  },
  {
   "cell_type": "code",
   "execution_count": 10,
   "id": "cea97fd0",
   "metadata": {},
   "outputs": [
    {
     "name": "stdout",
     "output_type": "stream",
     "text": [
      "Integer part of given number is : 5414\n",
      "Decimal part of given number is : 5\n"
     ]
    }
   ],
   "source": [
    "number = float(input(\"Enter your number\"))\n",
    "number = str(number)\n",
    "part = number.split(\".\")\n",
    "print(\"Integer part of given number is :\",part[0])\n",
    "print(\"Decimal part of given number is :\",part[1])"
   ]
  },
  {
   "cell_type": "markdown",
   "id": "545f7172",
   "metadata": {},
   "source": [
    "28. **Extract File Extension**\n",
    "\n",
    "Input a file name (e.g., `data.csv`) and extract the extension (`csv`)."
   ]
  },
  {
   "cell_type": "code",
   "execution_count": 11,
   "id": "21c71e99",
   "metadata": {},
   "outputs": [
    {
     "name": "stdout",
     "output_type": "stream",
     "text": [
      "Your file name is : data\n",
      "Your file extension is : csv\n"
     ]
    }
   ],
   "source": [
    "file_name = str(input(\"Enter your file name\"))\n",
    "part = file_name.split(\".\")\n",
    "print(\"Your file name is :\",part[0])\n",
    "print(\"Your file extension is :\",part[1])"
   ]
  },
  {
   "cell_type": "markdown",
   "id": "26d0c001",
   "metadata": {},
   "source": [
    "29. **Email Validator (Basic)**\n",
    "\n",
    "Input an email and check if it contains '@' and ends with `.com` or `.edu`."
   ]
  },
  {
   "cell_type": "code",
   "execution_count": 12,
   "id": "8706b87d",
   "metadata": {},
   "outputs": [
    {
     "name": "stdout",
     "output_type": "stream",
     "text": [
      "Valid email\n"
     ]
    }
   ],
   "source": [
    "email = input(\"Enter your email: \")\n",
    "\n",
    "if \"@\" in email and (\".com\" in email or \".edu\" in email):\n",
    "    print(\"Valid email\")\n",
    "else:\n",
    "    print(\"Invalid email\")\n"
   ]
  },
  {
   "cell_type": "markdown",
   "id": "77aa3bcd",
   "metadata": {},
   "source": [
    "30. **Mobile Number Cleaner**\n",
    "\n",
    "Input a phone number with spaces (e.g., `' +91 98765 43210 '`) and return it without spaces using `strip()` and `replace()`."
   ]
  },
  {
   "cell_type": "code",
   "execution_count": 15,
   "id": "223db9fb",
   "metadata": {},
   "outputs": [
    {
     "name": "stdout",
     "output_type": "stream",
     "text": [
      "+919610961777\n"
     ]
    }
   ],
   "source": [
    "phone_no = input(\"Enter you mobile no.\")\n",
    "phone_no = phone_no.strip()\n",
    "phone_no = phone_no.replace(\" \",\"\")\n",
    "print(phone_no)"
   ]
  },
  {
   "cell_type": "markdown",
   "id": "0acb47ba",
   "metadata": {},
   "source": [
    "31. **Student Grade Calculator**\n",
    "\n",
    "Input marks of 5 subjects, calculate average, and determine grade (`A`, `B`, etc.)."
   ]
  },
  {
   "cell_type": "code",
   "execution_count": 22,
   "id": "23b2205b",
   "metadata": {},
   "outputs": [
    {
     "name": "stdout",
     "output_type": "stream",
     "text": [
      "Your average is : 53.0 and you score a grade D\n"
     ]
    }
   ],
   "source": [
    "subject_1 = float(input(\"Enter you subject 1 marks\"))\n",
    "subject_2 = float(input(\"Enter you subject 2 marks\"))\n",
    "subject_3 = float(input(\"Enter you subject 3 marks\"))\n",
    "subject_4 = float(input(\"Enter you subject 4 marks\"))\n",
    "subject_5 = float(input(\"Enter you subject 5 marks\"))\n",
    "avg = ((subject_1+subject_2+subject_3+subject_4+subject_5)/5)\n",
    "if avg >= 90:\n",
    "    print(\"Your average is :\",avg,\"and you score a grade A+\")\n",
    "elif 80 <= avg <= 90 :\n",
    "    print(\"Your average is :\",avg,\"and you score a grade A\")\n",
    "elif 70 <= avg <= 80 :\n",
    "    print(\"Your average is :\",avg,\"and you score a grade B\")\n",
    "elif 60 <= avg <= 70 :\n",
    "    print(\"Your average is :\",avg,\"and you score a grade C\")\n",
    "elif 50 <= avg <= 60 :\n",
    "    print(\"Your average is :\",avg,\"and you score a grade D\")"
   ]
  },
  {
   "cell_type": "markdown",
   "id": "fd218da4",
   "metadata": {},
   "source": [
    "32. **Simple Budget Tracker**\n",
    "\n",
    "Input income and different expenses. Calculate and print remaining balance."
   ]
  },
  {
   "cell_type": "code",
   "execution_count": 23,
   "id": "f7320b36",
   "metadata": {},
   "outputs": [
    {
     "name": "stdout",
     "output_type": "stream",
     "text": [
      "Total expenses: 13500.0\n",
      "Remaining balance: 6500.0\n"
     ]
    }
   ],
   "source": [
    "income = float(input(\"Enter your total income: \"))\n",
    "\n",
    "food = float(input(\"Enter food expense: \"))\n",
    "rent = float(input(\"Enter rent expense: \"))\n",
    "transport = float(input(\"Enter transport expense: \"))\n",
    "others = float(input(\"Enter other expenses: \"))\n",
    "\n",
    "\n",
    "total_expenses = food + rent + transport + others\n",
    "\n",
    "balance = income - total_expenses\n",
    "\n",
    "\n",
    "print(\"Total expenses:\", total_expenses)\n",
    "print(\"Remaining balance:\", round(balance, 2))"
   ]
  },
  {
   "cell_type": "markdown",
   "id": "0591c1fe",
   "metadata": {},
   "source": [
    "33. **Mini Receipt Generator**\n",
    "\n",
    "Take input of items and their prices, print a formatted receipt including total."
   ]
  },
  {
   "cell_type": "code",
   "execution_count": 24,
   "id": "c3dc4592",
   "metadata": {},
   "outputs": [
    {
     "name": "stdout",
     "output_type": "stream",
     "text": [
      "\n",
      "--- Receipt ---\n",
      "cream - Rs. 200.00\n",
      "chai - Rs. 25.00\n",
      "dosa - Rs. 100.00\n",
      "milk - Rs. 25.00\n",
      "roll - Rs. 120.00\n",
      "Total - Rs. 470.0\n"
     ]
    }
   ],
   "source": [
    "n = int(input(\"Enter number of items: \"))\n",
    "total = 0\n",
    "\n",
    "print(\"\\n--- Receipt ---\")\n",
    "for i in range(n):\n",
    "    item = input(f\"Enter name of item {i+1}: \")\n",
    "    price = float(input(f\"Enter price of {item}: \"))\n",
    "    total += price\n",
    "    print(f\"{item} - Rs. {price:.2f}\")\n",
    "\n",
    "print(\"Total - Rs.\", round(total, 2))\n"
   ]
  },
  {
   "cell_type": "markdown",
   "id": "585e0f45",
   "metadata": {},
   "source": [
    "34. **BMI Calculator**\n",
    "\n",
    "Take height and weight, calculate BMI, and print health category."
   ]
  },
  {
   "cell_type": "code",
   "execution_count": 3,
   "id": "ed91415e",
   "metadata": {},
   "outputs": [
    {
     "name": "stdout",
     "output_type": "stream",
     "text": [
      "Your BMI is: 24.221453287197235 and you are healthy\n"
     ]
    }
   ],
   "source": [
    "weight = float(input(\"Enter your weight in kg\"))\n",
    "height = float(input(\"Enter your height in meter\"))\n",
    "\n",
    "bmi = weight / (height ** 2)\n",
    "if 18.5 <= bmi <= 24.9:\n",
    "    print(\"Your BMI is:\",bmi,\"and you are healthy\")\n",
    "elif 25 <= bmi <= 29.9:\n",
    "    print(\"Your BMI is:\",bmi,\"and you are Obese\")\n",
    "elif  bmi <= 18.5:\n",
    "    print(\"Your BMI is:\",bmi,\"and you are Underweight\")"
   ]
  },
  {
   "cell_type": "markdown",
   "id": "83b6c313",
   "metadata": {},
   "source": [
    "35. **Age Validator**\n",
    "\n",
    "Input DOB in years and check if a person is eligible for voting (age ≥18)."
   ]
  },
  {
   "cell_type": "code",
   "execution_count": 5,
   "id": "b8f1efd5",
   "metadata": {},
   "outputs": [
    {
     "name": "stdout",
     "output_type": "stream",
     "text": [
      "You are not eligible of voting\n"
     ]
    }
   ],
   "source": [
    "year = int(input(\"Enter you DOB year\"))\n",
    "present_year = 2025\n",
    "age = present_year-year\n",
    "if age >= 18:\n",
    "    print(\"You are eligible of voting\")\n",
    "else:\n",
    "    print(\"You are not eligible of voting\")"
   ]
  },
  {
   "cell_type": "markdown",
   "id": "866edb87",
   "metadata": {},
   "source": [
    "36. **Basic Chat Filter**\n",
    "\n",
    "Input a sentence and replace offensive words with asterisks."
   ]
  },
  {
   "cell_type": "code",
   "execution_count": 7,
   "id": "7eb9dbda",
   "metadata": {},
   "outputs": [
    {
     "name": "stdout",
     "output_type": "stream",
     "text": [
      "Filtered sentence: you *** boy\n"
     ]
    }
   ],
   "source": [
    "sentence = input(\"Enter a sentence: \")\n",
    "\n",
    "offensive_words = [\"bad\", \"stupid\", \"idiot\"]  # Add more if needed\n",
    "\n",
    "for word in offensive_words:\n",
    "    sentence = sentence.replace(word, \"***\")\n",
    "\n",
    "print(\"Filtered sentence:\", sentence)\n"
   ]
  },
  {
   "cell_type": "markdown",
   "id": "30d7c12e",
   "metadata": {},
   "source": [
    "37. **Taxi Fare Estimator**\n",
    "\n",
    "Input distance and calculate fare using base price + per km rate."
   ]
  },
  {
   "cell_type": "code",
   "execution_count": 6,
   "id": "84b9b284",
   "metadata": {},
   "outputs": [
    {
     "name": "stdout",
     "output_type": "stream",
     "text": [
      "The fare charge will be: 230.0\n"
     ]
    }
   ],
   "source": [
    "base_price = 50\n",
    "price_per_km = 18\n",
    "distance = float(input(\"Enter your distance in kms\"))\n",
    "fare_price = base_price + price_per_km * distance\n",
    "print(\"The fare charge will be:\",fare_price)"
   ]
  },
  {
   "cell_type": "markdown",
   "id": "26381ab0",
   "metadata": {},
   "source": [
    "38. **Fuel Efficiency Tracker**\n",
    "\n",
    "Input fuel used and distance traveled. Print km per liter."
   ]
  },
  {
   "cell_type": "code",
   "execution_count": 8,
   "id": "a1a53b7b",
   "metadata": {},
   "outputs": [
    {
     "name": "stdout",
     "output_type": "stream",
     "text": [
      "Km per liter rate is: 3.9538461538461536\n"
     ]
    }
   ],
   "source": [
    "fuel = float(input(\"Enter the total fuel used in liter\"))\n",
    "distance = float(input(\"Enter the total distance you have travelled\"))\n",
    "km_per_liter = distance / fuel\n",
    "print(\"Km per liter rate is:\",km_per_liter)"
   ]
  },
  {
   "cell_type": "markdown",
   "id": "1ca20789",
   "metadata": {},
   "source": [
    "39. **Daily Water Intake Logger**\n",
    "\n",
    "Input the amount of water drunk (in liters) for 7 days. Calculate average and total."
   ]
  },
  {
   "cell_type": "code",
   "execution_count": 20,
   "id": "4a4452c8",
   "metadata": {},
   "outputs": [
    {
     "name": "stdout",
     "output_type": "stream",
     "text": [
      "Average water drunk by you on each day 5.0\n",
      "Total water drunk by you in this week: 35.0\n"
     ]
    }
   ],
   "source": [
    "n = 8\n",
    "water = 0\n",
    "for i in range(1,n):\n",
    "    x = float(input(f\"Enter how much water you drink on day{i}\"))\n",
    "    water += x\n",
    "print(\"Average water drunk by you on each day\",water/7)\n",
    "print(\"Total water drunk by you in this week:\",water)"
   ]
  },
  {
   "cell_type": "markdown",
   "id": "b86af670",
   "metadata": {},
   "source": [
    "40. **Book Price Discount Calculator**\n",
    "\n",
    "Input book price and apply discount based on price range. Use arithmetic and casting."
   ]
  },
  {
   "cell_type": "code",
   "execution_count": 28,
   "id": "e0537c8a",
   "metadata": {},
   "outputs": [
    {
     "name": "stdout",
     "output_type": "stream",
     "text": [
      "Discount of 25% will be given\n",
      "Price after discount: 9000.0\n"
     ]
    }
   ],
   "source": [
    "book_price = float(input(\"Enter the price of your  book\"))\n",
    "if book_price < 100:\n",
    "    print(\"No Discount\")\n",
    "elif 100 <= book_price <= 500:\n",
    "    print(\"Discount of 5% will be given\")\n",
    "    print(\"Price after discount:\",(book_price - (book_price * 0.05)))\n",
    "elif 500 <= book_price <= 1000:\n",
    "    print(\"Discount of 10% will be given\")\n",
    "    print(\"Price after discount:\",(book_price - (book_price * 0.1)))\n",
    "elif 1000 <= book_price <= 5000:\n",
    "    print(\"Discount of 15% will be given\")\n",
    "    print(\"Price after discount:\",(book_price - (book_price * 0.15)))\n",
    "elif 5000 <= book_price <= 10000:\n",
    "    print(\"Discount of 20% will be given\")\n",
    "    print(\"Price after discount:\",(book_price - (book_price * 0.2)))\n",
    "else:\n",
    "    print(\"Discount of 25% will be given\")\n",
    "    print(\"Price after discount:\",(book_price - (book_price * 0.25)))"
   ]
  },
  {
   "cell_type": "code",
   "execution_count": 4,
   "id": "04355efb",
   "metadata": {},
   "outputs": [
    {
     "name": "stdout",
     "output_type": "stream",
     "text": [
      "Go to beach\n"
     ]
    }
   ],
   "source": [
    "money = int(input(\"Enter how much money you have\"))\n",
    "time = float(input(\"Enter the current time\"))\n",
    "\n",
    "if money > 200:\n",
    "    if time < 7 :\n",
    "        print(\"Go to theme park\")\n",
    "    else:\n",
    "        print(\"GO to home\")\n",
    "elif money < 200:\n",
    "    if time > 7:\n",
    "        print(\"Go to Icecream park\")\n",
    "    else:\n",
    "        print(\"Go to beach\")"
   ]
  },
  {
   "cell_type": "code",
   "execution_count": null,
   "id": "793d9466",
   "metadata": {},
   "outputs": [],
   "source": []
  },
  {
   "cell_type": "code",
   "execution_count": null,
   "id": "8de67c1f",
   "metadata": {},
   "outputs": [],
   "source": []
  }
 ],
 "metadata": {
  "kernelspec": {
   "display_name": "base",
   "language": "python",
   "name": "python3"
  },
  "language_info": {
   "codemirror_mode": {
    "name": "ipython",
    "version": 3
   },
   "file_extension": ".py",
   "mimetype": "text/x-python",
   "name": "python",
   "nbconvert_exporter": "python",
   "pygments_lexer": "ipython3",
   "version": "3.12.7"
  }
 },
 "nbformat": 4,
 "nbformat_minor": 5
}
