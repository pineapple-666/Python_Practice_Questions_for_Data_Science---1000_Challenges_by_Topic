{
 "cells": [
  {
   "cell_type": "markdown",
   "id": "7d8970a9",
   "metadata": {},
   "source": [
    "## 1. 🔁 Print Numbers 1 to 10\n",
    "Use a `for` loop to print numbers from 1 to 10."
   ]
  },
  {
   "cell_type": "code",
   "execution_count": 19,
   "id": "93ca986d",
   "metadata": {},
   "outputs": [
    {
     "name": "stdout",
     "output_type": "stream",
     "text": [
      "1\n",
      "2\n",
      "3\n",
      "4\n",
      "5\n",
      "6\n",
      "7\n",
      "8\n",
      "9\n",
      "10\n"
     ]
    }
   ],
   "source": [
    "for i in range(1,11):\n",
    "    print(i)"
   ]
  },
  {
   "cell_type": "markdown",
   "id": "4ec4273b",
   "metadata": {},
   "source": [
    "## 2. 🔁 Print Even Numbers\n",
    "Use a `while` loop to print even numbers from 2 to 20."
   ]
  },
  {
   "cell_type": "code",
   "execution_count": 3,
   "id": "e979c68e",
   "metadata": {},
   "outputs": [
    {
     "name": "stdout",
     "output_type": "stream",
     "text": [
      "2\n",
      "4\n",
      "6\n",
      "8\n",
      "10\n",
      "12\n",
      "14\n",
      "16\n",
      "18\n",
      "20\n"
     ]
    }
   ],
   "source": [
    "n = 2\n",
    "while n <= 20:\n",
    "    print(n)\n",
    "    n += 2"
   ]
  },
  {
   "cell_type": "markdown",
   "id": "58cea69d",
   "metadata": {},
   "source": [
    "## 3. 🧮 Sum of First N Natural Numbers\n",
    "Take user input `n` and calculate the sum using a `for` loop."
   ]
  },
  {
   "cell_type": "code",
   "execution_count": 20,
   "id": "981fc8de",
   "metadata": {},
   "outputs": [
    {
     "name": "stdout",
     "output_type": "stream",
     "text": [
      "Sum of first 5 natural number is:15\n"
     ]
    }
   ],
   "source": [
    "n = int(input(\"Enter the number\"))\n",
    "sum = 0\n",
    "for i in range(1,n+1):\n",
    "    sum += i\n",
    "\n",
    "print(f\"Sum of first {n} natural number is:{sum}\")"
   ]
  },
  {
   "cell_type": "markdown",
   "id": "0b729700",
   "metadata": {},
   "source": [
    "## 4. 🔁 Factorial\n",
    "Use a `while` loop to calculate the factorial of a number `n`."
   ]
  },
  {
   "cell_type": "code",
   "execution_count": 22,
   "id": "40c021a9",
   "metadata": {},
   "outputs": [
    {
     "name": "stdout",
     "output_type": "stream",
     "text": [
      "Factorial of 5 is: 120\n"
     ]
    }
   ],
   "source": [
    "n = int(input(\"Enter the number: \"))\n",
    "factorial = 1\n",
    "i = 1\n",
    "                                   \n",
    "while i <= n:\n",
    "    factorial *= i\n",
    "    i += 1\n",
    "\n",
    "print(f\"Factorial of {n} is: {factorial}\")\n"
   ]
  },
  {
   "cell_type": "markdown",
   "id": "c013f076",
   "metadata": {},
   "source": [
    "## 5. 🔁 Multiplication Table\n",
    "Use a `for` loop to print the multiplication table of a number."
   ]
  },
  {
   "cell_type": "code",
   "execution_count": 23,
   "id": "34384686",
   "metadata": {},
   "outputs": [
    {
     "name": "stdout",
     "output_type": "stream",
     "text": [
      "5*1 = 5\n",
      "5*2 = 10\n",
      "5*3 = 15\n",
      "5*4 = 20\n",
      "5*5 = 25\n",
      "5*6 = 30\n",
      "5*7 = 35\n",
      "5*8 = 40\n",
      "5*9 = 45\n",
      "5*10 = 50\n"
     ]
    }
   ],
   "source": [
    "n = int(input(\"Enter the number: \"))\n",
    "for i in range(1,11):\n",
    "    print(f\"{n}*{i} = {i*n}\")"
   ]
  },
  {
   "cell_type": "markdown",
   "id": "4c9ade51",
   "metadata": {},
   "source": [
    "## 6. 🔢 Reverse a Number\n",
    "Take a number and reverse its digits using a `while` loop."
   ]
  },
  {
   "cell_type": "code",
   "execution_count": 24,
   "id": "26c3459e",
   "metadata": {},
   "outputs": [
    {
     "name": "stdout",
     "output_type": "stream",
     "text": [
      "Reversed number is: 265\n"
     ]
    }
   ],
   "source": [
    "num = int(input(\"Enter a number: \"))\n",
    "reverse = 0\n",
    "\n",
    "while num > 0:\n",
    "    digit = num % 10          # Get last digit\n",
    "    reverse = reverse * 10 + digit  # Append digit to reversed number\n",
    "    num = num // 10           # Remove last digit\n",
    "\n",
    "print(f\"Reversed number is: {reverse}\")\n"
   ]
  },
  {
   "cell_type": "markdown",
   "id": "919b41db",
   "metadata": {},
   "source": [
    "## 7. 🔄 Print Elements of a List\n",
    "Iterate over a list and print each element using a `for` loop."
   ]
  },
  {
   "cell_type": "code",
   "execution_count": 25,
   "id": "87ecc80e",
   "metadata": {},
   "outputs": [
    {
     "name": "stdout",
     "output_type": "stream",
     "text": [
      "10\n",
      "20\n",
      "30\n",
      "20\n",
      "40\n",
      "50\n",
      "30\n",
      "60\n",
      "70\n",
      "10\n",
      "80\n",
      "90\n",
      "60\n",
      "100\n"
     ]
    }
   ],
   "source": [
    "numbers = [10, 20, 30, 20, 40, 50, 30, 60, 70, 10, 80, 90, 60, 100]\n",
    "for i in numbers:\n",
    "    print(i)"
   ]
  },
  {
   "cell_type": "markdown",
   "id": "2bb02a1d",
   "metadata": {},
   "source": [
    "## 8. 📊 Count Digits in a Number\n",
    "Use a `while` loop to count the number of digits in an integer."
   ]
  },
  {
   "cell_type": "code",
   "execution_count": 26,
   "id": "1a327fe8",
   "metadata": {},
   "outputs": [
    {
     "name": "stdout",
     "output_type": "stream",
     "text": [
      "5\n"
     ]
    }
   ],
   "source": [
    "num = int(input(\"Enter the number\"))\n",
    "digit = 0\n",
    "while num > 0:\n",
    "    digit += 1\n",
    "    num = num // 10\n",
    "\n",
    "print(digit)"
   ]
  },
  {
   "cell_type": "markdown",
   "id": "3ce8eecb",
   "metadata": {},
   "source": [
    "## 9. 🆚 Compare For and While\n",
    "Write the same program (e.g., printing squares from 1 to 10) using both `for` and `while` loops."
   ]
  },
  {
   "cell_type": "code",
   "execution_count": 9,
   "id": "c5c50e37",
   "metadata": {},
   "outputs": [
    {
     "name": "stdout",
     "output_type": "stream",
     "text": [
      "1\n",
      "2\n",
      "3\n",
      "4\n",
      "5\n",
      "6\n",
      "7\n",
      "8\n",
      "9\n",
      "10\n"
     ]
    }
   ],
   "source": [
    "for i in range(1,11):\n",
    "    print(i)"
   ]
  },
  {
   "cell_type": "code",
   "execution_count": 10,
   "id": "d808d0e4",
   "metadata": {},
   "outputs": [
    {
     "name": "stdout",
     "output_type": "stream",
     "text": [
      "1\n",
      "2\n",
      "3\n",
      "4\n",
      "5\n",
      "6\n",
      "7\n",
      "8\n",
      "9\n",
      "10\n"
     ]
    }
   ],
   "source": [
    "n = 1\n",
    "while n < 11:\n",
    "    print(n)\n",
    "    n += 1"
   ]
  },
  {
   "cell_type": "markdown",
   "id": "d4e6007f",
   "metadata": {},
   "source": [
    "## 10. 🧠 Break Statement\n",
    "Demonstrate the use of `break` by stopping a loop when a condition is met."
   ]
  },
  {
   "cell_type": "code",
   "execution_count": 27,
   "id": "27759fc5",
   "metadata": {},
   "outputs": [
    {
     "name": "stdout",
     "output_type": "stream",
     "text": [
      "1\n",
      "2\n",
      "3\n",
      "4\n",
      "5\n",
      "6\n",
      "7\n",
      "8\n",
      "Loop is break\n"
     ]
    }
   ],
   "source": [
    "n = 1\n",
    "while n < 11:\n",
    "    if n == 9:\n",
    "        print(\"Loop is break\")\n",
    "        break\n",
    "    print(n)\n",
    "    n += 1"
   ]
  },
  {
   "cell_type": "markdown",
   "id": "760e080d",
   "metadata": {},
   "source": [
    "## 11. ⏭ Continue Statement\n",
    "Use `continue` to skip printing the number 5 in a loop from 1 to 10."
   ]
  },
  {
   "cell_type": "code",
   "execution_count": 28,
   "id": "e89dfc2a",
   "metadata": {},
   "outputs": [
    {
     "name": "stdout",
     "output_type": "stream",
     "text": [
      "1\n",
      "2\n",
      "3\n",
      "4\n",
      "6\n",
      "7\n",
      "8\n",
      "9\n",
      "10\n"
     ]
    }
   ],
   "source": [
    "n = 1\n",
    "while n < 11:\n",
    "    if n == 5:\n",
    "        n += 1\n",
    "        continue\n",
    "    print(n)\n",
    "    n += 1"
   ]
  },
  {
   "cell_type": "markdown",
   "id": "5343df42",
   "metadata": {},
   "source": [
    "## 12. 📈 Print Pattern of Stars\n",
    "Use a `for` loop to print a right triangle of `*` of height 5."
   ]
  },
  {
   "cell_type": "code",
   "execution_count": 29,
   "id": "3b3e65c6",
   "metadata": {},
   "outputs": [
    {
     "name": "stdout",
     "output_type": "stream",
     "text": [
      "\n",
      "*\n",
      "**\n",
      "***\n",
      "****\n",
      "*****\n"
     ]
    }
   ],
   "source": [
    "for i in range(6):\n",
    "    print(i*\"*\",end=\"\\n\")"
   ]
  },
  {
   "cell_type": "markdown",
   "id": "b4bc574a",
   "metadata": {},
   "source": [
    "## 13. 🔁 Nested Loop Pattern\n",
    "Print a square pattern using nested `for` loops."
   ]
  },
  {
   "cell_type": "code",
   "execution_count": 33,
   "id": "17ef6f17",
   "metadata": {},
   "outputs": [
    {
     "name": "stdout",
     "output_type": "stream",
     "text": [
      "* * * * * \n",
      "* * * * * \n",
      "* * * * * \n",
      "* * * * * \n",
      "* * * * * \n"
     ]
    }
   ],
   "source": [
    "rows = 5\n",
    "\n",
    "for i in range(rows):\n",
    "    for j in range(rows):\n",
    "        print(\"*\", end=\" \")\n",
    "    print()  # Move to the next line\n"
   ]
  },
  {
   "cell_type": "markdown",
   "id": "7edb8339",
   "metadata": {},
   "source": [
    "## 14. 🔁 Reverse a List\n",
    "Use a `while` loop to reverse and print a list."
   ]
  },
  {
   "cell_type": "code",
   "execution_count": 34,
   "id": "effb5039",
   "metadata": {},
   "outputs": [
    {
     "name": "stdout",
     "output_type": "stream",
     "text": [
      "50\n",
      "40\n",
      "30\n",
      "20\n",
      "10\n"
     ]
    }
   ],
   "source": [
    "my_list = [10, 20, 30, 40, 50]\n",
    "i = len(my_list) - 1  # Start from the last index\n",
    "\n",
    "while i >= 0:\n",
    "    print(my_list[i])\n",
    "    i -= 1  # Move backward\n"
   ]
  },
  {
   "cell_type": "markdown",
   "id": "f8e67ae5",
   "metadata": {},
   "source": [
    "## 15. 📚 Print Characters in a String\n",
    "Use a `for` loop to print each character of a string."
   ]
  },
  {
   "cell_type": "code",
   "execution_count": 35,
   "id": "6d3cd599",
   "metadata": {},
   "outputs": [
    {
     "name": "stdout",
     "output_type": "stream",
     "text": [
      "s\n",
      "a\n",
      "u\n",
      "r\n",
      "a\n",
      "v\n"
     ]
    }
   ],
   "source": [
    "string = input(\"Enter a string\")\n",
    "for i in string:\n",
    "    print(i)"
   ]
  },
  {
   "cell_type": "markdown",
   "id": "1eb231a4",
   "metadata": {},
   "source": [
    "## 16. 🧮 Power of a Number\n",
    "Use a loop to compute x^y (without using `**` operator)."
   ]
  },
  {
   "cell_type": "code",
   "execution_count": 37,
   "id": "de4f1392",
   "metadata": {},
   "outputs": [
    {
     "name": "stdout",
     "output_type": "stream",
     "text": [
      "3125\n"
     ]
    }
   ],
   "source": [
    "num = int(input(\"Enter the number\"))\n",
    "power = int(input(\"Enter the power of number\"))\n",
    "power_result = 1\n",
    "for i in range(power):\n",
    "    power_result *= num\n",
    "\n",
    "print(power_result)"
   ]
  },
  {
   "cell_type": "markdown",
   "id": "641ada6d",
   "metadata": {},
   "source": [
    "## 17. 🔁 Fibonacci Sequence\n",
    "Print the first `n` terms of the Fibonacci sequence using a loop."
   ]
  },
  {
   "cell_type": "code",
   "execution_count": 39,
   "id": "2759a6bd",
   "metadata": {},
   "outputs": [
    {
     "name": "stdout",
     "output_type": "stream",
     "text": [
      "0 1 1 2 3 "
     ]
    }
   ],
   "source": [
    "n =int(input(\"Enter the number\"))\n",
    "a = 0\n",
    "b = 1\n",
    "for i in range(n):\n",
    "    print(a,end = \" \")\n",
    "    a,b = b,a+b"
   ]
  },
  {
   "cell_type": "markdown",
   "id": "64524a7d",
   "metadata": {},
   "source": [
    "## 18. ✅ Check Prime\n",
    "Check whether a number is prime using a `for` loop."
   ]
  },
  {
   "cell_type": "code",
   "execution_count": 60,
   "id": "7b8ac665",
   "metadata": {},
   "outputs": [
    {
     "name": "stdout",
     "output_type": "stream",
     "text": [
      "Number is prime number\n"
     ]
    }
   ],
   "source": [
    "num = int(input(\"Enter the number: \"))\n",
    "\n",
    "if num <= 1:\n",
    "    print(\"Number is not a prime number\")\n",
    "else:\n",
    "    for i in range(2, num):\n",
    "        if num % i == 0:\n",
    "            print(\"Number is not a prime number\")\n",
    "            break\n",
    "    else:\n",
    "        print(\"Number is prime number\")\n"
   ]
  },
  {
   "cell_type": "markdown",
   "id": "3860fbe4",
   "metadata": {},
   "source": [
    "## 19. 🔁 List Comprehension Alternative\n",
    "Replicate a `for` loop result with list comprehension."
   ]
  },
  {
   "cell_type": "code",
   "execution_count": 62,
   "id": "0f7ecb82",
   "metadata": {},
   "outputs": [
    {
     "name": "stdout",
     "output_type": "stream",
     "text": [
      "[1, 4, 9, 16, 25]\n"
     ]
    }
   ],
   "source": [
    "num = int(input(\"Enter the number\"))\n",
    "list_1 = [x*x for x in range(1,num+1)]\n",
    "print(list_1)"
   ]
  },
  {
   "cell_type": "markdown",
   "id": "11aed0bf",
   "metadata": {},
   "source": [
    "## 20. 🧠 Guessing Game\n",
    "Make a number guessing game that loops until the correct number is guessed."
   ]
  },
  {
   "cell_type": "code",
   "execution_count": 74,
   "id": "b5c43b34",
   "metadata": {},
   "outputs": [
    {
     "name": "stdout",
     "output_type": "stream",
     "text": [
      "Wrong guess, try again!\n",
      "Wrong guess, try again!\n",
      "Wrong guess, try again!\n",
      "Wrong guess, try again!\n",
      "Wrong guess, try again!\n",
      "Wrong guess, try again!\n",
      "Wrong guess, try again!\n",
      "Wrong guess, try again!\n",
      "Wrong guess, try again!\n",
      "Wrong guess, try again!\n",
      "Wrong guess, try again!\n",
      "Congratulations! You guessed it right!\n"
     ]
    }
   ],
   "source": [
    "import random\n",
    "num = int(input(\"Enter the number b/w 1 to 20\"))\n",
    "guess_num = random.randint(1,20)\n",
    "while num != guess_num:\n",
    "    print(\"Wrong guess, try again!\")\n",
    "    num = int(input(\"Guess again: \"))\n",
    "\n",
    "print(\"Congratulations! You guessed it right!\")"
   ]
  },
  {
   "cell_type": "markdown",
   "id": "087b9cda",
   "metadata": {},
   "source": [
    "## 21. 🔁 Find Max from List\n",
    "Use a loop to find the maximum number in a list without using `max()`."
   ]
  },
  {
   "cell_type": "code",
   "execution_count": 7,
   "id": "e910e417",
   "metadata": {},
   "outputs": [
    {
     "name": "stdout",
     "output_type": "stream",
     "text": [
      "max number is 99\n"
     ]
    }
   ],
   "source": [
    "list_num = [34, 87, 23, 12, 55, 90, 67, 42, 78, 61, 3, 25, 49, 99, 16, 80, 38, 7, 92, 14]\n",
    "max_num = list_num[0]\n",
    "for i in list_num:\n",
    "    if i > max_num:\n",
    "        max_num = i\n",
    "print(f\"max number is {max_num}\")\n"
   ]
  },
  {
   "cell_type": "markdown",
   "id": "af75c667",
   "metadata": {},
   "source": [
    "## 22. 🧹 Remove Duplicates\n",
    "Use a loop to remove duplicates from a list."
   ]
  },
  {
   "cell_type": "code",
   "execution_count": 9,
   "id": "396b4dc1",
   "metadata": {},
   "outputs": [
    {
     "name": "stdout",
     "output_type": "stream",
     "text": [
      "[5, 12, 7, 9, 18, 3, 20]\n"
     ]
    }
   ],
   "source": [
    "numbers = [5, 12, 7, 5, 9, 12, 18, 7, 3, 9, 20, 5]\n",
    "list_with_no_duplicate = []\n",
    "for i in numbers:\n",
    "    if i in list_with_no_duplicate:\n",
    "        pass\n",
    "    else:\n",
    "        list_with_no_duplicate.append(i)\n",
    "\n",
    "print(list_with_no_duplicate)"
   ]
  },
  {
   "cell_type": "markdown",
   "id": "b591f857",
   "metadata": {},
   "source": [
    "## 23. 🔁 Sum of Even Numbers in List\n",
    "Use a loop to sum all even numbers in a list."
   ]
  },
  {
   "cell_type": "code",
   "execution_count": 10,
   "id": "dd674d7d",
   "metadata": {},
   "outputs": [
    {
     "name": "stdout",
     "output_type": "stream",
     "text": [
      "496\n"
     ]
    }
   ],
   "source": [
    "list_num = [34, 87, 23, 12, 55, 90, 67, 42, 78, 61, 3, 25, 49, 99, 16, 80, 38, 7, 92, 14]\n",
    "sum = 0\n",
    "for i in list_num:\n",
    "    if i % 2 == 0:\n",
    "        sum += i\n",
    "\n",
    "print(sum)"
   ]
  },
  {
   "cell_type": "markdown",
   "id": "f4efd617",
   "metadata": {},
   "source": [
    "## 24. 🔁 Count Occurrence\n",
    "Count how many times a specific element appears in a list using a loop."
   ]
  },
  {
   "cell_type": "code",
   "execution_count": 11,
   "id": "cab701cf",
   "metadata": {},
   "outputs": [
    {
     "name": "stdout",
     "output_type": "stream",
     "text": [
      "5 appears 4 times in the list.\n"
     ]
    }
   ],
   "source": [
    "numbers = [5, 3, 7, 5, 2, 9, 5, 1, 6, 5]\n",
    "target = 5\n",
    "count = 0\n",
    "\n",
    "for num in numbers:\n",
    "    if num == target:\n",
    "        count += 1\n",
    "\n",
    "print(f\"{target} appears {count} times in the list.\")\n"
   ]
  },
  {
   "cell_type": "markdown",
   "id": "c9349334",
   "metadata": {},
   "source": [
    "## 25. 🔄 While Loop with Else\n",
    "Write a `while` loop with an `else` block that prints a message when done."
   ]
  },
  {
   "cell_type": "code",
   "execution_count": 12,
   "id": "aa30926c",
   "metadata": {},
   "outputs": [
    {
     "name": "stdout",
     "output_type": "stream",
     "text": [
      "Number: 1\n",
      "Number: 2\n",
      "Number: 3\n",
      "Number: 4\n",
      "Number: 5\n",
      "✅ Loop finished successfully!\n"
     ]
    }
   ],
   "source": [
    "i = 1\n",
    "\n",
    "while i <= 5:\n",
    "    print(\"Number:\", i)\n",
    "    i += 1\n",
    "else:\n",
    "    print(\"✅ Loop finished successfully!\")\n"
   ]
  },
  {
   "cell_type": "markdown",
   "id": "8f3ae891",
   "metadata": {},
   "source": [
    "## 26. 🔁 Reverse String\n",
    "Use a loop to reverse a given string."
   ]
  },
  {
   "cell_type": "code",
   "execution_count": null,
   "id": "52e15c99",
   "metadata": {},
   "outputs": [
    {
     "name": "stdout",
     "output_type": "stream",
     "text": [
      "varuas"
     ]
    }
   ],
   "source": [
    "name = \"saurav\"\n",
    "for i in range(1,len(name)+1):\n",
    "    print(name[-i],end=\"\")"
   ]
  },
  {
   "cell_type": "markdown",
   "id": "62dd92a1",
   "metadata": {},
   "source": [
    "## 27. 🧠 Loop with Index\n",
    "Use `for` loop and `range()` to iterate over a list with index."
   ]
  },
  {
   "cell_type": "code",
   "execution_count": 27,
   "id": "b93ce944",
   "metadata": {},
   "outputs": [
    {
     "name": "stdout",
     "output_type": "stream",
     "text": [
      "Index=0 and number=1\n",
      "Index=1 and number=2\n",
      "Index=2 and number=3\n",
      "Index=3 and number=4\n",
      "Index=4 and number=5\n",
      "Index=5 and number=6\n",
      "Index=6 and number=7\n",
      "Index=7 and number=8\n",
      "Index=8 and number=9\n"
     ]
    }
   ],
   "source": [
    "for i,n in enumerate(range(1,10)):\n",
    "    print(f\"Index={i} and number={n}\")"
   ]
  },
  {
   "cell_type": "markdown",
   "id": "40eb6e70",
   "metadata": {},
   "source": [
    "## 28. 🔁 Filter Positive Numbers\n",
    "Use a loop to filter out only positive numbers from a list."
   ]
  },
  {
   "cell_type": "code",
   "execution_count": 29,
   "id": "ef32bd00",
   "metadata": {},
   "outputs": [
    {
     "name": "stdout",
     "output_type": "stream",
     "text": [
      "[12, 34, 7, 19, 8, 45, 27, 60, 5, 33, 2, 50]\n"
     ]
    }
   ],
   "source": [
    "mixed_numbers = [12, -5, 34, -18, 0, 7, -21, 19, -3, 8,\n",
    "                 -10, 45, -32, 27, -1, 60, -44, 5, -17, 33,\n",
    "                 -8, 2, -13, 50, -29]\n",
    "positive_num = []\n",
    "for i in mixed_numbers:\n",
    "    if i > 0 :\n",
    "        positive_num.append(i)\n",
    "\n",
    "print(positive_num)"
   ]
  },
  {
   "cell_type": "markdown",
   "id": "7fd1ede7",
   "metadata": {},
   "source": [
    "## 29. 🧠 Sum of Digits\n",
    "Sum the digits of a number using a `while` loop."
   ]
  },
  {
   "cell_type": "code",
   "execution_count": 43,
   "id": "baa4910a",
   "metadata": {},
   "outputs": [
    {
     "name": "stdout",
     "output_type": "stream",
     "text": [
      "180\n"
     ]
    }
   ],
   "source": [
    "list_num = [34, 87, 23, 12, 55, 90, 67, 42, 78, 61, \n",
    "            3, 25, 49, 99, 16, 80, 38, 7, 92, 14]\n",
    "\n",
    "sum_digits = 0\n",
    "i = 0\n",
    "while i < len(list_num):\n",
    "    for digit in str(list_num[i]):\n",
    "        sum_digits += int(digit)\n",
    "    i += 1\n",
    "\n",
    "print(sum_digits)"
   ]
  },
  {
   "cell_type": "markdown",
   "id": "f87ab6dc",
   "metadata": {},
   "source": [
    "## 30. ⏹ Exit on Input\n",
    "Keep taking input from user until they type 'exit'."
   ]
  },
  {
   "cell_type": "code",
   "execution_count": null,
   "id": "505b7017",
   "metadata": {},
   "outputs": [],
   "source": [
    "user_input = input(\"Enter the input\"))\n",
    "guess_num = random.randint(1,20)\n",
    "while num != guess_num:\n",
    "    print(\"Wrong guess, try again!\")\n",
    "    num = int(input(\"Guess again: \"))\n",
    "\n",
    "print(\"Congratulations! You guessed it right!\")"
   ]
  },
  {
   "cell_type": "markdown",
   "id": "67db9474",
   "metadata": {},
   "source": [
    "## 31. 🔄 Loop to Create Dictionary\n",
    "Use a loop to create a dictionary of squares from 1 to 10."
   ]
  },
  {
   "cell_type": "code",
   "execution_count": 5,
   "id": "12a59012",
   "metadata": {},
   "outputs": [
    {
     "name": "stdout",
     "output_type": "stream",
     "text": [
      "{1: 1, 2: 4, 3: 9, 4: 16, 5: 25, 6: 36, 7: 49, 8: 64, 9: 81, 10: 100}\n"
     ]
    }
   ],
   "source": [
    "dict = {}\n",
    "for i in range(1,11):\n",
    "    dict[i] = i**2\n",
    "\n",
    "print(dict)"
   ]
  },
  {
   "cell_type": "markdown",
   "id": "e1f0b8b5",
   "metadata": {},
   "source": [
    "## 32. 📦 Nested Loops for Multiplication Table\n",
    "Print full multiplication tables from 1 to 5."
   ]
  },
  {
   "cell_type": "code",
   "execution_count": 8,
   "id": "01e2281a",
   "metadata": {},
   "outputs": [
    {
     "name": "stdout",
     "output_type": "stream",
     "text": [
      "\n",
      "Multiplication Table for 1\n",
      "1*1 = 1\n",
      "1*2 = 2\n",
      "1*3 = 3\n",
      "1*4 = 4\n",
      "1*5 = 5\n",
      "1*6 = 6\n",
      "1*7 = 7\n",
      "1*8 = 8\n",
      "1*9 = 9\n",
      "1*10 = 10\n",
      "\n",
      "Multiplication Table for 2\n",
      "2*1 = 2\n",
      "2*2 = 4\n",
      "2*3 = 6\n",
      "2*4 = 8\n",
      "2*5 = 10\n",
      "2*6 = 12\n",
      "2*7 = 14\n",
      "2*8 = 16\n",
      "2*9 = 18\n",
      "2*10 = 20\n",
      "\n",
      "Multiplication Table for 3\n",
      "3*1 = 3\n",
      "3*2 = 6\n",
      "3*3 = 9\n",
      "3*4 = 12\n",
      "3*5 = 15\n",
      "3*6 = 18\n",
      "3*7 = 21\n",
      "3*8 = 24\n",
      "3*9 = 27\n",
      "3*10 = 30\n",
      "\n",
      "Multiplication Table for 4\n",
      "4*1 = 4\n",
      "4*2 = 8\n",
      "4*3 = 12\n",
      "4*4 = 16\n",
      "4*5 = 20\n",
      "4*6 = 24\n",
      "4*7 = 28\n",
      "4*8 = 32\n",
      "4*9 = 36\n",
      "4*10 = 40\n",
      "\n",
      "Multiplication Table for 5\n",
      "5*1 = 5\n",
      "5*2 = 10\n",
      "5*3 = 15\n",
      "5*4 = 20\n",
      "5*5 = 25\n",
      "5*6 = 30\n",
      "5*7 = 35\n",
      "5*8 = 40\n",
      "5*9 = 45\n",
      "5*10 = 50\n"
     ]
    }
   ],
   "source": [
    "for num in range(1,6):\n",
    "    print(f\"\\nMultiplication Table for {num}\")\n",
    "    for i in range(1,11):\n",
    "        print(f\"{num}*{i} = {i*num}\")"
   ]
  },
  {
   "cell_type": "markdown",
   "id": "ef2f366c",
   "metadata": {},
   "source": [
    "## 33. 🎯 Find Target in List\n",
    "Use a loop to check if a number exists in a list."
   ]
  },
  {
   "cell_type": "code",
   "execution_count": 11,
   "id": "d731a6df",
   "metadata": {},
   "outputs": [
    {
     "name": "stdout",
     "output_type": "stream",
     "text": [
      "The no. found in the list at index 18 and number is 92\n"
     ]
    }
   ],
   "source": [
    "list_num = [34, 87, 23, 12, 55, 90, 67, 42, 78, 61, 3, 25, 49, 99, 16, 80, 38, 7, 92, 14]\n",
    "target_no = int(input(\"Enter the you want to check in list\"))\n",
    "for i,num in enumerate(list_num):\n",
    "    if target_no == num:\n",
    "        print(f\"The no. found in the list at index {i} and number is {num}\")\n",
    "        break\n",
    "else:\n",
    "        print(\"Number is not found in the list.\")"
   ]
  },
  {
   "cell_type": "markdown",
   "id": "56698c24",
   "metadata": {},
   "source": [
    "## 34. 🔁 Print Reverse Pattern\n",
    "Print a reverse star triangle of height 5 using loop."
   ]
  },
  {
   "cell_type": "code",
   "execution_count": 12,
   "id": "1e14d600",
   "metadata": {},
   "outputs": [
    {
     "name": "stdout",
     "output_type": "stream",
     "text": [
      "*****\n",
      "****\n",
      "***\n",
      "**\n",
      "*\n"
     ]
    }
   ],
   "source": [
    "height = 5\n",
    "for i in range(5):\n",
    "    print(\"*\"*(height-i))"
   ]
  },
  {
   "cell_type": "markdown",
   "id": "5e77e909",
   "metadata": {},
   "source": [
    "## 35. 🧠 Password Checker\n",
    "Keep asking for password until user types correct one using `while`."
   ]
  },
  {
   "cell_type": "code",
   "execution_count": 15,
   "id": "6aeeb1f5",
   "metadata": {},
   "outputs": [
    {
     "name": "stdout",
     "output_type": "stream",
     "text": [
      "Password must be 8 characters long, include a number, and a special character (@, _, -, #, $, &). Please try again.\n",
      "Password accepted!\n"
     ]
    }
   ],
   "source": [
    "while True:\n",
    "    password = input(\"Enter your password: \")\n",
    "    \n",
    "    if (len(password) == 8 and\n",
    "        any(char.isdigit() for char in password) and\n",
    "        any(char in \"@_-#$&\" for char in password)):\n",
    "        print(\"Password accepted!\")\n",
    "        break\n",
    "    else:\n",
    "        print(\"Password must be 8 characters long, include a number, and a special character (@, _, -, #, $, &). Please try again.\")\n"
   ]
  },
  {
   "cell_type": "markdown",
   "id": "2c70021a",
   "metadata": {},
   "source": [
    "## 36. 🗳 Count Vowels in Sentence\n",
    "Use a `for` loop to count vowels in a sentence."
   ]
  },
  {
   "cell_type": "code",
   "execution_count": 20,
   "id": "f4681a34",
   "metadata": {},
   "outputs": [
    {
     "name": "stdout",
     "output_type": "stream",
     "text": [
      "Total no. vowel in this sentence are:14\n"
     ]
    }
   ],
   "source": [
    "sentence = input(\"Enter the the sentence\")\n",
    "vowel_count = 0\n",
    "for i in sentence:\n",
    "  if i in \"AEIOUaeiou\":\n",
    "        vowel_count += 1\n",
    "\n",
    "print(f\"Total no. vowel in this sentence are:{vowel_count}\")"
   ]
  },
  {
   "cell_type": "markdown",
   "id": "bd1e8074",
   "metadata": {},
   "source": [
    "## 37. 🔁 Loop with Zip\n",
    "Loop over two lists at once using `zip()`."
   ]
  },
  {
   "cell_type": "code",
   "execution_count": 24,
   "id": "4cd9d180",
   "metadata": {},
   "outputs": [
    {
     "name": "stdout",
     "output_type": "stream",
     "text": [
      "Student name is Saurav and marks is 85\n",
      "Student name is Ankit and marks is 92\n",
      "Student name is Riya and marks is 78\n",
      "Student name is Priya and marks is 88\n",
      "Student name is Aman and marks is 90\n"
     ]
    }
   ],
   "source": [
    "student_names = [\"Saurav\", \"Ankit\", \"Riya\", \"Priya\", \"Aman\"]\n",
    "student_marks = [85, 92, 78, 88, 90]\n",
    "for name,marks in zip(student_names,student_marks):\n",
    "    print(f\"Student name is {name} and marks is {marks}\")"
   ]
  },
  {
   "cell_type": "markdown",
   "id": "64771c9d",
   "metadata": {},
   "source": [
    "## 38. 🧠 Custom Range Loop\n",
    "Write a custom loop that behaves like `range(start, stop, step)` using `while`."
   ]
  },
  {
   "cell_type": "code",
   "execution_count": 26,
   "id": "ff483491",
   "metadata": {},
   "outputs": [
    {
     "name": "stdout",
     "output_type": "stream",
     "text": [
      "1\n",
      "3\n",
      "5\n",
      "7\n",
      "9\n"
     ]
    }
   ],
   "source": [
    "start = int(input(\"Enter the starting number\"))\n",
    "end = int(input(\"Enter the ending number\"))\n",
    "step = int(input(\"Enter the step number\"))\n",
    "while start < end:\n",
    "    print(start)\n",
    "    start += step"
   ]
  },
  {
   "cell_type": "markdown",
   "id": "a46af338",
   "metadata": {},
   "source": [
    "## 39. 🔄 Loop Over Dictionary\n",
    "Loop through dictionary keys and values and print them."
   ]
  },
  {
   "cell_type": "code",
   "execution_count": 31,
   "id": "83b6c727",
   "metadata": {},
   "outputs": [
    {
     "name": "stdout",
     "output_type": "stream",
     "text": [
      "Saurav scored 85 marks.\n",
      "Ankit scored 92 marks.\n",
      "Riya scored 78 marks.\n",
      "Priya scored 88 marks.\n",
      "Aman scored 90 marks.\n"
     ]
    }
   ],
   "source": [
    "student_marks = {\n",
    "    \"Saurav\": 85,\n",
    "    \"Ankit\": 92,\n",
    "    \"Riya\": 78,\n",
    "    \"Priya\": 88,\n",
    "    \"Aman\": 90\n",
    "}\n",
    "for name, marks in student_marks.items():\n",
    "    print(f\"{name} scored {marks} marks.\")\n"
   ]
  },
  {
   "cell_type": "markdown",
   "id": "ffb99231",
   "metadata": {},
   "source": [
    "## 40. 📊 Simple Data Analysis\n",
    "Given a list of student marks, calculate average, highest and lowest using loops."
   ]
  },
  {
   "cell_type": "code",
   "execution_count": 34,
   "id": "b8c6d85f",
   "metadata": {},
   "outputs": [
    {
     "name": "stdout",
     "output_type": "stream",
     "text": [
      "The average is 39.3, highest marks is 50 and lowest marks is 25\n"
     ]
    }
   ],
   "source": [
    "student_marks = [45, 38, 50, 42, 30, 47, 25, 39, 44, 36,\n",
    "                 28, 50, 41, 35, 33, 46, 49, 31, 40, 37]\n",
    "avg = 0\n",
    "highest = student_marks[0]\n",
    "lowest =student_marks[0]\n",
    "for i in student_marks:\n",
    "    avg += i\n",
    "    if i > highest:\n",
    "        highest = i\n",
    "    if i < lowest:\n",
    "        lowest = i\n",
    "\n",
    "print(f\"The average is {avg/len(student_marks)}, highest marks is {highest} and lowest marks is {lowest}\")"
   ]
  }
 ],
 "metadata": {
  "kernelspec": {
   "display_name": "base",
   "language": "python",
   "name": "python3"
  },
  "language_info": {
   "codemirror_mode": {
    "name": "ipython",
    "version": 3
   },
   "file_extension": ".py",
   "mimetype": "text/x-python",
   "name": "python",
   "nbconvert_exporter": "python",
   "pygments_lexer": "ipython3",
   "version": "3.12.7"
  }
 },
 "nbformat": 4,
 "nbformat_minor": 5
}
