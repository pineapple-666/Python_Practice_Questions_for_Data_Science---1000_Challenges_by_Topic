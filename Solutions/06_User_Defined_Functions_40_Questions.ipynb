{
 "cells": [
  {
   "cell_type": "markdown",
   "id": "53f6f54e",
   "metadata": {},
   "source": [
    "## 1. 🧮 Add Two Numbers\n",
    "Write a function that takes two numbers and returns their sum."
   ]
  },
  {
   "cell_type": "code",
   "execution_count": 1,
   "id": "49ca298b",
   "metadata": {},
   "outputs": [
    {
     "data": {
      "text/plain": [
       "11"
      ]
     },
     "execution_count": 1,
     "metadata": {},
     "output_type": "execute_result"
    }
   ],
   "source": [
    "def add(a,b):\n",
    "    return a+b\n",
    "\n",
    "\n",
    "add(5,6)"
   ]
  },
  {
   "cell_type": "markdown",
   "id": "ca168a4f",
   "metadata": {},
   "source": [
    "## 2. 🔁 Check Even or Odd\n",
    "Create a function that checks whether a number is even or odd."
   ]
  },
  {
   "cell_type": "code",
   "execution_count": 4,
   "id": "67ad3e1a",
   "metadata": {},
   "outputs": [
    {
     "name": "stdout",
     "output_type": "stream",
     "text": [
      "The number 5 is odd no.\n"
     ]
    }
   ],
   "source": [
    "def oddeven(num):\n",
    "    if num > 0:\n",
    "        if num % 2 == 0:\n",
    "            print(f\"The number {num} is even no. \")\n",
    "        else:\n",
    "            print(f\"The number {num} is odd no.\")\n",
    "    elif num == 0:\n",
    "        print(\"Given number is zero\")\n",
    "    else:\n",
    "        print(f\"Given number {num} is negative no.\")\n",
    "\n",
    "oddeven(5)"
   ]
  },
  {
   "cell_type": "markdown",
   "id": "815242f2",
   "metadata": {},
   "source": [
    "## 3. 🔠 Greet User\n",
    "Write a function that accepts a name and prints a greeting message."
   ]
  },
  {
   "cell_type": "code",
   "execution_count": 11,
   "id": "1967f352",
   "metadata": {},
   "outputs": [
    {
     "data": {
      "text/plain": [
       "'Hello,saurav'"
      ]
     },
     "execution_count": 11,
     "metadata": {},
     "output_type": "execute_result"
    }
   ],
   "source": [
    "def greeting(name):\n",
    "    return f\"Hello,{name}\"\n",
    "\n",
    "greeting(\"saurav\")"
   ]
  },
  {
   "cell_type": "markdown",
   "id": "3b7a752d",
   "metadata": {},
   "source": [
    "## 4. 🔁 Factorial Function\n",
    "Create a function to compute the factorial of a number."
   ]
  },
  {
   "cell_type": "code",
   "execution_count": 13,
   "id": "0e3f3601",
   "metadata": {},
   "outputs": [
    {
     "data": {
      "text/plain": [
       "120"
      ]
     },
     "execution_count": 13,
     "metadata": {},
     "output_type": "execute_result"
    }
   ],
   "source": [
    "def factorial(num):\n",
    "    factor = 1\n",
    "    for i in range(1,num+1):\n",
    "        factor *= i\n",
    "    return factor\n",
    "\n",
    "factorial(5)"
   ]
  },
  {
   "cell_type": "code",
   "execution_count": 16,
   "id": "31f37a2f",
   "metadata": {},
   "outputs": [
    {
     "name": "stdout",
     "output_type": "stream",
     "text": [
      "120\n"
     ]
    }
   ],
   "source": [
    "#Using recursion:\n",
    "def factorial(n):\n",
    "    if n == 0 or n == 1:\n",
    "        return 1\n",
    "    else:\n",
    "        return n * factorial(n - 1)\n",
    "\n",
    "print(factorial(5))  "
   ]
  },
  {
   "cell_type": "markdown",
   "id": "17c7d883",
   "metadata": {},
   "source": [
    "## 5. 🧠 Prime Checker\n",
    "Write a function that checks whether a number is prime."
   ]
  },
  {
   "cell_type": "code",
   "execution_count": 21,
   "id": "8a36b207",
   "metadata": {},
   "outputs": [
    {
     "name": "stdout",
     "output_type": "stream",
     "text": [
      "The given number is a prime number\n"
     ]
    }
   ],
   "source": [
    "def prime(num):\n",
    "    if num <= 1:\n",
    "        print(\"The given number is not a prime number\")\n",
    "    else:\n",
    "        for i in range(2, num):\n",
    "            if num % i == 0:\n",
    "                print(\"The given number is not a prime number\")\n",
    "                break\n",
    "        else:\n",
    "            print(\"The given number is a prime number\")\n",
    "\n",
    "prime(5)"
   ]
  },
  {
   "cell_type": "markdown",
   "id": "3ed79e64",
   "metadata": {},
   "source": [
    "## 6. 📏 Length of List\n",
    "Create a function that returns the length of a list (without using `len()`)."
   ]
  },
  {
   "cell_type": "code",
   "execution_count": 22,
   "id": "cb38e46a",
   "metadata": {},
   "outputs": [
    {
     "data": {
      "text/plain": [
       "7"
      ]
     },
     "execution_count": 22,
     "metadata": {},
     "output_type": "execute_result"
    }
   ],
   "source": [
    "def length_checker(list):\n",
    "    length = 0\n",
    "    for i in list:\n",
    "        length += 1\n",
    "    return length\n",
    "\n",
    "\n",
    "length_checker([1,2,3,4,5,6,7])"
   ]
  },
  {
   "cell_type": "markdown",
   "id": "4db73301",
   "metadata": {},
   "source": [
    "## 7. 🧠 Palindrome Checker\n",
    "Write a function that checks if a string is a palindrome."
   ]
  },
  {
   "cell_type": "code",
   "execution_count": 28,
   "id": "8c1d3eb3",
   "metadata": {},
   "outputs": [
    {
     "data": {
      "text/plain": [
       "\"The given word 'noon' is a palindrome\""
      ]
     },
     "execution_count": 28,
     "metadata": {},
     "output_type": "execute_result"
    }
   ],
   "source": [
    "def palindrome_checker(string):\n",
    "    if string == string[::-1]:\n",
    "        return f\"The given word '{string}' is a palindrome\"\n",
    "    else:\n",
    "        return f\"The given word '{string}' is not a palindrome\"\n",
    "    \n",
    "\n",
    "palindrome_checker(\"noon\")"
   ]
  },
  {
   "cell_type": "markdown",
   "id": "6a0fdc12",
   "metadata": {},
   "source": [
    "## 8. 🔄 Recursive Sum\n",
    "Write a recursive function that calculates the sum of first `n` natural numbers."
   ]
  },
  {
   "cell_type": "code",
   "execution_count": 29,
   "id": "18b18d61",
   "metadata": {},
   "outputs": [
    {
     "name": "stdout",
     "output_type": "stream",
     "text": [
      "15\n"
     ]
    }
   ],
   "source": [
    "def recursive_sum(n):\n",
    "    if n == 0 or n == 1:\n",
    "        return 1\n",
    "    else:\n",
    "        return n + recursive_sum(n - 1)\n",
    "\n",
    "print(recursive_sum(5))  "
   ]
  },
  {
   "cell_type": "markdown",
   "id": "e06d7bd0",
   "metadata": {},
   "source": [
    "## 9. 🆚 Compare Two Strings\n",
    "Create a function that compares two strings and returns whether they are equal (case insensitive)."
   ]
  },
  {
   "cell_type": "code",
   "execution_count": 30,
   "id": "ad7d1622",
   "metadata": {},
   "outputs": [
    {
     "name": "stdout",
     "output_type": "stream",
     "text": [
      "Both saurav and SAURAV are equal\n"
     ]
    }
   ],
   "source": [
    "def compare_string(string_1,string_2):\n",
    "    if string_1.lower() == string_2.lower():\n",
    "        print(f\"Both {string_1} and {string_2} are equal\")\n",
    "    else:\n",
    "        print(f\"Both {string_1} and {string_2} are  not equal\")\n",
    "\n",
    "\n",
    "compare_string(\"saurav\",\"SAURAV\")"
   ]
  },
  {
   "cell_type": "markdown",
   "id": "ef57a2f9",
   "metadata": {},
   "source": [
    "## 10. 🧪 Vowel Counter\n",
    "Write a function that counts the number of vowels in a sentence."
   ]
  },
  {
   "cell_type": "code",
   "execution_count": 33,
   "id": "261aa156",
   "metadata": {},
   "outputs": [
    {
     "data": {
      "text/plain": [
       "\"This sentence 'Write a function that counts the number of vowels in a sentence.' contains this many vowels 20 \""
      ]
     },
     "execution_count": 33,
     "metadata": {},
     "output_type": "execute_result"
    }
   ],
   "source": [
    "def vowel_count(sentence):\n",
    "    count = 0\n",
    "    for i in sentence:\n",
    "        if i in \"AEIOUaeiou\":\n",
    "            count += 1\n",
    "    return f\"This sentence '{sentence}' contains this many vowels {count} \"\n",
    "\n",
    "\n",
    "\n",
    "vowel_count(\"Write a function that counts the number of vowels in a sentence.\")"
   ]
  },
  {
   "cell_type": "markdown",
   "id": "322aa288",
   "metadata": {},
   "source": [
    "## 11. 🔁 Fibonacci Generator\n",
    "Create a function that returns the first `n` Fibonacci numbers."
   ]
  },
  {
   "cell_type": "code",
   "execution_count": 34,
   "id": "5a651e62",
   "metadata": {},
   "outputs": [
    {
     "name": "stdout",
     "output_type": "stream",
     "text": [
      "0 1 1 2 3 "
     ]
    }
   ],
   "source": [
    "def fibonacci(num):\n",
    "    a = 0\n",
    "    b = 1\n",
    "    for i in range(num):\n",
    "        print(a,end = \" \")\n",
    "        a,b = b,a+b\n",
    "\n",
    "\n",
    "fibonacci(5)"
   ]
  },
  {
   "cell_type": "markdown",
   "id": "d256449c",
   "metadata": {},
   "source": [
    "## 12. 📤 Max of Three\n",
    "Write a function to find the maximum of three numbers."
   ]
  },
  {
   "cell_type": "code",
   "execution_count": 43,
   "id": "2c154141",
   "metadata": {},
   "outputs": [
    {
     "data": {
      "text/plain": [
       "960"
      ]
     },
     "execution_count": 43,
     "metadata": {},
     "output_type": "execute_result"
    }
   ],
   "source": [
    "def max_no(a, b, c):\n",
    "    max_no = a\n",
    "    if b > max_no:\n",
    "        max_no = b\n",
    "    if c > max_no:\n",
    "        max_no = c\n",
    "    return max_no\n",
    "\n",
    "max_no(18,12,960) \n"
   ]
  },
  {
   "cell_type": "markdown",
   "id": "ea2b9150",
   "metadata": {},
   "source": [
    "## 13. 🎯 Find Element\n",
    "Write a function to find if an element exists in a list."
   ]
  },
  {
   "cell_type": "code",
   "execution_count": null,
   "id": "6de7ef1d",
   "metadata": {},
   "outputs": [
    {
     "name": "stdout",
     "output_type": "stream",
     "text": [
      "Element is found in the list\n"
     ]
    }
   ],
   "source": [
    "def element_finder(list,element):\n",
    "    for i in list:\n",
    "        if i == element:\n",
    "            print(f\"Element is found in the list\")\n",
    "            break\n",
    "    else:\n",
    "        print(\"element is not found\")\n",
    "\n",
    "\n",
    "element_finder([5,6,8,10,20,26,85],26)"
   ]
  },
  {
   "cell_type": "markdown",
   "id": "537ff636",
   "metadata": {},
   "source": [
    "## 14. 🔄 Reverse List\n",
    "Create a function to reverse a list without using `reverse()`."
   ]
  },
  {
   "cell_type": "code",
   "execution_count": null,
   "id": "c0671dc2",
   "metadata": {},
   "outputs": [
    {
     "data": {
      "text/plain": [
       "[85, 26, 20, 10, 8, 6, 5]"
      ]
     },
     "execution_count": 52,
     "metadata": {},
     "output_type": "execute_result"
    }
   ],
   "source": [
    "def reverse_list(lst):\n",
    "    return lst[::-1]\n",
    "\n",
    "\n",
    "reverse_list([5,6,8,10,20,26,85])"
   ]
  },
  {
   "cell_type": "markdown",
   "id": "c118b5d9",
   "metadata": {},
   "source": [
    "## 15. 📚 Capitalize Words\n",
    "Write a function that capitalizes the first letter of each word in a sentence."
   ]
  },
  {
   "cell_type": "code",
   "execution_count": 60,
   "id": "060650c4",
   "metadata": {},
   "outputs": [
    {
     "name": "stdout",
     "output_type": "stream",
     "text": [
      "Write A Function That Capitalizes The First Letter Of Each Word In A Sentence. "
     ]
    }
   ],
   "source": [
    "def capitalize(sentence):\n",
    "    for i in sentence.split(\" \"):\n",
    "        print(i.title(),end = \" \")\n",
    "\n",
    "\n",
    "\n",
    "capitalize(\"Write a function that capitalizes the first letter of each word in a sentence.\")"
   ]
  },
  {
   "cell_type": "markdown",
   "id": "11ddc7e3",
   "metadata": {},
   "source": [
    "## 16. 🧪 Custom Filter\n",
    "Create a function that filters out even numbers from a list."
   ]
  },
  {
   "cell_type": "code",
   "execution_count": 3,
   "id": "0cb38177",
   "metadata": {},
   "outputs": [
    {
     "data": {
      "text/plain": [
       "'List of all even number:[82, 24, 76, 68]'"
      ]
     },
     "execution_count": 3,
     "metadata": {},
     "output_type": "execute_result"
    }
   ],
   "source": [
    "def filter_cust(lst):\n",
    "    even_lst = []\n",
    "    for i in lst:\n",
    "        if i %2 == 0:\n",
    "            even_lst.append(i)\n",
    "    return f\"List of all even number:{even_lst}\"\n",
    "\n",
    "\n",
    "\n",
    "filter_cust([47, 82, 13, 59, 24, 76, 95, 31, 68, 7])"
   ]
  },
  {
   "cell_type": "markdown",
   "id": "19ed251b",
   "metadata": {},
   "source": [
    "## 17. 📊 Average Marks\n",
    "Write a function that takes marks of a student and returns the average."
   ]
  },
  {
   "cell_type": "code",
   "execution_count": 5,
   "id": "a32ac883",
   "metadata": {},
   "outputs": [
    {
     "data": {
      "text/plain": [
       "'Average marks is : 39.3'"
      ]
     },
     "execution_count": 5,
     "metadata": {},
     "output_type": "execute_result"
    }
   ],
   "source": [
    "def avg_marks(lst):\n",
    "    sum = 0\n",
    "    for i in lst:\n",
    "        sum += i\n",
    "    return f\"Average marks is : {sum/len(lst)}\"\n",
    "\n",
    "\n",
    "avg_marks([45, 38, 50, 42, 30, 47, 25, 39, 44, 36,\n",
    "                 28, 50, 41, 35, 33, 46, 49, 31, 40, 37])"
   ]
  },
  {
   "cell_type": "markdown",
   "id": "1b5a658a",
   "metadata": {},
   "source": [
    "## 18. 🔁 Multiplication Table\n",
    "Write a function that prints multiplication table of a given number."
   ]
  },
  {
   "cell_type": "code",
   "execution_count": 8,
   "id": "8dd0f46f",
   "metadata": {},
   "outputs": [
    {
     "name": "stdout",
     "output_type": "stream",
     "text": [
      "9*1 = 9\n",
      "9*2 = 18\n",
      "9*3 = 27\n",
      "9*4 = 36\n",
      "9*5 = 45\n",
      "9*6 = 54\n",
      "9*7 = 63\n",
      "9*8 = 72\n",
      "9*9 = 81\n",
      "9*10 = 90\n"
     ]
    }
   ],
   "source": [
    "def table_gen(a):\n",
    "    for i in range(1,11):\n",
    "        print(f\"{a}*{i} = {i*a}\")\n",
    "    \n",
    "\n",
    "\n",
    "table_gen(9)"
   ]
  },
  {
   "cell_type": "markdown",
   "id": "9c56201c",
   "metadata": {},
   "source": [
    "## 19. 🔠 Count Letters and Digits\n",
    "Create a function that counts letters and digits in a string."
   ]
  },
  {
   "cell_type": "code",
   "execution_count": 14,
   "id": "48a8d9bf",
   "metadata": {},
   "outputs": [
    {
     "data": {
      "text/plain": [
       "'Total no. of Digit are:4 and total no. letter are:6'"
      ]
     },
     "execution_count": 14,
     "metadata": {},
     "output_type": "execute_result"
    }
   ],
   "source": [
    "def string_digit_count(string):\n",
    "    digit = 0\n",
    "    letter = 0\n",
    "    for i in string:\n",
    "        if i.isdigit():\n",
    "            digit += 1\n",
    "        elif i.isalpha():\n",
    "            letter += 1\n",
    "    return f\"Total no. of Digit are:{digit} and total no. letter are:{letter}\"\n",
    "\n",
    "\n",
    "string_digit_count(\"saurav7721\")\n"
   ]
  },
  {
   "cell_type": "markdown",
   "id": "c10ae35a",
   "metadata": {},
   "source": [
    "## 20. 🔄 Recursive Factorial\n",
    "Write a recursive version of the factorial function."
   ]
  },
  {
   "cell_type": "code",
   "execution_count": 15,
   "id": "044c4b8e",
   "metadata": {},
   "outputs": [
    {
     "name": "stdout",
     "output_type": "stream",
     "text": [
      "120\n"
     ]
    }
   ],
   "source": [
    "def recursive_factorial(n):\n",
    "    if n == 0 or n == 1:\n",
    "        return 1\n",
    "    else:\n",
    "        return n * recursive_factorial(n - 1)\n",
    "\n",
    "print(recursive_factorial(5))  "
   ]
  },
  {
   "cell_type": "markdown",
   "id": "d946ade3",
   "metadata": {},
   "source": [
    "## 21. 🧠 String Analyzer\n",
    "Write a function that takes a string and returns the number of words, characters, and spaces."
   ]
  },
  {
   "cell_type": "code",
   "execution_count": 16,
   "id": "4e10aea7",
   "metadata": {},
   "outputs": [
    {
     "data": {
      "text/plain": [
       "'Words: 11, Characters: 70, Spaces: 10'"
      ]
     },
     "execution_count": 16,
     "metadata": {},
     "output_type": "execute_result"
    }
   ],
   "source": [
    "def string_analyzer(text):\n",
    "    words = len(text.split())               # words are separated by whitespace\n",
    "    characters = len(text)                  # total characters including spaces\n",
    "    spaces = text.count(\" \")                # count actual space characters\n",
    "    return f\"Words: {words}, Characters: {characters}, Spaces: {spaces}\"\n",
    "\n",
    "\n",
    "string_analyzer(\"Write a function that returns number of words, characters, and spaces.\")\n"
   ]
  },
  {
   "cell_type": "markdown",
   "id": "363bc005",
   "metadata": {},
   "source": [
    "## 22. 🔁 Sum of List\n",
    "Create a function that returns the sum of all numbers in a list."
   ]
  },
  {
   "cell_type": "code",
   "execution_count": 17,
   "id": "f063e99a",
   "metadata": {},
   "outputs": [
    {
     "data": {
      "text/plain": [
       "786"
      ]
     },
     "execution_count": 17,
     "metadata": {},
     "output_type": "execute_result"
    }
   ],
   "source": [
    "def sum_list(lst):\n",
    "    sum = 0\n",
    "    for i in lst:\n",
    "        sum += i\n",
    "    return sum\n",
    "\n",
    "\n",
    "sum_list([45, 38, 50, 42, 30, 47, 25, 39, 44, 36,28, 50, 41, 35, 33, 46, 49, 31, 40, 37])"
   ]
  },
  {
   "cell_type": "markdown",
   "id": "7d84ec6d",
   "metadata": {},
   "source": [
    "## 23. 🧮 Circle Area\n",
    "Write a function that calculates the area of a circle given the radius."
   ]
  },
  {
   "cell_type": "code",
   "execution_count": 21,
   "id": "ea562606",
   "metadata": {},
   "outputs": [
    {
     "data": {
      "text/plain": [
       "7853.981633974483"
      ]
     },
     "execution_count": 21,
     "metadata": {},
     "output_type": "execute_result"
    }
   ],
   "source": [
    "import math\n",
    "def circle_area(radius):\n",
    "    return math.pi*radius*radius\n",
    "\n",
    "\n",
    "circle_area(50)"
   ]
  },
  {
   "cell_type": "markdown",
   "id": "a853a473",
   "metadata": {},
   "source": [
    "## 24. 🧪 Square Checker\n",
    "Create a function that checks whether a number is a perfect square."
   ]
  },
  {
   "cell_type": "code",
   "execution_count": 35,
   "id": "e0f9a41f",
   "metadata": {},
   "outputs": [
    {
     "name": "stdout",
     "output_type": "stream",
     "text": [
      "100 is a perfect squrae of this number 10\n"
     ]
    }
   ],
   "source": [
    "def perfect_square(num):\n",
    "    for i in range(0,num):\n",
    "        if i**2 == num:\n",
    "            print(f\"{num} is a perfect squrae of this number {i}\")\n",
    "            break\n",
    "    else:\n",
    "        print(f\"{num} is not a perfect square\")\n",
    "\n",
    "\n",
    "\n",
    "perfect_square(100)"
   ]
  },
  {
   "cell_type": "markdown",
   "id": "422bc988",
   "metadata": {},
   "source": [
    "## 25. ⏫ Exponent Calculator\n",
    "Create a function that calculates `a^b` without using `**`."
   ]
  },
  {
   "cell_type": "code",
   "execution_count": 43,
   "id": "b7fde731",
   "metadata": {},
   "outputs": [
    {
     "data": {
      "text/plain": [
       "4"
      ]
     },
     "execution_count": 43,
     "metadata": {},
     "output_type": "execute_result"
    }
   ],
   "source": [
    "def power_cal(number,power):\n",
    "    result = number\n",
    "    for i in range(1,power):\n",
    "        result *= number\n",
    "    return result\n",
    "\n",
    "power_cal(2,2)"
   ]
  },
  {
   "cell_type": "markdown",
   "id": "cd891b35",
   "metadata": {},
   "source": [
    "## 26. 🧹 Remove Duplicates\n",
    "Create a function that removes duplicates from a list."
   ]
  },
  {
   "cell_type": "code",
   "execution_count": 44,
   "id": "9b676f81",
   "metadata": {},
   "outputs": [
    {
     "data": {
      "text/plain": [
       "[5, 3, 8, 2, 9, 1, 7, 6]"
      ]
     },
     "execution_count": 44,
     "metadata": {},
     "output_type": "execute_result"
    }
   ],
   "source": [
    "def duplicate_remove(lst):\n",
    "    unique_element = []\n",
    "    for i in lst:\n",
    "        if i not in unique_element:\n",
    "            unique_element.append(i)\n",
    "    return unique_element\n",
    "\n",
    "duplicate_remove([5, 3, 8, 2, 5, 9, 3, 1, 7, 8, 2, 6])"
   ]
  },
  {
   "cell_type": "markdown",
   "id": "ece19851",
   "metadata": {},
   "source": [
    "## 27. 🔄 Convert Celsius to Fahrenheit\n",
    "Write a function that converts Celsius to Fahrenheit."
   ]
  },
  {
   "cell_type": "code",
   "execution_count": 47,
   "id": "6afdec68",
   "metadata": {},
   "outputs": [
    {
     "data": {
      "text/plain": [
       "104.0"
      ]
     },
     "execution_count": 47,
     "metadata": {},
     "output_type": "execute_result"
    }
   ],
   "source": [
    "def celsius_to_fahrenheit(temp):\n",
    "    return ((temp*(9/5))+32)\n",
    "\n",
    "celsius_to_fahrenheit(40)"
   ]
  },
  {
   "cell_type": "markdown",
   "id": "cd61e25c",
   "metadata": {},
   "source": [
    "## 28. 🧮 BMI Calculator\n",
    "Write a function that calculates BMI and categorizes the result."
   ]
  },
  {
   "cell_type": "code",
   "execution_count": 53,
   "id": "dfaa22a3",
   "metadata": {},
   "outputs": [
    {
     "data": {
      "text/plain": [
       "20.76"
      ]
     },
     "execution_count": 53,
     "metadata": {},
     "output_type": "execute_result"
    }
   ],
   "source": [
    "def bmi_calculator(weight,height):\n",
    "    height_in_meters = height / 100\n",
    "    return round(weight / (height_in_meters ** 2), 2)\n",
    "\n",
    "\n",
    "\n",
    "bmi_calculator(60, 170)"
   ]
  },
  {
   "cell_type": "markdown",
   "id": "90b97ca8",
   "metadata": {},
   "source": [
    "## 29. 🔤 Word Frequency\n",
    "Create a function that returns a dictionary of word counts in a sentence."
   ]
  },
  {
   "cell_type": "code",
   "execution_count": 64,
   "id": "748b7348",
   "metadata": {},
   "outputs": [
    {
     "data": {
      "text/plain": [
       "{0: 'The',\n",
       " 1: 'curious',\n",
       " 2: 'cat',\n",
       " 3: 'tiptoed',\n",
       " 4: 'across',\n",
       " 5: 'the',\n",
       " 6: 'rooftop,',\n",
       " 7: 'chasing',\n",
       " 8: 'shadows',\n",
       " 9: 'in',\n",
       " 10: 'the',\n",
       " 11: 'moonlight.'}"
      ]
     },
     "execution_count": 64,
     "metadata": {},
     "output_type": "execute_result"
    }
   ],
   "source": [
    "def word_in_dict(sentence):\n",
    "    dict_word = {}\n",
    "    words = sentence.split()\n",
    "    for index in range(len(words)):\n",
    "        dict_word[index] = words[index]\n",
    "    return dict_word\n",
    "\n",
    "\n",
    "word_in_dict(\"The curious cat tiptoed across the rooftop, chasing shadows in the moonlight.\")"
   ]
  },
  {
   "cell_type": "markdown",
   "id": "deed6171",
   "metadata": {},
   "source": [
    "## 30. 🔀 Swap Two Numbers\n",
    "Write a function that swaps two numbers and returns them."
   ]
  },
  {
   "cell_type": "code",
   "execution_count": 66,
   "id": "ca61e678",
   "metadata": {},
   "outputs": [
    {
     "data": {
      "text/plain": [
       "(6, 5)"
      ]
     },
     "execution_count": 66,
     "metadata": {},
     "output_type": "execute_result"
    }
   ],
   "source": [
    "def swap_no(a,b):\n",
    "    a,b = b,a\n",
    "    return a,b\n",
    "\n",
    "\n",
    "swap_no(5,6)"
   ]
  },
  {
   "cell_type": "markdown",
   "id": "db227106",
   "metadata": {},
   "source": [
    "## 31. 🔄 Recursive Power Function\n",
    "Create a recursive function to compute `x^n`."
   ]
  },
  {
   "cell_type": "code",
   "execution_count": 69,
   "id": "b70840aa",
   "metadata": {},
   "outputs": [
    {
     "data": {
      "text/plain": [
       "32"
      ]
     },
     "execution_count": 69,
     "metadata": {},
     "output_type": "execute_result"
    }
   ],
   "source": [
    "def recursive_power(x, n):\n",
    "    if n == 0:\n",
    "        return 1\n",
    "    else:\n",
    "        return x * recursive_power(x, n - 1)\n",
    "    \n",
    "\n",
    "\n",
    "\n",
    "recursive_power(2,5)\n"
   ]
  },
  {
   "cell_type": "markdown",
   "id": "5175b230",
   "metadata": {},
   "source": [
    "## 32. 🔁 String Splitter\n",
    "Write a function that splits a sentence into words without using `split()`."
   ]
  },
  {
   "cell_type": "code",
   "execution_count": 73,
   "id": "f54bd9ce",
   "metadata": {},
   "outputs": [
    {
     "data": {
      "text/plain": [
       "['This', 'is', 'a', 'test', 'sentence']"
      ]
     },
     "execution_count": 73,
     "metadata": {},
     "output_type": "execute_result"
    }
   ],
   "source": [
    "def manual_split(sentence):\n",
    "    words = []\n",
    "    word = \"\"\n",
    "    \n",
    "    for char in sentence:\n",
    "        if char != \" \":\n",
    "            word += char\n",
    "        else:\n",
    "            if word != \"\":\n",
    "                words.append(word)\n",
    "                word = \"\"\n",
    "\n",
    "    if word:\n",
    "        words.append(word)\n",
    "\n",
    "    return words\n",
    "\n",
    "\n",
    "\n",
    "manual_split(\"This is a test sentence\")"
   ]
  },
  {
   "cell_type": "markdown",
   "id": "cfb36a27",
   "metadata": {},
   "source": [
    "## 33. 📚 Flatten List\n",
    "Write a function to flatten a list of lists into a single list."
   ]
  },
  {
   "cell_type": "code",
   "execution_count": 76,
   "id": "5d5bb2f5",
   "metadata": {},
   "outputs": [
    {
     "data": {
      "text/plain": [
       "[1, 96, 2, 3, 4, 5]"
      ]
     },
     "execution_count": 76,
     "metadata": {},
     "output_type": "execute_result"
    }
   ],
   "source": [
    "def flatten_list(nested_list):\n",
    "    flat_list = []\n",
    "    for sublist in nested_list:\n",
    "        for item in sublist:\n",
    "            flat_list.append(item)\n",
    "    return flat_list\n",
    "\n",
    "\n",
    "flatten_list([[1,96, 2], [3, 4], [5]])"
   ]
  },
  {
   "cell_type": "markdown",
   "id": "ee4a4ef2",
   "metadata": {},
   "source": [
    "## 34. 🔢 Digit Sum\n",
    "Create a function that returns the sum of digits of an integer."
   ]
  },
  {
   "cell_type": "code",
   "execution_count": 78,
   "id": "8abff8a3",
   "metadata": {},
   "outputs": [
    {
     "data": {
      "text/plain": [
       "6"
      ]
     },
     "execution_count": 78,
     "metadata": {},
     "output_type": "execute_result"
    }
   ],
   "source": [
    "def digit_sum(number):\n",
    "    number = abs(number)\n",
    "    sum = 0\n",
    "    for i in str(number):\n",
    "        sum += int(i)\n",
    "    return sum\n",
    "\n",
    "\n",
    "\n",
    "digit_sum(123)\n"
   ]
  },
  {
   "cell_type": "markdown",
   "id": "14d992e7",
   "metadata": {},
   "source": [
    "## 35. 🧠 Function with Default Argument\n",
    "Create a function to greet a user. If no name is provided, greet 'Guest'."
   ]
  },
  {
   "cell_type": "code",
   "execution_count": 80,
   "id": "e6329586",
   "metadata": {},
   "outputs": [
    {
     "data": {
      "text/plain": [
       "'Hello, Saurav'"
      ]
     },
     "execution_count": 80,
     "metadata": {},
     "output_type": "execute_result"
    }
   ],
   "source": [
    "def greet(name =\"Guest\"):\n",
    "    return f\"Hello, {name}\"\n",
    "\n",
    "\n",
    "greet()\n",
    "greet(\"Saurav\")"
   ]
  },
  {
   "cell_type": "markdown",
   "id": "edf12a8a",
   "metadata": {},
   "source": [
    "## 36. 🧠 Nested Function\n",
    "Write a nested function where the inner function adds two numbers."
   ]
  },
  {
   "cell_type": "code",
   "execution_count": 83,
   "id": "244668a9",
   "metadata": {},
   "outputs": [
    {
     "name": "stdout",
     "output_type": "stream",
     "text": [
      "15\n"
     ]
    }
   ],
   "source": [
    "def outer_function():\n",
    "    def inner_function(a, b):\n",
    "        return a + b\n",
    "    result = inner_function(10, 5)\n",
    "    return result\n",
    "\n",
    "\n",
    "print(outer_function())  "
   ]
  },
  {
   "cell_type": "markdown",
   "id": "126782ec",
   "metadata": {},
   "source": [
    "## 37. 📦 Return Multiple Values\n",
    "Create a function that returns the min, max, and average of a list."
   ]
  },
  {
   "cell_type": "code",
   "execution_count": 86,
   "id": "2ee00f9c",
   "metadata": {},
   "outputs": [
    {
     "data": {
      "text/plain": [
       "'The minimum value :1,maximum value :500 and average value is :46.166666666666664'"
      ]
     },
     "execution_count": 86,
     "metadata": {},
     "output_type": "execute_result"
    }
   ],
   "source": [
    "def min_max_avg(lst):\n",
    "    max_value = lst[0]\n",
    "    min_value = lst[0]\n",
    "    sum = 0\n",
    "    for i in lst:\n",
    "        sum += i\n",
    "        if i > max_value:\n",
    "            max_value = i\n",
    "        elif i < min_value:\n",
    "            min_value = i\n",
    "    return f\"The minimum value :{min_value},maximum value :{max_value} and average value is :{sum/len(lst)}\"\n",
    "\n",
    "\n",
    "min_max_avg([5, 3, 8, 2, 500, 9, 3, 1, 7, 8, 2, 6])\n",
    "\n"
   ]
  },
  {
   "cell_type": "markdown",
   "id": "66466e37",
   "metadata": {},
   "source": [
    "## 38. 🔁 Count Items Greater Than X\n",
    "Write a function that counts how many elements are greater than `x` in a list."
   ]
  },
  {
   "cell_type": "code",
   "execution_count": 88,
   "id": "66e63420",
   "metadata": {},
   "outputs": [
    {
     "data": {
      "text/plain": [
       "'There are 9 elements greater than 2 in the list.'"
      ]
     },
     "execution_count": 88,
     "metadata": {},
     "output_type": "execute_result"
    }
   ],
   "source": [
    "def count_item(lst,element):\n",
    "    count = 0\n",
    "    for i in lst:\n",
    "        if i > element:\n",
    "            count += 1\n",
    "    return f\"There are {count} elements greater than {element} in the list.\"\n",
    "\n",
    "count_item([5, 3, 8, 2, 5, 9, 3, 1, 7, 8, 2, 6],2)"
   ]
  },
  {
   "cell_type": "markdown",
   "id": "d102f23d",
   "metadata": {},
   "source": [
    "## 39. 📊 Statistics Function\n",
    "Write a function that takes a list and returns mean, median, and mode."
   ]
  },
  {
   "cell_type": "code",
   "execution_count": 11,
   "id": "be6a3aab",
   "metadata": {},
   "outputs": [
    {
     "data": {
      "text/plain": [
       "'Mean: 4.916666666666667, Median: 5.0, Mode: [5, 3, 8, 2]'"
      ]
     },
     "execution_count": 11,
     "metadata": {},
     "output_type": "execute_result"
    }
   ],
   "source": [
    "def statistics_function(lst):\n",
    "    total = sum(lst)\n",
    "    mean = total / len(lst)\n",
    "    lst_sorted = sorted(lst)\n",
    "    n = len(lst_sorted)\n",
    "    if n % 2 == 0:\n",
    "        median = (lst_sorted[n//2 - 1] + lst_sorted[n//2]) / 2\n",
    "    else:\n",
    "        median = lst_sorted[n//2]\n",
    "    freq = {}\n",
    "    for num in lst:\n",
    "        if num in freq:\n",
    "            freq[num] += 1\n",
    "        else:\n",
    "            freq[num] = 1\n",
    "    max_freq = max(freq.values())\n",
    "    mode = [key for key, value in freq.items() if value == max_freq]\n",
    "    if len(mode) == 1:\n",
    "        mode = mode[0]\n",
    "    \n",
    "    return f\"Mean: {mean}, Median: {median}, Mode: {mode}\"\n",
    "\n",
    "\n",
    "\n",
    "statistics_function([5, 3, 8, 2, 5, 9, 3, 1, 7, 8, 2, 6])"
   ]
  },
  {
   "cell_type": "markdown",
   "id": "1f3d9201",
   "metadata": {},
   "source": [
    "## 40. 🧠 Mini Project - Student Grade System\n",
    "Create a function that takes student marks, calculates the average, and assigns a grade (A/B/C/D/Fail)."
   ]
  },
  {
   "cell_type": "code",
   "execution_count": 3,
   "id": "257b4368",
   "metadata": {},
   "outputs": [
    {
     "name": "stdout",
     "output_type": "stream",
     "text": [
      "Average Marks: 79.20 => Grade: B\n"
     ]
    }
   ],
   "source": [
    "def student_grade_system(marks):\n",
    "    if not marks:\n",
    "        return \"No marks provided.\"\n",
    "    average = sum(marks) / len(marks)\n",
    "    if average >= 90:\n",
    "        grade = 'A'\n",
    "    elif average >= 75:\n",
    "        grade = 'B'\n",
    "    elif average >= 60:\n",
    "        grade = 'C'\n",
    "    elif average >= 40:\n",
    "        grade = 'D'\n",
    "    else:\n",
    "        grade = 'Fail'\n",
    "    return f\"Average Marks: {average:.2f} => Grade: {grade}\"\n",
    "\n",
    "\n",
    "student_marks = [85, 78, 92, 67, 74]\n",
    "result = student_grade_system(student_marks)\n",
    "print(result)\n"
   ]
  },
  {
   "cell_type": "code",
   "execution_count": null,
   "id": "9171e1cd",
   "metadata": {},
   "outputs": [],
   "source": []
  }
 ],
 "metadata": {
  "kernelspec": {
   "display_name": "base",
   "language": "python",
   "name": "python3"
  },
  "language_info": {
   "codemirror_mode": {
    "name": "ipython",
    "version": 3
   },
   "file_extension": ".py",
   "mimetype": "text/x-python",
   "name": "python",
   "nbconvert_exporter": "python",
   "pygments_lexer": "ipython3",
   "version": "3.12.7"
  }
 },
 "nbformat": 4,
 "nbformat_minor": 5
}
