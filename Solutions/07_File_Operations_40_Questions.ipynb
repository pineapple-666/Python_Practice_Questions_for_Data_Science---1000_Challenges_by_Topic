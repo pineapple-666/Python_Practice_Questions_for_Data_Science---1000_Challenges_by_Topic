{
 "cells": [
  {
   "cell_type": "markdown",
   "id": "4d01b1e2",
   "metadata": {},
   "source": [
    "## 1. 📄 Create and Write\n",
    "Write a program to create a file and write your name in it."
   ]
  },
  {
   "cell_type": "code",
   "execution_count": 1,
   "id": "697a3183",
   "metadata": {},
   "outputs": [],
   "source": [
    "with open (\"test_1.txt\",\"w\") as f:\n",
    "    content = \"My name is Saurav Yadav\"\n",
    "    f.write(content)"
   ]
  },
  {
   "cell_type": "markdown",
   "id": "75909645",
   "metadata": {},
   "source": [
    "## 2. 📄 Read File Content\n",
    "Create a file with some text and write a program to read and display its contents."
   ]
  },
  {
   "cell_type": "code",
   "execution_count": 2,
   "id": "284ebf93",
   "metadata": {},
   "outputs": [
    {
     "name": "stdout",
     "output_type": "stream",
     "text": [
      "My name is Saurav Yadav\n"
     ]
    }
   ],
   "source": [
    "file = open(\"test_1.txt\",\"r\")\n",
    "data = file.read()\n",
    "print(data)"
   ]
  },
  {
   "cell_type": "markdown",
   "id": "3500a952",
   "metadata": {},
   "source": [
    "## 3. 📁 File Existence\n",
    "Write a program that checks whether a file exists or not."
   ]
  },
  {
   "cell_type": "code",
   "execution_count": 3,
   "id": "878b3bb0",
   "metadata": {},
   "outputs": [
    {
     "name": "stdout",
     "output_type": "stream",
     "text": [
      "[Errno 2] No such file or directory: 'data.txt'\n"
     ]
    }
   ],
   "source": [
    "def file_checker(file_name):\n",
    "    try:\n",
    "        with open(file_name,\"r\") as f:\n",
    "            lines = f.readlines()\n",
    "            print(lines)\n",
    "    except Exception as e:\n",
    "        print(e)\n",
    "\n",
    "\n",
    "\n",
    "file_checker(\"data.txt\")\n"
   ]
  },
  {
   "cell_type": "markdown",
   "id": "05f9b355",
   "metadata": {},
   "source": [
    "## 4. ✍️ Append Content\n",
    "Write a program that appends a new line to an existing file."
   ]
  },
  {
   "cell_type": "code",
   "execution_count": 4,
   "id": "bd828da7",
   "metadata": {},
   "outputs": [],
   "source": [
    "with open(\"test_1.txt\",\"a\") as f:\n",
    "    new = \"\\n I am currently in 3rd year of B.Sci. (Hons) Data Science\"\n",
    "    f.write(new)"
   ]
  },
  {
   "cell_type": "markdown",
   "id": "efa1c7d3",
   "metadata": {},
   "source": [
    "## 5. 🔁 Line Count\n",
    "Write a function to count the number of lines in a file."
   ]
  },
  {
   "cell_type": "code",
   "execution_count": 5,
   "id": "72c6ebb3",
   "metadata": {},
   "outputs": [
    {
     "name": "stdout",
     "output_type": "stream",
     "text": [
      "the total no. of lines in this file 'test_1.txt' are 2\n"
     ]
    }
   ],
   "source": [
    "def  line_count(file_name):\n",
    "    with open(file_name,\"r\") as f:\n",
    "        lines = f.readlines()\n",
    "    print(f\"the total no. of lines in this file '{file_name}' are {len(lines)}\")\n",
    "\n",
    "\n",
    "\n",
    "line_count(\"test_1.txt\")\n"
   ]
  },
  {
   "cell_type": "markdown",
   "id": "ae7e91b9",
   "metadata": {},
   "source": [
    "## 6. 🔍 Word Count\n",
    "Write a program to count the number of words in a file."
   ]
  },
  {
   "cell_type": "code",
   "execution_count": 6,
   "id": "e99490dc",
   "metadata": {},
   "outputs": [
    {
     "name": "stdout",
     "output_type": "stream",
     "text": [
      "16\n"
     ]
    }
   ],
   "source": [
    "with open(\"test_1.txt\",\"r\") as f:\n",
    "        lines = f.read()\n",
    "print(len(lines.split()))"
   ]
  },
  {
   "cell_type": "markdown",
   "id": "b3896641",
   "metadata": {},
   "source": [
    "## 8. 🔍 Specific Word Count\n",
    "Write a program that counts how many times a specific word appears in a file."
   ]
  },
  {
   "cell_type": "code",
   "execution_count": 7,
   "id": "cc1d2114",
   "metadata": {},
   "outputs": [
    {
     "name": "stdout",
     "output_type": "stream",
     "text": [
      "This word 'is' appear this many time 1 in this file 'test_1.txt' \n"
     ]
    }
   ],
   "source": [
    "def word_counter(file_name,word):\n",
    "    with open(\"test_1.txt\",\"r\") as f:\n",
    "            lines = f.read()\n",
    "    count_word = 0\n",
    "    for i in lines.split():\n",
    "          if i == word:\n",
    "               count_word += 1\n",
    "    print(f\"This word '{word}' appear this many time {count_word} in this file '{file_name}' \") \n",
    "\n",
    "\n",
    "word_counter(\"test_1.txt\",\"is\")"
   ]
  },
  {
   "cell_type": "markdown",
   "id": "fcdb2950",
   "metadata": {},
   "source": [
    "## 9. 📄 Copy File\n",
    "Write a program that copies content from one file to another."
   ]
  },
  {
   "cell_type": "code",
   "execution_count": 8,
   "id": "36d1f4a1",
   "metadata": {},
   "outputs": [],
   "source": [
    "with open(\"test_1.txt\",\"r\") as f:\n",
    "            lines = f.read()\n",
    "\n",
    "with open(\"copy.txt\",\"w\") as f:\n",
    "        f.write(lines)"
   ]
  },
  {
   "cell_type": "markdown",
   "id": "fa57e83d",
   "metadata": {},
   "source": [
    "## 10. 🔄 File Read Using Loop\n",
    "Write a program to read a file line by line using a loop."
   ]
  },
  {
   "cell_type": "code",
   "execution_count": 9,
   "id": "d632acbc",
   "metadata": {},
   "outputs": [
    {
     "name": "stdout",
     "output_type": "stream",
     "text": [
      "My name is Saurav Yadav\n",
      "I am currently in 3rd year of B.Sci. (Hons) Data Science\n"
     ]
    }
   ],
   "source": [
    "with open(\"test_1.txt\", \"r\") as f:\n",
    "    for i in f:\n",
    "        print(i.strip())   # removes newline and extra spaces\n"
   ]
  },
  {
   "cell_type": "code",
   "execution_count": 10,
   "id": "9a73edfe",
   "metadata": {},
   "outputs": [
    {
     "name": "stdout",
     "output_type": "stream",
     "text": [
      "My name is Saurav Yadav\n",
      "\n",
      " I am currently in 3rd year of B.Sci. (Hons) Data Science\n"
     ]
    }
   ],
   "source": [
    "with open(\"test_1.txt\",\"r\") as f:\n",
    "        for i in f.readlines():\n",
    "               print(i)"
   ]
  },
  {
   "cell_type": "markdown",
   "id": "f6a88f8a",
   "metadata": {},
   "source": [
    "## 11. 🔄 Reverse Content\n",
    "Write a program to read a file and print its content in reverse line order."
   ]
  },
  {
   "cell_type": "code",
   "execution_count": 11,
   "id": "852d0125",
   "metadata": {},
   "outputs": [
    {
     "name": "stdout",
     "output_type": "stream",
     "text": [
      " I am currently in 3rd year of B.Sci. (Hons) Data Science\n",
      "My name is Saurav Yadav\n"
     ]
    }
   ],
   "source": [
    "with open(\"test_1.txt\",\"r\") as f:\n",
    "            lines = f.readlines()\n",
    "for i in lines[::-1]:\n",
    "        print(i.rstrip())"
   ]
  },
  {
   "cell_type": "code",
   "execution_count": 12,
   "id": "cad3d120",
   "metadata": {},
   "outputs": [
    {
     "name": "stdout",
     "output_type": "stream",
     "text": [
      "I am currently in 3rd year of B.Sci. (Hons) Data Science\n",
      "My name is Saurav Yadav\n"
     ]
    }
   ],
   "source": [
    "with open(\"test_1.txt\",\"r\") as f:\n",
    "            lines = f.readlines()\n",
    "for i in reversed(lines):\n",
    "        print(i.strip())"
   ]
  },
  {
   "cell_type": "markdown",
   "id": "b4f4ed71",
   "metadata": {},
   "source": [
    "## 12. 🧪 Vowel Counter\n",
    "Write a program that counts the number of vowels in a text file."
   ]
  },
  {
   "cell_type": "code",
   "execution_count": 13,
   "id": "83468b8a",
   "metadata": {},
   "outputs": [
    {
     "name": "stdout",
     "output_type": "stream",
     "text": [
      "23\n"
     ]
    }
   ],
   "source": [
    "with open(\"test_1.txt\",\"r\") as f:\n",
    "            lines = f.read()\n",
    "count_vowel = 0\n",
    "for i in lines:\n",
    "        if i in \"AEIOUaeiou\":\n",
    "                count_vowel += 1\n",
    "\n",
    "print(count_vowel)"
   ]
  },
  {
   "cell_type": "markdown",
   "id": "8c400fd0",
   "metadata": {},
   "source": [
    "## 13. 🚫 Remove Blank Lines\n",
    "Write a program to remove all blank lines from a text file."
   ]
  },
  {
   "cell_type": "code",
   "execution_count": 14,
   "id": "d852e6f3",
   "metadata": {},
   "outputs": [],
   "source": [
    "with open(\"test_1.txt\",\"r\") as f:\n",
    "            lines = f.readlines()\n",
    "\n",
    "non_blank_content = [ i for i in lines if i.strip() != \"\"]\n",
    "\n",
    "with open(\"test_1.txt\",\"w\") as f:\n",
    "            f.writelines(non_blank_content)"
   ]
  },
  {
   "cell_type": "markdown",
   "id": "48e9aff5",
   "metadata": {},
   "source": [
    "## 15. 📁 Create Multiple Files\n",
    "Write a program to create 3 files and write some content into each."
   ]
  },
  {
   "cell_type": "code",
   "execution_count": 15,
   "id": "3f2d72f3",
   "metadata": {},
   "outputs": [
    {
     "name": "stdout",
     "output_type": "stream",
     "text": [
      "3 files created successfully.\n"
     ]
    }
   ],
   "source": [
    "files = {\n",
    "    \"file1.txt\": \"This is the content of file 1.\",\n",
    "    \"file2.txt\": \"This is the content of file 2.\",\n",
    "    \"file3.txt\": \"This is the content of file 3.\"\n",
    "}\n",
    "\n",
    "\n",
    "for filename, content in files.items():\n",
    "    with open(filename, \"w\") as f:\n",
    "        f.write(content)\n",
    "\n",
    "print(\"3 files created successfully.\")\n"
   ]
  },
  {
   "cell_type": "markdown",
   "id": "91184721",
   "metadata": {},
   "source": [
    "## 16. ⌛ File Created Time\n",
    "Write a program to find the creation and modification time of a file."
   ]
  },
  {
   "cell_type": "code",
   "execution_count": 16,
   "id": "9df3954d",
   "metadata": {},
   "outputs": [
    {
     "name": "stdout",
     "output_type": "stream",
     "text": [
      "Timer taken to create file = 0.000637700000879704 and time taken to manipulate the file is = 2.599999788799323e-06\n"
     ]
    }
   ],
   "source": [
    "import time\n",
    "t1 = time.perf_counter()\n",
    "with open(\"new_file.txt\",\"w\") as f:\n",
    "    t2 = time.perf_counter()\n",
    "    f.write(\"files created successfully\")\n",
    "    t3 = time.perf_counter()\n",
    "\n",
    "print(f\"Timer taken to create file = {t2-t1} and time taken to manipulate the file is = {t3-t2}\")"
   ]
  },
  {
   "cell_type": "markdown",
   "id": "229d458d",
   "metadata": {},
   "source": [
    "## 17. 🔄 Merge Files\n",
    "Write a program to merge the contents of two files into a third file."
   ]
  },
  {
   "cell_type": "code",
   "execution_count": 17,
   "id": "a466c6c7",
   "metadata": {},
   "outputs": [],
   "source": [
    "with open(\"file1.txt\",\"r\") as f:\n",
    "            content_1 = f.read()\n",
    "\n",
    "with open(\"file2.txt\",\"r\") as f:\n",
    "            content_2 = f.read()\n",
    "\n",
    "with open(\"mergedfile.txt\",\"w\") as f:\n",
    "            f.write(content_1)\n",
    "            f.write(content_2)"
   ]
  },
  {
   "cell_type": "markdown",
   "id": "6bf3ce27",
   "metadata": {},
   "source": [
    "## 18. 📜 Word Frequency Dictionary\n",
    "Write a program to build a word frequency dictionary from a text file."
   ]
  },
  {
   "cell_type": "code",
   "execution_count": 8,
   "id": "a9395a4f",
   "metadata": {},
   "outputs": [
    {
     "name": "stdout",
     "output_type": "stream",
     "text": [
      "my: 1\n",
      "name: 1\n",
      "is: 6\n",
      "saurav: 1\n",
      "yadav: 1\n",
      "i: 1\n",
      "am: 1\n",
      "currently: 1\n",
      "in: 1\n",
      "3rd: 1\n",
      "year: 1\n",
      "of: 3\n",
      "b.sci: 1\n",
      "hons: 1\n",
      "data: 2\n",
      "sciencethis: 1\n",
      "the: 4\n",
      "first: 1\n",
      "random: 2\n",
      "line: 2\n",
      "python: 2\n",
      "fun: 1\n",
      "and: 2\n",
      "powerful: 1\n",
      "science: 1\n",
      "changing: 1\n",
      "world: 1\n",
      "ai: 1\n",
      "future: 1\n",
      "technology: 1\n",
      "never: 1\n",
      "stop: 1\n",
      "learning: 1\n",
      "new: 1\n",
      "things: 1\n",
      "keep: 1\n",
      "practicing: 1\n",
      "stay: 1\n",
      "consistent: 1\n",
      "reading: 1\n",
      "files: 1\n",
      "easy: 1\n",
      "with: 1\n",
      "let's: 1\n",
      "write: 1\n",
      "some: 1\n",
      "more: 1\n",
      "lines: 1\n",
      "end: 1\n",
      "sample: 1\n",
      "text: 1\n",
      "file: 1\n",
      "this: 1\n",
      "was: 1\n",
      "added: 1\n",
      "just: 1\n",
      "for: 1\n",
      "testing: 1\n"
     ]
    }
   ],
   "source": [
    "def word_frequency(file_name):\n",
    "    freq_dict = {}\n",
    "    with open(file_name, \"r\") as f:\n",
    "        text = f.read()\n",
    "        words = text.split()\n",
    "\n",
    "        for word in words:\n",
    "            word = word.strip(\".,!?;:\\\"'()[]\").lower()  # Remove punctuation and convert to lowercase\n",
    "            if word:\n",
    "                freq_dict[word] = freq_dict.get(word, 0) + 1  # Simplified counting\n",
    "\n",
    "    return freq_dict\n",
    "\n",
    "file_name = \"test_1.txt\"\n",
    "freq = word_frequency(file_name)\n",
    "\n",
    "# Display result\n",
    "for word, count in freq.items():\n",
    "    print(f\"{word}: {count}\")\n"
   ]
  },
  {
   "cell_type": "markdown",
   "id": "7b861e2c",
   "metadata": {},
   "source": [
    "## 19. 🔁 Replace Words\n",
    "Write a program to replace all occurrences of a word with another word in a file."
   ]
  },
  {
   "cell_type": "code",
   "execution_count": 17,
   "id": "51e2fd3b",
   "metadata": {},
   "outputs": [],
   "source": [
    "def word_replace(file_name,word,new_word):\n",
    "    with open(file_name,\"r\") as f:\n",
    "        text = f.read()\n",
    "    updated_text = text.replace(word,new_word)\n",
    "    with open(file_name,\"w\") as f:\n",
    "        f.write(updated_text)\n",
    "\n",
    "\n",
    "word_replace(\"test_1.txt\",\"are\",\"is\")\n"
   ]
  },
  {
   "cell_type": "markdown",
   "id": "340e3afb",
   "metadata": {},
   "source": [
    "## 20. 🧹 Remove Punctuation\n",
    "Write a program to read a file and remove all punctuation characters."
   ]
  },
  {
   "cell_type": "code",
   "execution_count": 1,
   "id": "1850289d",
   "metadata": {},
   "outputs": [],
   "source": [
    "import string\n",
    "def remove_punctuation(file_name):\n",
    "    with open(file_name,\"r\") as f:\n",
    "        text = f.read()\n",
    "    updated_text = \"\".join( i for i in text if i not in string.punctuation)\n",
    "    with open(file_name,\"w\") as f:\n",
    "        f.write(updated_text)\n",
    "\n",
    "\n",
    "remove_punctuation(\"test_1.txt\")\n"
   ]
  },
  {
   "cell_type": "markdown",
   "id": "e4635a75",
   "metadata": {},
   "source": [
    "## 21. 📤 Write List to File\n",
    "Write a program to write a list of strings to a file, one per line."
   ]
  },
  {
   "cell_type": "code",
   "execution_count": 9,
   "id": "d61899e1",
   "metadata": {},
   "outputs": [],
   "source": [
    "list_1 = ['Python is fun', 'Data science is powerful', 'Keep learning']\n",
    "with open(\"new_file.txt\",\"w\") as f:\n",
    "    for i in list_1:\n",
    "        f.write(i+\"\\n\")\n"
   ]
  },
  {
   "cell_type": "markdown",
   "id": "d3baf939",
   "metadata": {},
   "source": [
    "## 22. 📥 Read File to List\n",
    "Write a program to read file lines into a list."
   ]
  },
  {
   "cell_type": "code",
   "execution_count": 10,
   "id": "c5bd3d5b",
   "metadata": {},
   "outputs": [
    {
     "name": "stdout",
     "output_type": "stream",
     "text": [
      "['Python is fun\\n', 'Data science is powerful\\n', 'Keep learning\\n']\n"
     ]
    }
   ],
   "source": [
    "list_data = []\n",
    "with open(\"new_file.txt\",\"r\") as f:\n",
    "    list_data.extend(f.readlines())\n",
    "\n",
    "print(list_data)"
   ]
  },
  {
   "cell_type": "code",
   "execution_count": 11,
   "id": "5ab53507",
   "metadata": {},
   "outputs": [
    {
     "name": "stdout",
     "output_type": "stream",
     "text": [
      "['Python is fun', 'Data science is powerful', 'Keep learning']\n"
     ]
    }
   ],
   "source": [
    "with open(\"new_file.txt\", \"r\") as f:\n",
    "    list_data = [line.strip() for line in f]\n",
    "\n",
    "print(list_data)\n"
   ]
  },
  {
   "cell_type": "markdown",
   "id": "7e8b75bc",
   "metadata": {},
   "source": [
    "## 23. 🔄 Read Last N Lines\n",
    "Write a program to read the last `n` lines of a file."
   ]
  },
  {
   "cell_type": "code",
   "execution_count": null,
   "id": "dfa6165f",
   "metadata": {},
   "outputs": [
    {
     "name": "stdout",
     "output_type": "stream",
     "text": [
      "['Automating tasks can save time.', 'Learn by building small projects.', 'Break problems into smaller parts.', \"Don't repeat yourself — reuse code.\", \"Ask questions when you're stuck.\", 'Never stop learning and exploring!']\n"
     ]
    }
   ],
   "source": [
    "with open(\"new_file.txt\", \"r\") as f:\n",
    "    list_data = [line.strip() for line in f]\n",
    "    n = int(input(f\"Enter the no. between 1 to {len(list_data)}  of lines you want to print from last\"))\n",
    "    print(list_data[({len(list_data)}-1)-n:{len(list_data)}])\n",
    "\n"
   ]
  },
  {
   "cell_type": "code",
   "execution_count": 21,
   "id": "ea312304",
   "metadata": {},
   "outputs": [
    {
     "name": "stdout",
     "output_type": "stream",
     "text": [
      "['Learn by building small projects.', 'Break problems into smaller parts.', \"Don't repeat yourself — reuse code.\", \"Ask questions when you're stuck.\", 'Never stop learning and exploring!']\n"
     ]
    }
   ],
   "source": [
    "with open(\"new_file.txt\", \"r\") as f:\n",
    "    list_data = [line.strip() for line in f]\n",
    "    total_lines = len(list_data)\n",
    "\n",
    "    n = int(input(f\"Enter the number of lines to print from the end (1 to {total_lines}): \"))\n",
    "\n",
    "    if 1 <= n <= total_lines:\n",
    "        print(list_data[total_lines - n : total_lines])\n",
    "    else:\n",
    "        print(\"Invalid input! Please enter a number within the valid range.\")\n"
   ]
  },
  {
   "cell_type": "code",
   "execution_count": 20,
   "id": "d820cfad",
   "metadata": {},
   "outputs": [
    {
     "name": "stdout",
     "output_type": "stream",
     "text": [
      "Learn by building small projects.\n",
      "Break problems into smaller parts.\n",
      "Don't repeat yourself — reuse code.\n",
      "Ask questions when you're stuck.\n",
      "Never stop learning and exploring!\n"
     ]
    }
   ],
   "source": [
    "with open(\"new_file.txt\", \"r\") as f:\n",
    "    list_data = [line.strip() for line in f]\n",
    "\n",
    "n = int(input(f\"Enter the number of lines to print from the end (1 to {len(list_data)}): \"))\n",
    "\n",
    "if 1 <= n <= len(list_data):\n",
    "    print(\"\\n\".join(list_data[-n:]))\n",
    "else:\n",
    "    print(\"Invalid input! Please enter a number within the valid range.\")\n"
   ]
  },
  {
   "cell_type": "markdown",
   "id": "45c7c064",
   "metadata": {},
   "source": [
    "## 24. 🔁 Count Lines Starting with a Letter\n",
    "Count how many lines start with the letter 'A'."
   ]
  },
  {
   "cell_type": "code",
   "execution_count": 27,
   "id": "ef52e4c5",
   "metadata": {},
   "outputs": [
    {
     "name": "stdout",
     "output_type": "stream",
     "text": [
      "THis letter a appear this many time 3\n"
     ]
    }
   ],
   "source": [
    "with open(\"new_file.txt\", \"r\") as f:\n",
    "    list_data = [line.strip() for line in f]\n",
    "letter = input(\"Enter the letter you want check\")\n",
    "count = 0\n",
    "for i in range(0,len(list_data)):\n",
    "    if list_data[i][0].lower() == letter.lower():\n",
    "        count += 1\n",
    "print(f\"THis letter {letter} appear this many time {count}\")"
   ]
  },
  {
   "cell_type": "markdown",
   "id": "22982463",
   "metadata": {},
   "source": [
    "## 25. 📁 File Extension Checker\n",
    "Write a function to find all `.txt` files in a directory."
   ]
  },
  {
   "cell_type": "code",
   "execution_count": 40,
   "id": "0a45d112",
   "metadata": {},
   "outputs": [
    {
     "name": "stdout",
     "output_type": "stream",
     "text": [
      "copy.txt\n",
      "file1.txt\n",
      "file2.txt\n",
      "file3.txt\n",
      "mergedfile.txt\n",
      "new_file.txt\n",
      "test_1.txt\n"
     ]
    }
   ],
   "source": [
    "import os\n",
    "file_name = os.listdir()\n",
    "for i in file_name:\n",
    "    if \".txt\" in i:\n",
    "        print(i)"
   ]
  },
  {
   "cell_type": "code",
   "execution_count": 41,
   "id": "18f4e407",
   "metadata": {},
   "outputs": [
    {
     "name": "stdout",
     "output_type": "stream",
     "text": [
      "copy.txt\n",
      "file1.txt\n",
      "file2.txt\n",
      "file3.txt\n",
      "mergedfile.txt\n",
      "new_file.txt\n",
      "test_1.txt\n"
     ]
    }
   ],
   "source": [
    "import os\n",
    "\n",
    "def find_txt_files(directory=\".\"):\n",
    "    txt_files = [file for file in os.listdir(directory) if file.endswith(\".txt\")]\n",
    "    return txt_files\n",
    "\n",
    "# Example usage\n",
    "for file in find_txt_files():\n",
    "    print(file)\n"
   ]
  },
  {
   "cell_type": "markdown",
   "id": "0611e2cc",
   "metadata": {},
   "source": [
    "## 26. 📈 Write Numbers to File\n",
    "Write numbers 1 to 100 into a file, one number per line."
   ]
  },
  {
   "cell_type": "code",
   "execution_count": 44,
   "id": "68456839",
   "metadata": {},
   "outputs": [],
   "source": [
    "with open(\"file1.txt\",\"w\") as f:\n",
    "    for i in range(1,101):\n",
    "        f.write(str(i)+\"\\n\")"
   ]
  },
  {
   "cell_type": "markdown",
   "id": "d093474f",
   "metadata": {},
   "source": [
    "## 27. 🗃️ Separate Even and Odd\n",
    "Read numbers from a file and separate them into two files: even.txt and odd.txt."
   ]
  },
  {
   "cell_type": "code",
   "execution_count": 79,
   "id": "f68b3100",
   "metadata": {},
   "outputs": [],
   "source": [
    "with open(\"file1.txt\", \"r\") as f:\n",
    "    list_data = [line.strip() for line in f]\n",
    "for i in list_data:\n",
    "    if (int(i)) % 2 == 0:\n",
    "        with open(\"even.txt\",\"a+\") as even:\n",
    "            even.write(str(i) + \"\\n\")\n",
    "    elif int(i) == 0:\n",
    "        pass\n",
    "    elif (int(i)) % 2 != 0:\n",
    "        with open(\"odd.txt\",\"a+\") as even:\n",
    "            even.write(str(i) + \"\\n\")"
   ]
  },
  {
   "cell_type": "markdown",
   "id": "e8b0b54d",
   "metadata": {},
   "source": [
    "## 28. 🔐 File Encryption\n",
    "Write a basic program that encrypts file content using Caesar cipher."
   ]
  },
  {
   "cell_type": "code",
   "execution_count": 81,
   "id": "698862a7",
   "metadata": {},
   "outputs": [
    {
     "name": "stdout",
     "output_type": "stream",
     "text": [
      "Encryption complete. Encrypted file saved as 'encrypted_file.txt'.\n"
     ]
    }
   ],
   "source": [
    "def caesar_encrypt(text, shift):\n",
    "    result = \"\"\n",
    "    for char in text:\n",
    "        if char.isalpha():\n",
    "            base = ord('A') if char.isupper() else ord('a')\n",
    "            result += chr((ord(char) - base + shift) % 26 + base)\n",
    "        else:\n",
    "            result += char  # Keep non-alphabet characters unchanged\n",
    "    return result\n",
    "\n",
    "def encrypt_file(input_file, output_file, shift):\n",
    "    with open(input_file, 'r') as f:\n",
    "        content = f.read()\n",
    "\n",
    "    encrypted_content = caesar_encrypt(content, shift)\n",
    "\n",
    "    with open(output_file, 'w') as f:\n",
    "        f.write(encrypted_content)\n",
    "\n",
    "    print(f\"Encryption complete. Encrypted file saved as '{output_file}'.\")\n",
    "\n",
    "# Example usage\n",
    "encrypt_file(\"new_file.txt\", \"encrypted_file.txt\", shift=3)\n"
   ]
  },
  {
   "cell_type": "markdown",
   "id": "16888d49",
   "metadata": {},
   "source": [
    "## 29. 🔐 File Decryption\n",
    "Write a program to decrypt a Caesar ciphered file."
   ]
  },
  {
   "cell_type": "code",
   "execution_count": null,
   "id": "32f890fe",
   "metadata": {},
   "outputs": [
    {
     "name": "stdout",
     "output_type": "stream",
     "text": [
      "Decryption complete. Decrypted file saved as 'decrypted_file.txt'.\n"
     ]
    }
   ],
   "source": [
    "def caesar_decrypt(text, shift):\n",
    "    result = \"\"\n",
    "    for char in text:\n",
    "        if char.isalpha():\n",
    "            base = ord('A') if char.isupper() else ord('a')\n",
    "            result += chr((ord(char) - base - shift) % 26 + base)\n",
    "        else:\n",
    "            result += char  # Keep punctuation, numbers, spaces unchanged\n",
    "    return result\n",
    "\n",
    "def decrypt_file(input_file, output_file, shift):\n",
    "    # Step 1: Read encrypted content\n",
    "    with open(input_file, 'r') as f:\n",
    "        encrypted_content = f.read()\n",
    "\n",
    "    # Step 2: Decrypt the content\n",
    "    decrypted_content = caesar_decrypt(encrypted_content, shift)\n",
    "\n",
    "    # Step 3: Write decrypted content to output file\n",
    "    with open(output_file, 'w') as f:\n",
    "        f.write(decrypted_content)\n",
    "\n",
    "    print(f\"Decryption complete. Decrypted file saved as '{output_file}'.\")\n",
    "\n",
    "# Example usage:\n",
    "decrypt_file(\"encrypted_file.txt\", \"decrypted_file.txt\", shift=3)\n"
   ]
  },
  {
   "cell_type": "markdown",
   "id": "3dba9e92",
   "metadata": {},
   "source": [
    "## 30. 📚 Line Length Filter\n",
    "Write a program to print only lines longer than 20 characters from a file."
   ]
  },
  {
   "cell_type": "code",
   "execution_count": 87,
   "id": "4fc9e31b",
   "metadata": {},
   "outputs": [
    {
     "name": "stdout",
     "output_type": "stream",
     "text": [
      "Python is a versatile programming language.\n",
      "Data science helps extract insights from data.\n",
      "Machine learning improves with more data.\n",
      "Artificial intelligence is the future.\n",
      "Consistency is key to mastering programming.\n",
      "Keep practicing and you'll get better.\n",
      "Debugging helps improve problem-solving skills.\n",
      "Clean code is better than clever code.\n",
      "Writing comments improves code readability.\n",
      "Indentation matters a lot in Python.\n",
      "Readability counts in good software design.\n",
      "Simple is better than complex.\n",
      "Errors are part of the learning process.\n",
      "Version control is essential for collaboration.\n",
      "Automating tasks can save time.\n",
      "Learn by building small projects.\n",
      "Break problems into smaller parts.\n",
      "Don't repeat yourself — reuse code.\n",
      "Ask questions when you're stuck.\n",
      "Never stop learning and exploring!\n"
     ]
    }
   ],
   "source": [
    "with open(\"new_file.txt\", \"r\") as f:\n",
    "    list_data = [line.strip() for line in f]\n",
    "for i in list_data:\n",
    "    if len(i) > 20 :\n",
    "        print(i)"
   ]
  },
  {
   "cell_type": "markdown",
   "id": "1af47105",
   "metadata": {},
   "source": [
    "## 31. 📊 Create CSV File\n",
    "Write a program to create a CSV file containing student name and marks."
   ]
  },
  {
   "cell_type": "code",
   "execution_count": 173,
   "id": "6875355f",
   "metadata": {},
   "outputs": [],
   "source": [
    "data = {\n",
    "    \"Saurav\": 90,\n",
    "    \"Ankit\": 75,\n",
    "    \"Lokesh\": 85,\n",
    "    \"Priya\": 88,\n",
    "    \"Ravi\": 92,\n",
    "    \"Neha\": 78,\n",
    "    \"Vikas\": 81,\n",
    "    \"Amit\": 69,\n",
    "    \"Kiran\": 95,\n",
    "    \"Divya\": 87\n",
    "}\n",
    "\n",
    "with open(\"new_file.csv\", \"w\") as f:\n",
    "    f.write(\"Name,Marks\\n\")\n",
    "    for n,m in data.items():\n",
    "        f.write(f\"{n},{m}\\n\")"
   ]
  },
  {
   "cell_type": "markdown",
   "id": "fe2dd6a6",
   "metadata": {},
   "source": [
    "## 32. 📊 Read CSV File\n",
    "Write a program to read and display data from a CSV file."
   ]
  },
  {
   "cell_type": "code",
   "execution_count": 145,
   "id": "822a3ae0",
   "metadata": {},
   "outputs": [
    {
     "name": "stdout",
     "output_type": "stream",
     "text": [
      "Name,Marks\n",
      "Saurav,90\n",
      "Ankit,75\n",
      "Lokesh,85\n",
      "Priya,88\n",
      "Ravi,92\n",
      "Neha,78\n",
      "Vikas,81\n",
      "Amit,69\n",
      "Kiran,95\n",
      "Divya,87\n",
      "\n"
     ]
    }
   ],
   "source": [
    "with open(\"new_file.csv\", \"r\") as f:\n",
    "    data = f.read()\n",
    "print(data)"
   ]
  },
  {
   "cell_type": "code",
   "execution_count": 146,
   "id": "64870691",
   "metadata": {},
   "outputs": [
    {
     "name": "stdout",
     "output_type": "stream",
     "text": [
      "['Name', 'Marks']\n",
      "['Saurav', '90']\n",
      "['Ankit', '75']\n",
      "['Lokesh', '85']\n",
      "['Priya', '88']\n",
      "['Ravi', '92']\n",
      "['Neha', '78']\n",
      "['Vikas', '81']\n",
      "['Amit', '69']\n",
      "['Kiran', '95']\n",
      "['Divya', '87']\n"
     ]
    }
   ],
   "source": [
    "with open(\"new_file.csv\", \"r\") as f:\n",
    "    lines = f.readlines()\n",
    "new_list = []\n",
    "for line in lines:\n",
    "    line = line.strip()          \n",
    "    values = line.split(\",\")      \n",
    "    print(values)\n"
   ]
  },
  {
   "cell_type": "markdown",
   "id": "ed4ac7b6",
   "metadata": {},
   "source": [
    "## 33. 🧠 Student Grade Processor\n",
    "Read marks from a file and assign grades, then write grades to a new file."
   ]
  },
  {
   "cell_type": "code",
   "execution_count": 174,
   "id": "790f2b55",
   "metadata": {},
   "outputs": [],
   "source": [
    "with open(\"new_file.csv\", \"r\") as f:\n",
    "    lines = f.readlines()\n",
    "new_list = []\n",
    "for line in lines:\n",
    "    line = line.strip()          \n",
    "    values = line.split(\",\")  \n",
    "    new_list.append(values)\n",
    "\n",
    "updated_data = {}\n",
    "\n",
    "for i in new_list:\n",
    "    if i[1].isalpha():\n",
    "        pass\n",
    "    else:\n",
    "        if int(i[1]) >= 90:\n",
    "            grade = 'A'\n",
    "        elif int(i[1]) >= 75:\n",
    "            grade = 'B'\n",
    "        elif int(i[1]) >= 60:\n",
    "            grade = 'C'\n",
    "        elif int(i[1]) >= 40:\n",
    "            grade = 'D'\n",
    "        else:\n",
    "            grade = 'Fail'\n",
    "\n",
    "        updated_data[i[0]] = f\"{i[1]}, {grade} + \\n\"\n",
    "\n",
    "\n",
    "\n",
    "with open(\"new_file.csv\", \"w\") as f:\n",
    "    f.write(\"Name,Marks,Grade\\n\")\n",
    "    for n,m in updated_data.items():\n",
    "        f.write(f\"{n},{m}\")\n"
   ]
  },
  {
   "cell_type": "markdown",
   "id": "a5b01a5c",
   "metadata": {},
   "source": [
    "## 34. 🧮 Average from File\n",
    "Write a program to compute the average of numbers present in a file."
   ]
  },
  {
   "cell_type": "code",
   "execution_count": 34,
   "id": "c64fb0a0",
   "metadata": {},
   "outputs": [
    {
     "name": "stdout",
     "output_type": "stream",
     "text": [
      "['Name,Marks,Grade\\n', 'Saurav,90, A + \\n', 'Ankit,75, B + \\n', 'Lokesh,85, B + \\n', 'Priya,88, B + \\n', 'Ravi,92, A + \\n', 'Neha,78, B + \\n', 'Vikas,81, B + \\n', 'Amit,69, C + \\n', 'Kiran,95, A + \\n', 'Divya,87, B + \\n']\n",
      "The average is 84.0\n"
     ]
    }
   ],
   "source": [
    "with open(\"new_file.csv\", \"r\") as f:\n",
    "    lines = f.readlines()\n",
    "print(lines)\n",
    "new_list = []\n",
    "for line in lines:\n",
    "    line = line.strip()          \n",
    "    values = line.split(\",\")  \n",
    "    new_list.append(values)\n",
    "sum = 0\n",
    "count = 0\n",
    "for n in new_list:\n",
    "    if n[1].isalpha():\n",
    "        pass\n",
    "    elif n[1].isdigit():\n",
    "        sum += int(n[1])\n",
    "        count += 1\n",
    "print(f\"The average is {sum/count}\")\n",
    "    "
   ]
  },
  {
   "cell_type": "markdown",
   "id": "d6e42656",
   "metadata": {},
   "source": [
    "## 35. 🔄 Convert Case\n",
    "Write a program to convert all file content to uppercase and write to a new file."
   ]
  },
  {
   "cell_type": "code",
   "execution_count": null,
   "id": "ad9abd4a",
   "metadata": {},
   "outputs": [
    {
     "name": "stdout",
     "output_type": "stream",
     "text": [
      "['PYTHON IS A VERSATILE PROGRAMMING LANGUAGE.', 'DATA SCIENCE HELPS EXTRACT INSIGHTS FROM DATA.', 'MACHINE LEARNING IMPROVES WITH MORE DATA.', 'ARTIFICIAL INTELLIGENCE IS THE FUTURE.', 'CONSISTENCY IS KEY TO MASTERING PROGRAMMING.', \"KEEP PRACTICING AND YOU'LL GET BETTER.\", 'DEBUGGING HELPS IMPROVE PROBLEM-SOLVING SKILLS.', 'CLEAN CODE IS BETTER THAN CLEVER CODE.', 'WRITING COMMENTS IMPROVES CODE READABILITY.', 'INDENTATION MATTERS A LOT IN PYTHON.', 'READABILITY COUNTS IN GOOD SOFTWARE DESIGN.', 'SIMPLE IS BETTER THAN COMPLEX.', 'ERRORS ARE PART OF THE LEARNING PROCESS.', 'VERSION CONTROL IS ESSENTIAL FOR COLLABORATION.', 'AUTOMATING TASKS CAN SAVE TIME.', 'LEARN BY BUILDING SMALL PROJECTS.', 'BREAK PROBLEMS INTO SMALLER PARTS.', \"DON'T REPEAT YOURSELF — REUSE CODE.\", \"ASK QUESTIONS WHEN YOU'RE STUCK.\", 'NEVER STOP LEARNING AND EXPLORING!']\n"
     ]
    }
   ],
   "source": [
    "with open(\"new_file.txt\", \"r\") as f:\n",
    "    text = f.readlines()\n",
    "new_list = []\n",
    "for line in text:\n",
    "    line = line.strip()\n",
    "    line = line.upper()          \n",
    "    new_list.append(line)\n",
    "print(new_list)\n",
    "\n",
    "with open(\"new_file.txt\", \"w\") as file:\n",
    "    for i in new_list:\n",
    "        file.write( i +\"\\n\")"
   ]
  },
  {
   "cell_type": "markdown",
   "id": "bc4eb508",
   "metadata": {},
   "source": [
    "## 36. 🔢 Count Digits and Letters\n",
    "Count number of digits and letters in a file."
   ]
  },
  {
   "cell_type": "code",
   "execution_count": 39,
   "id": "1f973f3b",
   "metadata": {},
   "outputs": [
    {
     "name": "stdout",
     "output_type": "stream",
     "text": [
      "Number of letters: 73\n",
      "Number of digits: 20\n"
     ]
    }
   ],
   "source": [
    "with open(\"new_file.csv\", \"r\") as f: \n",
    "    content = f.read()\n",
    "\n",
    "digit_count = 0\n",
    "letter_count = 0\n",
    "\n",
    "for char in content:\n",
    "    if char.isdigit():\n",
    "        digit_count += 1\n",
    "    elif char.isalpha():\n",
    "        letter_count += 1\n",
    "\n",
    "print(f\"Number of letters: {letter_count}\")\n",
    "print(f\"Number of digits: {digit_count}\")\n"
   ]
  },
  {
   "cell_type": "code",
   "execution_count": 40,
   "id": "211fec23",
   "metadata": {},
   "outputs": [
    {
     "name": "stdout",
     "output_type": "stream",
     "text": [
      "Number of letters: 654\n",
      "Number of digits: 0\n"
     ]
    }
   ],
   "source": [
    "# Open and read content from a text file\n",
    "with open(\"new_file.txt\", \"r\") as f:\n",
    "    content = f.read()\n",
    "\n",
    "# Initialize counters\n",
    "digit_count = 0\n",
    "letter_count = 0\n",
    "\n",
    "# Loop through each character in the file content\n",
    "for char in content:\n",
    "    if char.isdigit():\n",
    "        digit_count += 1\n",
    "    elif char.isalpha():\n",
    "        letter_count += 1\n",
    "\n",
    "# Display the result\n",
    "print(f\"Number of letters: {letter_count}\")\n",
    "print(f\"Number of digits: {digit_count}\")\n"
   ]
  },
  {
   "cell_type": "markdown",
   "id": "2abff0b2",
   "metadata": {},
   "source": [
    "## 37. 🧠 Custom File Splitter\n",
    "Split a large file into multiple smaller files each containing 10 lines."
   ]
  },
  {
   "cell_type": "code",
   "execution_count": 23,
   "id": "d05e9e26",
   "metadata": {},
   "outputs": [
    {
     "name": "stdout",
     "output_type": "stream",
     "text": [
      "Split into 5 files successfully.\n"
     ]
    }
   ],
   "source": [
    "import math\n",
    "\n",
    "# Read all lines and remove newlines\n",
    "with open(\"file_50_varied_lines.txt\", \"r\") as f:\n",
    "    content = [line.strip() for line in f]\n",
    "\n",
    "# Determine how many files are needed (10 lines each)\n",
    "lines_per_file = 10\n",
    "num_files = math.ceil(len(content) / lines_per_file)\n",
    "\n",
    "# Split and write to smaller files\n",
    "for i in range(num_files):\n",
    "    start = i * lines_per_file\n",
    "    end = start + lines_per_file\n",
    "    small_file_lines = content[start:end]\n",
    "    \n",
    "    file_name = f\"smallfile_{i+1}.txt\"\n",
    "    with open(file_name, \"w\") as sf:\n",
    "        for line in small_file_lines:\n",
    "            sf.write(line + \"\\n\")\n",
    "\n",
    "print(f\"Split into {num_files} files successfully.\")\n"
   ]
  },
  {
   "cell_type": "markdown",
   "id": "8a0a9b7f",
   "metadata": {},
   "source": [
    "## 38. 📦 JSON File Creator\n",
    "Create a Python dictionary and write it to a file in JSON format."
   ]
  },
  {
   "cell_type": "code",
   "execution_count": 24,
   "id": "ec9369fa",
   "metadata": {},
   "outputs": [],
   "source": [
    "data = {\n",
    "    \"name\": \"Saurav\",\n",
    "    \"age\": 21,\n",
    "    \"course\": \"Python\"\n",
    "}\n",
    "\n",
    "# Write manually in JSON format\n",
    "with open(\"data.json\", \"w\") as f:\n",
    "    f.write(\"{\\n\")\n",
    "    f.write(f'  \"name\": \"{data[\"name\"]}\",\\n')\n",
    "    f.write(f'  \"age\": {data[\"age\"]},\\n')\n",
    "    f.write(f'  \"course\": \"{data[\"course\"]}\"\\n')\n",
    "    f.write(\"}\")\n"
   ]
  },
  {
   "cell_type": "markdown",
   "id": "da535f71",
   "metadata": {},
   "source": [
    "## 39. 📥 JSON File Reader\n",
    "Read a JSON file and convert it to a Python dictionary."
   ]
  },
  {
   "cell_type": "code",
   "execution_count": 25,
   "id": "e2d6335e",
   "metadata": {},
   "outputs": [
    {
     "name": "stdout",
     "output_type": "stream",
     "text": [
      "{'name': 'Saurav', 'age': '21', 'course': 'Python'}\n"
     ]
    }
   ],
   "source": [
    "with open(\"data.json\", \"r\") as f:\n",
    "    text = f.read()\n",
    "\n",
    "text = text.replace(\"{\", \"\").replace(\"}\", \"\").replace('\"', '').strip()\n",
    "items = text.split(',')\n",
    "\n",
    "data_dict = {}\n",
    "for item in items:\n",
    "    if \":\" in item:\n",
    "        key, value = item.split(\":\")\n",
    "        data_dict[key.strip()] = value.strip()\n",
    "\n",
    "print(data_dict)\n"
   ]
  },
  {
   "cell_type": "markdown",
   "id": "01f55f0b",
   "metadata": {},
   "source": [
    "## 40. 🧠 Mini Project - Log Analyzer\n",
    "Write a program that analyzes a log file and extracts errors, warnings, and info messages into separate files."
   ]
  },
  {
   "cell_type": "code",
   "execution_count": 28,
   "id": "bab6578c",
   "metadata": {},
   "outputs": [],
   "source": [
    "# Open and read the original log file\n",
    "with open(\"logfile.txt\", \"r\") as f:\n",
    "    lines = f.readlines()\n",
    "\n",
    "# Separate messages by type\n",
    "for line in lines:\n",
    "    if \"ERROR\" in line:\n",
    "        with open(\"errors.txt\", \"a\") as err:\n",
    "            err.write(line)\n",
    "    elif \"WARNING\" in line:\n",
    "        with open(\"warnings.txt\", \"a\") as warn:\n",
    "            warn.write(line)\n",
    "    elif \"INFO\" in line:\n",
    "        with open(\"info.txt\", \"a\") as info:\n",
    "            info.write(line)\n"
   ]
  },
  {
   "cell_type": "code",
   "execution_count": 26,
   "id": "9bb35f52",
   "metadata": {},
   "outputs": [],
   "source": [
    "log_data = \"\"\"INFO 2025-07-31 09:00:00 Server booting\n",
    "INFO 2025-07-31 09:01:00 Configuration loaded\n",
    "WARNING 2025-07-31 09:02:00 CPU usage at 85%\n",
    "ERROR 2025-07-31 09:03:00 Failed to connect to database\n",
    "INFO 2025-07-31 09:04:00 Listening on port 8080\n",
    "WARNING 2025-07-31 09:05:00 Memory leak detected\n",
    "INFO 2025-07-31 09:06:00 Health check passed\n",
    "ERROR 2025-07-31 09:07:00 File not found: /var/data/file.csv\n",
    "INFO 2025-07-31 09:08:00 Shutdown initiated\n",
    "\"\"\"\n",
    "\n",
    "with open(\"logfile.txt\", \"w\") as f:\n",
    "    f.write(log_data)\n"
   ]
  },
  {
   "cell_type": "code",
   "execution_count": null,
   "id": "e455ccc1",
   "metadata": {},
   "outputs": [],
   "source": []
  }
 ],
 "metadata": {
  "kernelspec": {
   "display_name": "Python 3",
   "language": "python",
   "name": "python3"
  },
  "language_info": {
   "codemirror_mode": {
    "name": "ipython",
    "version": 3
   },
   "file_extension": ".py",
   "mimetype": "text/x-python",
   "name": "python",
   "nbconvert_exporter": "python",
   "pygments_lexer": "ipython3",
   "version": "3.12.0"
  }
 },
 "nbformat": 4,
 "nbformat_minor": 5
}
